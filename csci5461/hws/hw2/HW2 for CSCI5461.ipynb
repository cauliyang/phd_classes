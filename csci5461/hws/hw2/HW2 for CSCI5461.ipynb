{
 "cells": [
  {
   "cell_type": "markdown",
   "metadata": {
    "hide_input": false
   },
   "source": [
    " # <center> HW2 for CSCI5461"
   ]
  },
  {
   "cell_type": "code",
   "execution_count": 1,
   "metadata": {
    "ExecuteTime": {
     "end_time": "2021-03-01T13:03:54.361886Z",
     "start_time": "2021-03-01T13:03:52.154493Z"
    }
   },
   "outputs": [],
   "source": [
    "import pandas as pd\n",
    "import numpy as np\n",
    "import matplotlib.pyplot as plt"
   ]
  },
  {
   "cell_type": "markdown",
   "metadata": {},
   "source": [
    "## Read Clinic Data"
   ]
  },
  {
   "cell_type": "code",
   "execution_count": 2,
   "metadata": {
    "ExecuteTime": {
     "end_time": "2021-03-01T13:03:54.369110Z",
     "start_time": "2021-03-01T13:03:54.365484Z"
    },
    "pycharm": {
     "name": "#%%\n"
    }
   },
   "outputs": [],
   "source": [
    "work_dic = '/Users/liyang/Desktop/2020-work_report/005_BICB/2021-spring-course/csci5461/hws/hw2'\n"
   ]
  },
  {
   "cell_type": "code",
   "execution_count": 3,
   "metadata": {
    "ExecuteTime": {
     "end_time": "2021-03-01T13:03:54.425712Z",
     "start_time": "2021-03-01T13:03:54.373105Z"
    }
   },
   "outputs": [],
   "source": [
    "clinic_data = pd.read_csv(f'{work_dic}/ov_tcga_clinical_data.tsv', sep='\\t', index_col=['Sample ID'])"
   ]
  },
  {
   "cell_type": "code",
   "execution_count": 4,
   "metadata": {
    "ExecuteTime": {
     "end_time": "2021-03-01T13:03:54.443612Z",
     "start_time": "2021-03-01T13:03:54.430210Z"
    }
   },
   "outputs": [
    {
     "data": {
      "text/plain": [
       "Sample ID\n",
       "TCGA-04-1331-01    43.89\n",
       "TCGA-04-1332-01    40.97\n",
       "TCGA-04-1335-01     1.81\n",
       "TCGA-04-1336-01    49.11\n",
       "TCGA-04-1337-01     2.00\n",
       "                   ...  \n",
       "TCGA-72-4241-01      NaN\n",
       "TCGA-OY-A56P-01    39.65\n",
       "TCGA-OY-A56Q-01    18.92\n",
       "TCGA-VG-A8LO-01     0.79\n",
       "TCGA-WR-A838-01     9.99\n",
       "Name: Overall Survival (Months), Length: 617, dtype: float64"
      ]
     },
     "execution_count": 4,
     "metadata": {},
     "output_type": "execute_result"
    }
   ],
   "source": [
    "clinic_data['Overall Survival (Months)']"
   ]
  },
  {
   "cell_type": "code",
   "execution_count": 5,
   "metadata": {
    "ExecuteTime": {
     "end_time": "2021-03-01T13:03:54.454692Z",
     "start_time": "2021-03-01T13:03:54.447618Z"
    }
   },
   "outputs": [
    {
     "data": {
      "text/plain": [
       "Sample ID\n",
       "TCGA-04-1331-01    1:DECEASED\n",
       "TCGA-04-1332-01    1:DECEASED\n",
       "TCGA-04-1335-01    1:DECEASED\n",
       "TCGA-04-1336-01      0:LIVING\n",
       "TCGA-04-1337-01    1:DECEASED\n",
       "                      ...    \n",
       "TCGA-72-4241-01           NaN\n",
       "TCGA-OY-A56P-01      0:LIVING\n",
       "TCGA-OY-A56Q-01      0:LIVING\n",
       "TCGA-VG-A8LO-01    1:DECEASED\n",
       "TCGA-WR-A838-01    1:DECEASED\n",
       "Name: Overall Survival Status, Length: 617, dtype: object"
      ]
     },
     "execution_count": 5,
     "metadata": {},
     "output_type": "execute_result"
    }
   ],
   "source": [
    "clinic_data[\"Overall Survival Status\"]"
   ]
  },
  {
   "cell_type": "code",
   "execution_count": 6,
   "metadata": {
    "ExecuteTime": {
     "end_time": "2021-03-01T13:03:54.465110Z",
     "start_time": "2021-03-01T13:03:54.457985Z"
    }
   },
   "outputs": [],
   "source": [
    "survival_info = clinic_data.loc[:,['Overall Survival Status','Overall Survival (Months)']]"
   ]
  },
  {
   "cell_type": "code",
   "execution_count": 7,
   "metadata": {
    "ExecuteTime": {
     "end_time": "2021-03-01T13:03:54.495729Z",
     "start_time": "2021-03-01T13:03:54.469285Z"
    }
   },
   "outputs": [
    {
     "name": "stdout",
     "output_type": "stream",
     "text": [
      "<class 'pandas.core.frame.DataFrame'>\n",
      "Index: 617 entries, TCGA-04-1331-01 to TCGA-WR-A838-01\n",
      "Data columns (total 2 columns):\n",
      " #   Column                     Non-Null Count  Dtype  \n",
      "---  ------                     --------------  -----  \n",
      " 0   Overall Survival Status    602 non-null    object \n",
      " 1   Overall Survival (Months)  599 non-null    float64\n",
      "dtypes: float64(1), object(1)\n",
      "memory usage: 34.5+ KB\n"
     ]
    },
    {
     "data": {
      "text/html": [
       "<div>\n",
       "<style scoped>\n",
       "    .dataframe tbody tr th:only-of-type {\n",
       "        vertical-align: middle;\n",
       "    }\n",
       "\n",
       "    .dataframe tbody tr th {\n",
       "        vertical-align: top;\n",
       "    }\n",
       "\n",
       "    .dataframe thead th {\n",
       "        text-align: right;\n",
       "    }\n",
       "</style>\n",
       "<table border=\"1\" class=\"dataframe\">\n",
       "  <thead>\n",
       "    <tr style=\"text-align: right;\">\n",
       "      <th></th>\n",
       "      <th>Overall Survival Status</th>\n",
       "      <th>Overall Survival (Months)</th>\n",
       "    </tr>\n",
       "    <tr>\n",
       "      <th>Sample ID</th>\n",
       "      <th></th>\n",
       "      <th></th>\n",
       "    </tr>\n",
       "  </thead>\n",
       "  <tbody>\n",
       "    <tr>\n",
       "      <th>TCGA-04-1331-01</th>\n",
       "      <td>1:DECEASED</td>\n",
       "      <td>43.89</td>\n",
       "    </tr>\n",
       "    <tr>\n",
       "      <th>TCGA-04-1332-01</th>\n",
       "      <td>1:DECEASED</td>\n",
       "      <td>40.97</td>\n",
       "    </tr>\n",
       "    <tr>\n",
       "      <th>TCGA-04-1335-01</th>\n",
       "      <td>1:DECEASED</td>\n",
       "      <td>1.81</td>\n",
       "    </tr>\n",
       "    <tr>\n",
       "      <th>TCGA-04-1336-01</th>\n",
       "      <td>0:LIVING</td>\n",
       "      <td>49.11</td>\n",
       "    </tr>\n",
       "    <tr>\n",
       "      <th>TCGA-04-1337-01</th>\n",
       "      <td>1:DECEASED</td>\n",
       "      <td>2.00</td>\n",
       "    </tr>\n",
       "  </tbody>\n",
       "</table>\n",
       "</div>"
      ],
      "text/plain": [
       "                Overall Survival Status  Overall Survival (Months)\n",
       "Sample ID                                                         \n",
       "TCGA-04-1331-01              1:DECEASED                      43.89\n",
       "TCGA-04-1332-01              1:DECEASED                      40.97\n",
       "TCGA-04-1335-01              1:DECEASED                       1.81\n",
       "TCGA-04-1336-01                0:LIVING                      49.11\n",
       "TCGA-04-1337-01              1:DECEASED                       2.00"
      ]
     },
     "execution_count": 7,
     "metadata": {},
     "output_type": "execute_result"
    }
   ],
   "source": [
    "survival_info.info()\n",
    "survival_info.head()"
   ]
  },
  {
   "cell_type": "code",
   "execution_count": 8,
   "metadata": {
    "ExecuteTime": {
     "end_time": "2021-03-01T13:03:54.509844Z",
     "start_time": "2021-03-01T13:03:54.504495Z"
    }
   },
   "outputs": [],
   "source": [
    "survival_info['Group'] = np.nan"
   ]
  },
  {
   "cell_type": "code",
   "execution_count": 9,
   "metadata": {
    "ExecuteTime": {
     "end_time": "2021-03-01T13:03:54.528689Z",
     "start_time": "2021-03-01T13:03:54.514735Z"
    }
   },
   "outputs": [
    {
     "name": "stderr",
     "output_type": "stream",
     "text": [
      "/Users/liyang/miniconda3/envs/work/lib/python3.7/site-packages/ipykernel_launcher.py:3: SettingWithCopyWarning: \n",
      "A value is trying to be set on a copy of a slice from a DataFrame\n",
      "\n",
      "See the caveats in the documentation: https://pandas.pydata.org/pandas-docs/stable/user_guide/indexing.html#returning-a-view-versus-a-copy\n",
      "  This is separate from the ipykernel package so we can avoid doing imports until\n"
     ]
    }
   ],
   "source": [
    "# Create group\n",
    "group1_info = (survival_info['Overall Survival Status'] == '1:DECEASED') & (survival_info['Overall Survival (Months)'] <36)\n",
    "survival_info.Group[group1_info] = 1"
   ]
  },
  {
   "cell_type": "code",
   "execution_count": 10,
   "metadata": {
    "ExecuteTime": {
     "end_time": "2021-03-01T13:03:54.544129Z",
     "start_time": "2021-03-01T13:03:54.532155Z"
    }
   },
   "outputs": [
    {
     "name": "stderr",
     "output_type": "stream",
     "text": [
      "/Users/liyang/miniconda3/envs/work/lib/python3.7/site-packages/ipykernel_launcher.py:2: SettingWithCopyWarning: \n",
      "A value is trying to be set on a copy of a slice from a DataFrame\n",
      "\n",
      "See the caveats in the documentation: https://pandas.pydata.org/pandas-docs/stable/user_guide/indexing.html#returning-a-view-versus-a-copy\n",
      "  \n"
     ]
    }
   ],
   "source": [
    "group2_info = (survival_info['Overall Survival (Months)'] >36)\n",
    "survival_info.Group[group2_info] = 2"
   ]
  },
  {
   "cell_type": "code",
   "execution_count": 11,
   "metadata": {
    "ExecuteTime": {
     "end_time": "2021-03-01T13:03:54.610771Z",
     "start_time": "2021-03-01T13:03:54.548741Z"
    }
   },
   "outputs": [
    {
     "name": "stdout",
     "output_type": "stream",
     "text": [
      "<class 'pandas.core.frame.DataFrame'>\n",
      "Index: 617 entries, TCGA-04-1331-01 to TCGA-WR-A838-01\n",
      "Data columns (total 3 columns):\n",
      " #   Column                     Non-Null Count  Dtype  \n",
      "---  ------                     --------------  -----  \n",
      " 0   Overall Survival Status    602 non-null    object \n",
      " 1   Overall Survival (Months)  599 non-null    float64\n",
      " 2   Group                      459 non-null    float64\n",
      "dtypes: float64(2), object(1)\n",
      "memory usage: 39.3+ KB\n"
     ]
    },
    {
     "data": {
      "text/html": [
       "<div>\n",
       "<style scoped>\n",
       "    .dataframe tbody tr th:only-of-type {\n",
       "        vertical-align: middle;\n",
       "    }\n",
       "\n",
       "    .dataframe tbody tr th {\n",
       "        vertical-align: top;\n",
       "    }\n",
       "\n",
       "    .dataframe thead th {\n",
       "        text-align: right;\n",
       "    }\n",
       "</style>\n",
       "<table border=\"1\" class=\"dataframe\">\n",
       "  <thead>\n",
       "    <tr style=\"text-align: right;\">\n",
       "      <th></th>\n",
       "      <th>Overall Survival Status</th>\n",
       "      <th>Overall Survival (Months)</th>\n",
       "      <th>Group</th>\n",
       "    </tr>\n",
       "    <tr>\n",
       "      <th>Sample ID</th>\n",
       "      <th></th>\n",
       "      <th></th>\n",
       "      <th></th>\n",
       "    </tr>\n",
       "  </thead>\n",
       "  <tbody>\n",
       "    <tr>\n",
       "      <th>TCGA-04-1331-01</th>\n",
       "      <td>1:DECEASED</td>\n",
       "      <td>43.89</td>\n",
       "      <td>2.0</td>\n",
       "    </tr>\n",
       "    <tr>\n",
       "      <th>TCGA-04-1332-01</th>\n",
       "      <td>1:DECEASED</td>\n",
       "      <td>40.97</td>\n",
       "      <td>2.0</td>\n",
       "    </tr>\n",
       "    <tr>\n",
       "      <th>TCGA-04-1335-01</th>\n",
       "      <td>1:DECEASED</td>\n",
       "      <td>1.81</td>\n",
       "      <td>1.0</td>\n",
       "    </tr>\n",
       "    <tr>\n",
       "      <th>TCGA-04-1336-01</th>\n",
       "      <td>0:LIVING</td>\n",
       "      <td>49.11</td>\n",
       "      <td>2.0</td>\n",
       "    </tr>\n",
       "    <tr>\n",
       "      <th>TCGA-04-1337-01</th>\n",
       "      <td>1:DECEASED</td>\n",
       "      <td>2.00</td>\n",
       "      <td>1.0</td>\n",
       "    </tr>\n",
       "  </tbody>\n",
       "</table>\n",
       "</div>"
      ],
      "text/plain": [
       "                Overall Survival Status  Overall Survival (Months)  Group\n",
       "Sample ID                                                                \n",
       "TCGA-04-1331-01              1:DECEASED                      43.89    2.0\n",
       "TCGA-04-1332-01              1:DECEASED                      40.97    2.0\n",
       "TCGA-04-1335-01              1:DECEASED                       1.81    1.0\n",
       "TCGA-04-1336-01                0:LIVING                      49.11    2.0\n",
       "TCGA-04-1337-01              1:DECEASED                       2.00    1.0"
      ]
     },
     "execution_count": 11,
     "metadata": {},
     "output_type": "execute_result"
    }
   ],
   "source": [
    "survival_info.info()\n",
    "\n",
    "survival_info.head()"
   ]
  },
  {
   "cell_type": "markdown",
   "metadata": {},
   "source": [
    "## Read RNA Data"
   ]
  },
  {
   "cell_type": "code",
   "execution_count": 12,
   "metadata": {
    "ExecuteTime": {
     "end_time": "2021-03-01T13:03:56.764477Z",
     "start_time": "2021-03-01T13:03:54.640848Z"
    }
   },
   "outputs": [],
   "source": [
    "rna_data = pd.read_csv(f'{work_dic}/HiSeqV2.txt',sep='\\t', index_col=0)"
   ]
  },
  {
   "cell_type": "code",
   "execution_count": 13,
   "metadata": {
    "ExecuteTime": {
     "end_time": "2021-03-01T13:03:56.792168Z",
     "start_time": "2021-03-01T13:03:56.766900Z"
    }
   },
   "outputs": [
    {
     "name": "stdout",
     "output_type": "stream",
     "text": [
      "<class 'pandas.core.frame.DataFrame'>\n",
      "Index: 20530 entries, ARHGEF10L to SELS\n",
      "Columns: 308 entries, TCGA-61-1910-01 to TCGA-57-1585-01\n",
      "dtypes: float64(308)\n",
      "memory usage: 48.4+ MB\n"
     ]
    }
   ],
   "source": [
    "rna_data.info()"
   ]
  },
  {
   "cell_type": "code",
   "execution_count": 14,
   "metadata": {
    "ExecuteTime": {
     "end_time": "2021-03-01T13:03:56.840019Z",
     "start_time": "2021-03-01T13:03:56.795270Z"
    }
   },
   "outputs": [
    {
     "data": {
      "text/html": [
       "<div>\n",
       "<style scoped>\n",
       "    .dataframe tbody tr th:only-of-type {\n",
       "        vertical-align: middle;\n",
       "    }\n",
       "\n",
       "    .dataframe tbody tr th {\n",
       "        vertical-align: top;\n",
       "    }\n",
       "\n",
       "    .dataframe thead th {\n",
       "        text-align: right;\n",
       "    }\n",
       "</style>\n",
       "<table border=\"1\" class=\"dataframe\">\n",
       "  <thead>\n",
       "    <tr style=\"text-align: right;\">\n",
       "      <th></th>\n",
       "      <th>TCGA-61-1910-01</th>\n",
       "      <th>TCGA-61-1728-01</th>\n",
       "      <th>TCGA-09-1666-01</th>\n",
       "      <th>TCGA-24-1469-01</th>\n",
       "      <th>TCGA-04-1348-01</th>\n",
       "      <th>TCGA-61-1917-01</th>\n",
       "      <th>TCGA-61-2009-01</th>\n",
       "      <th>TCGA-31-1950-01</th>\n",
       "      <th>TCGA-31-1951-01</th>\n",
       "      <th>TCGA-61-1995-01</th>\n",
       "      <th>...</th>\n",
       "      <th>TCGA-24-1560-01</th>\n",
       "      <th>TCGA-29-1783-01</th>\n",
       "      <th>TCGA-59-2348-01</th>\n",
       "      <th>TCGA-24-1424-01</th>\n",
       "      <th>TCGA-13-1507-01</th>\n",
       "      <th>TCGA-25-2404-01</th>\n",
       "      <th>TCGA-61-2095-01</th>\n",
       "      <th>TCGA-29-1702-01</th>\n",
       "      <th>TCGA-24-1417-01</th>\n",
       "      <th>TCGA-57-1585-01</th>\n",
       "    </tr>\n",
       "    <tr>\n",
       "      <th>sample</th>\n",
       "      <th></th>\n",
       "      <th></th>\n",
       "      <th></th>\n",
       "      <th></th>\n",
       "      <th></th>\n",
       "      <th></th>\n",
       "      <th></th>\n",
       "      <th></th>\n",
       "      <th></th>\n",
       "      <th></th>\n",
       "      <th></th>\n",
       "      <th></th>\n",
       "      <th></th>\n",
       "      <th></th>\n",
       "      <th></th>\n",
       "      <th></th>\n",
       "      <th></th>\n",
       "      <th></th>\n",
       "      <th></th>\n",
       "      <th></th>\n",
       "      <th></th>\n",
       "    </tr>\n",
       "  </thead>\n",
       "  <tbody>\n",
       "    <tr>\n",
       "      <th>ARHGEF10L</th>\n",
       "      <td>9.6011</td>\n",
       "      <td>9.3203</td>\n",
       "      <td>8.1951</td>\n",
       "      <td>8.5826</td>\n",
       "      <td>8.7195</td>\n",
       "      <td>8.0901</td>\n",
       "      <td>8.6452</td>\n",
       "      <td>9.8853</td>\n",
       "      <td>10.1132</td>\n",
       "      <td>8.7514</td>\n",
       "      <td>...</td>\n",
       "      <td>6.1288</td>\n",
       "      <td>9.6335</td>\n",
       "      <td>9.9237</td>\n",
       "      <td>8.9389</td>\n",
       "      <td>8.6923</td>\n",
       "      <td>9.2133</td>\n",
       "      <td>10.2494</td>\n",
       "      <td>8.1640</td>\n",
       "      <td>8.6072</td>\n",
       "      <td>10.0930</td>\n",
       "    </tr>\n",
       "    <tr>\n",
       "      <th>HIF3A</th>\n",
       "      <td>3.2786</td>\n",
       "      <td>7.3655</td>\n",
       "      <td>5.6778</td>\n",
       "      <td>9.6524</td>\n",
       "      <td>9.9184</td>\n",
       "      <td>11.2161</td>\n",
       "      <td>9.6066</td>\n",
       "      <td>8.7037</td>\n",
       "      <td>8.8622</td>\n",
       "      <td>5.7859</td>\n",
       "      <td>...</td>\n",
       "      <td>8.0357</td>\n",
       "      <td>10.9582</td>\n",
       "      <td>2.7875</td>\n",
       "      <td>10.0217</td>\n",
       "      <td>5.5355</td>\n",
       "      <td>7.1770</td>\n",
       "      <td>10.0390</td>\n",
       "      <td>10.9421</td>\n",
       "      <td>9.0313</td>\n",
       "      <td>8.9991</td>\n",
       "    </tr>\n",
       "    <tr>\n",
       "      <th>RNF17</th>\n",
       "      <td>0.0000</td>\n",
       "      <td>0.0000</td>\n",
       "      <td>0.0000</td>\n",
       "      <td>0.0000</td>\n",
       "      <td>0.0000</td>\n",
       "      <td>0.0000</td>\n",
       "      <td>0.0000</td>\n",
       "      <td>0.0000</td>\n",
       "      <td>0.4621</td>\n",
       "      <td>0.0000</td>\n",
       "      <td>...</td>\n",
       "      <td>0.0000</td>\n",
       "      <td>0.0000</td>\n",
       "      <td>0.0000</td>\n",
       "      <td>0.0000</td>\n",
       "      <td>0.0000</td>\n",
       "      <td>0.0000</td>\n",
       "      <td>0.8216</td>\n",
       "      <td>0.0000</td>\n",
       "      <td>0.0000</td>\n",
       "      <td>0.0000</td>\n",
       "    </tr>\n",
       "    <tr>\n",
       "      <th>RNF10</th>\n",
       "      <td>12.4351</td>\n",
       "      <td>11.8492</td>\n",
       "      <td>11.0238</td>\n",
       "      <td>11.4436</td>\n",
       "      <td>12.1362</td>\n",
       "      <td>11.1611</td>\n",
       "      <td>11.9031</td>\n",
       "      <td>12.1210</td>\n",
       "      <td>12.1182</td>\n",
       "      <td>12.1572</td>\n",
       "      <td>...</td>\n",
       "      <td>12.8924</td>\n",
       "      <td>11.6807</td>\n",
       "      <td>12.5429</td>\n",
       "      <td>12.2612</td>\n",
       "      <td>10.6557</td>\n",
       "      <td>12.0531</td>\n",
       "      <td>11.8931</td>\n",
       "      <td>11.1066</td>\n",
       "      <td>11.7897</td>\n",
       "      <td>11.6380</td>\n",
       "    </tr>\n",
       "    <tr>\n",
       "      <th>RNF11</th>\n",
       "      <td>10.1028</td>\n",
       "      <td>10.7862</td>\n",
       "      <td>11.3112</td>\n",
       "      <td>10.4607</td>\n",
       "      <td>10.2388</td>\n",
       "      <td>10.8223</td>\n",
       "      <td>11.1603</td>\n",
       "      <td>10.6347</td>\n",
       "      <td>10.7654</td>\n",
       "      <td>11.0157</td>\n",
       "      <td>...</td>\n",
       "      <td>11.8616</td>\n",
       "      <td>11.5198</td>\n",
       "      <td>11.1295</td>\n",
       "      <td>10.6540</td>\n",
       "      <td>11.3689</td>\n",
       "      <td>10.7873</td>\n",
       "      <td>10.7397</td>\n",
       "      <td>11.2760</td>\n",
       "      <td>11.0385</td>\n",
       "      <td>10.8238</td>\n",
       "    </tr>\n",
       "  </tbody>\n",
       "</table>\n",
       "<p>5 rows × 308 columns</p>\n",
       "</div>"
      ],
      "text/plain": [
       "           TCGA-61-1910-01  TCGA-61-1728-01  TCGA-09-1666-01  TCGA-24-1469-01  \\\n",
       "sample                                                                          \n",
       "ARHGEF10L           9.6011           9.3203           8.1951           8.5826   \n",
       "HIF3A               3.2786           7.3655           5.6778           9.6524   \n",
       "RNF17               0.0000           0.0000           0.0000           0.0000   \n",
       "RNF10              12.4351          11.8492          11.0238          11.4436   \n",
       "RNF11              10.1028          10.7862          11.3112          10.4607   \n",
       "\n",
       "           TCGA-04-1348-01  TCGA-61-1917-01  TCGA-61-2009-01  TCGA-31-1950-01  \\\n",
       "sample                                                                          \n",
       "ARHGEF10L           8.7195           8.0901           8.6452           9.8853   \n",
       "HIF3A               9.9184          11.2161           9.6066           8.7037   \n",
       "RNF17               0.0000           0.0000           0.0000           0.0000   \n",
       "RNF10              12.1362          11.1611          11.9031          12.1210   \n",
       "RNF11              10.2388          10.8223          11.1603          10.6347   \n",
       "\n",
       "           TCGA-31-1951-01  TCGA-61-1995-01  ...  TCGA-24-1560-01  \\\n",
       "sample                                       ...                    \n",
       "ARHGEF10L          10.1132           8.7514  ...           6.1288   \n",
       "HIF3A               8.8622           5.7859  ...           8.0357   \n",
       "RNF17               0.4621           0.0000  ...           0.0000   \n",
       "RNF10              12.1182          12.1572  ...          12.8924   \n",
       "RNF11              10.7654          11.0157  ...          11.8616   \n",
       "\n",
       "           TCGA-29-1783-01  TCGA-59-2348-01  TCGA-24-1424-01  TCGA-13-1507-01  \\\n",
       "sample                                                                          \n",
       "ARHGEF10L           9.6335           9.9237           8.9389           8.6923   \n",
       "HIF3A              10.9582           2.7875          10.0217           5.5355   \n",
       "RNF17               0.0000           0.0000           0.0000           0.0000   \n",
       "RNF10              11.6807          12.5429          12.2612          10.6557   \n",
       "RNF11              11.5198          11.1295          10.6540          11.3689   \n",
       "\n",
       "           TCGA-25-2404-01  TCGA-61-2095-01  TCGA-29-1702-01  TCGA-24-1417-01  \\\n",
       "sample                                                                          \n",
       "ARHGEF10L           9.2133          10.2494           8.1640           8.6072   \n",
       "HIF3A               7.1770          10.0390          10.9421           9.0313   \n",
       "RNF17               0.0000           0.8216           0.0000           0.0000   \n",
       "RNF10              12.0531          11.8931          11.1066          11.7897   \n",
       "RNF11              10.7873          10.7397          11.2760          11.0385   \n",
       "\n",
       "           TCGA-57-1585-01  \n",
       "sample                      \n",
       "ARHGEF10L          10.0930  \n",
       "HIF3A               8.9991  \n",
       "RNF17               0.0000  \n",
       "RNF10              11.6380  \n",
       "RNF11              10.8238  \n",
       "\n",
       "[5 rows x 308 columns]"
      ]
     },
     "execution_count": 14,
     "metadata": {},
     "output_type": "execute_result"
    }
   ],
   "source": [
    "rna_data.head()"
   ]
  },
  {
   "cell_type": "code",
   "execution_count": 15,
   "metadata": {
    "ExecuteTime": {
     "end_time": "2021-03-01T13:03:57.087210Z",
     "start_time": "2021-03-01T13:03:56.844408Z"
    }
   },
   "outputs": [],
   "source": [
    "rna_data_T = rna_data.T\n",
    "\n",
    "SeqData = rna_data_T.join(survival_info.Group)\n",
    "\n",
    "SeqData = SeqData.loc[:,[SeqData.columns[-1],*SeqData.columns[:-1]]]\n",
    "\n",
    "SeqData_groups = SeqData[(SeqData.Group == 1 ) | (SeqData.Group == 2)]\n",
    "\n",
    "\n",
    "SeqData_groups.index.name = \"Sample IDs\""
   ]
  },
  {
   "cell_type": "code",
   "execution_count": 16,
   "metadata": {
    "ExecuteTime": {
     "end_time": "2021-03-01T13:04:04.210721Z",
     "start_time": "2021-03-01T13:03:57.100719Z"
    }
   },
   "outputs": [],
   "source": [
    "SeqData_groups.reset_index().to_csv('SeqData.txt', index=False, sep='\\t') # save file"
   ]
  },
  {
   "cell_type": "code",
   "execution_count": 17,
   "metadata": {
    "ExecuteTime": {
     "end_time": "2021-03-01T13:04:04.258859Z",
     "start_time": "2021-03-01T13:04:04.213398Z"
    }
   },
   "outputs": [
    {
     "data": {
      "text/plain": [
       "368"
      ]
     },
     "execution_count": 17,
     "metadata": {},
     "output_type": "execute_result"
    }
   ],
   "source": [
    "(SeqData_groups == 0).all(axis=0).sum()"
   ]
  },
  {
   "cell_type": "code",
   "execution_count": 18,
   "metadata": {
    "ExecuteTime": {
     "end_time": "2021-03-01T13:04:04.313627Z",
     "start_time": "2021-03-01T13:04:04.275219Z"
    }
   },
   "outputs": [],
   "source": [
    "genes_no_expression = (SeqData_groups == 0).all(axis=0)[~(SeqData_groups == 0).all(axis=0)].index\n",
    "SeqData_groups_exp = SeqData_groups[genes_no_expression]"
   ]
  },
  {
   "cell_type": "code",
   "execution_count": 19,
   "metadata": {
    "ExecuteTime": {
     "end_time": "2021-03-01T13:04:04.423031Z",
     "start_time": "2021-03-01T13:04:04.325119Z"
    }
   },
   "outputs": [
    {
     "data": {
      "text/html": [
       "<div>\n",
       "<style scoped>\n",
       "    .dataframe tbody tr th:only-of-type {\n",
       "        vertical-align: middle;\n",
       "    }\n",
       "\n",
       "    .dataframe tbody tr th {\n",
       "        vertical-align: top;\n",
       "    }\n",
       "\n",
       "    .dataframe thead th {\n",
       "        text-align: right;\n",
       "    }\n",
       "</style>\n",
       "<table border=\"1\" class=\"dataframe\">\n",
       "  <thead>\n",
       "    <tr style=\"text-align: right;\">\n",
       "      <th></th>\n",
       "      <th>Group</th>\n",
       "      <th>ARHGEF10L</th>\n",
       "      <th>HIF3A</th>\n",
       "      <th>RNF17</th>\n",
       "      <th>RNF10</th>\n",
       "      <th>RNF11</th>\n",
       "      <th>RNF13</th>\n",
       "      <th>GTF2IP1</th>\n",
       "      <th>REM1</th>\n",
       "      <th>MTVR2</th>\n",
       "      <th>...</th>\n",
       "      <th>TULP2</th>\n",
       "      <th>NPY5R</th>\n",
       "      <th>GNGT2</th>\n",
       "      <th>GNGT1</th>\n",
       "      <th>TULP3</th>\n",
       "      <th>PTRF</th>\n",
       "      <th>BCL6B</th>\n",
       "      <th>GSTK1</th>\n",
       "      <th>SELP</th>\n",
       "      <th>SELS</th>\n",
       "    </tr>\n",
       "    <tr>\n",
       "      <th>Sample IDs</th>\n",
       "      <th></th>\n",
       "      <th></th>\n",
       "      <th></th>\n",
       "      <th></th>\n",
       "      <th></th>\n",
       "      <th></th>\n",
       "      <th></th>\n",
       "      <th></th>\n",
       "      <th></th>\n",
       "      <th></th>\n",
       "      <th></th>\n",
       "      <th></th>\n",
       "      <th></th>\n",
       "      <th></th>\n",
       "      <th></th>\n",
       "      <th></th>\n",
       "      <th></th>\n",
       "      <th></th>\n",
       "      <th></th>\n",
       "      <th></th>\n",
       "      <th></th>\n",
       "    </tr>\n",
       "  </thead>\n",
       "  <tbody>\n",
       "    <tr>\n",
       "      <th>TCGA-61-1910-01</th>\n",
       "      <td>2.0</td>\n",
       "      <td>9.6011</td>\n",
       "      <td>3.2786</td>\n",
       "      <td>0.0</td>\n",
       "      <td>12.4351</td>\n",
       "      <td>10.1028</td>\n",
       "      <td>8.6764</td>\n",
       "      <td>12.8725</td>\n",
       "      <td>4.4134</td>\n",
       "      <td>0.0000</td>\n",
       "      <td>...</td>\n",
       "      <td>0.0000</td>\n",
       "      <td>0.0000</td>\n",
       "      <td>1.9640</td>\n",
       "      <td>3.8619</td>\n",
       "      <td>8.7001</td>\n",
       "      <td>11.3843</td>\n",
       "      <td>6.7336</td>\n",
       "      <td>12.5475</td>\n",
       "      <td>1.5530</td>\n",
       "      <td>10.4009</td>\n",
       "    </tr>\n",
       "    <tr>\n",
       "      <th>TCGA-09-1666-01</th>\n",
       "      <td>2.0</td>\n",
       "      <td>8.1951</td>\n",
       "      <td>5.6778</td>\n",
       "      <td>0.0</td>\n",
       "      <td>11.0238</td>\n",
       "      <td>11.3112</td>\n",
       "      <td>9.9497</td>\n",
       "      <td>13.6193</td>\n",
       "      <td>4.8914</td>\n",
       "      <td>0.0000</td>\n",
       "      <td>...</td>\n",
       "      <td>0.0000</td>\n",
       "      <td>0.0000</td>\n",
       "      <td>3.9392</td>\n",
       "      <td>2.5621</td>\n",
       "      <td>10.3324</td>\n",
       "      <td>11.6578</td>\n",
       "      <td>5.3968</td>\n",
       "      <td>12.6234</td>\n",
       "      <td>2.5621</td>\n",
       "      <td>9.3369</td>\n",
       "    </tr>\n",
       "    <tr>\n",
       "      <th>TCGA-04-1348-01</th>\n",
       "      <td>2.0</td>\n",
       "      <td>8.7195</td>\n",
       "      <td>9.9184</td>\n",
       "      <td>0.0</td>\n",
       "      <td>12.1362</td>\n",
       "      <td>10.2388</td>\n",
       "      <td>11.1340</td>\n",
       "      <td>12.5353</td>\n",
       "      <td>5.7103</td>\n",
       "      <td>1.5272</td>\n",
       "      <td>...</td>\n",
       "      <td>0.6209</td>\n",
       "      <td>0.6209</td>\n",
       "      <td>5.1354</td>\n",
       "      <td>3.1806</td>\n",
       "      <td>9.5047</td>\n",
       "      <td>10.9292</td>\n",
       "      <td>6.3034</td>\n",
       "      <td>12.5048</td>\n",
       "      <td>3.6816</td>\n",
       "      <td>10.0313</td>\n",
       "    </tr>\n",
       "    <tr>\n",
       "      <th>TCGA-61-1917-01</th>\n",
       "      <td>2.0</td>\n",
       "      <td>8.0901</td>\n",
       "      <td>11.2161</td>\n",
       "      <td>0.0</td>\n",
       "      <td>11.1611</td>\n",
       "      <td>10.8223</td>\n",
       "      <td>9.7950</td>\n",
       "      <td>13.6568</td>\n",
       "      <td>6.5339</td>\n",
       "      <td>0.0000</td>\n",
       "      <td>...</td>\n",
       "      <td>0.0000</td>\n",
       "      <td>0.0000</td>\n",
       "      <td>5.0384</td>\n",
       "      <td>2.6411</td>\n",
       "      <td>9.9990</td>\n",
       "      <td>12.2048</td>\n",
       "      <td>6.3377</td>\n",
       "      <td>12.5747</td>\n",
       "      <td>3.5205</td>\n",
       "      <td>9.4125</td>\n",
       "    </tr>\n",
       "    <tr>\n",
       "      <th>TCGA-61-2009-01</th>\n",
       "      <td>2.0</td>\n",
       "      <td>8.6452</td>\n",
       "      <td>9.6066</td>\n",
       "      <td>0.0</td>\n",
       "      <td>11.9031</td>\n",
       "      <td>11.1603</td>\n",
       "      <td>11.6905</td>\n",
       "      <td>11.8844</td>\n",
       "      <td>7.9650</td>\n",
       "      <td>0.0000</td>\n",
       "      <td>...</td>\n",
       "      <td>0.0000</td>\n",
       "      <td>0.0000</td>\n",
       "      <td>4.2704</td>\n",
       "      <td>0.5435</td>\n",
       "      <td>9.7750</td>\n",
       "      <td>11.3862</td>\n",
       "      <td>7.0575</td>\n",
       "      <td>12.2268</td>\n",
       "      <td>3.1337</td>\n",
       "      <td>10.2244</td>\n",
       "    </tr>\n",
       "  </tbody>\n",
       "</table>\n",
       "<p>5 rows × 20163 columns</p>\n",
       "</div>"
      ],
      "text/plain": [
       "                 Group  ARHGEF10L    HIF3A  RNF17    RNF10    RNF11    RNF13  \\\n",
       "Sample IDs                                                                     \n",
       "TCGA-61-1910-01    2.0     9.6011   3.2786    0.0  12.4351  10.1028   8.6764   \n",
       "TCGA-09-1666-01    2.0     8.1951   5.6778    0.0  11.0238  11.3112   9.9497   \n",
       "TCGA-04-1348-01    2.0     8.7195   9.9184    0.0  12.1362  10.2388  11.1340   \n",
       "TCGA-61-1917-01    2.0     8.0901  11.2161    0.0  11.1611  10.8223   9.7950   \n",
       "TCGA-61-2009-01    2.0     8.6452   9.6066    0.0  11.9031  11.1603  11.6905   \n",
       "\n",
       "                 GTF2IP1    REM1   MTVR2  ...   TULP2   NPY5R   GNGT2   GNGT1  \\\n",
       "Sample IDs                                ...                                   \n",
       "TCGA-61-1910-01  12.8725  4.4134  0.0000  ...  0.0000  0.0000  1.9640  3.8619   \n",
       "TCGA-09-1666-01  13.6193  4.8914  0.0000  ...  0.0000  0.0000  3.9392  2.5621   \n",
       "TCGA-04-1348-01  12.5353  5.7103  1.5272  ...  0.6209  0.6209  5.1354  3.1806   \n",
       "TCGA-61-1917-01  13.6568  6.5339  0.0000  ...  0.0000  0.0000  5.0384  2.6411   \n",
       "TCGA-61-2009-01  11.8844  7.9650  0.0000  ...  0.0000  0.0000  4.2704  0.5435   \n",
       "\n",
       "                   TULP3     PTRF   BCL6B    GSTK1    SELP     SELS  \n",
       "Sample IDs                                                           \n",
       "TCGA-61-1910-01   8.7001  11.3843  6.7336  12.5475  1.5530  10.4009  \n",
       "TCGA-09-1666-01  10.3324  11.6578  5.3968  12.6234  2.5621   9.3369  \n",
       "TCGA-04-1348-01   9.5047  10.9292  6.3034  12.5048  3.6816  10.0313  \n",
       "TCGA-61-1917-01   9.9990  12.2048  6.3377  12.5747  3.5205   9.4125  \n",
       "TCGA-61-2009-01   9.7750  11.3862  7.0575  12.2268  3.1337  10.2244  \n",
       "\n",
       "[5 rows x 20163 columns]"
      ]
     },
     "execution_count": 19,
     "metadata": {},
     "output_type": "execute_result"
    }
   ],
   "source": [
    "SeqData_groups_exp.head()"
   ]
  },
  {
   "cell_type": "code",
   "execution_count": null,
   "metadata": {},
   "outputs": [],
   "source": []
  },
  {
   "cell_type": "code",
   "execution_count": null,
   "metadata": {},
   "outputs": [],
   "source": []
  },
  {
   "cell_type": "markdown",
   "metadata": {},
   "source": [
    "## Read Microarray Data"
   ]
  },
  {
   "cell_type": "code",
   "execution_count": 20,
   "metadata": {
    "ExecuteTime": {
     "end_time": "2021-03-01T13:04:06.327914Z",
     "start_time": "2021-03-01T13:04:04.428084Z"
    }
   },
   "outputs": [],
   "source": [
    "micro_data = pd.read_csv(f'{work_dic}/HT_HG-U133A.txt', sep='\\t', index_col=0)"
   ]
  },
  {
   "cell_type": "code",
   "execution_count": 21,
   "metadata": {
    "ExecuteTime": {
     "end_time": "2021-03-01T13:04:06.364151Z",
     "start_time": "2021-03-01T13:04:06.330100Z"
    }
   },
   "outputs": [
    {
     "name": "stdout",
     "output_type": "stream",
     "text": [
      "<class 'pandas.core.frame.DataFrame'>\n",
      "Index: 12042 entries, RNF14 to SELP\n",
      "Columns: 593 entries, TCGA-61-1910-01 to TCGA-13-0723-01\n",
      "dtypes: float64(593)\n",
      "memory usage: 54.6+ MB\n"
     ]
    }
   ],
   "source": [
    "micro_data.info()"
   ]
  },
  {
   "cell_type": "code",
   "execution_count": 22,
   "metadata": {
    "ExecuteTime": {
     "end_time": "2021-03-01T13:04:06.429873Z",
     "start_time": "2021-03-01T13:04:06.371594Z"
    }
   },
   "outputs": [
    {
     "data": {
      "text/html": [
       "<div>\n",
       "<style scoped>\n",
       "    .dataframe tbody tr th:only-of-type {\n",
       "        vertical-align: middle;\n",
       "    }\n",
       "\n",
       "    .dataframe tbody tr th {\n",
       "        vertical-align: top;\n",
       "    }\n",
       "\n",
       "    .dataframe thead th {\n",
       "        text-align: right;\n",
       "    }\n",
       "</style>\n",
       "<table border=\"1\" class=\"dataframe\">\n",
       "  <thead>\n",
       "    <tr style=\"text-align: right;\">\n",
       "      <th></th>\n",
       "      <th>TCGA-61-1910-01</th>\n",
       "      <th>TCGA-61-1728-01</th>\n",
       "      <th>TCGA-13-1819-02</th>\n",
       "      <th>TCGA-31-1953-01</th>\n",
       "      <th>TCGA-13-1819-01</th>\n",
       "      <th>TCGA-13-0764-01</th>\n",
       "      <th>TCGA-31-1951-01</th>\n",
       "      <th>TCGA-24-1552-01</th>\n",
       "      <th>TCGA-13-1477-01</th>\n",
       "      <th>TCGA-30-1862-01</th>\n",
       "      <th>...</th>\n",
       "      <th>TCGA-13-0891-01</th>\n",
       "      <th>TCGA-24-2289-01</th>\n",
       "      <th>TCGA-13-1481-01</th>\n",
       "      <th>TCGA-25-2397-01</th>\n",
       "      <th>TCGA-24-1545-01</th>\n",
       "      <th>TCGA-61-1907-01</th>\n",
       "      <th>TCGA-01-0633-11</th>\n",
       "      <th>TCGA-04-1638-01</th>\n",
       "      <th>TCGA-36-2547-01</th>\n",
       "      <th>TCGA-13-0723-01</th>\n",
       "    </tr>\n",
       "    <tr>\n",
       "      <th>sample</th>\n",
       "      <th></th>\n",
       "      <th></th>\n",
       "      <th></th>\n",
       "      <th></th>\n",
       "      <th></th>\n",
       "      <th></th>\n",
       "      <th></th>\n",
       "      <th></th>\n",
       "      <th></th>\n",
       "      <th></th>\n",
       "      <th></th>\n",
       "      <th></th>\n",
       "      <th></th>\n",
       "      <th></th>\n",
       "      <th></th>\n",
       "      <th></th>\n",
       "      <th></th>\n",
       "      <th></th>\n",
       "      <th></th>\n",
       "      <th></th>\n",
       "      <th></th>\n",
       "    </tr>\n",
       "  </thead>\n",
       "  <tbody>\n",
       "    <tr>\n",
       "      <th>RNF14</th>\n",
       "      <td>6.941078</td>\n",
       "      <td>5.495212</td>\n",
       "      <td>7.360527</td>\n",
       "      <td>6.306363</td>\n",
       "      <td>7.566908</td>\n",
       "      <td>4.268062</td>\n",
       "      <td>6.134183</td>\n",
       "      <td>5.986532</td>\n",
       "      <td>5.760792</td>\n",
       "      <td>6.374809</td>\n",
       "      <td>...</td>\n",
       "      <td>5.816779</td>\n",
       "      <td>6.303769</td>\n",
       "      <td>6.562696</td>\n",
       "      <td>5.937574</td>\n",
       "      <td>6.401639</td>\n",
       "      <td>5.443979</td>\n",
       "      <td>5.903293</td>\n",
       "      <td>5.143002</td>\n",
       "      <td>6.333104</td>\n",
       "      <td>5.539232</td>\n",
       "    </tr>\n",
       "    <tr>\n",
       "      <th>UBE2Q1</th>\n",
       "      <td>9.025427</td>\n",
       "      <td>8.820866</td>\n",
       "      <td>8.978215</td>\n",
       "      <td>8.957118</td>\n",
       "      <td>9.083398</td>\n",
       "      <td>9.681899</td>\n",
       "      <td>9.158088</td>\n",
       "      <td>8.882655</td>\n",
       "      <td>9.396224</td>\n",
       "      <td>9.851244</td>\n",
       "      <td>...</td>\n",
       "      <td>9.024067</td>\n",
       "      <td>9.576895</td>\n",
       "      <td>9.299729</td>\n",
       "      <td>8.907340</td>\n",
       "      <td>8.794675</td>\n",
       "      <td>9.129143</td>\n",
       "      <td>9.316041</td>\n",
       "      <td>9.383539</td>\n",
       "      <td>8.679777</td>\n",
       "      <td>9.483554</td>\n",
       "    </tr>\n",
       "    <tr>\n",
       "      <th>RNF17</th>\n",
       "      <td>3.541457</td>\n",
       "      <td>3.695260</td>\n",
       "      <td>3.566616</td>\n",
       "      <td>3.659622</td>\n",
       "      <td>3.418126</td>\n",
       "      <td>3.852854</td>\n",
       "      <td>3.546678</td>\n",
       "      <td>3.677748</td>\n",
       "      <td>3.543781</td>\n",
       "      <td>3.531180</td>\n",
       "      <td>...</td>\n",
       "      <td>3.639406</td>\n",
       "      <td>3.409829</td>\n",
       "      <td>3.584287</td>\n",
       "      <td>3.534692</td>\n",
       "      <td>3.457474</td>\n",
       "      <td>3.516842</td>\n",
       "      <td>3.508452</td>\n",
       "      <td>3.671198</td>\n",
       "      <td>3.757653</td>\n",
       "      <td>3.557169</td>\n",
       "    </tr>\n",
       "    <tr>\n",
       "      <th>RNF10</th>\n",
       "      <td>6.825689</td>\n",
       "      <td>5.827807</td>\n",
       "      <td>6.284133</td>\n",
       "      <td>6.587385</td>\n",
       "      <td>6.009742</td>\n",
       "      <td>5.566286</td>\n",
       "      <td>6.321934</td>\n",
       "      <td>5.891136</td>\n",
       "      <td>5.864911</td>\n",
       "      <td>6.071201</td>\n",
       "      <td>...</td>\n",
       "      <td>6.526960</td>\n",
       "      <td>6.062001</td>\n",
       "      <td>5.859823</td>\n",
       "      <td>5.671649</td>\n",
       "      <td>6.123573</td>\n",
       "      <td>6.471297</td>\n",
       "      <td>5.848815</td>\n",
       "      <td>5.081132</td>\n",
       "      <td>6.245392</td>\n",
       "      <td>6.440326</td>\n",
       "    </tr>\n",
       "    <tr>\n",
       "      <th>RNF11</th>\n",
       "      <td>7.751515</td>\n",
       "      <td>7.137291</td>\n",
       "      <td>8.424838</td>\n",
       "      <td>7.583343</td>\n",
       "      <td>8.674001</td>\n",
       "      <td>7.636625</td>\n",
       "      <td>7.217718</td>\n",
       "      <td>8.126638</td>\n",
       "      <td>6.865171</td>\n",
       "      <td>8.937479</td>\n",
       "      <td>...</td>\n",
       "      <td>8.625196</td>\n",
       "      <td>7.788381</td>\n",
       "      <td>7.751558</td>\n",
       "      <td>8.470624</td>\n",
       "      <td>7.791921</td>\n",
       "      <td>8.976595</td>\n",
       "      <td>7.749953</td>\n",
       "      <td>8.299260</td>\n",
       "      <td>8.563890</td>\n",
       "      <td>7.405564</td>\n",
       "    </tr>\n",
       "  </tbody>\n",
       "</table>\n",
       "<p>5 rows × 593 columns</p>\n",
       "</div>"
      ],
      "text/plain": [
       "        TCGA-61-1910-01  TCGA-61-1728-01  TCGA-13-1819-02  TCGA-31-1953-01  \\\n",
       "sample                                                                       \n",
       "RNF14          6.941078         5.495212         7.360527         6.306363   \n",
       "UBE2Q1         9.025427         8.820866         8.978215         8.957118   \n",
       "RNF17          3.541457         3.695260         3.566616         3.659622   \n",
       "RNF10          6.825689         5.827807         6.284133         6.587385   \n",
       "RNF11          7.751515         7.137291         8.424838         7.583343   \n",
       "\n",
       "        TCGA-13-1819-01  TCGA-13-0764-01  TCGA-31-1951-01  TCGA-24-1552-01  \\\n",
       "sample                                                                       \n",
       "RNF14          7.566908         4.268062         6.134183         5.986532   \n",
       "UBE2Q1         9.083398         9.681899         9.158088         8.882655   \n",
       "RNF17          3.418126         3.852854         3.546678         3.677748   \n",
       "RNF10          6.009742         5.566286         6.321934         5.891136   \n",
       "RNF11          8.674001         7.636625         7.217718         8.126638   \n",
       "\n",
       "        TCGA-13-1477-01  TCGA-30-1862-01  ...  TCGA-13-0891-01  \\\n",
       "sample                                    ...                    \n",
       "RNF14          5.760792         6.374809  ...         5.816779   \n",
       "UBE2Q1         9.396224         9.851244  ...         9.024067   \n",
       "RNF17          3.543781         3.531180  ...         3.639406   \n",
       "RNF10          5.864911         6.071201  ...         6.526960   \n",
       "RNF11          6.865171         8.937479  ...         8.625196   \n",
       "\n",
       "        TCGA-24-2289-01  TCGA-13-1481-01  TCGA-25-2397-01  TCGA-24-1545-01  \\\n",
       "sample                                                                       \n",
       "RNF14          6.303769         6.562696         5.937574         6.401639   \n",
       "UBE2Q1         9.576895         9.299729         8.907340         8.794675   \n",
       "RNF17          3.409829         3.584287         3.534692         3.457474   \n",
       "RNF10          6.062001         5.859823         5.671649         6.123573   \n",
       "RNF11          7.788381         7.751558         8.470624         7.791921   \n",
       "\n",
       "        TCGA-61-1907-01  TCGA-01-0633-11  TCGA-04-1638-01  TCGA-36-2547-01  \\\n",
       "sample                                                                       \n",
       "RNF14          5.443979         5.903293         5.143002         6.333104   \n",
       "UBE2Q1         9.129143         9.316041         9.383539         8.679777   \n",
       "RNF17          3.516842         3.508452         3.671198         3.757653   \n",
       "RNF10          6.471297         5.848815         5.081132         6.245392   \n",
       "RNF11          8.976595         7.749953         8.299260         8.563890   \n",
       "\n",
       "        TCGA-13-0723-01  \n",
       "sample                   \n",
       "RNF14          5.539232  \n",
       "UBE2Q1         9.483554  \n",
       "RNF17          3.557169  \n",
       "RNF10          6.440326  \n",
       "RNF11          7.405564  \n",
       "\n",
       "[5 rows x 593 columns]"
      ]
     },
     "execution_count": 22,
     "metadata": {},
     "output_type": "execute_result"
    }
   ],
   "source": [
    "micro_data.head()"
   ]
  },
  {
   "cell_type": "code",
   "execution_count": 23,
   "metadata": {
    "ExecuteTime": {
     "end_time": "2021-03-01T13:04:06.694318Z",
     "start_time": "2021-03-01T13:04:06.451469Z"
    }
   },
   "outputs": [],
   "source": [
    "micro_data_T = micro_data.T\n",
    "\n",
    "micro_data = micro_data_T.join(survival_info.Group)\n",
    "\n",
    "micro_data = micro_data.loc[:,[micro_data.columns[-1],*micro_data.columns[:-1]]]"
   ]
  },
  {
   "cell_type": "markdown",
   "metadata": {},
   "source": [
    "\n",
    "How many genes are in the RNAseq gene expression profiles?\n",
    "\n",
    "- How many patient samples are in the RNAseq gene expression profiles? 308\n",
    "\n",
    "- How many genes are in the microarray gene expression profiles? 12042\n",
    "\n",
    "- How many patient samples are in the microarray gene expression profiles? 593"
   ]
  },
  {
   "cell_type": "code",
   "execution_count": 24,
   "metadata": {
    "ExecuteTime": {
     "end_time": "2021-03-01T13:04:18.119927Z",
     "start_time": "2021-03-01T13:04:06.725712Z"
    }
   },
   "outputs": [],
   "source": [
    "micro_data_groups = micro_data[(micro_data.Group == 1 ) | (micro_data.Group == 2)]\n",
    "\n",
    "micro_data_groups.index.name = \"Sample IDs\"\n",
    "\n",
    "micro_data_groups.reset_index().to_csv(\"ArrayData.txt\", index=False, sep='\\t')"
   ]
  },
  {
   "cell_type": "code",
   "execution_count": null,
   "metadata": {
    "pycharm": {
     "name": "#%%\n"
    }
   },
   "outputs": [],
   "source": []
  },
  {
   "cell_type": "code",
   "execution_count": 25,
   "metadata": {
    "ExecuteTime": {
     "end_time": "2021-03-01T13:04:18.903662Z",
     "start_time": "2021-03-01T13:04:18.124617Z"
    }
   },
   "outputs": [
    {
     "name": "stdout",
     "output_type": "stream",
     "text": [
      "<class 'pandas.core.frame.DataFrame'>\n",
      "Index: 445 entries, TCGA-61-1910-01 to TCGA-13-0723-01\n",
      "Columns: 12043 entries, Group to SELP\n",
      "dtypes: float64(12043)\n",
      "memory usage: 40.9+ MB\n"
     ]
    }
   ],
   "source": [
    "micro_data_groups.info()"
   ]
  },
  {
   "cell_type": "code",
   "execution_count": 26,
   "metadata": {
    "ExecuteTime": {
     "end_time": "2021-03-01T13:04:19.004747Z",
     "start_time": "2021-03-01T13:04:18.937623Z"
    }
   },
   "outputs": [],
   "source": [
    "genes_expression = (micro_data_groups == 0).all(axis=0)[~(micro_data_groups == 0).all(axis=0)].index\n",
    "micro_data_groups_exp = micro_data_groups[genes_expression]"
   ]
  },
  {
   "cell_type": "code",
   "execution_count": 27,
   "metadata": {
    "ExecuteTime": {
     "end_time": "2021-03-01T13:04:19.109246Z",
     "start_time": "2021-03-01T13:04:19.016148Z"
    }
   },
   "outputs": [
    {
     "data": {
      "text/html": [
       "<div>\n",
       "<style scoped>\n",
       "    .dataframe tbody tr th:only-of-type {\n",
       "        vertical-align: middle;\n",
       "    }\n",
       "\n",
       "    .dataframe tbody tr th {\n",
       "        vertical-align: top;\n",
       "    }\n",
       "\n",
       "    .dataframe thead th {\n",
       "        text-align: right;\n",
       "    }\n",
       "</style>\n",
       "<table border=\"1\" class=\"dataframe\">\n",
       "  <thead>\n",
       "    <tr style=\"text-align: right;\">\n",
       "      <th></th>\n",
       "      <th>Group</th>\n",
       "      <th>RNF14</th>\n",
       "      <th>UBE2Q1</th>\n",
       "      <th>RNF17</th>\n",
       "      <th>RNF10</th>\n",
       "      <th>RNF11</th>\n",
       "      <th>RNF13</th>\n",
       "      <th>REM1</th>\n",
       "      <th>TSKS</th>\n",
       "      <th>NDP</th>\n",
       "      <th>...</th>\n",
       "      <th>SELE</th>\n",
       "      <th>SLC7A10</th>\n",
       "      <th>SLC7A11</th>\n",
       "      <th>FOLR1</th>\n",
       "      <th>NPY5R</th>\n",
       "      <th>GNGT1</th>\n",
       "      <th>PTRF</th>\n",
       "      <th>SERPINH1</th>\n",
       "      <th>NFIX</th>\n",
       "      <th>SELP</th>\n",
       "    </tr>\n",
       "    <tr>\n",
       "      <th>Sample IDs</th>\n",
       "      <th></th>\n",
       "      <th></th>\n",
       "      <th></th>\n",
       "      <th></th>\n",
       "      <th></th>\n",
       "      <th></th>\n",
       "      <th></th>\n",
       "      <th></th>\n",
       "      <th></th>\n",
       "      <th></th>\n",
       "      <th></th>\n",
       "      <th></th>\n",
       "      <th></th>\n",
       "      <th></th>\n",
       "      <th></th>\n",
       "      <th></th>\n",
       "      <th></th>\n",
       "      <th></th>\n",
       "      <th></th>\n",
       "      <th></th>\n",
       "      <th></th>\n",
       "    </tr>\n",
       "  </thead>\n",
       "  <tbody>\n",
       "    <tr>\n",
       "      <th>TCGA-61-1910-01</th>\n",
       "      <td>2.0</td>\n",
       "      <td>6.941078</td>\n",
       "      <td>9.025427</td>\n",
       "      <td>3.541457</td>\n",
       "      <td>6.825689</td>\n",
       "      <td>7.751515</td>\n",
       "      <td>7.281667</td>\n",
       "      <td>4.560332</td>\n",
       "      <td>3.490956</td>\n",
       "      <td>3.882224</td>\n",
       "      <td>...</td>\n",
       "      <td>2.854520</td>\n",
       "      <td>3.306524</td>\n",
       "      <td>4.570365</td>\n",
       "      <td>11.150779</td>\n",
       "      <td>3.403954</td>\n",
       "      <td>3.512814</td>\n",
       "      <td>5.947151</td>\n",
       "      <td>6.274709</td>\n",
       "      <td>4.148178</td>\n",
       "      <td>3.880449</td>\n",
       "    </tr>\n",
       "    <tr>\n",
       "      <th>TCGA-13-1819-02</th>\n",
       "      <td>2.0</td>\n",
       "      <td>7.360527</td>\n",
       "      <td>8.978215</td>\n",
       "      <td>3.566616</td>\n",
       "      <td>6.284133</td>\n",
       "      <td>8.424838</td>\n",
       "      <td>8.049962</td>\n",
       "      <td>4.504023</td>\n",
       "      <td>3.145425</td>\n",
       "      <td>6.301663</td>\n",
       "      <td>...</td>\n",
       "      <td>2.956871</td>\n",
       "      <td>3.349953</td>\n",
       "      <td>5.665327</td>\n",
       "      <td>11.181583</td>\n",
       "      <td>3.079127</td>\n",
       "      <td>4.160581</td>\n",
       "      <td>5.731416</td>\n",
       "      <td>7.898799</td>\n",
       "      <td>4.363451</td>\n",
       "      <td>3.377120</td>\n",
       "    </tr>\n",
       "    <tr>\n",
       "      <th>TCGA-13-1819-01</th>\n",
       "      <td>2.0</td>\n",
       "      <td>7.566908</td>\n",
       "      <td>9.083398</td>\n",
       "      <td>3.418126</td>\n",
       "      <td>6.009742</td>\n",
       "      <td>8.674001</td>\n",
       "      <td>8.132495</td>\n",
       "      <td>4.659871</td>\n",
       "      <td>3.194257</td>\n",
       "      <td>6.633613</td>\n",
       "      <td>...</td>\n",
       "      <td>3.101158</td>\n",
       "      <td>3.225847</td>\n",
       "      <td>5.060358</td>\n",
       "      <td>11.173485</td>\n",
       "      <td>3.129602</td>\n",
       "      <td>4.649556</td>\n",
       "      <td>5.425046</td>\n",
       "      <td>8.295082</td>\n",
       "      <td>4.546045</td>\n",
       "      <td>3.589866</td>\n",
       "    </tr>\n",
       "    <tr>\n",
       "      <th>TCGA-13-0764-01</th>\n",
       "      <td>2.0</td>\n",
       "      <td>4.268062</td>\n",
       "      <td>9.681899</td>\n",
       "      <td>3.852854</td>\n",
       "      <td>5.566286</td>\n",
       "      <td>7.636625</td>\n",
       "      <td>7.385058</td>\n",
       "      <td>4.253423</td>\n",
       "      <td>3.245451</td>\n",
       "      <td>3.342498</td>\n",
       "      <td>...</td>\n",
       "      <td>2.930981</td>\n",
       "      <td>3.335117</td>\n",
       "      <td>4.192721</td>\n",
       "      <td>10.509552</td>\n",
       "      <td>3.123409</td>\n",
       "      <td>3.327574</td>\n",
       "      <td>4.555966</td>\n",
       "      <td>8.080319</td>\n",
       "      <td>3.775437</td>\n",
       "      <td>3.417678</td>\n",
       "    </tr>\n",
       "    <tr>\n",
       "      <th>TCGA-24-1552-01</th>\n",
       "      <td>2.0</td>\n",
       "      <td>5.986532</td>\n",
       "      <td>8.882655</td>\n",
       "      <td>3.677748</td>\n",
       "      <td>5.891136</td>\n",
       "      <td>8.126638</td>\n",
       "      <td>7.343167</td>\n",
       "      <td>4.643463</td>\n",
       "      <td>3.415264</td>\n",
       "      <td>3.892506</td>\n",
       "      <td>...</td>\n",
       "      <td>3.022331</td>\n",
       "      <td>3.447184</td>\n",
       "      <td>4.573542</td>\n",
       "      <td>6.298503</td>\n",
       "      <td>3.118976</td>\n",
       "      <td>3.165366</td>\n",
       "      <td>5.486274</td>\n",
       "      <td>6.866231</td>\n",
       "      <td>3.347275</td>\n",
       "      <td>3.367566</td>\n",
       "    </tr>\n",
       "  </tbody>\n",
       "</table>\n",
       "<p>5 rows × 12043 columns</p>\n",
       "</div>"
      ],
      "text/plain": [
       "                 Group     RNF14    UBE2Q1     RNF17     RNF10     RNF11  \\\n",
       "Sample IDs                                                                 \n",
       "TCGA-61-1910-01    2.0  6.941078  9.025427  3.541457  6.825689  7.751515   \n",
       "TCGA-13-1819-02    2.0  7.360527  8.978215  3.566616  6.284133  8.424838   \n",
       "TCGA-13-1819-01    2.0  7.566908  9.083398  3.418126  6.009742  8.674001   \n",
       "TCGA-13-0764-01    2.0  4.268062  9.681899  3.852854  5.566286  7.636625   \n",
       "TCGA-24-1552-01    2.0  5.986532  8.882655  3.677748  5.891136  8.126638   \n",
       "\n",
       "                    RNF13      REM1      TSKS       NDP  ...      SELE  \\\n",
       "Sample IDs                                               ...             \n",
       "TCGA-61-1910-01  7.281667  4.560332  3.490956  3.882224  ...  2.854520   \n",
       "TCGA-13-1819-02  8.049962  4.504023  3.145425  6.301663  ...  2.956871   \n",
       "TCGA-13-1819-01  8.132495  4.659871  3.194257  6.633613  ...  3.101158   \n",
       "TCGA-13-0764-01  7.385058  4.253423  3.245451  3.342498  ...  2.930981   \n",
       "TCGA-24-1552-01  7.343167  4.643463  3.415264  3.892506  ...  3.022331   \n",
       "\n",
       "                  SLC7A10   SLC7A11      FOLR1     NPY5R     GNGT1      PTRF  \\\n",
       "Sample IDs                                                                     \n",
       "TCGA-61-1910-01  3.306524  4.570365  11.150779  3.403954  3.512814  5.947151   \n",
       "TCGA-13-1819-02  3.349953  5.665327  11.181583  3.079127  4.160581  5.731416   \n",
       "TCGA-13-1819-01  3.225847  5.060358  11.173485  3.129602  4.649556  5.425046   \n",
       "TCGA-13-0764-01  3.335117  4.192721  10.509552  3.123409  3.327574  4.555966   \n",
       "TCGA-24-1552-01  3.447184  4.573542   6.298503  3.118976  3.165366  5.486274   \n",
       "\n",
       "                 SERPINH1      NFIX      SELP  \n",
       "Sample IDs                                     \n",
       "TCGA-61-1910-01  6.274709  4.148178  3.880449  \n",
       "TCGA-13-1819-02  7.898799  4.363451  3.377120  \n",
       "TCGA-13-1819-01  8.295082  4.546045  3.589866  \n",
       "TCGA-13-0764-01  8.080319  3.775437  3.417678  \n",
       "TCGA-24-1552-01  6.866231  3.347275  3.367566  \n",
       "\n",
       "[5 rows x 12043 columns]"
      ]
     },
     "execution_count": 27,
     "metadata": {},
     "output_type": "execute_result"
    }
   ],
   "source": [
    "micro_data_groups_exp.head()"
   ]
  },
  {
   "cell_type": "code",
   "execution_count": 28,
   "metadata": {
    "ExecuteTime": {
     "end_time": "2021-03-01T13:04:19.885673Z",
     "start_time": "2021-03-01T13:04:19.113477Z"
    }
   },
   "outputs": [
    {
     "name": "stdout",
     "output_type": "stream",
     "text": [
      "<class 'pandas.core.frame.DataFrame'>\n",
      "Index: 445 entries, TCGA-61-1910-01 to TCGA-13-0723-01\n",
      "Columns: 12043 entries, Group to SELP\n",
      "dtypes: float64(12043)\n",
      "memory usage: 40.9+ MB\n"
     ]
    }
   ],
   "source": [
    "micro_data_groups_exp.info()\n"
   ]
  },
  {
   "cell_type": "markdown",
   "metadata": {},
   "source": [
    "## RNASeq test"
   ]
  },
  {
   "cell_type": "code",
   "execution_count": 29,
   "metadata": {
    "ExecuteTime": {
     "end_time": "2021-03-01T13:04:20.992610Z",
     "start_time": "2021-03-01T13:04:19.892838Z"
    }
   },
   "outputs": [],
   "source": [
    "# ttest\n",
    "from scipy.stats import ttest_ind\n",
    "import seaborn as sns"
   ]
  },
  {
   "cell_type": "code",
   "execution_count": 30,
   "metadata": {
    "ExecuteTime": {
     "end_time": "2021-03-01T13:04:21.014118Z",
     "start_time": "2021-03-01T13:04:20.995473Z"
    }
   },
   "outputs": [],
   "source": [
    "genes_id = SeqData_groups_exp.columns[1:]"
   ]
  },
  {
   "cell_type": "code",
   "execution_count": 31,
   "metadata": {
    "ExecuteTime": {
     "end_time": "2021-03-01T13:04:21.080483Z",
     "start_time": "2021-03-01T13:04:21.017791Z"
    }
   },
   "outputs": [],
   "source": [
    "group1 = SeqData_groups_exp[SeqData_groups_exp.Group == 1].iloc[:,1:]\n",
    "group2 = SeqData_groups_exp[SeqData_groups_exp.Group == 2].iloc[:,1:]"
   ]
  },
  {
   "cell_type": "code",
   "execution_count": 32,
   "metadata": {
    "ExecuteTime": {
     "end_time": "2021-03-01T13:04:21.106302Z",
     "start_time": "2021-03-01T13:04:21.090466Z"
    }
   },
   "outputs": [
    {
     "data": {
      "text/plain": [
       "(96, 20162)"
      ]
     },
     "execution_count": 32,
     "metadata": {},
     "output_type": "execute_result"
    },
    {
     "data": {
      "text/plain": [
       "(130, 20162)"
      ]
     },
     "execution_count": 32,
     "metadata": {},
     "output_type": "execute_result"
    }
   ],
   "source": [
    "group1.shape\n",
    "group2.shape"
   ]
  },
  {
   "cell_type": "code",
   "execution_count": 33,
   "metadata": {
    "ExecuteTime": {
     "end_time": "2021-03-01T13:04:21.223494Z",
     "start_time": "2021-03-01T13:04:21.110482Z"
    }
   },
   "outputs": [],
   "source": [
    "rna_test_t_statistics, rna_test_p_value = ttest_ind(group1, group2,equal_var=False)"
   ]
  },
  {
   "cell_type": "code",
   "execution_count": 34,
   "metadata": {
    "ExecuteTime": {
     "end_time": "2021-03-01T13:04:21.774266Z",
     "start_time": "2021-03-01T13:04:21.227122Z"
    }
   },
   "outputs": [
    {
     "data": {
      "image/png": "[encoded data removed]",
      "text/plain": [
       "<Figure size 432x288 with 1 Axes>"
      ]
     },
     "metadata": {
      "needs_background": "light"
     },
     "output_type": "display_data"
    }
   ],
   "source": [
    "sns.kdeplot( rna_test_p_value);\n",
    "plt.vlines(x=0.05, ymin=0, ymax=1.4,colors='r');"
   ]
  },
  {
   "cell_type": "code",
   "execution_count": 35,
   "metadata": {
    "ExecuteTime": {
     "end_time": "2021-03-01T13:04:21.800691Z",
     "start_time": "2021-03-01T13:04:21.790373Z"
    }
   },
   "outputs": [],
   "source": [
    "def find_top(pvalues, number, genes_id):\n",
    "\n",
    "    top_index = np.argpartition(pvalues, number)[:number]\n",
    "    top_pvalue = pvalues[top_index]\n",
    "    top_genes = genes_id[top_index]\n",
    "    return top_pvalue, top_genes"
   ]
  },
  {
   "cell_type": "code",
   "execution_count": 36,
   "metadata": {
    "ExecuteTime": {
     "end_time": "2021-03-01T13:04:21.816176Z",
     "start_time": "2021-03-01T13:04:21.804816Z"
    }
   },
   "outputs": [],
   "source": [
    "rna_ttest_top_pvalue , rna_ttest_top_genes = find_top(rna_test_p_value, 10, genes_id)"
   ]
  },
  {
   "cell_type": "code",
   "execution_count": 37,
   "metadata": {
    "ExecuteTime": {
     "end_time": "2021-03-01T13:04:21.831679Z",
     "start_time": "2021-03-01T13:04:21.818497Z"
    }
   },
   "outputs": [
    {
     "data": {
      "text/plain": [
       "array([7.34798384e-06, 4.62609139e-05, 1.78665476e-05, 4.17660003e-05,\n",
       "       4.63977620e-05, 4.33405572e-05, 3.81445865e-05, 5.97134166e-05,\n",
       "       8.26987465e-05, 9.40340810e-05])"
      ]
     },
     "execution_count": 37,
     "metadata": {},
     "output_type": "execute_result"
    },
    {
     "data": {
      "text/plain": [
       "Index(['CYTH3', 'ATP1A2', 'RGS14', 'TSPAN9', 'LOC728606', 'CHUK', 'FBXO4',\n",
       "       'BTRC', 'C12orf5', 'LOC257358'],\n",
       "      dtype='object')"
      ]
     },
     "execution_count": 37,
     "metadata": {},
     "output_type": "execute_result"
    }
   ],
   "source": [
    "rna_ttest_top_pvalue\n",
    "rna_ttest_top_genes"
   ]
  },
  {
   "cell_type": "code",
   "execution_count": 38,
   "metadata": {
    "ExecuteTime": {
     "end_time": "2021-03-01T13:04:21.847148Z",
     "start_time": "2021-03-01T13:04:21.836745Z"
    }
   },
   "outputs": [
    {
     "name": "stdout",
     "output_type": "stream",
     "text": [
      "7.347984e-06 & CYTH3 \\\\ \n",
      "\\hline\n",
      "4.626091e-05 & ATP1A2 \\\\ \n",
      "\\hline\n",
      "1.786655e-05 & RGS14 \\\\ \n",
      "\\hline\n",
      "4.176600e-05 & TSPAN9 \\\\ \n",
      "\\hline\n",
      "4.639776e-05 & LOC728606 \\\\ \n",
      "\\hline\n",
      "4.334056e-05 & CHUK \\\\ \n",
      "\\hline\n",
      "3.814459e-05 & FBXO4 \\\\ \n",
      "\\hline\n",
      "5.971342e-05 & BTRC \\\\ \n",
      "\\hline\n",
      "8.269875e-05 & C12orf5 \\\\ \n",
      "\\hline\n",
      "9.403408e-05 & LOC257358 \\\\ \n",
      "\\hline\n"
     ]
    }
   ],
   "source": [
    "for p, g in zip(rna_ttest_top_pvalue , rna_ttest_top_genes): \n",
    "    print(f'{p:e} & {g} \\\\\\ \\n\\hline')\n",
    "    "
   ]
  },
  {
   "cell_type": "code",
   "execution_count": 39,
   "metadata": {
    "ExecuteTime": {
     "end_time": "2021-03-01T13:04:21.892242Z",
     "start_time": "2021-03-01T13:04:21.852253Z"
    }
   },
   "outputs": [
    {
     "data": {
      "text/plain": [
       "(2000,)"
      ]
     },
     "execution_count": 39,
     "metadata": {},
     "output_type": "execute_result"
    }
   ],
   "source": [
    "selected_genes = rna_test_p_value[rna_test_p_value< 0.05]\n",
    "selected_genes.shape"
   ]
  },
  {
   "cell_type": "code",
   "execution_count": 40,
   "metadata": {
    "ExecuteTime": {
     "end_time": "2021-03-01T13:04:21.942101Z",
     "start_time": "2021-03-01T13:04:21.901446Z"
    }
   },
   "outputs": [],
   "source": [
    "def plot_hist(data, name):\n",
    "    fig, ax1 = plt.subplots();\n",
    "\n",
    "    sns.histplot(data, kde=True, ax=ax1, color='Red', line_kws={'color':'k'});\n",
    "\n",
    "    ax1.set_xlabel('Pvalue', fontsize=16);\n",
    "    ax1.set_ylabel('Number of Genes', fontsize=16);\n",
    "\n",
    "    ax1.tick_params(axis='y', labelsize=15);\n",
    "    ax1.tick_params(axis='x', labelsize=15);\n",
    "\n",
    "    plt.xticks(rotation=30);\n",
    "    fig.set_size_inches(12, 8);\n",
    "    plt.savefig(f\"{name}.png\",  # 文件名\n",
    "                format='png',  # 图片格式\n",
    "                bbox_inches='tight',  # 图片排版\n",
    "                dpi=300  # 图片清晰度\n",
    "                );\n",
    "\n"
   ]
  },
  {
   "cell_type": "code",
   "execution_count": 41,
   "metadata": {
    "ExecuteTime": {
     "end_time": "2021-03-01T13:06:45.310591Z",
     "start_time": "2021-03-01T13:06:43.692229Z"
    }
   },
   "outputs": [
    {
     "data": {
      "image/png": "[encoded data removed]",
      "text/plain": [
       "<Figure size 864x576 with 1 Axes>"
      ]
     },
     "metadata": {
      "needs_background": "light"
     },
     "output_type": "display_data"
    }
   ],
   "source": [
    "plot_hist(rna_test_p_value, \"rna_ttest\")"
   ]
  },
  {
   "cell_type": "markdown",
   "metadata": {},
   "source": [
    "## RNASeq RankSum"
   ]
  },
  {
   "cell_type": "code",
   "execution_count": 42,
   "metadata": {
    "ExecuteTime": {
     "end_time": "2021-03-01T13:06:48.775088Z",
     "start_time": "2021-03-01T13:06:48.766795Z"
    }
   },
   "outputs": [],
   "source": [
    "# rank-sum\n",
    "from scipy.stats import ranksums"
   ]
  },
  {
   "cell_type": "code",
   "execution_count": 130,
   "metadata": {
    "ExecuteTime": {
     "end_time": "2021-03-01T05:12:57.310763Z",
     "start_time": "2021-03-01T05:12:44.874048Z"
    }
   },
   "outputs": [],
   "source": [
    "rna_ranksum_p_value = []\n",
    "rna_ranksum_statistic = []\n",
    "for gene in genes_id:\n",
    "    s, p = ranksums(group1[gene], group2[gene])\n",
    "    rna_ranksum_statistic.append(s)\n",
    "    rna_ranksum_p_value.append(p)\n"
   ]
  },
  {
   "cell_type": "code",
   "execution_count": 131,
   "metadata": {
    "ExecuteTime": {
     "end_time": "2021-03-01T05:13:02.155142Z",
     "start_time": "2021-03-01T05:13:00.993602Z"
    }
   },
   "outputs": [
    {
     "data": {
      "image/png": "[encoded data removed]",
      "text/plain": [
       "<Figure size 432x288 with 1 Axes>"
      ]
     },
     "metadata": {
      "needs_background": "light"
     },
     "output_type": "display_data"
    }
   ],
   "source": [
    "sns.kdeplot(rna_ranksum_p_value);\n",
    "plt.vlines(x=0.05, ymin=0, ymax=1.4,colors='r');"
   ]
  },
  {
   "cell_type": "code",
   "execution_count": 132,
   "metadata": {
    "ExecuteTime": {
     "end_time": "2021-03-01T05:13:05.504238Z",
     "start_time": "2021-03-01T05:13:05.496380Z"
    }
   },
   "outputs": [],
   "source": [
    "rna_ranksum_top_pvalue, rna_ranksum_top_genes = find_top(np.array(rna_ranksum_p_value), 10, genes_id)"
   ]
  },
  {
   "cell_type": "code",
   "execution_count": 134,
   "metadata": {
    "ExecuteTime": {
     "end_time": "2021-03-01T05:13:11.903951Z",
     "start_time": "2021-03-01T05:13:11.878836Z"
    }
   },
   "outputs": [
    {
     "data": {
      "text/plain": [
       "array([6.03921783e-05, 5.65629443e-05, 7.21501253e-05, 7.37451688e-06,\n",
       "       1.21693759e-05, 4.24730558e-05, 5.04646346e-05, 7.53300671e-05,\n",
       "       9.53251393e-05, 1.12909792e-04])"
      ]
     },
     "execution_count": 134,
     "metadata": {},
     "output_type": "execute_result"
    },
    {
     "data": {
      "text/plain": [
       "Index(['TEX261', 'LOC728606', 'SMTNL2', 'ATP1A2', 'CYTH3', 'RGS14', 'BTRC',\n",
       "       'ASAP3', 'CAMK2G', 'EIF4E3'],\n",
       "      dtype='object')"
      ]
     },
     "execution_count": 134,
     "metadata": {},
     "output_type": "execute_result"
    }
   ],
   "source": [
    "rna_ranksum_top_pvalue\n",
    "rna_ranksum_top_genes"
   ]
  },
  {
   "cell_type": "code",
   "execution_count": 379,
   "metadata": {
    "ExecuteTime": {
     "end_time": "2021-02-23T17:52:18.689413Z",
     "start_time": "2021-02-23T17:52:18.683997Z"
    }
   },
   "outputs": [
    {
     "name": "stdout",
     "output_type": "stream",
     "text": [
      "6.039218e-05 & TEX261 \\\\ \n",
      "\\hline\n",
      "5.656294e-05 & LOC728606 \\\\ \n",
      "\\hline\n",
      "7.215013e-05 & SMTNL2 \\\\ \n",
      "\\hline\n",
      "7.374517e-06 & ATP1A2 \\\\ \n",
      "\\hline\n",
      "1.216938e-05 & CYTH3 \\\\ \n",
      "\\hline\n",
      "4.247306e-05 & RGS14 \\\\ \n",
      "\\hline\n",
      "5.046463e-05 & BTRC \\\\ \n",
      "\\hline\n",
      "7.533007e-05 & ASAP3 \\\\ \n",
      "\\hline\n",
      "9.532514e-05 & CAMK2G \\\\ \n",
      "\\hline\n",
      "1.129098e-04 & EIF4E3 \\\\ \n",
      "\\hline\n"
     ]
    }
   ],
   "source": [
    "for i,g in zip(rna_ranksum_top_pvalue, rna_ranksum_top_genes):\n",
    "    print(f'{i:e} & {g} \\\\\\ \\n\\hline')"
   ]
  },
  {
   "cell_type": "code",
   "execution_count": 201,
   "metadata": {
    "ExecuteTime": {
     "end_time": "2021-03-01T05:51:53.676984Z",
     "start_time": "2021-03-01T05:51:53.617040Z"
    }
   },
   "outputs": [
    {
     "data": {
      "text/plain": [
       "1985"
      ]
     },
     "execution_count": 201,
     "metadata": {},
     "output_type": "execute_result"
    }
   ],
   "source": [
    "(np.array(rna_ranksum_p_value) < 0.05).sum()  # slected genes number"
   ]
  },
  {
   "cell_type": "code",
   "execution_count": 67,
   "metadata": {
    "ExecuteTime": {
     "end_time": "2021-03-01T04:09:31.753066Z",
     "start_time": "2021-03-01T04:09:30.387434Z"
    }
   },
   "outputs": [
    {
     "data": {
      "image/png": "[encoded data removed]",
      "text/plain": [
       "<Figure size 864x576 with 1 Axes>"
      ]
     },
     "metadata": {
      "needs_background": "light"
     },
     "output_type": "display_data"
    }
   ],
   "source": [
    "plot_hist(rna_ranksum_p_value, \"rna_ranksum\")"
   ]
  },
  {
   "cell_type": "markdown",
   "metadata": {},
   "source": [
    "## Micro data ttest"
   ]
  },
  {
   "cell_type": "code",
   "execution_count": 144,
   "metadata": {
    "ExecuteTime": {
     "end_time": "2021-03-01T05:17:26.825664Z",
     "start_time": "2021-03-01T05:17:26.798510Z"
    }
   },
   "outputs": [],
   "source": [
    "micro_gene_id = micro_data_groups_exp.columns[1:]"
   ]
  },
  {
   "cell_type": "code",
   "execution_count": 145,
   "metadata": {
    "ExecuteTime": {
     "end_time": "2021-03-01T05:17:30.592137Z",
     "start_time": "2021-03-01T05:17:30.186994Z"
    }
   },
   "outputs": [],
   "source": [
    "micro_group1 = micro_data_groups_exp[micro_data_groups_exp.Group == 1].iloc[:,1:]\n",
    "micro_group2 = micro_data_groups_exp[micro_data_groups_exp.Group == 2].iloc[:,1:]\n"
   ]
  },
  {
   "cell_type": "code",
   "execution_count": 146,
   "metadata": {
    "ExecuteTime": {
     "end_time": "2021-03-01T05:17:37.515772Z",
     "start_time": "2021-03-01T05:17:37.446338Z"
    }
   },
   "outputs": [],
   "source": [
    "micro_ttest_statistics, micro_ttest_pvalue = ttest_ind(micro_group1, micro_group2, equal_var=False)"
   ]
  },
  {
   "cell_type": "code",
   "execution_count": 147,
   "metadata": {
    "ExecuteTime": {
     "end_time": "2021-03-01T05:17:40.713743Z",
     "start_time": "2021-03-01T05:17:40.695930Z"
    }
   },
   "outputs": [
    {
     "data": {
      "text/plain": [
       "(12042,)"
      ]
     },
     "execution_count": 147,
     "metadata": {},
     "output_type": "execute_result"
    },
    {
     "data": {
      "text/plain": [
       "(177, 12042)"
      ]
     },
     "execution_count": 147,
     "metadata": {},
     "output_type": "execute_result"
    }
   ],
   "source": [
    "micro_ttest_pvalue.shape\n",
    "micro_group1.shape"
   ]
  },
  {
   "cell_type": "code",
   "execution_count": 148,
   "metadata": {
    "ExecuteTime": {
     "end_time": "2021-03-01T05:17:44.607360Z",
     "start_time": "2021-03-01T05:17:44.334640Z"
    }
   },
   "outputs": [
    {
     "data": {
      "image/png": "[encoded data removed]",
      "text/plain": [
       "<Figure size 432x288 with 1 Axes>"
      ]
     },
     "metadata": {
      "needs_background": "light"
     },
     "output_type": "display_data"
    }
   ],
   "source": [
    "sns.kdeplot(micro_ttest_pvalue);\n",
    "plt.vlines(x=0.05, ymin=0, ymax=1.4,colors='r');"
   ]
  },
  {
   "cell_type": "code",
   "execution_count": 149,
   "metadata": {
    "ExecuteTime": {
     "end_time": "2021-03-01T05:17:49.158448Z",
     "start_time": "2021-03-01T05:17:49.154412Z"
    }
   },
   "outputs": [],
   "source": [
    "micro_ttest_top_pvalue, micro_ttest_top_genes = find_top(micro_ttest_pvalue, 10, micro_gene_id)"
   ]
  },
  {
   "cell_type": "code",
   "execution_count": 150,
   "metadata": {
    "ExecuteTime": {
     "end_time": "2021-03-01T05:17:52.555202Z",
     "start_time": "2021-03-01T05:17:52.529683Z"
    }
   },
   "outputs": [
    {
     "data": {
      "text/plain": [
       "array([8.05143677e-06, 6.59887745e-05, 2.98820460e-05, 3.27424082e-05,\n",
       "       9.72588987e-06, 6.27539193e-05, 9.13466625e-06, 2.82065956e-05,\n",
       "       2.63691619e-06, 4.85239531e-05])"
      ]
     },
     "execution_count": 150,
     "metadata": {},
     "output_type": "execute_result"
    },
    {
     "data": {
      "text/plain": [
       "Index(['AXL', 'LRIG1', 'PART1', 'RABAC1', 'GALNT10', 'TEC', 'NOTCH4',\n",
       "       'SLC37A4', 'NDRG3', 'OLFML3'],\n",
       "      dtype='object')"
      ]
     },
     "execution_count": 150,
     "metadata": {},
     "output_type": "execute_result"
    }
   ],
   "source": [
    "micro_ttest_top_pvalue\n",
    "micro_ttest_top_genes"
   ]
  },
  {
   "cell_type": "code",
   "execution_count": 151,
   "metadata": {
    "ExecuteTime": {
     "end_time": "2021-03-01T05:17:56.541722Z",
     "start_time": "2021-03-01T05:17:56.524370Z"
    }
   },
   "outputs": [
    {
     "name": "stdout",
     "output_type": "stream",
     "text": [
      "8.051437e-06 & AXL \\\\ \n",
      "\\hline\n",
      "6.598877e-05 & LRIG1 \\\\ \n",
      "\\hline\n",
      "2.988205e-05 & PART1 \\\\ \n",
      "\\hline\n",
      "3.274241e-05 & RABAC1 \\\\ \n",
      "\\hline\n",
      "9.725890e-06 & GALNT10 \\\\ \n",
      "\\hline\n",
      "6.275392e-05 & TEC \\\\ \n",
      "\\hline\n",
      "9.134666e-06 & NOTCH4 \\\\ \n",
      "\\hline\n",
      "2.820660e-05 & SLC37A4 \\\\ \n",
      "\\hline\n",
      "2.636916e-06 & NDRG3 \\\\ \n",
      "\\hline\n",
      "4.852395e-05 & OLFML3 \\\\ \n",
      "\\hline\n"
     ]
    }
   ],
   "source": [
    "for i,g in zip(micro_ttest_top_pvalue, micro_ttest_top_genes):\n",
    "    print(f'{i:e} & {g} \\\\\\ \\n\\hline')"
   ]
  },
  {
   "cell_type": "code",
   "execution_count": 202,
   "metadata": {
    "ExecuteTime": {
     "end_time": "2021-03-01T05:52:00.128041Z",
     "start_time": "2021-03-01T05:52:00.107675Z"
    }
   },
   "outputs": [
    {
     "data": {
      "text/plain": [
       "1268"
      ]
     },
     "execution_count": 202,
     "metadata": {},
     "output_type": "execute_result"
    }
   ],
   "source": [
    "(micro_ttest_pvalue < 0.05).sum()"
   ]
  },
  {
   "cell_type": "code",
   "execution_count": 153,
   "metadata": {
    "ExecuteTime": {
     "end_time": "2021-03-01T05:19:17.090475Z",
     "start_time": "2021-03-01T05:19:15.332741Z"
    }
   },
   "outputs": [
    {
     "data": {
      "image/png": "[encoded data removed]",
      "text/plain": [
       "<Figure size 864x576 with 1 Axes>"
      ]
     },
     "metadata": {
      "needs_background": "light"
     },
     "output_type": "display_data"
    }
   ],
   "source": [
    "plot_hist(micro_ttest_pvalue, 'micro_ttest')"
   ]
  },
  {
   "cell_type": "markdown",
   "metadata": {},
   "source": [
    "## Micro data ranksum"
   ]
  },
  {
   "cell_type": "code",
   "execution_count": 154,
   "metadata": {
    "ExecuteTime": {
     "end_time": "2021-03-01T05:19:46.437522Z",
     "start_time": "2021-03-01T05:19:42.820469Z"
    }
   },
   "outputs": [],
   "source": [
    "micro_ranksum_p_value = []\n",
    "micro_ranksum_statistic = []\n",
    "for gene in micro_gene_id:\n",
    "    s, p = ranksums(micro_group1[gene], micro_group2[gene])\n",
    "    micro_ranksum_statistic.append(s)\n",
    "    micro_ranksum_p_value.append(p)\n"
   ]
  },
  {
   "cell_type": "code",
   "execution_count": 155,
   "metadata": {
    "ExecuteTime": {
     "end_time": "2021-03-01T05:19:54.351960Z",
     "start_time": "2021-03-01T05:19:54.037272Z"
    }
   },
   "outputs": [
    {
     "data": {
      "image/png": "[encoded data removed]",
      "text/plain": [
       "<Figure size 432x288 with 1 Axes>"
      ]
     },
     "metadata": {
      "needs_background": "light"
     },
     "output_type": "display_data"
    }
   ],
   "source": [
    "sns.kdeplot(micro_ranksum_p_value);\n",
    "plt.vlines(x=0.05, ymin=0, ymax=1.4,colors='r');"
   ]
  },
  {
   "cell_type": "code",
   "execution_count": 156,
   "metadata": {
    "ExecuteTime": {
     "end_time": "2021-03-01T05:19:57.953290Z",
     "start_time": "2021-03-01T05:19:57.936992Z"
    }
   },
   "outputs": [],
   "source": [
    "micro_ranksum_top_pvalue, micro_ranksum_top_genes = find_top(np.array(micro_ranksum_p_value), 10, micro_gene_id)"
   ]
  },
  {
   "cell_type": "code",
   "execution_count": 157,
   "metadata": {
    "ExecuteTime": {
     "end_time": "2021-03-01T05:20:01.036706Z",
     "start_time": "2021-03-01T05:20:01.026059Z"
    }
   },
   "outputs": [
    {
     "data": {
      "text/plain": [
       "array([2.50369178e-07, 3.25272308e-05, 5.28179002e-05, 1.53425892e-05,\n",
       "       2.03330485e-05, 5.29878713e-05, 7.59166638e-05, 5.63174932e-05,\n",
       "       8.55417001e-05, 1.04082662e-04])"
      ]
     },
     "execution_count": 157,
     "metadata": {},
     "output_type": "execute_result"
    },
    {
     "data": {
      "text/plain": [
       "Index(['NDRG3', 'RABAC1', 'C20orf3', 'GALNT10', 'AXL', 'ANXA4', 'SLC37A4',\n",
       "       'CTSA', 'LRIG1', 'AKAP12'],\n",
       "      dtype='object')"
      ]
     },
     "execution_count": 157,
     "metadata": {},
     "output_type": "execute_result"
    }
   ],
   "source": [
    "micro_ranksum_top_pvalue\n",
    "micro_ranksum_top_genes"
   ]
  },
  {
   "cell_type": "code",
   "execution_count": 159,
   "metadata": {
    "ExecuteTime": {
     "end_time": "2021-03-01T05:20:26.543540Z",
     "start_time": "2021-03-01T05:20:26.538374Z"
    }
   },
   "outputs": [
    {
     "name": "stdout",
     "output_type": "stream",
     "text": [
      "2.503692e-07 & NDRG3 \\\\ \n",
      "\\hline\n",
      "3.252723e-05 & RABAC1 \\\\ \n",
      "\\hline\n",
      "5.281790e-05 & C20orf3 \\\\ \n",
      "\\hline\n",
      "1.534259e-05 & GALNT10 \\\\ \n",
      "\\hline\n",
      "2.033305e-05 & AXL \\\\ \n",
      "\\hline\n",
      "5.298787e-05 & ANXA4 \\\\ \n",
      "\\hline\n",
      "7.591666e-05 & SLC37A4 \\\\ \n",
      "\\hline\n",
      "5.631749e-05 & CTSA \\\\ \n",
      "\\hline\n",
      "8.554170e-05 & LRIG1 \\\\ \n",
      "\\hline\n",
      "1.040827e-04 & AKAP12 \\\\ \n",
      "\\hline\n"
     ]
    }
   ],
   "source": [
    "for i,g in zip(micro_ranksum_top_pvalue,micro_ranksum_top_genes):\n",
    "    print(f'{i:e} & {g} \\\\\\ \\n\\hline')"
   ]
  },
  {
   "cell_type": "code",
   "execution_count": 203,
   "metadata": {
    "ExecuteTime": {
     "end_time": "2021-03-01T05:52:07.636006Z",
     "start_time": "2021-03-01T05:52:07.628380Z"
    }
   },
   "outputs": [
    {
     "data": {
      "text/plain": [
       "1257"
      ]
     },
     "execution_count": 203,
     "metadata": {},
     "output_type": "execute_result"
    }
   ],
   "source": [
    "(np.array(micro_ranksum_p_value) < 0.05).sum()"
   ]
  },
  {
   "cell_type": "code",
   "execution_count": 163,
   "metadata": {
    "ExecuteTime": {
     "end_time": "2021-03-01T05:29:22.860220Z",
     "start_time": "2021-03-01T05:29:21.235443Z"
    }
   },
   "outputs": [
    {
     "data": {
      "image/png": "[encoded data removed]",
      "text/plain": [
       "<Figure size 864x576 with 1 Axes>"
      ]
     },
     "metadata": {
      "needs_background": "light"
     },
     "output_type": "display_data"
    }
   ],
   "source": [
    "plot_hist(micro_ranksum_p_value, \"micro_ranksum\")"
   ]
  },
  {
   "cell_type": "markdown",
   "metadata": {},
   "source": [
    "## Multi Test"
   ]
  },
  {
   "cell_type": "markdown",
   "metadata": {},
   "source": [
    "### Bon Test"
   ]
  },
  {
   "cell_type": "code",
   "execution_count": 164,
   "metadata": {
    "ExecuteTime": {
     "end_time": "2021-03-01T05:30:21.465074Z",
     "start_time": "2021-03-01T05:30:21.416647Z"
    }
   },
   "outputs": [],
   "source": [
    "sig = 0.05\n",
    "\n",
    "def bonferroni_correction(pvalues, sig, genes_id):\n",
    "    adjusted_sig = sig/pvalues.shape[0]\n",
    "    selected_pvalue = pvalues[pvalues < adjusted_sig]\n",
    "    selected_genes = genes_id[pvalues < adjusted_sig  ]\n",
    "    return selected_pvalue, selected_genes"
   ]
  },
  {
   "cell_type": "code",
   "execution_count": 165,
   "metadata": {
    "ExecuteTime": {
     "end_time": "2021-03-01T05:30:26.111416Z",
     "start_time": "2021-03-01T05:30:26.094072Z"
    }
   },
   "outputs": [
    {
     "data": {
      "text/plain": [
       "(array([], dtype=float64), Index([], dtype='object'))"
      ]
     },
     "execution_count": 165,
     "metadata": {},
     "output_type": "execute_result"
    }
   ],
   "source": [
    "bonferroni_correction( rna_test_p_value, sig, genes_id)"
   ]
  },
  {
   "cell_type": "code",
   "execution_count": 166,
   "metadata": {
    "ExecuteTime": {
     "end_time": "2021-03-01T05:30:30.203019Z",
     "start_time": "2021-03-01T05:30:30.198939Z"
    }
   },
   "outputs": [],
   "source": [
    "# bonferroni_correction(np.array(rna_ranksum_p_value), sig, genes_id)"
   ]
  },
  {
   "cell_type": "code",
   "execution_count": 167,
   "metadata": {
    "ExecuteTime": {
     "end_time": "2021-03-01T05:30:33.519820Z",
     "start_time": "2021-03-01T05:30:33.509612Z"
    }
   },
   "outputs": [
    {
     "data": {
      "text/plain": [
       "(array([2.63691619e-06]), Index(['NDRG3'], dtype='object'))"
      ]
     },
     "execution_count": 167,
     "metadata": {},
     "output_type": "execute_result"
    }
   ],
   "source": [
    "bonferroni_correction(micro_ttest_pvalue, sig, micro_gene_id)"
   ]
  },
  {
   "cell_type": "code",
   "execution_count": 168,
   "metadata": {
    "ExecuteTime": {
     "end_time": "2021-03-01T05:30:36.702481Z",
     "start_time": "2021-03-01T05:30:36.693463Z"
    }
   },
   "outputs": [],
   "source": [
    "# bonferroni_correction(np.array(micro_ranksum_p_value), sig, micro_gene_id)"
   ]
  },
  {
   "cell_type": "markdown",
   "metadata": {},
   "source": [
    "### FDR"
   ]
  },
  {
   "cell_type": "code",
   "execution_count": 171,
   "metadata": {
    "ExecuteTime": {
     "end_time": "2021-03-01T05:31:43.444646Z",
     "start_time": "2021-03-01T05:31:43.416279Z"
    }
   },
   "outputs": [],
   "source": [
    "def fdr(pvalues, sig, genes):\n",
    "    \"\"\"test result\"\"\"\n",
    "\n",
    "    sort_index = np.argsort(pvalues)\n",
    "    sort_genes = genes[sort_index]\n",
    "    sort_pvalues = pvalues[sort_index]\n",
    "\n",
    "    rank_index  = np.arange(0, sort_pvalues.shape[0]) + 1\n",
    "\n",
    "    adj_p = (rank_index / sort_pvalues.shape[0]) * sig\n",
    "\n",
    "\n",
    "    conditon = sort_pvalues <= adj_p\n",
    "\n",
    "    if conditon.any():\n",
    "        max_i = np.argmax(np.cumsum(conditon))\n",
    "\n",
    "        selected_genes = sort_genes[:max_i+1]\n",
    "        selected_pvalues = sort_pvalues[:max_i+1]\n",
    "        return selected_pvalues, selected_genes\n",
    "\n",
    "\n",
    "\n",
    "\n",
    "\n",
    "\n",
    "def fdr_correction(pvalues):\n",
    "\n",
    "    if all(sorted(pvalues) == pvalues):\n",
    "        return pvalues\n",
    "    else:\n",
    "        temp = []\n",
    "        for ind, item in enumerate(pvalues[:-1]):\n",
    "            v = min(item , pvalues[ind +1])\n",
    "            temp.append(v)\n",
    "        temp.append(pvalues[-1])\n",
    "        return fdr_correction(np.array(temp))\n",
    "\n",
    "def get_fdr_threshold(pvalues, numbers, genes):\n",
    "\n",
    "    sort_index = np.argsort(pvalues)\n",
    "    sort_genes = genes[sort_index]\n",
    "    sort_pvalues = pvalues[sort_index]\n",
    "\n",
    "\n",
    "    rank_index  = np.arange(0, sort_pvalues.shape[0]) + 1\n",
    "\n",
    "    temp_p =  (sort_pvalues.shape[0] * sort_pvalues) / rank_index\n",
    "\n",
    "    fdr = fdr_correction(temp_p)\n",
    "\n",
    "    return fdr[np.array(numbers) -1].tolist() , sort_genes\n",
    "\n",
    "\n",
    "\n"
   ]
  },
  {
   "cell_type": "code",
   "execution_count": 177,
   "metadata": {
    "ExecuteTime": {
     "end_time": "2021-03-01T05:33:39.068963Z",
     "start_time": "2021-03-01T05:33:39.062077Z"
    }
   },
   "outputs": [],
   "source": [
    "from statsmodels.stats.multitest import multipletests\n",
    "\n",
    "pvalues = rna_test_p_value\n",
    "sort_index = np.argsort(pvalues)\n",
    "sort_genes = genes_id[sort_index]\n",
    "sort_pvalues = pvalues[sort_index]\n"
   ]
  },
  {
   "cell_type": "code",
   "execution_count": 178,
   "metadata": {
    "ExecuteTime": {
     "end_time": "2021-03-01T05:33:42.376980Z",
     "start_time": "2021-03-01T05:33:42.368950Z"
    }
   },
   "outputs": [],
   "source": [
    "# using statistic model to get fdr value for rna\n",
    "\n",
    "_,mp, *_ = multipletests(sort_pvalues, method='fdr_bh', is_sorted=True)"
   ]
  },
  {
   "cell_type": "code",
   "execution_count": 180,
   "metadata": {
    "ExecuteTime": {
     "end_time": "2021-03-01T05:33:52.952798Z",
     "start_time": "2021-03-01T05:33:52.942913Z"
    }
   },
   "outputs": [
    {
     "data": {
      "text/plain": [
       "[0.1723868295115724,\n",
       " 0.2123598414113462,\n",
       " 0.25079808129875447,\n",
       " 0.3197486029507247]"
      ]
     },
     "execution_count": 180,
     "metadata": {},
     "output_type": "execute_result"
    }
   ],
   "source": [
    "mp[[20-1, 50-1, 100-1, 200-1]].tolist()"
   ]
  },
  {
   "cell_type": "code",
   "execution_count": 175,
   "metadata": {
    "ExecuteTime": {
     "end_time": "2021-03-01T05:32:51.026131Z",
     "start_time": "2021-03-01T05:32:43.621347Z"
    }
   },
   "outputs": [
    {
     "data": {
      "text/plain": [
       "([0.1723868295115724,\n",
       "  0.2123598414113462,\n",
       "  0.25079808129875447,\n",
       "  0.31974860295072466],\n",
       " Index(['CYTH3', 'RGS14', 'FBXO4', 'TSPAN9', 'CHUK', 'ATP1A2', 'LOC728606',\n",
       "        'BTRC', 'C12orf5', 'LOC257358',\n",
       "        ...\n",
       "        'OR5AR1', 'FAM119A', 'LOC100128292', 'LY6E', 'TNIK', 'GJB5', 'SRGAP3',\n",
       "        'MAPK11', 'TBRG1', 'C12orf35'],\n",
       "       dtype='object', length=20162))"
      ]
     },
     "execution_count": 175,
     "metadata": {},
     "output_type": "execute_result"
    }
   ],
   "source": [
    "get_fdr_threshold(rna_test_p_value, [20-1, 50-1, 100-1, 200-1], genes_id)"
   ]
  },
  {
   "cell_type": "code",
   "execution_count": 183,
   "metadata": {
    "ExecuteTime": {
     "end_time": "2021-03-01T05:35:08.854619Z",
     "start_time": "2021-03-01T05:35:08.806163Z"
    }
   },
   "outputs": [
    {
     "data": {
      "text/plain": [
       "(29,)"
      ]
     },
     "execution_count": 183,
     "metadata": {},
     "output_type": "execute_result"
    },
    {
     "data": {
      "text/plain": [
       "(50,)"
      ]
     },
     "execution_count": 183,
     "metadata": {},
     "output_type": "execute_result"
    },
    {
     "data": {
      "text/plain": [
       "(84,)"
      ]
     },
     "execution_count": 183,
     "metadata": {},
     "output_type": "execute_result"
    },
    {
     "data": {
      "text/plain": [
       "(216,)"
      ]
     },
     "execution_count": 183,
     "metadata": {},
     "output_type": "execute_result"
    }
   ],
   "source": [
    "fdr(rna_test_p_value,0.1723868295115724, genes_id )[0].shape\n",
    "fdr(rna_test_p_value,0.2123598414113462, genes_id )[0].shape\n",
    "fdr(rna_test_p_value,0.25079808129875447, genes_id )[0].shape\n",
    "fdr(rna_test_p_value,0.3197486029507247, genes_id )[0].shape"
   ]
  },
  {
   "cell_type": "code",
   "execution_count": 184,
   "metadata": {
    "ExecuteTime": {
     "end_time": "2021-03-01T05:35:16.384434Z",
     "start_time": "2021-03-01T05:35:14.737805Z"
    }
   },
   "outputs": [
    {
     "data": {
      "text/plain": [
       "([0.1324712603446682,\n",
       "  0.17366641103505984,\n",
       "  0.19131731961025905,\n",
       "  0.2781789817248434],\n",
       " Index(['NDRG3', 'AXL', 'NOTCH4', 'GALNT10', 'SLC37A4', 'PART1', 'RABAC1',\n",
       "        'OLFML3', 'TEC', 'LRIG1',\n",
       "        ...\n",
       "        'CBARA1', 'ARPC3', 'ANKRD5', 'TCAP', 'SOX9', 'RBM5', 'ELAC2', 'HMG20B',\n",
       "        'SMAD2', 'DLX2'],\n",
       "       dtype='object', length=12042))"
      ]
     },
     "execution_count": 184,
     "metadata": {},
     "output_type": "execute_result"
    }
   ],
   "source": [
    "get_fdr_threshold(micro_ttest_pvalue, [20-1, 50-1, 100-1, 200-1], micro_gene_id)"
   ]
  },
  {
   "cell_type": "code",
   "execution_count": 186,
   "metadata": {
    "ExecuteTime": {
     "end_time": "2021-03-01T05:35:47.470739Z",
     "start_time": "2021-03-01T05:35:47.443630Z"
    }
   },
   "outputs": [],
   "source": [
    "pvalues = micro_ttest_pvalue\n",
    "sort_index = np.argsort(pvalues)\n",
    "sort_genes = micro_gene_id[sort_index]\n",
    "sort_pvalues = pvalues[sort_index]"
   ]
  },
  {
   "cell_type": "code",
   "execution_count": 187,
   "metadata": {
    "ExecuteTime": {
     "end_time": "2021-03-01T05:35:54.467942Z",
     "start_time": "2021-03-01T05:35:54.455939Z"
    }
   },
   "outputs": [],
   "source": [
    "_,mp2, *_ = multipletests(sort_pvalues, method='fdr_bh', is_sorted=True)"
   ]
  },
  {
   "cell_type": "code",
   "execution_count": 188,
   "metadata": {
    "ExecuteTime": {
     "end_time": "2021-03-01T05:35:58.286957Z",
     "start_time": "2021-03-01T05:35:58.273644Z"
    }
   },
   "outputs": [
    {
     "data": {
      "text/plain": [
       "[0.13247126034466816,\n",
       " 0.17366641103505984,\n",
       " 0.20043651362141873,\n",
       " 0.2781789817248434]"
      ]
     },
     "execution_count": 188,
     "metadata": {},
     "output_type": "execute_result"
    }
   ],
   "source": [
    "mp2[[20-1, 50-1, 100-1, 200-1]].tolist()"
   ]
  },
  {
   "cell_type": "code",
   "execution_count": 189,
   "metadata": {
    "ExecuteTime": {
     "end_time": "2021-03-01T05:36:27.752638Z",
     "start_time": "2021-03-01T05:36:27.710833Z"
    }
   },
   "outputs": [
    {
     "data": {
      "text/plain": [
       "(18,)"
      ]
     },
     "execution_count": 189,
     "metadata": {},
     "output_type": "execute_result"
    },
    {
     "data": {
      "text/plain": [
       "(50,)"
      ]
     },
     "execution_count": 189,
     "metadata": {},
     "output_type": "execute_result"
    },
    {
     "data": {
      "text/plain": [
       "(100,)"
      ]
     },
     "execution_count": 189,
     "metadata": {},
     "output_type": "execute_result"
    },
    {
     "data": {
      "text/plain": [
       "(205,)"
      ]
     },
     "execution_count": 189,
     "metadata": {},
     "output_type": "execute_result"
    }
   ],
   "source": [
    "for i in mp2[[20-1, 50-1, 100-1, 200-1]].tolist():\n",
    "    fdr(micro_ttest_pvalue,i ,micro_gene_id)[0].shape\n",
    "\n",
    "\n"
   ]
  },
  {
   "cell_type": "code",
   "execution_count": null,
   "metadata": {},
   "outputs": [],
   "source": []
  },
  {
   "cell_type": "markdown",
   "metadata": {},
   "source": [
    "## Final question"
   ]
  },
  {
   "cell_type": "markdown",
   "metadata": {},
   "source": [
    "### t-test"
   ]
  },
  {
   "cell_type": "code",
   "execution_count": null,
   "metadata": {},
   "outputs": [],
   "source": []
  },
  {
   "cell_type": "code",
   "execution_count": 190,
   "metadata": {
    "ExecuteTime": {
     "end_time": "2021-03-01T05:38:01.045952Z",
     "start_time": "2021-03-01T05:38:01.029965Z"
    }
   },
   "outputs": [],
   "source": [
    "def sort_pvalue(pvalues, genes):\n",
    "    sort_index = np.argsort(pvalues)\n",
    "    sort_genes = genes[sort_index]\n",
    "    sort_pvalues = pvalues[sort_index]\n",
    "    return sort_pvalues, sort_genes\n"
   ]
  },
  {
   "cell_type": "code",
   "execution_count": 196,
   "metadata": {
    "ExecuteTime": {
     "end_time": "2021-03-01T05:40:12.052833Z",
     "start_time": "2021-03-01T05:40:12.039566Z"
    }
   },
   "outputs": [],
   "source": [
    "def get_overlap(pvalues1, genes1 , pvalues2, genes2, x ):\n",
    "    for number in x:\n",
    "        selected_genes1 = sort_pvalue(pvalues1, genes1)[1][:number]\n",
    "        selected_genes2 = sort_pvalue(pvalues2, genes2)[1][:number]\n",
    "        yield (selected_genes1 & selected_genes2 ).shape[0]"
   ]
  },
  {
   "cell_type": "code",
   "execution_count": 197,
   "metadata": {
    "ExecuteTime": {
     "end_time": "2021-03-01T05:40:16.670196Z",
     "start_time": "2021-03-01T05:40:15.797948Z"
    }
   },
   "outputs": [],
   "source": [
    "x1 = range(10, 1010, 10)\n",
    "y1 = list(get_overlap(rna_test_p_value, genes_id, micro_ttest_pvalue, micro_gene_id, x1) )"
   ]
  },
  {
   "cell_type": "markdown",
   "metadata": {},
   "source": [
    "## ranksum"
   ]
  },
  {
   "cell_type": "code",
   "execution_count": 198,
   "metadata": {
    "ExecuteTime": {
     "end_time": "2021-03-01T05:40:23.264120Z",
     "start_time": "2021-03-01T05:40:22.824734Z"
    }
   },
   "outputs": [],
   "source": [
    "x2 = range(10, 1010, 10)\n",
    "y2 = list(get_overlap(np.array(rna_ranksum_p_value), genes_id, np.array(micro_ranksum_p_value), micro_gene_id, x2) )"
   ]
  },
  {
   "cell_type": "markdown",
   "metadata": {},
   "source": [
    "## Plot"
   ]
  },
  {
   "cell_type": "code",
   "execution_count": 199,
   "metadata": {
    "ExecuteTime": {
     "end_time": "2021-03-01T05:40:32.504028Z",
     "start_time": "2021-03-01T05:40:29.373884Z"
    }
   },
   "outputs": [
    {
     "data": {
      "image/png": "[encoded data removed]",
      "text/plain": [
       "<Figure size 864x576 with 1 Axes>"
      ]
     },
     "metadata": {
      "needs_background": "light"
     },
     "output_type": "display_data"
    }
   ],
   "source": [
    "fig, ax1 = plt.subplots();\n",
    "\n",
    "\n",
    "plt.plot(x1,y1, marker = 'o', color='navy' , label = \"T-test\")\n",
    "plt.plot(x2,y2, marker = 'o', color='red', label = \"Wilcoxon rank-sum\")\n",
    "\n",
    "ax1.set_xlabel('Number of Genes', fontsize=16);\n",
    "ax1.set_ylabel('Number of Overlap Genes', fontsize=16);\n",
    "\n",
    "ax1.tick_params(axis='y', labelsize=15);\n",
    "ax1.tick_params(axis='x', labelsize=15);\n",
    "ax1.set_xticks(range(0,1100,100))\n",
    "ax1.legend(fontsize=15,edgecolor='k',fancybox=True)\n",
    "ax1.set_title(\"Overlap Genes\", fontsize=16)\n",
    "plt.xticks(rotation=30);\n",
    "fig.set_size_inches(12, 8);\n",
    "plt.savefig(f\"overlap_genes.png\",  # 文件名\n",
    "            format='png',  # 图片格式\n",
    "            bbox_inches='tight',  # 图片排版\n",
    "            dpi=300  # 图片清晰度\n",
    "            );"
   ]
  },
  {
   "cell_type": "code",
   "execution_count": 404,
   "metadata": {
    "ExecuteTime": {
     "end_time": "2021-02-23T20:08:00.170957Z",
     "start_time": "2021-02-23T20:08:00.146217Z"
    }
   },
   "outputs": [],
   "source": [
    "\n",
    "def ttest(datafile):\n",
    "    df = pd.read_csv(datafile, sep=\"\\t\", index_col=0)\n",
    "    genes_expression = (df == 0).all(axis=0)[~(df == 0).all(axis=0)].index\n",
    "    df = df[genes_expression]\n",
    "    genes_id = df.columns[1:]\n",
    "    group1 = df[df.Group == 1].iloc[:, 1:]\n",
    "    group2 = df[df.Group == 2].iloc[:, 1:]\n",
    "    t_statistics, p_values = ttest_ind(group1, group2)\n",
    "    return t_statistics, p_values, genes_id\n",
    "\n",
    "\n",
    "\n",
    "def fdr_correction(pvalues):\n",
    "\n",
    "    if all(sorted(pvalues) == pvalues):\n",
    "        return pvalues\n",
    "    else:\n",
    "        temp = []\n",
    "        for ind, item in enumerate(pvalues[:-1]):\n",
    "            v = min(item , pvalues[ind +1])\n",
    "            temp.append(v)\n",
    "        temp.append(pvalues[-1])\n",
    "        return fdr_correction(np.array(temp))\n",
    "\n",
    "def get_fdr_threshold(pvalues, numbers, genes):\n",
    "\n",
    "    sort_index = np.argsort(pvalues)\n",
    "    sort_genes = genes[sort_index]\n",
    "    sort_pvalues = pvalues[sort_index]\n",
    "\n",
    "\n",
    "    rank_index  = np.arange(0, sort_pvalues.shape[0]) + 1\n",
    "\n",
    "    temp_p =  (sort_pvalues.shape[0] * sort_pvalues) / rank_index\n",
    "\n",
    "    fdr = fdr_correction(temp_p)\n",
    "\n",
    "    return fdr[np.array(numbers) -1].tolist() , sort_genes\n",
    "\n",
    "\n",
    "\n",
    "\n"
   ]
  },
  {
   "cell_type": "code",
   "execution_count": 405,
   "metadata": {
    "ExecuteTime": {
     "end_time": "2021-02-23T20:08:03.140072Z",
     "start_time": "2021-02-23T20:08:03.137496Z"
    }
   },
   "outputs": [],
   "source": [
    "seqdata = 'SeqData.txt'\n",
    "arraydata = 'ArrayData.txt'"
   ]
  },
  {
   "cell_type": "code",
   "execution_count": 406,
   "metadata": {
    "ExecuteTime": {
     "end_time": "2021-02-23T20:08:13.340602Z",
     "start_time": "2021-02-23T20:08:04.968336Z"
    }
   },
   "outputs": [],
   "source": [
    "\n",
    "    seq_statistics, seq_pvalues, seq_genes = ttest(seqdata)\n",
    "    array_statistics, array_pvalues, array_genes = ttest(arraydata)"
   ]
  },
  {
   "cell_type": "code",
   "execution_count": 412,
   "metadata": {
    "ExecuteTime": {
     "end_time": "2021-02-23T20:08:55.219332Z",
     "start_time": "2021-02-23T20:08:55.211754Z"
    }
   },
   "outputs": [
    {
     "data": {
      "text/plain": [
       "array([0.67514184, 0.70118889, 0.27829037, ..., 0.59960707, 0.42325652,\n",
       "       0.01485486])"
      ]
     },
     "execution_count": 412,
     "metadata": {},
     "output_type": "execute_result"
    }
   ],
   "source": [
    "seq_pvalues[~(seq_pvalues == rna_test_p_value)]"
   ]
  },
  {
   "cell_type": "code",
   "execution_count": 413,
   "metadata": {
    "ExecuteTime": {
     "end_time": "2021-02-23T20:09:03.930173Z",
     "start_time": "2021-02-23T20:09:03.910335Z"
    }
   },
   "outputs": [
    {
     "data": {
      "text/plain": [
       "array([0.67514184, 0.70118889, 0.27829037, ..., 0.59960707, 0.42325652,\n",
       "       0.01485486])"
      ]
     },
     "execution_count": 413,
     "metadata": {},
     "output_type": "execute_result"
    }
   ],
   "source": [
    "rna_test_p_value[~(seq_pvalues == rna_test_p_value)]"
   ]
  },
  {
   "cell_type": "code",
   "execution_count": null,
   "metadata": {},
   "outputs": [],
   "source": []
  }
 ],
 "metadata": {
  "hide_input": false,
  "kernelspec": {
   "display_name": "Python 3",
   "language": "python",
   "name": "python3"
  },
  "language_info": {
   "codemirror_mode": {
    "name": "ipython",
    "version": 3
   },
   "file_extension": ".py",
   "mimetype": "text/x-python",
   "name": "python",
   "nbconvert_exporter": "python",
   "pygments_lexer": "ipython3",
   "version": "3.7.7"
  },
  "toc": {
   "base_numbering": 1,
   "nav_menu": {},
   "number_sections": true,
   "sideBar": true,
   "skip_h1_title": false,
   "title_cell": "Table of Contents",
   "title_sidebar": "Contents",
   "toc_cell": false,
   "toc_position": {
    "height": "348.097px",
    "left": "88.9972px",
    "top": "34.1335px",
    "width": "165px"
   },
   "toc_section_display": true,
   "toc_window_display": true
  },
  "varInspector": {
   "cols": {
    "lenName": 16,
    "lenType": 16,
    "lenVar": 40
   },
   "kernels_config": {
    "python": {
     "delete_cmd_postfix": "",
     "delete_cmd_prefix": "del ",
     "library": "var_list.py",
     "varRefreshCmd": "print(var_dic_list())"
    },
    "r": {
     "delete_cmd_postfix": ") ",
     "delete_cmd_prefix": "rm(",
     "library": "var_list.r",
     "varRefreshCmd": "cat(var_dic_list()) "
    }
   },
   "types_to_exclude": [
    "module",
    "function",
    "builtin_function_or_method",
    "instance",
    "_Feature"
   ],
   "window_display": false
  }
 },
 "nbformat": 4,
 "nbformat_minor": 4
}
