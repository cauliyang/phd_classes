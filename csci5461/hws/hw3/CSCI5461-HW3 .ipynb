{
 "cells": [
  {
   "cell_type": "code",
   "execution_count": 4,
   "metadata": {
    "ExecuteTime": {
     "end_time": "2021-03-07T03:48:39.780928Z",
     "start_time": "2021-03-07T03:48:39.767598Z"
    }
   },
   "outputs": [],
   "source": [
    "import numpy as np \n",
    "import pandas as pd \n",
    "import matplotlib.pyplot as plt \n",
    "import seaborn as sns \n"
   ]
  },
  {
   "cell_type": "markdown",
   "metadata": {
    "ExecuteTime": {
     "end_time": "2021-03-07T03:47:28.723816Z",
     "start_time": "2021-03-07T03:47:28.479811Z"
    }
   },
   "source": [
    "# Part a "
   ]
  },
  {
   "cell_type": "code",
   "execution_count": 17,
   "metadata": {
    "ExecuteTime": {
     "end_time": "2021-03-07T03:50:08.774830Z",
     "start_time": "2021-03-07T03:50:08.767955Z"
    }
   },
   "outputs": [
    {
     "data": {
      "text/plain": [
       "['Gene_Name', 'P_value', 'SeqData']"
      ]
     },
     "execution_count": 17,
     "metadata": {},
     "output_type": "execute_result"
    }
   ],
   "source": [
    "# load data1 \n",
    "\n",
    "data1 = np.load('Data1.npz')\n",
    "data1.files"
   ]
  },
  {
   "cell_type": "code",
   "execution_count": 18,
   "metadata": {
    "ExecuteTime": {
     "end_time": "2021-03-07T03:50:10.069970Z",
     "start_time": "2021-03-07T03:50:10.061387Z"
    }
   },
   "outputs": [
    {
     "data": {
      "text/plain": [
       "(20131,)"
      ]
     },
     "execution_count": 18,
     "metadata": {},
     "output_type": "execute_result"
    }
   ],
   "source": [
    "data1['Gene_Name'].shape "
   ]
  },
  {
   "cell_type": "code",
   "execution_count": 19,
   "metadata": {
    "ExecuteTime": {
     "end_time": "2021-03-07T03:50:10.255576Z",
     "start_time": "2021-03-07T03:50:10.228143Z"
    }
   },
   "outputs": [
    {
     "data": {
      "text/plain": [
       "(20131,)"
      ]
     },
     "execution_count": 19,
     "metadata": {},
     "output_type": "execute_result"
    }
   ],
   "source": [
    "data1['P_value'].shape "
   ]
  },
  {
   "cell_type": "code",
   "execution_count": 20,
   "metadata": {
    "ExecuteTime": {
     "end_time": "2021-03-07T03:50:21.665993Z",
     "start_time": "2021-03-07T03:50:21.522154Z"
    }
   },
   "outputs": [
    {
     "data": {
      "text/plain": [
       "(20131, 276)"
      ]
     },
     "execution_count": 20,
     "metadata": {},
     "output_type": "execute_result"
    }
   ],
   "source": [
    "data1['SeqData'].shape "
   ]
  },
  {
   "cell_type": "markdown",
   "metadata": {
    "heading_collapsed": true
   },
   "source": [
    "## Select 200 genes "
   ]
  },
  {
   "cell_type": "code",
   "execution_count": 21,
   "metadata": {
    "ExecuteTime": {
     "end_time": "2021-03-07T03:51:04.060752Z",
     "start_time": "2021-03-07T03:51:04.051320Z"
    },
    "hidden": true
   },
   "outputs": [],
   "source": [
    "selected_genes = data1['Gene_Name'][:200]"
   ]
  },
  {
   "cell_type": "code",
   "execution_count": 24,
   "metadata": {
    "ExecuteTime": {
     "end_time": "2021-03-07T03:51:23.992004Z",
     "start_time": "2021-03-07T03:51:23.983754Z"
    },
    "hidden": true
   },
   "outputs": [
    {
     "data": {
      "text/plain": [
       "array(['CCDC160', 'CYTH3', 'ARHGEF38', 'C12orf5', 'TEX261', 'NEBL',\n",
       "       'ADIPOR2', 'RB1', 'PPAP2C', 'AP4E1', 'ATP2C2', 'TNFRSF8', 'RGS14',\n",
       "       'DES', 'LRRC45', 'ITCH', 'C1orf115', 'ZNF780A', 'APOLD1', 'CAMK2A'],\n",
       "      dtype='<U15')"
      ]
     },
     "execution_count": 24,
     "metadata": {},
     "output_type": "execute_result"
    }
   ],
   "source": [
    "selected_genes[:20]"
   ]
  },
  {
   "cell_type": "code",
   "execution_count": 47,
   "metadata": {
    "ExecuteTime": {
     "end_time": "2021-03-07T04:21:47.388240Z",
     "start_time": "2021-03-07T04:21:47.357844Z"
    },
    "hidden": true
   },
   "outputs": [
    {
     "name": "stdout",
     "output_type": "stream",
     "text": [
      "CCDC160, CYTH3, ARHGEF38, C12orf5, TEX261, NEBL, ADIPOR2, RB1, PPAP2C, AP4E1, ATP2C2, TNFRSF8, RGS14, DES, LRRC45, ITCH, C1orf115, ZNF780A, APOLD1, CAMK2A, NBLA00301, DOCK11, DPP8, ARFGEF2, ISOC1, INMT, SCRG1, MARCH9, SH3RF2, CAMK2G, KCNA1, TPO, PRG4, UPK3B, ANKIB1, DUSP4, MOSC2, LMO4, MEOX2, RAB40B, CCDC80, GLRA2, CTNS, TNP2, HSPB7, IL1RAPL2, ZNF148, CYP2R1, RNF183, FOXA2, KIF5B, PYGB, ADAM10, KIF20B, ZBTB4, ARHGDIA, FAM65C, LBP, KCTD11, CRK, BNC1, ARHGDIG, TTBK2, DNAJC4, WDR81, THOC4, PI16, FAM110C, SSX8, TMEM119, ATP1A2, MAP2K1, CLEC2L, PGRMC1, RALGAPB, ZYG11A, ADH1B, NFKBIB, CDSN, PTGFR, SEMA4A, CRYAB, AQP2, LOC257358, C7orf33, C20orf3, LRIG1, MLLT10, SLC35D3, GPR27, GPR133, DAGLB, LRRC3B, GSR, PI4K2A, DAP, NDRG3, CSNK1G1, CHUK, PGM2L1, GPR112, BEX4, DCTN6, LHFPL5, INTS9, ARHGAP12, SPDEF, HAND2, ZNF781, MFAP1, ZHX3, INPP1, LCN6, NUAK1, LRIT3, PLCH1, LOC220594, NEXN, B3GAT3, ANXA8, ST8SIA6, TAL1, FN3KRP, MAP3K2, GSTP1, USP48, LYPD5, FAM71C, EBF2, C9orf142, SERPINA10, SCGB3A1, RABGEF1, CTSA, MYL7, LOC285045, RECQL, HNRNPA0, CSTF3, C12orf4, CLIP3, TMEM18, POLD3, ZNF12, CCDC74A, TBC1D23, TMED1, CCL14, SNRPA, FAM69B, LRRC20, SASH1, STXBP5, LOC644538, ELAVL1, TJP1, AGR2, UBR1, USP8, FBXO16, EGLN3, DSE, SSC5D, AGFG1, EIF2S3, ARID5B, KCTD13, CRCP, FN3K, MRPL23, ZSCAN29, MYLPF, TMEM211, KCNS1, CD36, KLF17, PDE1C, RAC3, PLDN, VPS54, NSF, SRGAP1, P2RY12, CORO6, TOMM20, EXOC6B, FAM66D, ABCC12, GLUD1, ELP3, AHSG, FBXO4, COG5, TEKT2, KCNA6, ZNF204P, MGC12916, TRPM7, GJB1, C9orf68, "
     ]
    }
   ],
   "source": [
    "\n",
    "for ind, gene in enumerate(selected_genes):\n",
    "    print(gene, end=', ') \n",
    "#     print(ind+1, gene)"
   ]
  },
  {
   "cell_type": "code",
   "execution_count": 48,
   "metadata": {
    "ExecuteTime": {
     "end_time": "2021-03-07T04:23:08.723262Z",
     "start_time": "2021-03-07T04:23:08.705137Z"
    },
    "hidden": true
   },
   "outputs": [],
   "source": [
    "top10_enrich = open('top10_enriched.tsv').readlines() "
   ]
  },
  {
   "cell_type": "code",
   "execution_count": 63,
   "metadata": {
    "ExecuteTime": {
     "end_time": "2021-03-07T04:29:36.474561Z",
     "start_time": "2021-03-07T04:29:36.458456Z"
    },
    "hidden": true
   },
   "outputs": [],
   "source": [
    "functions = top10_enrich[9:20]"
   ]
  },
  {
   "cell_type": "code",
   "execution_count": 66,
   "metadata": {
    "ExecuteTime": {
     "end_time": "2021-03-07T04:29:52.693748Z",
     "start_time": "2021-03-07T04:29:52.667920Z"
    },
    "hidden": true
   },
   "outputs": [
    {
     "data": {
      "text/plain": [
       "'Gene Set Name\\t# Genes in Gene Set (K)\\tDescription\\t# Genes in Overlap (k)\\tk/K\\tp-value\\tFDR q-value\\n'"
      ]
     },
     "execution_count": 66,
     "metadata": {},
     "output_type": "execute_result"
    }
   ],
   "source": [
    "functions[0]"
   ]
  },
  {
   "cell_type": "code",
   "execution_count": 100,
   "metadata": {
    "ExecuteTime": {
     "end_time": "2021-03-07T04:41:44.494269Z",
     "start_time": "2021-03-07T04:41:44.487596Z"
    },
    "hidden": true
   },
   "outputs": [
    {
     "name": "stdout",
     "output_type": "stream",
     "text": [
      "\\textbf{ GO\\_POSITIVE\\_REGULATION\\_OF\\_MOLECULAR\\_FUNCTION } \\\\  \n",
      "Any process that activates or increases the rate or extent of a molecular function, an elemental biological activity occurring at the molecular level, such as catalysis or binding. [GO:jl]\n",
      "\\textbf{ GO\\_REGULATION\\_OF\\_HYDROLASE\\_ACTIVITY } \\\\  \n",
      "Any process that modulates the frequency, rate or extent of hydrolase activity, the catalysis of the hydrolysis of various bonds, e.g. C-O, C-N, C-C, phosphoric anhydride bonds, etc. Hydrolase is the systematic name for any enzyme of EC class 3. [EC:3.-.-.-, GOC:ai]\n",
      "\\textbf{ GO\\_GOLGI\\_APPARATUS } \\\\  \n",
      "A membrane-bound cytoplasmic organelle of the endomembrane system that further processes the core oligosaccharides (e.g. N-glycans) added to proteins in the endoplasmic reticulum and packages them into membrane-bound vesicles. The Golgi apparatus operates at the intersection of the secretory, lysosomal, and endocytic pathways. [ISBN:0198506732]\n",
      "\\textbf{ GO\\_WHOLE\\_MEMBRANE } \\\\  \n",
      "Any lipid bilayer that completely encloses some structure, and all the proteins embedded in it or attached to it.  Examples include the plasma membrane and most organelle membranes. [GOC:dos]\n",
      "\\textbf{ GO\\_PROTEIN\\_HOMODIMERIZATION\\_ACTIVITY } \\\\  \n",
      "Interacting selectively and non-covalently with an identical protein to form a homodimer. [GOC:jl]\n",
      "\\textbf{ GO\\_PROTEIN\\_DIMERIZATION\\_ACTIVITY } \\\\  \n",
      "The formation of a protein dimer, a macromolecular structure consists of two noncovalently associated identical or nonidentical subunits. [ISBN:0198506732]\n",
      "\\textbf{ GO\\_NEUROGENESIS } \\\\  \n",
      "Generation of cells within the nervous system. [GO_REF:0000021, GOC:cls, GOC:curators, GOC:dgh, GOC:dph, GOC:jid]\n",
      "\\textbf{ GO\\_SMALL\\_GTPASE\\_MEDIATED\\_SIGNAL\\_TRANSDUCTION } \\\\  \n",
      "Any series of molecular signals in which a small monomeric GTPase relays one or more of the signals. [GOC:mah]\n",
      "\\textbf{ HP\\_SHORT\\_STATURE } \\\\  \n",
      "Short stature\n",
      "\\textbf{ GO\\_NEURON\\_PROJECTION } \\\\  \n",
      "A prolongation or process extending from a nerve cell, e.g. an axon or dendrite. [GOC:jl, http://www.cogsci.princeton.edu/~wn/]\n"
     ]
    }
   ],
   "source": [
    "for line in functions[1:]:\n",
    "    func, _, des, *gab = line.split('\\t') \n",
    "    func_temp = func.split('_')\n",
    "    func = '\\_'.join(func_temp)\n",
    "    print(r'\\textbf{',func, '} \\\\\\ ', f'\\n{des}')"
   ]
  },
  {
   "cell_type": "markdown",
   "metadata": {
    "ExecuteTime": {
     "end_time": "2021-03-07T04:30:59.595148Z",
     "start_time": "2021-03-07T04:30:59.589755Z"
    },
    "heading_collapsed": true
   },
   "source": [
    "# Part b"
   ]
  },
  {
   "cell_type": "code",
   "execution_count": 101,
   "metadata": {
    "ExecuteTime": {
     "end_time": "2021-03-07T05:43:32.212570Z",
     "start_time": "2021-03-07T05:43:32.179604Z"
    },
    "hidden": true
   },
   "outputs": [
    {
     "data": {
      "text/plain": [
       "['Gene_Name', 'P_value', 'SeqData']"
      ]
     },
     "execution_count": 101,
     "metadata": {},
     "output_type": "execute_result"
    }
   ],
   "source": [
    "data1.files"
   ]
  },
  {
   "cell_type": "code",
   "execution_count": 112,
   "metadata": {
    "ExecuteTime": {
     "end_time": "2021-03-07T05:47:11.951248Z",
     "start_time": "2021-03-07T05:47:11.831105Z"
    },
    "hidden": true
   },
   "outputs": [
    {
     "data": {
      "text/plain": [
       "(20131,)"
      ]
     },
     "execution_count": 112,
     "metadata": {},
     "output_type": "execute_result"
    },
    {
     "data": {
      "text/plain": [
       "(20131, 276)"
      ]
     },
     "execution_count": 112,
     "metadata": {},
     "output_type": "execute_result"
    },
    {
     "data": {
      "text/plain": [
       "(20131,)"
      ]
     },
     "execution_count": 112,
     "metadata": {},
     "output_type": "execute_result"
    }
   ],
   "source": [
    "\n",
    "data1['Gene_Name'].shape \n",
    "\n",
    "data1['SeqData'].shape \n",
    "\n",
    "data1['P_value'].shape "
   ]
  },
  {
   "cell_type": "code",
   "execution_count": 113,
   "metadata": {
    "ExecuteTime": {
     "end_time": "2021-03-07T05:47:23.658725Z",
     "start_time": "2021-03-07T05:47:23.582670Z"
    },
    "hidden": true
   },
   "outputs": [],
   "source": [
    "# select first 1000 genes \n",
    "selected_1000 = data1['SeqData'][:1000,]\n",
    "\n",
    "selected_1000_genes = data1['Gene_Name'][:1000]"
   ]
  },
  {
   "cell_type": "code",
   "execution_count": 114,
   "metadata": {
    "ExecuteTime": {
     "end_time": "2021-03-07T05:47:23.896399Z",
     "start_time": "2021-03-07T05:47:23.886576Z"
    },
    "hidden": true
   },
   "outputs": [
    {
     "data": {
      "text/plain": [
       "array([[ 6.5656,  6.2135,  5.5397, ...,  5.4686,  5.459 ,  3.9284],\n",
       "       [ 8.9028,  7.9683,  8.8132, ...,  9.3317, 11.9183,  8.4228],\n",
       "       [ 2.7496,  3.8664,  2.3934, ...,  1.2239,  1.8741,  0.4694],\n",
       "       ...,\n",
       "       [ 0.38  ,  0.    ,  0.    , ...,  0.    ,  0.7367,  0.8229],\n",
       "       [ 2.9316,  0.8112,  0.    , ...,  3.038 ,  5.9459,  3.9284],\n",
       "       [10.4811,  8.7318,  9.3295, ...,  9.1684,  9.0692,  7.8961]])"
      ]
     },
     "execution_count": 114,
     "metadata": {},
     "output_type": "execute_result"
    },
    {
     "data": {
      "text/plain": [
       "(1000, 276)"
      ]
     },
     "execution_count": 114,
     "metadata": {},
     "output_type": "execute_result"
    }
   ],
   "source": [
    "selected_1000\n",
    "selected_1000.shape "
   ]
  },
  {
   "cell_type": "code",
   "execution_count": 180,
   "metadata": {
    "ExecuteTime": {
     "end_time": "2021-03-07T06:14:08.378414Z",
     "start_time": "2021-03-07T06:14:08.371196Z"
    },
    "hidden": true
   },
   "outputs": [],
   "source": [
    "from sklearn.cluster import KMeans\n",
    "def plot_his(labels):\n",
    "    k = len(set(labels))\n",
    "    plt.rc('font', family='Times New Roman')\n",
    "    fig, ax = plt.subplots() \n",
    "    sns.countplot(y=labels+1,edgecolor=sns.color_palette(\"dark\", 3), palette='Set3', ax=ax)\n",
    "    ax.set_ylabel('Cluster ID', fontsize=16)\n",
    "    ax.set_xlabel('Cluster Size', fontsize=16)\n",
    "\n",
    "    ax.tick_params(axis='y', labelsize=10)\n",
    "    ax.tick_params(axis='x', labelsize=10)\n",
    "    ax.set_title(f'Histogram of {k} Clusters', fontsize=18)\n",
    "    fig.set_size_inches(12, 8)\n",
    "\n",
    "    plt.savefig(f'{k}_Cluster.png',  # 文件名\n",
    "    \t\t\tformat='png',  # 图片格式\n",
    "    \t\t\tbbox_inches='tight',  # 图片排版\n",
    "    \t\t\tdpi=300  # 图片清晰度\n",
    "    \t\t\t)\n"
   ]
  },
  {
   "cell_type": "code",
   "execution_count": 181,
   "metadata": {
    "ExecuteTime": {
     "end_time": "2021-03-07T06:14:15.081821Z",
     "start_time": "2021-03-07T06:14:08.689205Z"
    },
    "hidden": true
   },
   "outputs": [
    {
     "data": {
      "text/plain": [
       "KMeans(algorithm='auto', copy_x=True, init='k-means++', max_iter=300,\n",
       "       n_clusters=10, n_init=10, n_jobs=None, precompute_distances='auto',\n",
       "       random_state=42, tol=0.0001, verbose=0)"
      ]
     },
     "execution_count": 181,
     "metadata": {},
     "output_type": "execute_result"
    },
    {
     "data": {
      "text/plain": [
       "KMeans(algorithm='auto', copy_x=True, init='k-means++', max_iter=300,\n",
       "       n_clusters=20, n_init=10, n_jobs=None, precompute_distances='auto',\n",
       "       random_state=42, tol=0.0001, verbose=0)"
      ]
     },
     "execution_count": 181,
     "metadata": {},
     "output_type": "execute_result"
    },
    {
     "data": {
      "text/plain": [
       "KMeans(algorithm='auto', copy_x=True, init='k-means++', max_iter=300,\n",
       "       n_clusters=50, n_init=10, n_jobs=None, precompute_distances='auto',\n",
       "       random_state=42, tol=0.0001, verbose=0)"
      ]
     },
     "execution_count": 181,
     "metadata": {},
     "output_type": "execute_result"
    },
    {
     "data": {
      "image/png": "[encoded data removed]",
      "text/plain": [
       "<Figure size 864x576 with 1 Axes>"
      ]
     },
     "metadata": {
      "needs_background": "light"
     },
     "output_type": "display_data"
    },
    {
     "data": {
      "image/png": "[encoded data removed]",
      "text/plain": [
       "<Figure size 864x576 with 1 Axes>"
      ]
     },
     "metadata": {
      "needs_background": "light"
     },
     "output_type": "display_data"
    },
    {
     "data": {
      "image/png": "[encoded data removed]",
      "text/plain": [
       "<Figure size 864x576 with 1 Axes>"
      ]
     },
     "metadata": {
      "needs_background": "light"
     },
     "output_type": "display_data"
    }
   ],
   "source": [
    "for K in [10, 20, 50]:\n",
    "    kmeans = KMeans(n_clusters=K, random_state=42)\n",
    "    kmeans.fit(selected_1000)\n",
    "    labels = kmeans.labels_\n",
    "    plot_his(labels)"
   ]
  },
  {
   "cell_type": "markdown",
   "metadata": {
    "heading_collapsed": true,
    "hidden": true
   },
   "source": [
    "## k=20"
   ]
  },
  {
   "cell_type": "code",
   "execution_count": 184,
   "metadata": {
    "ExecuteTime": {
     "end_time": "2021-03-07T06:17:48.228402Z",
     "start_time": "2021-03-07T06:17:47.830945Z"
    },
    "hidden": true
   },
   "outputs": [
    {
     "data": {
      "text/plain": [
       "KMeans(algorithm='auto', copy_x=True, init='k-means++', max_iter=300,\n",
       "       n_clusters=20, n_init=10, n_jobs=None, precompute_distances='auto',\n",
       "       random_state=42, tol=0.0001, verbose=0)"
      ]
     },
     "execution_count": 184,
     "metadata": {},
     "output_type": "execute_result"
    }
   ],
   "source": [
    "kmeans = KMeans(n_clusters=20, random_state=42)\n",
    "kmeans.fit(selected_1000)\n",
    "labels = kmeans.labels_"
   ]
  },
  {
   "cell_type": "code",
   "execution_count": 196,
   "metadata": {
    "ExecuteTime": {
     "end_time": "2021-03-07T06:43:19.471616Z",
     "start_time": "2021-03-07T06:43:19.265798Z"
    },
    "hidden": true,
    "scrolled": false
   },
   "outputs": [
    {
     "name": "stdout",
     "output_type": "stream",
     "text": [
      "Cluster 1, 56\n",
      "ARHGEF38, CAMK2A, TPO, GLRA2, LHFPL5, KLF17, AHSG, TREML1, C14orf180, TUBAL3, SLC1A6, ART4, TNFSF18, FADS6, C11orf34, TSKS, AQPEP, FAM129C, LOC389332, WFDC12, TCL1A, CTAG1B, AMY2A, TBX5, IGFN1, EPX, CIDEA, CCDC144C, ERVFRDE1, FOXG1, STAB2, HAND1, RERGL, GDNF, NOX1, KCNK4, GPR144, NLRP11, CDHR2, C15orf2, C1orf150, HCG22, PKLR, CELP, CCDC144NL, CSMD1, LOXHD1, NPAS4, EFCAB5, SH2D7, IFNE, ASPA, HTR2A, ALLC, SHH, GAGE12D, \n",
      "\n",
      "Cluster 2, 133\n",
      "C12orf5, PPAP2C, RGS14, LRRC45, DPP8, MARCH9, RAB40B, CTNS, KIF20B, KCTD11, NFKBIB, DAGLB, CHUK, PGM2L1, DCTN6, INTS9, ARHGAP12, ZHX3, NUAK1, MAP3K2, C9orf142, C12orf4, POLD3, LRRC20, UBR1, EGLN3, DSE, KCTD13, FN3K, ZSCAN29, GJB1, EPHX2, LOC729678, CD302, CCDC132, LMTK2, GPM6B, DTNB, PEX3, DAAM1, FLNC, GRAMD4, WDR62, SLC17A5, CCDC127, RCL1, HEXDC, OSBPL11, TADA1, CLDN10, NIN, SETMAR, RHOBTB3, ZKSCAN5, MYO9A, C1orf57, MAD1L1, FBXL18, FAM73A, STC1, BTRC, PTCD1, COG3, SNX7, SNX8, INPP4A, C17orf85, HIBCH, APBB1, TMEM231, SNX29, CRB3, SLC9A6, LRTOMT, IDE, CA5BP, CMBL, ARAP3, CCDC91, CWF19L2, ZNF37A, C10orf118, ZCCHC24, VTI1A, PLEKHM3, ATG4D, TMEM177, CCDC101, C1orf35, FAM127C, XPO4, PPIL3, C1orf31, TYW1, NFKBIL1, RCBTB1, FGFR1OP2, RFX7, CISH, RASSF2, BEX2, ACOT7, PFKFB2, SNAPC2, DMPK, MXD3, C7orf55, PLEKHG4B, OSTM1, ZNF628, MRPL36, DHX35, FTSJ2, MXD1, MYO5A, SIRT7, CXorf40B, GLDC, PORCN, LTV1, MINPP1, C17orf101, R3HCC1, CILP2, UIMC1, SKAP2, CBX2, FAM188A, LOC642852, SNX30, GLUD2, GEMIN8, SLC12A6, \n",
      "\n",
      "Cluster 3, 10\n",
      "CCDC80, CRYAB, OLFML3, EFEMP1, SERPINE1, AKAP12, IGF1, SLIT3, PDLIM3, PTGIS, \n",
      "\n",
      "Cluster 4, 34\n",
      "ATP2C2, MOSC2, RNF183, FOXA2, FAM110C, PLCH1, AGR2, TEKT2, ZNF204P, C9orf68, C6orf165, GTF2H2B, FA2H, C1orf133, AK7, TNFRSF10A, BARX2, FAM166B, AMY1A, SPATA18, LOC388242, C5orf49, DYDC2, LOC645431, OVGP1, FAM189A2, PCSK6, CNIH2, PGBD5, C1orf192, C17orf72, NME5, TP73, SPATA24, \n",
      "\n",
      "Cluster 5, 51\n",
      "CCDC160, ATP1A2, LRRC3B, ZNF781, LOC220594, TAL1, SCGB3A1, CORO6, FAM66D, KCNA6, MMP12, GTSF1, SCN2A, EFCAB1, MYOM3, WDR49, CCL13, LOC100130522, KIAA0319, SLC13A4, ANK1, TKTL1, ZBTB8B, PSIMCT-1, ANKRD29, LGI4, WDR16, FAM150B, SRMS, CPEB1, FLJ35024, FREM2, MESP2, FAM81B, ANKRD24, HPD, FAM83B, C21orf130, VWA3B, TMEM151A, C10orf105, C15orf34, CHST5, SLCO4C1, MORN3, KCNE1, C8orf34, GATA5, LRRC70, C17orf82, DCST2, \n",
      "\n",
      "Cluster 6, 102\n",
      "ADIPOR2, ITCH, ARFGEF2, UPK3B, ANKIB1, ZNF148, ADAM10, DNAJC4, THOC4, RALGAPB, NDRG3, BEX4, SNRPA, AGFG1, ARID5B, GSK3B, MRPS6, NF1, FH, PAFAH1B1, PPP1R14B, LAMB3, ELMO2, TSPAN9, TMEM205, DUS1L, SBDS, BMI1, MAPKAP1, HBP1, TCEB3, EIF1AX, EIF4G3, SNX1, AP3M1, KPNA1, ANXA4, EPHB2, FYTTD1, PPFIA1, CYB561, AAK1, FAM127B, PCYOX1, ARSD, ALCAM, GOLT1B, ANKFY1, KIAA0196, TBCD, KDM5A, XAB2, ARIH1, DDX21, TMEM106C, MANF, EIF3J, DNAJC5, FAM195B, VKORC1L1, ANAPC11, RBP1, UBE2G1, ATP6V1C1, RARRES2, TEX264, SIPA1L3, ANKRD13A, SH3PXD2A, HADH, PYCR2, ZC3H13, MTOR, GRLF1, CNOT8, FOXJ1, CYFIP2, UNC5B, UACA, C11orf31, FAM89B, PTPRU, RB1CC1, TBL2, MED29, AFTPH, PPP2CB, C9orf123, IPO8, GNA12, ARHGAP21, CASP2, GPR108, TMEM33, UFC1, FUT8, MRPL12, RPRD1B, MLL4, ERC1, C11orf68, SSH1, \n",
      "\n",
      "Cluster 7, 141\n",
      "CYTH3, RB1, ISOC1, CAMK2G, CRK, WDR81, MAP2K1, SEMA4A, MLLT10, GSR, PI4K2A, CSNK1G1, MFAP1, B3GAT3, FN3KRP, USP48, RABGEF1, RECQL, CSTF3, CLIP3, TMEM18, ZNF12, TBC1D23, TMED1, FAM69B, SASH1, USP8, CRCP, MRPL23, PLDN, VPS54, NSF, SRGAP1, ELP3, COG5, TRPM7, ZNF436, KIAA1033, WAPAL, NUMBL, KRTCAP3, SLC37A4, ENTPD1, ZFP106, GGCX, C2orf88, PLXDC2, FAM128A, TBC1D8, LUZP1, ANKRD27, STAT5A, C20orf117, BCL7A, HBS1L, TMEM173, STRA13, HAUS4, AGPS, TCEAL8, EPB49, MTHFR, VPS53, SNX4, C16orf57, CDK19, ASAP3, SECISBP2L, OSBPL8, RHOT1, INPP5K, RFC2, TSEN54, SLC29A2, CDT1, RBPMS, NLGN2, ITFG2, PREX1, TP53BP1, LOC441869, TTPAL, LPAR2, CLPX, C7orf28A, RBM34, GALNT10, C5orf25, GGPS1, EPB41, CTPS2, VPS36, PNP, MATN2, EVL, C14orf159, STK4, PMVK, TUSC3, D4S234E, C1orf38, DNAJC2, ZDHHC18, SHOC2, THOP1, HIF1AN, MIIP, PHF20, BOD1, USP42, PLSCR3, SGK269, PARD6B, CTDSPL2, TMEM134, RNF160, AQP5, ZNF76, FAM190B, MRPL55, EIF4E3, PIK3R4, PTPMT1, ZZEF1, TUT1, ZKSCAN1, KIAA0226, GGNBP2, SLC4A11, KPNA3, RBM16, TMEM19, AKAP11, HERC4, EXOC5, SIK2, ZNF770, SNAP23, REST, GLOD4, NRM, \n",
      "\n",
      "Cluster 8, 4\n",
      "BNC1, ANXA8, ANXA8L2, CALB2, \n",
      "\n",
      "Cluster 9, 35\n",
      "INMT, PRG4, ADH1B, GPR133, HAND2, CCL14, BCHE, TLL1, SEMA3D, ZNF365, FGF7, TCEAL7, MMRN1, SLC22A3, HOXA5, FAM38B, COL6A6, CACNA1G, ARSI, PLIN1, FAM180A, GDF6, MMP17, PLA2G2A, PRKG1, IP6K3, HSD17B6, ABCA8, AJAP1, LILRA2, FAM155A, CPA4, RELN, EEF1A2, FMO2, \n",
      "\n",
      "Cluster 10, 3\n",
      "ACTG1, ACTN4, P4HB, \n",
      "\n",
      "Cluster 11, 54\n",
      "TNFRSF8, HSPB7, FAM65C, TTBK2, ZYG11A, LYPD5, MYLPF, TUBBP5, CATSPERG, ABCA13, C2CD4D, EID3, SAMD13, TNFAIP8L3, MARK1, SUSD5, TMEM27, WNT9A, P2RX5, C10orf140, CAPN6, MARCH3, GCOM1, ATP1A3, CAMK1G, KCNAB1, MYCT1, C19orf76, OGN, NGFR, NRIP2, RASGRP4, GATA4, F2RL3, SHE, CSTA, KCNK13, C2orf16, PEX11G, FAM35B2, MATK, WFDC1, PCDHB8, MAK, RUNDC2A, PCDHB15, RPS6KL1, SOSTDC1, ASB9, CACNA2D4, GDA, SLC30A4, GAPT, RGPD4, \n",
      "\n",
      "Cluster 12, 76\n",
      "NEBL, AP4E1, C1orf115, ZNF780A, APOLD1, SH3RF2, CYP2R1, GPR27, SPDEF, INPP1, CCDC74A, STXBP5, RAC3, FBXO4, MARVELD2, ARMCX5, C8orf41, CCDC142, MAP3K10, LNX1, LPAR5, DDX26B, CCDC125, FAM63B, LRRC8E, ESM1, PI3, KLHL8, PPP1R14A, ZNF780B, FAM176A, RINL, RAD52, SLC6A12, DNAJC25, LRFN1, CDH23, SERAC1, TIE1, GALK2, CAPN13, KCTD7, ERCC6, LEMD1, ENTPD2, CHDH, KLHDC9, CX3CR1, TMEM45B, HSPBAP1, C18orf21, C9orf150, MAP4K1, TUBG2, C1orf88, GGT1, LRRC57, CHCHD4, FBXO30, FGFR4, CXorf40A, CHRNB1, ZNF175, SLC8A1, SLC7A11, FAAH2, PHKA1, APLN, RSC1A1, ST3GAL3, CLDN11, CYB5R2, SAAL1, FBXO10, SETDB2, ERCC4, \n",
      "\n",
      "Cluster 13, 51\n",
      "DUSP4, CDSN, LOC644538, FBXO16, KCNS1, EXOC6B, C1orf74, C10orf114, KCNJ8, C17orf91, MFNG, EMCN, C1QL1, ADAL, ABCC9, TIRAP, CACNA1C, B3GNTL1, LYVE1, PDE1B, SCN1B, PCDH17, ENPEP, IL34, SLC9A2, ZNF546, ZNF669, PTPRO, CLDN5, C1orf135, GFOD1, HS3ST3A1, PLD4, GNB1L, PEX7, PAQR5, ZNF383, EYA4, LIPT2, ADAT3, CPEB3, C19orf39, SYNC, FRAT1, FLJ45445, NEK3, SDPR, KATNAL1, CEP152, FAM46B, ALKBH8, \n",
      "\n",
      "Cluster 14, 19\n",
      "ARHGDIA, GSTP1, HNRNPA0, TOMM20, SFRS2, WNK1, ATP5G2, SF1, LRP1, IGF2, BTF3, SLC25A6, NONO, SYNGR2, ERGIC1, HNRNPC, TKT, NPM1, WASF2, \n",
      "\n",
      "Cluster 15, 40\n",
      "NBLA00301, SCRG1, KCNA1, MEOX2, LBP, ARHGDIG, PI16, CLEC2L, PTGFR, SLC35D3, EBF2, PDE1C, P2RY12, MGC12916, SBSN, XPNPEP2, FABP4, LOC100192378, PLAC9, FHL5, ISL1, LCTL, SLC1A7, FMN2, DHH, LOC728643, LPAR4, C3orf36, LOC145820, HTR7, SV2B, HRC, CPA1, SIGLECP3, SLC17A7, ADIPOQ, NKX2-5, TUSC5, HOXA2, SLC8A2, \n",
      "\n",
      "Cluster 16, 75\n",
      "TNP2, SSX8, C7orf33, GPR112, LCN6, FAM71C, SERPINA10, MYL7, LOC285045, ABCC12, SSTR5, SLC22A2, FAM58B, ARG1, GAGE1, C10orf113, HSD3B1, NPBWR2, TSPAN19, LOC150185, OR5B12, LOC100132831, C21orf84, PAGE1, ABCC13, LOC644669, C10orf50, TUBA3C, IL4, SPANXN1, C3orf79, PRDM9, HTR3C, SEPT14, LMAN1L, OR1J1, CCL16, GOLGA8DP, GAGE12J, EPB42, NAA11, HEATR7B2, INSL6, XAGE3, DHRS7C, MCART3P, LOC441177, ZSCAN5B, MS4A6E, COX7B2, SSX7, MMP20, DSCR10, GPR128, PAGE4, C17orf74, LOC146336, KRTAP10-8, LIPK, SFTPA1, SSX5, CES4, NCRNA00207, IFNA13, CMTM5, MIA2, RNASE8, OR5B2, LOC100133469, KIAA0408, SLC22A12, CASP14, SSX2, SSX1, SSX6, \n",
      "\n",
      "Cluster 17, 31\n",
      "IL1RAPL2, AQP2, LOC257358, LRIT3, ST8SIA6, TMEM211, LOC728606, C6orf141, PAK3, SH3GL2, AQP4, C4BPA, HABP2, TUBB4Q, RGAG1, SHC4, OR7E91P, SLURP1, C2orf70, DYNLRB2, CCDC60, IHH, C14orf72, C6orf127, TDRD10, HIPK4, C14orf184, GPR179, MS4A8B, CR1L, FBXL21, \n",
      "\n",
      "Cluster 18, 20\n",
      "DES, DOCK11, TMEM119, NEXN, SSC5D, CD36, ALDH1A3, LMOD1, ZFHX4, SVEP1, LRRN4, PODN, ALDH1A2, STEAP4, RGS4, COL8A1, COMP, AOC3, FAP, PTGER3, \n",
      "\n",
      "Cluster 19, 1\n",
      "PAX2, \n",
      "\n",
      "Cluster 20, 64\n",
      "TEX261, LMO4, KIF5B, PYGB, ZBTB4, PGRMC1, C20orf3, LRIG1, DAP, CTSA, ELAVL1, TJP1, EIF2S3, GLUD1, AKT2, GNS, LMAN2, PSMA1, TAB2, TMEM66, SEMA3F, SERINC1, CASC4, GPS1, PSMC4, KIF1C, PRDX5, TPD52L2, ZNF146, PHGDH, HINT1, DCTN1, RBMX, STRAP, ZNF358, ITGB8, SERINC3, SPOCK2, SEC24C, ATP2C1, KEAP1, SUPT5H, SLC3A2, HGS, CSNK1D, ACTR2, FDPS, SSRP1, C11orf2, ATF6B, MCM3, WDTC1, TMED9, CPNE1, STRN4, SAT1, LSM14A, VPS24, H2AFX, SGPL1, STAU1, ECH1, EIF3M, CLPTM1L, \n",
      "\n"
     ]
    }
   ],
   "source": [
    "for label in range(0, 20):\n",
    "    print(f'Cluster {label+1}, {sum(labels == label)}')\n",
    "    for gene in selected_1000_genes[labels == label]:\n",
    "        print(gene, end=', ')\n",
    "    print('\\n')"
   ]
  },
  {
   "cell_type": "code",
   "execution_count": 241,
   "metadata": {
    "ExecuteTime": {
     "end_time": "2021-03-07T08:03:06.117815Z",
     "start_time": "2021-03-07T08:03:06.109521Z"
    },
    "hidden": true
   },
   "outputs": [],
   "source": [
    "b=\"\"\"\n",
    "\t\n",
    "Compute Overlaps for Selected Genes\n",
    "Converted 51 submitted identifiers into 50 NCBI (Entrez) genes. click here for details.\n",
    "\n",
    "\n",
    "\n",
    "\n",
    "\n",
    "Collections\t# Overlaps Shown\t# Gene Sets in Collections\t# Genes in Comparison (n)\t# Genes in Universe (N)\n",
    "GO\t6\t10271\t50\t40071\n",
    "Click the gene set name to see the gene set page. Click the number of genes [in brackets] to download the list of genes.\n",
    "\n",
    "Color bar shading from light green to black, where lighter colors indicate more significant FDR q-values (< 0.05) and black indicates less significant FDR q-values (>= 0.05).\n",
    "\n",
    "Save to: Text (as Tab separated values; *.tsv)\n",
    "\n",
    "Gene Set Name [# Genes (K)]\tDescription\t# Genes in Overlap (k)\tk/K\tp-value \tFDR q-value \n",
    "GO_VOLTAGE_GATED_ION_CHANNEL_ACTIVITY [197]\tEnables the transmembrane transfer of an ion by a voltage-gated channel. An ion is an atom or group of atoms carrying an electric charge by virtue of having gained or lost one or more electrons. A voltage-gated channel is a channel whose open state is dependent on the voltage across the membrane in which it is embedded. [GOC:mtg_transport, ISBN:0198506732, ISBN:0815340729]\t5\t     \t4.83 e-6\t2.89 e-2\n",
    "GO_CIRCULATORY_SYSTEM_PROCESS [576]\tA organ system process carried out by any of the organs or tissues of the circulatory system. The circulatory system is an organ system that moves extracellular fluids to and from tissue within a multicellular organism. [GOC:mtg_cardio]\t7\t  \t7.15 e-6\t2.89 e-2\n",
    "GO_CATION_CHANNEL_COMPLEX [221]\tAn ion channel complex through which cations pass. [GOC:mah]\t5\t    \t8.44 e-6\t2.89 e-2\n",
    "GO_METAL_ION_TRANSMEMBRANE_TRANSPORTERTER_ACTIVITY [428]\tEnables the transfer of metal ions from one side of a membrane to the other. [GOC:ai]\t6\t  \t1.53 e-5\t3.93 e-2\n",
    "GO_ATP_ACTIVATED_INWARD_RECTIFIER_POTAOTASSIUM_CHANNEL_ACTIVITY [6]\tEnables the transmembrane transfer of a potassium ion by an inwardly-rectifying voltage-gated channel, where the inward rectification is due to a voltage-dependent block of the channel pore by ATP. An inwardly rectifying current-voltage relation is one where at any given driving force the inward flow of K+ ions exceeds the outward flow for the opposite driving force. [GOC:cb, GOC:mah]\t2\t            \t2.28 e-5\t4.69 e-2\n",
    "GO_VOLTAGE_GATED_CATION_CHANNEL_ACTIVIVITY [140]\tEnables the transmembrane transfer of a cation by a voltage-gated channel. A cation is a positively charged ion. A voltage-gated channel is a channel whose open state is dependent on the voltage across the membrane in which it is embedded. [GOC:mtg_transport, ISBN:0815340729]\t4\t     \t2.9 e-5\t4.97 e-2\n",
    "\n",
    "\n",
    "\n",
    "\n",
    "\"\"\""
   ]
  },
  {
   "cell_type": "code",
   "execution_count": 242,
   "metadata": {
    "ExecuteTime": {
     "end_time": "2021-03-07T08:03:07.386012Z",
     "start_time": "2021-03-07T08:03:07.380416Z"
    },
    "hidden": true
   },
   "outputs": [
    {
     "name": "stdout",
     "output_type": "stream",
     "text": [
      "GO\\_VOLTAGE\\_GATED\\_ION\\_CHANNEL\\_ACTIVITY\\\\ \n",
      "GO\\_CIRCULATORY\\_SYSTEM\\_PROCESS\\\\ \n",
      "GO\\_CATION\\_CHANNEL\\_COMPLEX\\\\ \n",
      "GO\\_METAL\\_ION\\_TRANSMEMBRANE\\_TRANSPORTERTER\\_ACTIVITY\\\\ \n",
      "GO\\_ATP\\_ACTIVATED\\_INWARD\\_RECTIFIER\\_POTAOTASSIUM\\_CHANNEL\\_ACTIVITY\\\\ \n",
      "GO\\_VOLTAGE\\_GATED\\_CATION\\_CHANNEL\\_ACTIVIVITY\\\\ \n"
     ]
    }
   ],
   "source": [
    "for i in b.split('\\n'):\n",
    "    for word in i.split():\n",
    "#         print(word)\n",
    "        if '_' in word and word.startswith('GO'):\n",
    "            temp = word.split('_')\n",
    "            temp = '\\_'.join(temp)\n",
    "            print(temp, end=\"\\\\\\ \\n\")"
   ]
  },
  {
   "cell_type": "code",
   "execution_count": null,
   "metadata": {
    "hidden": true
   },
   "outputs": [],
   "source": []
  },
  {
   "cell_type": "markdown",
   "metadata": {},
   "source": [
    "# Part c "
   ]
  },
  {
   "cell_type": "markdown",
   "metadata": {},
   "source": [
    "## KNN"
   ]
  },
  {
   "cell_type": "code",
   "execution_count": 313,
   "metadata": {
    "ExecuteTime": {
     "end_time": "2021-03-07T09:51:07.195013Z",
     "start_time": "2021-03-07T09:51:07.179245Z"
    }
   },
   "outputs": [],
   "source": [
    "# file Q3_1_2 \n",
    "\n",
    "from sklearn.neighbors import KNeighborsClassifier\n",
    "from sklearn.metrics import accuracy_score\n",
    "import numpy as np\n",
    "\n",
    "\n",
    "def main(data2, k, flag):\n",
    "    data2 = np.load(data2)\n",
    "\n",
    "    if flag:\n",
    "        train_data, train_label = data2['training_data'], data2[\n",
    "            'training_label']\n",
    "        test_data, test_label = data2['testing_data'], data2['testing_label']\n",
    "    else:\n",
    "        train_data, train_label = data2['training_data'][:, :1000], data2[\n",
    "            'training_label'][:1000]\n",
    "        test_data, test_label = data2['testing_data'][:, :1000], data2[\n",
    "            'testing_label'][:1000]\n",
    "\n",
    "    knn = KNeighborsClassifier(n_neighbors=k)\n",
    "    knn.fit(train_data, y=train_label)\n",
    "    pred = knn.predict(test_data)\n",
    "    return f'{accuracy_score(test_label, pred):e}'"
   ]
  },
  {
   "cell_type": "code",
   "execution_count": 271,
   "metadata": {
    "ExecuteTime": {
     "end_time": "2021-03-07T08:40:38.010214Z",
     "start_time": "2021-03-07T08:40:38.004460Z"
    }
   },
   "outputs": [],
   "source": [
    "from sklearn.neighbors import KNeighborsClassifier\n",
    "from sklearn.metrics import accuracy_score\n",
    "data2 = np.load('Data2.npz')"
   ]
  },
  {
   "cell_type": "code",
   "execution_count": 244,
   "metadata": {
    "ExecuteTime": {
     "end_time": "2021-03-07T08:15:23.931287Z",
     "start_time": "2021-03-07T08:15:23.915025Z"
    }
   },
   "outputs": [
    {
     "data": {
      "text/plain": [
       "['Gene_Name',\n",
       " 'P_value',\n",
       " 'training_data',\n",
       " 'training_label',\n",
       " 'testing_data',\n",
       " 'testing_label']"
      ]
     },
     "execution_count": 244,
     "metadata": {},
     "output_type": "execute_result"
    }
   ],
   "source": [
    "data2.files"
   ]
  },
  {
   "cell_type": "code",
   "execution_count": 249,
   "metadata": {
    "ExecuteTime": {
     "end_time": "2021-03-07T08:17:17.668109Z",
     "start_time": "2021-03-07T08:17:17.656139Z"
    }
   },
   "outputs": [
    {
     "data": {
      "text/plain": [
       "(20131,)"
      ]
     },
     "execution_count": 249,
     "metadata": {},
     "output_type": "execute_result"
    },
    {
     "data": {
      "text/plain": [
       "(20131,)"
      ]
     },
     "execution_count": 249,
     "metadata": {},
     "output_type": "execute_result"
    }
   ],
   "source": [
    "data2['Gene_Name'].shape \n",
    "data2['P_value'].shape "
   ]
  },
  {
   "cell_type": "code",
   "execution_count": 287,
   "metadata": {
    "ExecuteTime": {
     "end_time": "2021-03-07T09:04:59.112323Z",
     "start_time": "2021-03-07T09:04:59.035527Z"
    }
   },
   "outputs": [],
   "source": [
    "train_data = data2['training_data']\n",
    "train_label = data2['training_label']\n",
    "test_data = data2['testing_data']\n",
    "test_label = data2['testing_label']"
   ]
  },
  {
   "cell_type": "code",
   "execution_count": 275,
   "metadata": {
    "ExecuteTime": {
     "end_time": "2021-03-07T08:46:57.680732Z",
     "start_time": "2021-03-07T08:46:56.794036Z"
    }
   },
   "outputs": [
    {
     "data": {
      "text/plain": [
       "KNeighborsClassifier(algorithm='auto', leaf_size=30, metric='minkowski',\n",
       "                     metric_params=None, n_jobs=None, n_neighbors=1, p=2,\n",
       "                     weights='uniform')"
      ]
     },
     "execution_count": 275,
     "metadata": {},
     "output_type": "execute_result"
    },
    {
     "name": "stdout",
     "output_type": "stream",
     "text": [
      "1 & 6.216216e-01\\\\ \n",
      "\n"
     ]
    },
    {
     "data": {
      "text/plain": [
       "KNeighborsClassifier(algorithm='auto', leaf_size=30, metric='minkowski',\n",
       "                     metric_params=None, n_jobs=None, n_neighbors=3, p=2,\n",
       "                     weights='uniform')"
      ]
     },
     "execution_count": 275,
     "metadata": {},
     "output_type": "execute_result"
    },
    {
     "name": "stdout",
     "output_type": "stream",
     "text": [
      "3 & 6.486486e-01\\\\ \n",
      "\n"
     ]
    },
    {
     "data": {
      "text/plain": [
       "KNeighborsClassifier(algorithm='auto', leaf_size=30, metric='minkowski',\n",
       "                     metric_params=None, n_jobs=None, n_neighbors=5, p=2,\n",
       "                     weights='uniform')"
      ]
     },
     "execution_count": 275,
     "metadata": {},
     "output_type": "execute_result"
    },
    {
     "name": "stdout",
     "output_type": "stream",
     "text": [
      "5 & 6.216216e-01\\\\ \n",
      "\n"
     ]
    }
   ],
   "source": [
    "for k in [1,3,5]:\n",
    "    knn = KNeighborsClassifier(n_neighbors=k)\n",
    "    knn.fit(train_data, y=train_label)\n",
    "    pred  = knn.predict(test_data)\n",
    "    print(f'{k} & {accuracy_score(test_label, pred):e}\\\\\\ \\n')"
   ]
  },
  {
   "cell_type": "code",
   "execution_count": 283,
   "metadata": {
    "ExecuteTime": {
     "end_time": "2021-03-07T08:55:07.206697Z",
     "start_time": "2021-03-07T08:55:07.197069Z"
    }
   },
   "outputs": [],
   "source": [
    "# select 1000 genes \n",
    "\n",
    "number  = 1000 \n",
    "train_1000data, train_1000label =  train_data[:,:number], train_label[:number]\n",
    "test_1000data, test_1000label = test_data[:,:number], test_label[:number]"
   ]
  },
  {
   "cell_type": "code",
   "execution_count": 304,
   "metadata": {
    "ExecuteTime": {
     "end_time": "2021-03-07T09:10:35.084066Z",
     "start_time": "2021-03-07T09:10:34.954341Z"
    }
   },
   "outputs": [
    {
     "data": {
      "text/plain": [
       "KNeighborsClassifier(algorithm='auto', leaf_size=30, metric='minkowski',\n",
       "                     metric_params=None, n_jobs=None, n_neighbors=1, p=2,\n",
       "                     weights='uniform')"
      ]
     },
     "execution_count": 304,
     "metadata": {},
     "output_type": "execute_result"
    },
    {
     "name": "stdout",
     "output_type": "stream",
     "text": [
      "1 & 6.756757e-01\\\\ \n",
      "\n"
     ]
    },
    {
     "data": {
      "text/plain": [
       "KNeighborsClassifier(algorithm='auto', leaf_size=30, metric='minkowski',\n",
       "                     metric_params=None, n_jobs=None, n_neighbors=3, p=2,\n",
       "                     weights='uniform')"
      ]
     },
     "execution_count": 304,
     "metadata": {},
     "output_type": "execute_result"
    },
    {
     "name": "stdout",
     "output_type": "stream",
     "text": [
      "3 & 7.027027e-01\\\\ \n",
      "\n"
     ]
    },
    {
     "data": {
      "text/plain": [
       "KNeighborsClassifier(algorithm='auto', leaf_size=30, metric='minkowski',\n",
       "                     metric_params=None, n_jobs=None, n_neighbors=5, p=2,\n",
       "                     weights='uniform')"
      ]
     },
     "execution_count": 304,
     "metadata": {},
     "output_type": "execute_result"
    },
    {
     "name": "stdout",
     "output_type": "stream",
     "text": [
      "5 & 7.027027e-01\\\\ \n",
      "\n"
     ]
    }
   ],
   "source": [
    "for k in [1,3,5]:\n",
    "    knn = KNeighborsClassifier(n_neighbors=k)\n",
    "    knn.fit(train_1000data, y=train_1000label)\n",
    "    pred  = knn.predict(test_1000data)\n",
    "    print(f'{k} & {accuracy_score(test_1000label, pred):e}\\\\\\ \\n')"
   ]
  },
  {
   "cell_type": "markdown",
   "metadata": {},
   "source": [
    "## SVM"
   ]
  },
  {
   "cell_type": "code",
   "execution_count": 294,
   "metadata": {
    "ExecuteTime": {
     "end_time": "2021-03-07T09:07:28.310273Z",
     "start_time": "2021-03-07T09:07:28.307346Z"
    }
   },
   "outputs": [],
   "source": [
    "from sklearn.svm import LinearSVC"
   ]
  },
  {
   "cell_type": "code",
   "execution_count": 306,
   "metadata": {
    "ExecuteTime": {
     "end_time": "2021-03-07T09:11:04.732267Z",
     "start_time": "2021-03-07T09:11:04.725149Z"
    }
   },
   "outputs": [],
   "source": [
    "svm = LinearSVC(max_iter=5000, random_state=42)"
   ]
  },
  {
   "cell_type": "code",
   "execution_count": 307,
   "metadata": {
    "ExecuteTime": {
     "end_time": "2021-03-07T09:11:05.746348Z",
     "start_time": "2021-03-07T09:11:05.069106Z"
    }
   },
   "outputs": [
    {
     "data": {
      "text/plain": [
       "LinearSVC(C=1.0, class_weight=None, dual=True, fit_intercept=True,\n",
       "          intercept_scaling=1, loss='squared_hinge', max_iter=5000,\n",
       "          multi_class='ovr', penalty='l2', random_state=42, tol=0.0001,\n",
       "          verbose=0)"
      ]
     },
     "execution_count": 307,
     "metadata": {},
     "output_type": "execute_result"
    }
   ],
   "source": [
    "svm.fit(train_1000data, train_1000label)"
   ]
  },
  {
   "cell_type": "code",
   "execution_count": 310,
   "metadata": {
    "ExecuteTime": {
     "end_time": "2021-03-07T09:12:02.525898Z",
     "start_time": "2021-03-07T09:12:02.515014Z"
    }
   },
   "outputs": [
    {
     "name": "stdout",
     "output_type": "stream",
     "text": [
      "6.216216e-01\n"
     ]
    }
   ],
   "source": [
    "print(f'{accuracy_score(test_1000label, svm.predict(test_1000data)):e}' )"
   ]
  },
  {
   "cell_type": "code",
   "execution_count": 318,
   "metadata": {
    "ExecuteTime": {
     "end_time": "2021-03-07T09:59:57.271447Z",
     "start_time": "2021-03-07T09:59:57.185425Z"
    }
   },
   "outputs": [],
   "source": [
    "# load Q3_3 \n",
    "\n",
    "from sklearn.svm import LinearSVC\n",
    "from sklearn.metrics import accuracy_score\n",
    "import numpy as np\n",
    "\n",
    "\n",
    "\n",
    "def main(data2):\n",
    "    \"\"\" Conduct SVM for data2\n",
    "\n",
    "    :param data2: data2 file\n",
    "    :type data2: str\n",
    "    :return: accuracy of prediction\n",
    "    :rtype: str\n",
    "    \"\"\"\n",
    "    data2 = np.load(data2)\n",
    "    train_data, train_label = data2['training_data'][:, :1000], data2[\n",
    "        'training_label'][:1000]\n",
    "    test_data, test_label = data2['testing_data'][:, :1000], data2[\n",
    "        'testing_label'][:1000]\n",
    "\n",
    "    svm = LinearSVC(max_iter=5000, random_state=42)\n",
    "    svm.fit(train_data, train_label)\n",
    "\n",
    "    return f'{accuracy_score(test_label, svm.predict(test_data)):e}'"
   ]
  },
  {
   "cell_type": "code",
   "execution_count": null,
   "metadata": {},
   "outputs": [],
   "source": []
  }
 ],
 "metadata": {
  "hide_input": false,
  "kernelspec": {
   "display_name": "Python 3",
   "language": "python",
   "name": "python3"
  },
  "language_info": {
   "codemirror_mode": {
    "name": "ipython",
    "version": 3
   },
   "file_extension": ".py",
   "mimetype": "text/x-python",
   "name": "python",
   "nbconvert_exporter": "python",
   "pygments_lexer": "ipython3",
   "version": "3.7.7"
  },
  "toc": {
   "base_numbering": 1,
   "nav_menu": {},
   "number_sections": true,
   "sideBar": true,
   "skip_h1_title": false,
   "title_cell": "Table of Contents",
   "title_sidebar": "Contents",
   "toc_cell": false,
   "toc_position": {},
   "toc_section_display": true,
   "toc_window_display": false
  },
  "varInspector": {
   "cols": {
    "lenName": 16,
    "lenType": 16,
    "lenVar": 40
   },
   "kernels_config": {
    "python": {
     "delete_cmd_postfix": "",
     "delete_cmd_prefix": "del ",
     "library": "var_list.py",
     "varRefreshCmd": "print(var_dic_list())"
    },
    "r": {
     "delete_cmd_postfix": ") ",
     "delete_cmd_prefix": "rm(",
     "library": "var_list.r",
     "varRefreshCmd": "cat(var_dic_list()) "
    }
   },
   "types_to_exclude": [
    "module",
    "function",
    "builtin_function_or_method",
    "instance",
    "_Feature"
   ],
   "window_display": false
  }
 },
 "nbformat": 4,
 "nbformat_minor": 4
}
