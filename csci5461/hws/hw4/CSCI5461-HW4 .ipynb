{
 "cells": [
  {
   "cell_type": "markdown",
   "metadata": {
    "hide_input": false
   },
   "source": [
    "# Explore Data "
   ]
  },
  {
   "cell_type": "code",
   "execution_count": null,
   "metadata": {},
   "outputs": [],
   "source": []
  },
  {
   "cell_type": "code",
   "execution_count": 5,
   "metadata": {
    "ExecuteTime": {
     "end_time": "2021-04-19T03:15:50.363183Z",
     "start_time": "2021-04-19T03:15:50.346723Z"
    }
   },
   "outputs": [],
   "source": [
    "import os\n",
    "import sys\n",
    "import pandas as pd\n",
    "import numpy as np\n",
    "import seaborn as sns\n",
    "import matplotlib.pyplot as plt\n",
    "import matplotlib as mpl"
   ]
  },
  {
   "cell_type": "code",
   "execution_count": null,
   "metadata": {
    "ExecuteTime": {
     "end_time": "2021-04-19T03:04:48.665030Z",
     "start_time": "2021-04-19T03:04:48.652541Z"
    }
   },
   "outputs": [],
   "source": [
    " "
   ]
  },
  {
   "cell_type": "code",
   "execution_count": 6,
   "metadata": {
    "ExecuteTime": {
     "end_time": "2021-04-19T03:15:51.158212Z",
     "start_time": "2021-04-19T03:15:51.136944Z"
    }
   },
   "outputs": [],
   "source": [
    "ppi_data = np.load(f\"HW4_data/all_ppi_data.npz\")"
   ]
  },
  {
   "cell_type": "code",
   "execution_count": 7,
   "metadata": {
    "ExecuteTime": {
     "end_time": "2021-04-19T03:15:51.777522Z",
     "start_time": "2021-04-19T03:15:51.747591Z"
    }
   },
   "outputs": [
    {
     "name": "stdout",
     "output_type": "stream",
     "text": [
      "essential_genes ['LSR1' 'NME1' 'RPR1' ... 'YPR186C' 'YPR187W' 'YPR190C']\n",
      "gene_names ['YBR119W' 'YBR152W' 'YDL087C' ... 'YNR007C' 'YKR067W' 'YER125W']\n",
      "is_essential [0 1 1 ... 0 0 1]\n",
      "ppi_network [[0 0 0 ... 0 0 0]\n",
      " [0 0 0 ... 0 0 0]\n",
      " [0 0 0 ... 0 0 0]\n",
      " ...\n",
      " [0 0 0 ... 0 0 0]\n",
      " [0 0 0 ... 0 0 0]\n",
      " [0 0 0 ... 0 0 0]]\n"
     ]
    }
   ],
   "source": [
    "for i in ppi_data:\n",
    "    print(i, ppi_data[i])"
   ]
  },
  {
   "cell_type": "code",
   "execution_count": 8,
   "metadata": {
    "ExecuteTime": {
     "end_time": "2021-04-19T03:15:52.199163Z",
     "start_time": "2021-04-19T03:15:52.185877Z"
    }
   },
   "outputs": [],
   "source": [
    "ppi_network = ppi_data['ppi_network']\n",
    "gene_names = ppi_data['gene_names']\n",
    "is_essential = ppi_data['is_essential']\n",
    "essential_genes = ppi_data['essential_genes']"
   ]
  },
  {
   "cell_type": "code",
   "execution_count": 9,
   "metadata": {
    "ExecuteTime": {
     "end_time": "2021-04-19T03:15:53.256953Z",
     "start_time": "2021-04-19T03:15:53.242795Z"
    }
   },
   "outputs": [
    {
     "data": {
      "text/plain": [
       "(1430, 1430)"
      ]
     },
     "execution_count": 9,
     "metadata": {},
     "output_type": "execute_result"
    },
    {
     "data": {
      "text/plain": [
       "(1430,)"
      ]
     },
     "execution_count": 9,
     "metadata": {},
     "output_type": "execute_result"
    },
    {
     "data": {
      "text/plain": [
       "(1430,)"
      ]
     },
     "execution_count": 9,
     "metadata": {},
     "output_type": "execute_result"
    },
    {
     "data": {
      "text/plain": [
       "(1128,)"
      ]
     },
     "execution_count": 9,
     "metadata": {},
     "output_type": "execute_result"
    }
   ],
   "source": [
    "ppi_network.shape \n",
    "gene_names.shape \n",
    "is_essential.shape \n",
    "essential_genes.shape "
   ]
  },
  {
   "cell_type": "markdown",
   "metadata": {
    "ExecuteTime": {
     "end_time": "2021-04-18T03:37:06.314718Z",
     "start_time": "2021-04-18T03:37:06.304096Z"
    }
   },
   "source": [
    "# P 1 "
   ]
  },
  {
   "cell_type": "markdown",
   "metadata": {},
   "source": [
    "## a "
   ]
  },
  {
   "cell_type": "code",
   "execution_count": null,
   "metadata": {},
   "outputs": [],
   "source": []
  },
  {
   "cell_type": "code",
   "execution_count": 10,
   "metadata": {
    "ExecuteTime": {
     "end_time": "2021-04-19T03:15:56.854059Z",
     "start_time": "2021-04-19T03:15:56.784350Z"
    }
   },
   "outputs": [],
   "source": [
    "def plot_degree(plot_values, name='degree_freq'):\n",
    "\n",
    "    fig, axs = plt.subplots(1, 2)\n",
    "\n",
    "    axs = axs.flatten()\n",
    "\n",
    "    for ind, ax in enumerate(axs):\n",
    "\n",
    "        degree = plot_values[:, 0] if ind else np.log10(plot_values[:, 0])\n",
    "        freq = plot_values[:, 1] if ind else np.log10(plot_values[:, 1])\n",
    "        xlabel = 'Degree' if ind else 'Log Degree'\n",
    "        ylbael = 'Frequency' if ind else 'Log Frequency'\n",
    "        ax.plot(degree, freq, linewidth=2, color='r')\n",
    "\n",
    "        ax.set_xlabel(xlabel, fontsize=15)\n",
    "        ax.set_ylabel(ylbael, fontsize=15)\n",
    "\n",
    "        ax.tick_params(axis='y', labelsize=12)\n",
    "        ax.tick_params(axis='x', labelsize=12)\n",
    "\n",
    "    fig.set_size_inches(14, 6)\n",
    "\n",
    "    plt.savefig(f'{name}.png', format='png', bbox_inches='tight', dpi=300)\n",
    "\n",
    "\n",
    "def get_high(number, ppi_network, df):\n",
    "    high = df.sort_values(by='degree', ascending=False)[:number]\n",
    "    ind_high = high.index\n",
    "    gene_high = high.gene.values\n",
    "\n",
    "    interactions = ppi_network[np.ix_(ind_high, ind_high)].sum() / 2\n",
    "\n",
    "    return gene_high, interactions\n",
    "\n",
    "\n",
    "def get_cluster_coeff(gene, ppi_network, df):\n",
    "\n",
    "    ind = df[df.gene == gene].index.values[0]\n",
    "    indx = ppi_network[ind] == 1\n",
    "    supposed_interactions = (indx.sum() * (indx.sum() - 1)) / 2\n",
    "\n",
    "    if supposed_interactions == 0:\n",
    "        return 0\n",
    "\n",
    "    neibor_interactions = ppi_network[np.ix_(indx, indx)].sum() / 2\n",
    "\n",
    "    return neibor_interactions / supposed_interactions\n",
    "\n",
    "\n",
    "def plot_coeff(df, name='coeff_degree'):\n",
    "\n",
    "    fig, ax = plt.subplots()\n",
    "\n",
    "    df_temp = df.sort_values(by='coeff')\n",
    "\n",
    "    x = df_temp['coeff'].values\n",
    "    y = df_temp['degree'].values\n",
    "\n",
    "    xlabel, ylbael = 'Clustering Coefficient', 'Node Degree'\n",
    "\n",
    "    ax.plot(x, y, linewidth=2, color='navy')\n",
    "\n",
    "    ax.set_xlabel(xlabel, fontsize=15)\n",
    "    ax.set_ylabel(ylbael, fontsize=15)\n",
    "\n",
    "    ax.tick_params(axis='y', labelsize=12)\n",
    "    ax.tick_params(axis='x', labelsize=12)\n",
    "\n",
    "    fig.set_size_inches(14, 6)\n",
    "\n",
    "    plt.savefig(f'{name}.png', format='png', bbox_inches='tight', dpi=300)\n",
    "\n",
    "\n",
    "def p1_solution(ppi_network, gene_names, number=5):\n",
    "\n",
    "    np.fill_diagonal(ppi_network, 0)\n",
    "    degree = ppi_network.sum(axis=0)\n",
    "\n",
    "    df = pd.DataFrame({'gene': gene_names, 'degree': degree})\n",
    "\n",
    "    values_plot = (df.degree.value_counts().reset_index().sort_values(\n",
    "        by='index').to_numpy())\n",
    "\n",
    "    plot_degree(values_plot)\n",
    "\n",
    "    gene_high, interactions = get_high(number, ppi_network, df)\n",
    "\n",
    "    print((f'Proteins with the highest degrees: {gene_high}\\n'\n",
    "           f'Interactions: {interactions}'))\n",
    "\n",
    "    df['coeff'] = df.gene.apply(\n",
    "        lambda x: get_cluster_coeff(x, ppi_network, df))\n",
    "\n",
    "    plot_coeff(df)\n",
    "\n",
    "    return df"
   ]
  },
  {
   "cell_type": "markdown",
   "metadata": {},
   "source": [
    "## RUN "
   ]
  },
  {
   "cell_type": "code",
   "execution_count": 11,
   "metadata": {
    "ExecuteTime": {
     "end_time": "2021-04-19T03:15:59.836021Z",
     "start_time": "2021-04-19T03:15:59.826121Z"
    }
   },
   "outputs": [],
   "source": [
    "ppi_data = np.load(f\"HW4_data/all_ppi_data.npz\")\n",
    "\n",
    "ppi_network = ppi_data['ppi_network']"
   ]
  },
  {
   "cell_type": "code",
   "execution_count": 12,
   "metadata": {
    "ExecuteTime": {
     "end_time": "2021-04-19T03:16:00.286131Z",
     "start_time": "2021-04-19T03:16:00.278096Z"
    }
   },
   "outputs": [
    {
     "data": {
      "text/plain": [
       "0"
      ]
     },
     "execution_count": 12,
     "metadata": {},
     "output_type": "execute_result"
    }
   ],
   "source": [
    "ppi_network.diagonal().sum() "
   ]
  },
  {
   "cell_type": "code",
   "execution_count": 20,
   "metadata": {
    "ExecuteTime": {
     "end_time": "2021-04-19T04:33:25.354754Z",
     "start_time": "2021-04-19T04:33:25.063125Z"
    }
   },
   "outputs": [],
   "source": [
    "ppi_data = np.load(f\"HW4_data/ppi_network_human.npz\")\n",
    "\n",
    "ppi_network = ppi_data['ppi_network']\n",
    "gene_names = ppi_data['gene_names']\n",
    "\n"
   ]
  },
  {
   "cell_type": "code",
   "execution_count": 19,
   "metadata": {
    "ExecuteTime": {
     "end_time": "2021-04-19T04:33:17.409865Z",
     "start_time": "2021-04-19T04:33:17.154952Z"
    }
   },
   "outputs": [],
   "source": [
    "is_essential = ppi_data['is_essential']\n",
    "essential_genes = ppi_data['essential_genes']\n"
   ]
  },
  {
   "cell_type": "code",
   "execution_count": 21,
   "metadata": {
    "ExecuteTime": {
     "end_time": "2021-04-19T04:33:28.585813Z",
     "start_time": "2021-04-19T04:33:28.497082Z"
    }
   },
   "outputs": [],
   "source": [
    "np.fill_diagonal(ppi_network, 0)\n",
    "degree = ppi_network.sum(axis=0)\n",
    "df = pd.DataFrame({\"gene\": gene_names, \"degree\": degree})"
   ]
  },
  {
   "cell_type": "code",
   "execution_count": 27,
   "metadata": {
    "ExecuteTime": {
     "end_time": "2021-04-19T04:35:09.276608Z",
     "start_time": "2021-04-19T04:35:09.267409Z"
    },
    "scrolled": false
   },
   "outputs": [],
   "source": [
    "temp_degree = df.degree.value_counts().reset_index().sort_values(by=\"index\").to_numpy()\n",
    "temp_degree = temp_degree[temp_degree[:,0] > 0]\n",
    "all_nodes = temp_degree[:,1].sum() \n",
    "temp_degree[:, 1] = temp_degree[:,1]/all_nodes"
   ]
  },
  {
   "cell_type": "code",
   "execution_count": 31,
   "metadata": {
    "ExecuteTime": {
     "end_time": "2021-04-19T04:35:43.591264Z",
     "start_time": "2021-04-19T04:35:43.588126Z"
    }
   },
   "outputs": [],
   "source": []
  },
  {
   "cell_type": "code",
   "execution_count": 32,
   "metadata": {
    "ExecuteTime": {
     "end_time": "2021-04-19T04:36:08.550834Z",
     "start_time": "2021-04-19T04:36:08.544602Z"
    }
   },
   "outputs": [],
   "source": []
  },
  {
   "cell_type": "code",
   "execution_count": 39,
   "metadata": {
    "ExecuteTime": {
     "end_time": "2021-04-19T04:36:50.778454Z",
     "start_time": "2021-04-19T04:36:50.774890Z"
    }
   },
   "outputs": [],
   "source": []
  },
  {
   "cell_type": "code",
   "execution_count": 47,
   "metadata": {
    "ExecuteTime": {
     "end_time": "2021-04-19T04:39:58.315645Z",
     "start_time": "2021-04-19T04:39:58.301326Z"
    }
   },
   "outputs": [
    {
     "data": {
      "text/html": [
       "<div>\n",
       "<style scoped>\n",
       "    .dataframe tbody tr th:only-of-type {\n",
       "        vertical-align: middle;\n",
       "    }\n",
       "\n",
       "    .dataframe tbody tr th {\n",
       "        vertical-align: top;\n",
       "    }\n",
       "\n",
       "    .dataframe thead th {\n",
       "        text-align: right;\n",
       "    }\n",
       "</style>\n",
       "<table border=\"1\" class=\"dataframe\">\n",
       "  <thead>\n",
       "    <tr style=\"text-align: right;\">\n",
       "      <th></th>\n",
       "      <th>gene</th>\n",
       "      <th>degree</th>\n",
       "    </tr>\n",
       "  </thead>\n",
       "  <tbody>\n",
       "    <tr>\n",
       "      <th>241</th>\n",
       "      <td>ALDH1A1</td>\n",
       "      <td>0</td>\n",
       "    </tr>\n",
       "    <tr>\n",
       "      <th>771</th>\n",
       "      <td>AQP2</td>\n",
       "      <td>0</td>\n",
       "    </tr>\n",
       "    <tr>\n",
       "      <th>2600</th>\n",
       "      <td>SULT2A1</td>\n",
       "      <td>0</td>\n",
       "    </tr>\n",
       "    <tr>\n",
       "      <th>2610</th>\n",
       "      <td>ALAD</td>\n",
       "      <td>0</td>\n",
       "    </tr>\n",
       "    <tr>\n",
       "      <th>3119</th>\n",
       "      <td>GLO1</td>\n",
       "      <td>0</td>\n",
       "    </tr>\n",
       "    <tr>\n",
       "      <th>...</th>\n",
       "      <td>...</td>\n",
       "      <td>...</td>\n",
       "    </tr>\n",
       "    <tr>\n",
       "      <th>8475</th>\n",
       "      <td>CTH</td>\n",
       "      <td>0</td>\n",
       "    </tr>\n",
       "    <tr>\n",
       "      <th>8493</th>\n",
       "      <td>-</td>\n",
       "      <td>0</td>\n",
       "    </tr>\n",
       "    <tr>\n",
       "      <th>8871</th>\n",
       "      <td>THRSP</td>\n",
       "      <td>0</td>\n",
       "    </tr>\n",
       "    <tr>\n",
       "      <th>8899</th>\n",
       "      <td>QDPR</td>\n",
       "      <td>0</td>\n",
       "    </tr>\n",
       "    <tr>\n",
       "      <th>8900</th>\n",
       "      <td>PAH</td>\n",
       "      <td>0</td>\n",
       "    </tr>\n",
       "  </tbody>\n",
       "</table>\n",
       "<p>163 rows × 2 columns</p>\n",
       "</div>"
      ],
      "text/plain": [
       "         gene  degree\n",
       "241   ALDH1A1       0\n",
       "771      AQP2       0\n",
       "2600  SULT2A1       0\n",
       "2610     ALAD       0\n",
       "3119     GLO1       0\n",
       "...       ...     ...\n",
       "8475      CTH       0\n",
       "8493        -       0\n",
       "8871    THRSP       0\n",
       "8899     QDPR       0\n",
       "8900      PAH       0\n",
       "\n",
       "[163 rows x 2 columns]"
      ]
     },
     "execution_count": 47,
     "metadata": {},
     "output_type": "execute_result"
    }
   ],
   "source": []
  },
  {
   "cell_type": "code",
   "execution_count": null,
   "metadata": {},
   "outputs": [],
   "source": []
  },
  {
   "cell_type": "code",
   "execution_count": 45,
   "metadata": {
    "ExecuteTime": {
     "end_time": "2021-04-19T04:37:45.893388Z",
     "start_time": "2021-04-19T04:37:44.404541Z"
    }
   },
   "outputs": [
    {
     "name": "stdout",
     "output_type": "stream",
     "text": [
      "0\n"
     ]
    },
    {
     "data": {
      "text/plain": [
       "(array(['YWHAG', 'TP53', 'EP300', 'CREBBP', 'SRC'], dtype=object), 5.0)"
      ]
     },
     "execution_count": 45,
     "metadata": {},
     "output_type": "execute_result"
    },
    {
     "data": {
      "image/png": "[encoded data removed]",
      "text/plain": [
       "<Figure size 1008x432 with 2 Axes>"
      ]
     },
     "metadata": {
      "needs_background": "light"
     },
     "output_type": "display_data"
    }
   ],
   "source": [
    "\n",
    "\n",
    "# values_plot = (\n",
    "#     df.degree.value_counts().reset_index().sort_values(by=\"index\").to_numpy()\n",
    "    \n",
    "# )\n",
    "\n",
    "values_plot = temp_degree\n",
    "# remove isolated proteins\n",
    "values_plot = values_plot[values_plot[:, 0] > 0]\n",
    "print(sum(values_plot[:, 0] == 0))\n",
    "plot_degree(values_plot)\n",
    "\n",
    "gene_high, interactions = get_high(5, ppi_network, df)\n",
    "gene_high, interactions "
   ]
  },
  {
   "cell_type": "code",
   "execution_count": 89,
   "metadata": {
    "ExecuteTime": {
     "end_time": "2021-04-18T09:26:18.539615Z",
     "start_time": "2021-04-18T09:26:14.658819Z"
    }
   },
   "outputs": [
    {
     "name": "stdout",
     "output_type": "stream",
     "text": [
      "Proteins with the highest degrees: ['YCR057C' 'YBR009C' 'YDL055C' 'YBR247C' 'YHR052W']\n",
      "Interactions: 1.0\n"
     ]
    },
    {
     "data": {
      "image/png": "[encoded data removed]",
      "text/plain": [
       "<Figure size 1008x432 with 2 Axes>"
      ]
     },
     "metadata": {
      "needs_background": "light"
     },
     "output_type": "display_data"
    },
    {
     "data": {
      "image/png": "[encoded data removed]",
      "text/plain": [
       "<Figure size 1008x432 with 1 Axes>"
      ]
     },
     "metadata": {
      "needs_background": "light"
     },
     "output_type": "display_data"
    }
   ],
   "source": [
    "df = p1_solution(ppi_network, gene_names)"
   ]
  },
  {
   "cell_type": "code",
   "execution_count": 90,
   "metadata": {
    "ExecuteTime": {
     "end_time": "2021-04-18T09:26:20.094583Z",
     "start_time": "2021-04-18T09:26:20.072982Z"
    }
   },
   "outputs": [
    {
     "data": {
      "text/html": [
       "<div>\n",
       "<style scoped>\n",
       "    .dataframe tbody tr th:only-of-type {\n",
       "        vertical-align: middle;\n",
       "    }\n",
       "\n",
       "    .dataframe tbody tr th {\n",
       "        vertical-align: top;\n",
       "    }\n",
       "\n",
       "    .dataframe thead th {\n",
       "        text-align: right;\n",
       "    }\n",
       "</style>\n",
       "<table border=\"1\" class=\"dataframe\">\n",
       "  <thead>\n",
       "    <tr style=\"text-align: right;\">\n",
       "      <th></th>\n",
       "      <th>gene</th>\n",
       "      <th>degree</th>\n",
       "      <th>coeff</th>\n",
       "    </tr>\n",
       "  </thead>\n",
       "  <tbody>\n",
       "    <tr>\n",
       "      <th>0</th>\n",
       "      <td>YBR119W</td>\n",
       "      <td>11</td>\n",
       "      <td>0.909091</td>\n",
       "    </tr>\n",
       "    <tr>\n",
       "      <th>1</th>\n",
       "      <td>YBR152W</td>\n",
       "      <td>19</td>\n",
       "      <td>0.444444</td>\n",
       "    </tr>\n",
       "    <tr>\n",
       "      <th>2</th>\n",
       "      <td>YDL087C</td>\n",
       "      <td>22</td>\n",
       "      <td>0.463203</td>\n",
       "    </tr>\n",
       "    <tr>\n",
       "      <th>3</th>\n",
       "      <td>YDL175C</td>\n",
       "      <td>5</td>\n",
       "      <td>0.700000</td>\n",
       "    </tr>\n",
       "    <tr>\n",
       "      <th>4</th>\n",
       "      <td>YDR235W</td>\n",
       "      <td>11</td>\n",
       "      <td>0.963636</td>\n",
       "    </tr>\n",
       "    <tr>\n",
       "      <th>...</th>\n",
       "      <td>...</td>\n",
       "      <td>...</td>\n",
       "      <td>...</td>\n",
       "    </tr>\n",
       "    <tr>\n",
       "      <th>1425</th>\n",
       "      <td>YLR386W</td>\n",
       "      <td>1</td>\n",
       "      <td>0.000000</td>\n",
       "    </tr>\n",
       "    <tr>\n",
       "      <th>1426</th>\n",
       "      <td>YOR069W</td>\n",
       "      <td>1</td>\n",
       "      <td>0.000000</td>\n",
       "    </tr>\n",
       "    <tr>\n",
       "      <th>1427</th>\n",
       "      <td>YNR007C</td>\n",
       "      <td>1</td>\n",
       "      <td>0.000000</td>\n",
       "    </tr>\n",
       "    <tr>\n",
       "      <th>1428</th>\n",
       "      <td>YKR067W</td>\n",
       "      <td>1</td>\n",
       "      <td>0.000000</td>\n",
       "    </tr>\n",
       "    <tr>\n",
       "      <th>1429</th>\n",
       "      <td>YER125W</td>\n",
       "      <td>1</td>\n",
       "      <td>0.000000</td>\n",
       "    </tr>\n",
       "  </tbody>\n",
       "</table>\n",
       "<p>1430 rows × 3 columns</p>\n",
       "</div>"
      ],
      "text/plain": [
       "         gene  degree     coeff\n",
       "0     YBR119W      11  0.909091\n",
       "1     YBR152W      19  0.444444\n",
       "2     YDL087C      22  0.463203\n",
       "3     YDL175C       5  0.700000\n",
       "4     YDR235W      11  0.963636\n",
       "...       ...     ...       ...\n",
       "1425  YLR386W       1  0.000000\n",
       "1426  YOR069W       1  0.000000\n",
       "1427  YNR007C       1  0.000000\n",
       "1428  YKR067W       1  0.000000\n",
       "1429  YER125W       1  0.000000\n",
       "\n",
       "[1430 rows x 3 columns]"
      ]
     },
     "execution_count": 90,
     "metadata": {},
     "output_type": "execute_result"
    }
   ],
   "source": [
    "df"
   ]
  },
  {
   "cell_type": "code",
   "execution_count": 65,
   "metadata": {
    "ExecuteTime": {
     "end_time": "2021-04-18T09:10:18.135670Z",
     "start_time": "2021-04-18T09:10:18.128380Z"
    }
   },
   "outputs": [],
   "source": [
    "df['isessential']  = is_essential"
   ]
  },
  {
   "cell_type": "code",
   "execution_count": 66,
   "metadata": {
    "ExecuteTime": {
     "end_time": "2021-04-18T09:10:23.186555Z",
     "start_time": "2021-04-18T09:10:23.172243Z"
    }
   },
   "outputs": [
    {
     "data": {
      "text/html": [
       "<div>\n",
       "<style scoped>\n",
       "    .dataframe tbody tr th:only-of-type {\n",
       "        vertical-align: middle;\n",
       "    }\n",
       "\n",
       "    .dataframe tbody tr th {\n",
       "        vertical-align: top;\n",
       "    }\n",
       "\n",
       "    .dataframe thead th {\n",
       "        text-align: right;\n",
       "    }\n",
       "</style>\n",
       "<table border=\"1\" class=\"dataframe\">\n",
       "  <thead>\n",
       "    <tr style=\"text-align: right;\">\n",
       "      <th></th>\n",
       "      <th>gene</th>\n",
       "      <th>degree</th>\n",
       "      <th>coeff</th>\n",
       "      <th>isessential</th>\n",
       "    </tr>\n",
       "  </thead>\n",
       "  <tbody>\n",
       "    <tr>\n",
       "      <th>0</th>\n",
       "      <td>YBR119W</td>\n",
       "      <td>11</td>\n",
       "      <td>0.909091</td>\n",
       "      <td>0</td>\n",
       "    </tr>\n",
       "    <tr>\n",
       "      <th>1</th>\n",
       "      <td>YBR152W</td>\n",
       "      <td>19</td>\n",
       "      <td>0.444444</td>\n",
       "      <td>1</td>\n",
       "    </tr>\n",
       "    <tr>\n",
       "      <th>2</th>\n",
       "      <td>YDL087C</td>\n",
       "      <td>22</td>\n",
       "      <td>0.463203</td>\n",
       "      <td>1</td>\n",
       "    </tr>\n",
       "    <tr>\n",
       "      <th>3</th>\n",
       "      <td>YDL175C</td>\n",
       "      <td>5</td>\n",
       "      <td>0.700000</td>\n",
       "      <td>0</td>\n",
       "    </tr>\n",
       "    <tr>\n",
       "      <th>4</th>\n",
       "      <td>YDR235W</td>\n",
       "      <td>11</td>\n",
       "      <td>0.963636</td>\n",
       "      <td>1</td>\n",
       "    </tr>\n",
       "    <tr>\n",
       "      <th>...</th>\n",
       "      <td>...</td>\n",
       "      <td>...</td>\n",
       "      <td>...</td>\n",
       "      <td>...</td>\n",
       "    </tr>\n",
       "    <tr>\n",
       "      <th>1425</th>\n",
       "      <td>YLR386W</td>\n",
       "      <td>1</td>\n",
       "      <td>0.000000</td>\n",
       "      <td>0</td>\n",
       "    </tr>\n",
       "    <tr>\n",
       "      <th>1426</th>\n",
       "      <td>YOR069W</td>\n",
       "      <td>1</td>\n",
       "      <td>0.000000</td>\n",
       "      <td>0</td>\n",
       "    </tr>\n",
       "    <tr>\n",
       "      <th>1427</th>\n",
       "      <td>YNR007C</td>\n",
       "      <td>1</td>\n",
       "      <td>0.000000</td>\n",
       "      <td>0</td>\n",
       "    </tr>\n",
       "    <tr>\n",
       "      <th>1428</th>\n",
       "      <td>YKR067W</td>\n",
       "      <td>1</td>\n",
       "      <td>0.000000</td>\n",
       "      <td>0</td>\n",
       "    </tr>\n",
       "    <tr>\n",
       "      <th>1429</th>\n",
       "      <td>YER125W</td>\n",
       "      <td>1</td>\n",
       "      <td>0.000000</td>\n",
       "      <td>1</td>\n",
       "    </tr>\n",
       "  </tbody>\n",
       "</table>\n",
       "<p>1430 rows × 4 columns</p>\n",
       "</div>"
      ],
      "text/plain": [
       "         gene  degree     coeff  isessential\n",
       "0     YBR119W      11  0.909091            0\n",
       "1     YBR152W      19  0.444444            1\n",
       "2     YDL087C      22  0.463203            1\n",
       "3     YDL175C       5  0.700000            0\n",
       "4     YDR235W      11  0.963636            1\n",
       "...       ...     ...       ...          ...\n",
       "1425  YLR386W       1  0.000000            0\n",
       "1426  YOR069W       1  0.000000            0\n",
       "1427  YNR007C       1  0.000000            0\n",
       "1428  YKR067W       1  0.000000            0\n",
       "1429  YER125W       1  0.000000            1\n",
       "\n",
       "[1430 rows x 4 columns]"
      ]
     },
     "execution_count": 66,
     "metadata": {},
     "output_type": "execute_result"
    }
   ],
   "source": [
    "df "
   ]
  },
  {
   "cell_type": "code",
   "execution_count": 31,
   "metadata": {
    "ExecuteTime": {
     "end_time": "2021-04-18T09:40:02.042381Z",
     "start_time": "2021-04-18T09:40:02.036954Z"
    }
   },
   "outputs": [],
   "source": [
    "np.fill_diagonal?"
   ]
  },
  {
   "cell_type": "code",
   "execution_count": 67,
   "metadata": {
    "ExecuteTime": {
     "end_time": "2021-04-18T09:10:34.595600Z",
     "start_time": "2021-04-18T09:10:34.579696Z"
    }
   },
   "outputs": [],
   "source": [
    "plot_values = (df.degree.value_counts()\n",
    "     .reset_index()\n",
    "     .sort_values(by = 'index')\n",
    "     .to_numpy())"
   ]
  },
  {
   "cell_type": "code",
   "execution_count": 68,
   "metadata": {
    "ExecuteTime": {
     "end_time": "2021-04-18T09:10:38.064343Z",
     "start_time": "2021-04-18T09:10:36.348018Z"
    }
   },
   "outputs": [
    {
     "data": {
      "text/plain": [
       "[<matplotlib.lines.Line2D at 0x7f9784cb7310>]"
      ]
     },
     "execution_count": 68,
     "metadata": {},
     "output_type": "execute_result"
    },
    {
     "data": {
      "text/plain": [
       "Text(0.5, 0, 'Log Degree')"
      ]
     },
     "execution_count": 68,
     "metadata": {},
     "output_type": "execute_result"
    },
    {
     "data": {
      "text/plain": [
       "Text(0, 0.5, 'Log Frequency')"
      ]
     },
     "execution_count": 68,
     "metadata": {},
     "output_type": "execute_result"
    },
    {
     "data": {
      "text/plain": [
       "[<matplotlib.lines.Line2D at 0x7f9784502e50>]"
      ]
     },
     "execution_count": 68,
     "metadata": {},
     "output_type": "execute_result"
    },
    {
     "data": {
      "text/plain": [
       "Text(0.5, 0, 'Degree')"
      ]
     },
     "execution_count": 68,
     "metadata": {},
     "output_type": "execute_result"
    },
    {
     "data": {
      "text/plain": [
       "Text(0, 0.5, 'Frequency')"
      ]
     },
     "execution_count": 68,
     "metadata": {},
     "output_type": "execute_result"
    },
    {
     "data": {
      "image/png": "[encoded data removed]",
      "text/plain": [
       "<Figure size 1008x432 with 2 Axes>"
      ]
     },
     "metadata": {
      "needs_background": "light"
     },
     "output_type": "display_data"
    }
   ],
   "source": [
    "plt.rc('font', family='Times New Roman')\n",
    "\n",
    "fig, axs = plt.subplots(1,2)\n",
    "\n",
    "axs = axs.flatten() \n",
    "\n",
    "for ind, ax in enumerate(axs): \n",
    "\n",
    "    degree = plot_values[:,0] if ind else np.log10(plot_values[:,0])\n",
    "    freq = plot_values[:,1] if ind else np.log10(plot_values[:,1])\n",
    "    xlabel = 'Degree' if ind else 'Log Degree'\n",
    "    ylbael = 'Frequency' if ind else 'Log Frequency'\n",
    "    ax.plot(degree, freq, linewidth=2, color='r')\n",
    "\n",
    "    ax.set_xlabel(xlabel, fontsize=15)\n",
    "    ax.set_ylabel(ylbael, fontsize=15)\n",
    "\n",
    "    ax.tick_params(axis='y', labelsize=12)\n",
    "    ax.tick_params(axis='x', labelsize=12)\n",
    "\n",
    "\n",
    "\n",
    "fig.set_size_inches(14, 6)\n",
    "\n",
    "plt.savefig(f'degree_frequency.png',  \n",
    "\t\t\tformat='png',  \n",
    "\t\t\tbbox_inches='tight',  \n",
    "\t\t\tdpi=300  \n",
    "\t\t\t)\n"
   ]
  },
  {
   "cell_type": "markdown",
   "metadata": {},
   "source": [
    "### highest 5 "
   ]
  },
  {
   "cell_type": "code",
   "execution_count": 69,
   "metadata": {
    "ExecuteTime": {
     "end_time": "2021-04-18T09:10:45.220444Z",
     "start_time": "2021-04-18T09:10:45.213989Z"
    }
   },
   "outputs": [],
   "source": [
    "high5 = df.sort_values(by='degree',ascending=False)[:5]\n",
    "ind_high5 = high5.index \n",
    "gene_high5 = high5.gene.values "
   ]
  },
  {
   "cell_type": "code",
   "execution_count": 70,
   "metadata": {
    "ExecuteTime": {
     "end_time": "2021-04-18T09:10:45.482508Z",
     "start_time": "2021-04-18T09:10:45.473772Z"
    }
   },
   "outputs": [
    {
     "data": {
      "text/plain": [
       "array(['YCR057C', 'YBR009C', 'YDL055C', 'YBR247C', 'YHR052W'],\n",
       "      dtype=object)"
      ]
     },
     "execution_count": 70,
     "metadata": {},
     "output_type": "execute_result"
    }
   ],
   "source": [
    "gene_high5"
   ]
  },
  {
   "cell_type": "code",
   "execution_count": 100,
   "metadata": {
    "ExecuteTime": {
     "end_time": "2021-04-18T06:05:17.742453Z",
     "start_time": "2021-04-18T06:05:17.735957Z"
    }
   },
   "outputs": [
    {
     "data": {
      "text/plain": [
       "array([[0, 0, 0, 1, 0],\n",
       "       [0, 0, 0, 0, 0],\n",
       "       [0, 0, 0, 0, 0],\n",
       "       [1, 0, 0, 0, 0],\n",
       "       [0, 0, 0, 0, 0]], dtype=uint8)"
      ]
     },
     "execution_count": 100,
     "metadata": {},
     "output_type": "execute_result"
    }
   ],
   "source": [
    "# only 1 interaction \n",
    "ppi_network[np.ix_(ind_high5, ind_high5)]\n"
   ]
  },
  {
   "cell_type": "markdown",
   "metadata": {},
   "source": [
    "## b "
   ]
  },
  {
   "cell_type": "code",
   "execution_count": 71,
   "metadata": {
    "ExecuteTime": {
     "end_time": "2021-04-18T09:10:48.202197Z",
     "start_time": "2021-04-18T09:10:48.188492Z"
    }
   },
   "outputs": [
    {
     "data": {
      "text/html": [
       "<div>\n",
       "<style scoped>\n",
       "    .dataframe tbody tr th:only-of-type {\n",
       "        vertical-align: middle;\n",
       "    }\n",
       "\n",
       "    .dataframe tbody tr th {\n",
       "        vertical-align: top;\n",
       "    }\n",
       "\n",
       "    .dataframe thead th {\n",
       "        text-align: right;\n",
       "    }\n",
       "</style>\n",
       "<table border=\"1\" class=\"dataframe\">\n",
       "  <thead>\n",
       "    <tr style=\"text-align: right;\">\n",
       "      <th></th>\n",
       "      <th>gene</th>\n",
       "      <th>degree</th>\n",
       "      <th>coeff</th>\n",
       "      <th>isessential</th>\n",
       "    </tr>\n",
       "  </thead>\n",
       "  <tbody>\n",
       "    <tr>\n",
       "      <th>0</th>\n",
       "      <td>YBR119W</td>\n",
       "      <td>11</td>\n",
       "      <td>0.909091</td>\n",
       "      <td>0</td>\n",
       "    </tr>\n",
       "    <tr>\n",
       "      <th>1</th>\n",
       "      <td>YBR152W</td>\n",
       "      <td>19</td>\n",
       "      <td>0.444444</td>\n",
       "      <td>1</td>\n",
       "    </tr>\n",
       "    <tr>\n",
       "      <th>2</th>\n",
       "      <td>YDL087C</td>\n",
       "      <td>22</td>\n",
       "      <td>0.463203</td>\n",
       "      <td>1</td>\n",
       "    </tr>\n",
       "    <tr>\n",
       "      <th>3</th>\n",
       "      <td>YDL175C</td>\n",
       "      <td>5</td>\n",
       "      <td>0.700000</td>\n",
       "      <td>0</td>\n",
       "    </tr>\n",
       "    <tr>\n",
       "      <th>4</th>\n",
       "      <td>YDR235W</td>\n",
       "      <td>11</td>\n",
       "      <td>0.963636</td>\n",
       "      <td>1</td>\n",
       "    </tr>\n",
       "    <tr>\n",
       "      <th>...</th>\n",
       "      <td>...</td>\n",
       "      <td>...</td>\n",
       "      <td>...</td>\n",
       "      <td>...</td>\n",
       "    </tr>\n",
       "    <tr>\n",
       "      <th>1425</th>\n",
       "      <td>YLR386W</td>\n",
       "      <td>1</td>\n",
       "      <td>0.000000</td>\n",
       "      <td>0</td>\n",
       "    </tr>\n",
       "    <tr>\n",
       "      <th>1426</th>\n",
       "      <td>YOR069W</td>\n",
       "      <td>1</td>\n",
       "      <td>0.000000</td>\n",
       "      <td>0</td>\n",
       "    </tr>\n",
       "    <tr>\n",
       "      <th>1427</th>\n",
       "      <td>YNR007C</td>\n",
       "      <td>1</td>\n",
       "      <td>0.000000</td>\n",
       "      <td>0</td>\n",
       "    </tr>\n",
       "    <tr>\n",
       "      <th>1428</th>\n",
       "      <td>YKR067W</td>\n",
       "      <td>1</td>\n",
       "      <td>0.000000</td>\n",
       "      <td>0</td>\n",
       "    </tr>\n",
       "    <tr>\n",
       "      <th>1429</th>\n",
       "      <td>YER125W</td>\n",
       "      <td>1</td>\n",
       "      <td>0.000000</td>\n",
       "      <td>1</td>\n",
       "    </tr>\n",
       "  </tbody>\n",
       "</table>\n",
       "<p>1430 rows × 4 columns</p>\n",
       "</div>"
      ],
      "text/plain": [
       "         gene  degree     coeff  isessential\n",
       "0     YBR119W      11  0.909091            0\n",
       "1     YBR152W      19  0.444444            1\n",
       "2     YDL087C      22  0.463203            1\n",
       "3     YDL175C       5  0.700000            0\n",
       "4     YDR235W      11  0.963636            1\n",
       "...       ...     ...       ...          ...\n",
       "1425  YLR386W       1  0.000000            0\n",
       "1426  YOR069W       1  0.000000            0\n",
       "1427  YNR007C       1  0.000000            0\n",
       "1428  YKR067W       1  0.000000            0\n",
       "1429  YER125W       1  0.000000            1\n",
       "\n",
       "[1430 rows x 4 columns]"
      ]
     },
     "execution_count": 71,
     "metadata": {},
     "output_type": "execute_result"
    }
   ],
   "source": [
    "df "
   ]
  },
  {
   "cell_type": "code",
   "execution_count": 138,
   "metadata": {
    "ExecuteTime": {
     "end_time": "2021-04-18T06:38:53.639767Z",
     "start_time": "2021-04-18T06:38:53.635218Z"
    }
   },
   "outputs": [],
   "source": [
    "def get_cluster_coeff(gene): \n",
    "    ind= df[df.gene == gene].index.values[0]\n",
    "    indx = ppi_network[ind] == 1 \n",
    "    return ppi_network[np.ix_(indx, indx)].sum()/2"
   ]
  },
  {
   "cell_type": "code",
   "execution_count": 142,
   "metadata": {
    "ExecuteTime": {
     "end_time": "2021-04-18T06:39:34.122287Z",
     "start_time": "2021-04-18T06:39:32.947005Z"
    }
   },
   "outputs": [],
   "source": [
    "df['coeff'] = df.gene.map(get_cluster_coeff)"
   ]
  },
  {
   "cell_type": "code",
   "execution_count": 143,
   "metadata": {
    "ExecuteTime": {
     "end_time": "2021-04-18T06:39:35.293848Z",
     "start_time": "2021-04-18T06:39:35.279086Z"
    }
   },
   "outputs": [
    {
     "data": {
      "text/html": [
       "<div>\n",
       "<style scoped>\n",
       "    .dataframe tbody tr th:only-of-type {\n",
       "        vertical-align: middle;\n",
       "    }\n",
       "\n",
       "    .dataframe tbody tr th {\n",
       "        vertical-align: top;\n",
       "    }\n",
       "\n",
       "    .dataframe thead th {\n",
       "        text-align: right;\n",
       "    }\n",
       "</style>\n",
       "<table border=\"1\" class=\"dataframe\">\n",
       "  <thead>\n",
       "    <tr style=\"text-align: right;\">\n",
       "      <th></th>\n",
       "      <th>gene</th>\n",
       "      <th>degree</th>\n",
       "      <th>isessential</th>\n",
       "      <th>coeff</th>\n",
       "    </tr>\n",
       "  </thead>\n",
       "  <tbody>\n",
       "    <tr>\n",
       "      <th>0</th>\n",
       "      <td>YBR119W</td>\n",
       "      <td>11</td>\n",
       "      <td>0</td>\n",
       "      <td>50.0</td>\n",
       "    </tr>\n",
       "    <tr>\n",
       "      <th>1</th>\n",
       "      <td>YBR152W</td>\n",
       "      <td>19</td>\n",
       "      <td>1</td>\n",
       "      <td>76.0</td>\n",
       "    </tr>\n",
       "    <tr>\n",
       "      <th>2</th>\n",
       "      <td>YDL087C</td>\n",
       "      <td>22</td>\n",
       "      <td>1</td>\n",
       "      <td>107.0</td>\n",
       "    </tr>\n",
       "    <tr>\n",
       "      <th>3</th>\n",
       "      <td>YDL175C</td>\n",
       "      <td>5</td>\n",
       "      <td>0</td>\n",
       "      <td>7.0</td>\n",
       "    </tr>\n",
       "    <tr>\n",
       "      <th>4</th>\n",
       "      <td>YDR235W</td>\n",
       "      <td>11</td>\n",
       "      <td>1</td>\n",
       "      <td>53.0</td>\n",
       "    </tr>\n",
       "    <tr>\n",
       "      <th>...</th>\n",
       "      <td>...</td>\n",
       "      <td>...</td>\n",
       "      <td>...</td>\n",
       "      <td>...</td>\n",
       "    </tr>\n",
       "    <tr>\n",
       "      <th>1425</th>\n",
       "      <td>YLR386W</td>\n",
       "      <td>1</td>\n",
       "      <td>0</td>\n",
       "      <td>0.0</td>\n",
       "    </tr>\n",
       "    <tr>\n",
       "      <th>1426</th>\n",
       "      <td>YOR069W</td>\n",
       "      <td>1</td>\n",
       "      <td>0</td>\n",
       "      <td>0.0</td>\n",
       "    </tr>\n",
       "    <tr>\n",
       "      <th>1427</th>\n",
       "      <td>YNR007C</td>\n",
       "      <td>1</td>\n",
       "      <td>0</td>\n",
       "      <td>0.0</td>\n",
       "    </tr>\n",
       "    <tr>\n",
       "      <th>1428</th>\n",
       "      <td>YKR067W</td>\n",
       "      <td>1</td>\n",
       "      <td>0</td>\n",
       "      <td>0.0</td>\n",
       "    </tr>\n",
       "    <tr>\n",
       "      <th>1429</th>\n",
       "      <td>YER125W</td>\n",
       "      <td>1</td>\n",
       "      <td>1</td>\n",
       "      <td>0.0</td>\n",
       "    </tr>\n",
       "  </tbody>\n",
       "</table>\n",
       "<p>1430 rows × 4 columns</p>\n",
       "</div>"
      ],
      "text/plain": [
       "         gene  degree  isessential  coeff\n",
       "0     YBR119W      11            0   50.0\n",
       "1     YBR152W      19            1   76.0\n",
       "2     YDL087C      22            1  107.0\n",
       "3     YDL175C       5            0    7.0\n",
       "4     YDR235W      11            1   53.0\n",
       "...       ...     ...          ...    ...\n",
       "1425  YLR386W       1            0    0.0\n",
       "1426  YOR069W       1            0    0.0\n",
       "1427  YNR007C       1            0    0.0\n",
       "1428  YKR067W       1            0    0.0\n",
       "1429  YER125W       1            1    0.0\n",
       "\n",
       "[1430 rows x 4 columns]"
      ]
     },
     "execution_count": 143,
     "metadata": {},
     "output_type": "execute_result"
    }
   ],
   "source": [
    "df "
   ]
  },
  {
   "cell_type": "code",
   "execution_count": 147,
   "metadata": {
    "ExecuteTime": {
     "end_time": "2021-04-18T06:42:40.643637Z",
     "start_time": "2021-04-18T06:42:40.619742Z"
    }
   },
   "outputs": [
    {
     "data": {
      "text/html": [
       "<div>\n",
       "<style scoped>\n",
       "    .dataframe tbody tr th:only-of-type {\n",
       "        vertical-align: middle;\n",
       "    }\n",
       "\n",
       "    .dataframe tbody tr th {\n",
       "        vertical-align: top;\n",
       "    }\n",
       "\n",
       "    .dataframe thead th {\n",
       "        text-align: right;\n",
       "    }\n",
       "</style>\n",
       "<table border=\"1\" class=\"dataframe\">\n",
       "  <thead>\n",
       "    <tr style=\"text-align: right;\">\n",
       "      <th></th>\n",
       "      <th>gene</th>\n",
       "      <th>degree</th>\n",
       "      <th>isessential</th>\n",
       "      <th>coeff</th>\n",
       "    </tr>\n",
       "  </thead>\n",
       "  <tbody>\n",
       "    <tr>\n",
       "      <th>1429</th>\n",
       "      <td>YER125W</td>\n",
       "      <td>1</td>\n",
       "      <td>1</td>\n",
       "      <td>0.0</td>\n",
       "    </tr>\n",
       "    <tr>\n",
       "      <th>635</th>\n",
       "      <td>YJL155C</td>\n",
       "      <td>1</td>\n",
       "      <td>0</td>\n",
       "      <td>0.0</td>\n",
       "    </tr>\n",
       "    <tr>\n",
       "      <th>634</th>\n",
       "      <td>YLL001W</td>\n",
       "      <td>2</td>\n",
       "      <td>0</td>\n",
       "      <td>0.0</td>\n",
       "    </tr>\n",
       "    <tr>\n",
       "      <th>1268</th>\n",
       "      <td>YKR027W</td>\n",
       "      <td>2</td>\n",
       "      <td>0</td>\n",
       "      <td>0.0</td>\n",
       "    </tr>\n",
       "    <tr>\n",
       "      <th>1272</th>\n",
       "      <td>YDR499W</td>\n",
       "      <td>2</td>\n",
       "      <td>1</td>\n",
       "      <td>0.0</td>\n",
       "    </tr>\n",
       "    <tr>\n",
       "      <th>...</th>\n",
       "      <td>...</td>\n",
       "      <td>...</td>\n",
       "      <td>...</td>\n",
       "      <td>...</td>\n",
       "    </tr>\n",
       "    <tr>\n",
       "      <th>145</th>\n",
       "      <td>YOL077C</td>\n",
       "      <td>45</td>\n",
       "      <td>1</td>\n",
       "      <td>354.0</td>\n",
       "    </tr>\n",
       "    <tr>\n",
       "      <th>318</th>\n",
       "      <td>YMR229C</td>\n",
       "      <td>56</td>\n",
       "      <td>1</td>\n",
       "      <td>354.0</td>\n",
       "    </tr>\n",
       "    <tr>\n",
       "      <th>400</th>\n",
       "      <td>YPR016C</td>\n",
       "      <td>46</td>\n",
       "      <td>1</td>\n",
       "      <td>361.0</td>\n",
       "    </tr>\n",
       "    <tr>\n",
       "      <th>87</th>\n",
       "      <td>YCR057C</td>\n",
       "      <td>81</td>\n",
       "      <td>1</td>\n",
       "      <td>424.0</td>\n",
       "    </tr>\n",
       "    <tr>\n",
       "      <th>376</th>\n",
       "      <td>YHR052W</td>\n",
       "      <td>57</td>\n",
       "      <td>0</td>\n",
       "      <td>447.0</td>\n",
       "    </tr>\n",
       "  </tbody>\n",
       "</table>\n",
       "<p>1430 rows × 4 columns</p>\n",
       "</div>"
      ],
      "text/plain": [
       "         gene  degree  isessential  coeff\n",
       "1429  YER125W       1            1    0.0\n",
       "635   YJL155C       1            0    0.0\n",
       "634   YLL001W       2            0    0.0\n",
       "1268  YKR027W       2            0    0.0\n",
       "1272  YDR499W       2            1    0.0\n",
       "...       ...     ...          ...    ...\n",
       "145   YOL077C      45            1  354.0\n",
       "318   YMR229C      56            1  354.0\n",
       "400   YPR016C      46            1  361.0\n",
       "87    YCR057C      81            1  424.0\n",
       "376   YHR052W      57            0  447.0\n",
       "\n",
       "[1430 rows x 4 columns]"
      ]
     },
     "execution_count": 147,
     "metadata": {},
     "output_type": "execute_result"
    }
   ],
   "source": []
  },
  {
   "cell_type": "code",
   "execution_count": 148,
   "metadata": {
    "ExecuteTime": {
     "end_time": "2021-04-18T06:42:44.299269Z",
     "start_time": "2021-04-18T06:42:44.280847Z"
    }
   },
   "outputs": [
    {
     "data": {
      "text/html": [
       "<div>\n",
       "<style scoped>\n",
       "    .dataframe tbody tr th:only-of-type {\n",
       "        vertical-align: middle;\n",
       "    }\n",
       "\n",
       "    .dataframe tbody tr th {\n",
       "        vertical-align: top;\n",
       "    }\n",
       "\n",
       "    .dataframe thead th {\n",
       "        text-align: right;\n",
       "    }\n",
       "</style>\n",
       "<table border=\"1\" class=\"dataframe\">\n",
       "  <thead>\n",
       "    <tr style=\"text-align: right;\">\n",
       "      <th></th>\n",
       "      <th>gene</th>\n",
       "      <th>degree</th>\n",
       "      <th>isessential</th>\n",
       "      <th>coeff</th>\n",
       "    </tr>\n",
       "  </thead>\n",
       "  <tbody>\n",
       "    <tr>\n",
       "      <th>0</th>\n",
       "      <td>YBR119W</td>\n",
       "      <td>11</td>\n",
       "      <td>0</td>\n",
       "      <td>50.0</td>\n",
       "    </tr>\n",
       "    <tr>\n",
       "      <th>1</th>\n",
       "      <td>YBR152W</td>\n",
       "      <td>19</td>\n",
       "      <td>1</td>\n",
       "      <td>76.0</td>\n",
       "    </tr>\n",
       "    <tr>\n",
       "      <th>2</th>\n",
       "      <td>YDL087C</td>\n",
       "      <td>22</td>\n",
       "      <td>1</td>\n",
       "      <td>107.0</td>\n",
       "    </tr>\n",
       "    <tr>\n",
       "      <th>3</th>\n",
       "      <td>YDL175C</td>\n",
       "      <td>5</td>\n",
       "      <td>0</td>\n",
       "      <td>7.0</td>\n",
       "    </tr>\n",
       "    <tr>\n",
       "      <th>4</th>\n",
       "      <td>YDR235W</td>\n",
       "      <td>11</td>\n",
       "      <td>1</td>\n",
       "      <td>53.0</td>\n",
       "    </tr>\n",
       "    <tr>\n",
       "      <th>...</th>\n",
       "      <td>...</td>\n",
       "      <td>...</td>\n",
       "      <td>...</td>\n",
       "      <td>...</td>\n",
       "    </tr>\n",
       "    <tr>\n",
       "      <th>1425</th>\n",
       "      <td>YLR386W</td>\n",
       "      <td>1</td>\n",
       "      <td>0</td>\n",
       "      <td>0.0</td>\n",
       "    </tr>\n",
       "    <tr>\n",
       "      <th>1426</th>\n",
       "      <td>YOR069W</td>\n",
       "      <td>1</td>\n",
       "      <td>0</td>\n",
       "      <td>0.0</td>\n",
       "    </tr>\n",
       "    <tr>\n",
       "      <th>1427</th>\n",
       "      <td>YNR007C</td>\n",
       "      <td>1</td>\n",
       "      <td>0</td>\n",
       "      <td>0.0</td>\n",
       "    </tr>\n",
       "    <tr>\n",
       "      <th>1428</th>\n",
       "      <td>YKR067W</td>\n",
       "      <td>1</td>\n",
       "      <td>0</td>\n",
       "      <td>0.0</td>\n",
       "    </tr>\n",
       "    <tr>\n",
       "      <th>1429</th>\n",
       "      <td>YER125W</td>\n",
       "      <td>1</td>\n",
       "      <td>1</td>\n",
       "      <td>0.0</td>\n",
       "    </tr>\n",
       "  </tbody>\n",
       "</table>\n",
       "<p>1430 rows × 4 columns</p>\n",
       "</div>"
      ],
      "text/plain": [
       "         gene  degree  isessential  coeff\n",
       "0     YBR119W      11            0   50.0\n",
       "1     YBR152W      19            1   76.0\n",
       "2     YDL087C      22            1  107.0\n",
       "3     YDL175C       5            0    7.0\n",
       "4     YDR235W      11            1   53.0\n",
       "...       ...     ...          ...    ...\n",
       "1425  YLR386W       1            0    0.0\n",
       "1426  YOR069W       1            0    0.0\n",
       "1427  YNR007C       1            0    0.0\n",
       "1428  YKR067W       1            0    0.0\n",
       "1429  YER125W       1            1    0.0\n",
       "\n",
       "[1430 rows x 4 columns]"
      ]
     },
     "execution_count": 148,
     "metadata": {},
     "output_type": "execute_result"
    }
   ],
   "source": [
    "df "
   ]
  },
  {
   "cell_type": "code",
   "execution_count": 150,
   "metadata": {
    "ExecuteTime": {
     "end_time": "2021-04-18T06:45:05.647786Z",
     "start_time": "2021-04-18T06:45:05.639288Z"
    }
   },
   "outputs": [
    {
     "data": {
      "text/plain": [
       "array([  0.,   0.,   0., ..., 361., 424., 447.])"
      ]
     },
     "execution_count": 150,
     "metadata": {},
     "output_type": "execute_result"
    }
   ],
   "source": [
    "df_temp['coeff'].values "
   ]
  },
  {
   "cell_type": "code",
   "execution_count": 72,
   "metadata": {
    "ExecuteTime": {
     "end_time": "2021-04-18T09:11:00.785689Z",
     "start_time": "2021-04-18T09:11:00.520257Z"
    }
   },
   "outputs": [
    {
     "data": {
      "text/plain": [
       "[<matplotlib.lines.Line2D at 0x7f9784511810>]"
      ]
     },
     "execution_count": 72,
     "metadata": {},
     "output_type": "execute_result"
    },
    {
     "data": {
      "text/plain": [
       "Text(0.5, 0, 'Clustering Coefficient')"
      ]
     },
     "execution_count": 72,
     "metadata": {},
     "output_type": "execute_result"
    },
    {
     "data": {
      "text/plain": [
       "Text(0, 0.5, 'Node Degree')"
      ]
     },
     "execution_count": 72,
     "metadata": {},
     "output_type": "execute_result"
    },
    {
     "data": {
      "image/png": "[encoded data removed]",
      "text/plain": [
       "<Figure size 1008x432 with 1 Axes>"
      ]
     },
     "metadata": {
      "needs_background": "light"
     },
     "output_type": "display_data"
    }
   ],
   "source": [
    "plt.rc('font', family='Times New Roman')\n",
    "\n",
    "fig, ax = plt.subplots()\n",
    "\n",
    "df_temp = df.sort_values(by='coeff')\n",
    "\n",
    "x = df_temp['coeff'].values\n",
    "y = df_temp['degree'].values\n",
    "\n",
    "xlabel, ylbael  = 'Clustering Coefficient', 'Node Degree'\n",
    "\n",
    "ax.plot(x, y, linewidth=2, color='navy')\n",
    "\n",
    "ax.set_xlabel(xlabel, fontsize=15)\n",
    "ax.set_ylabel(ylbael, fontsize=15)\n",
    "\n",
    "ax.tick_params(axis='y', labelsize=12)\n",
    "ax.tick_params(axis='x', labelsize=12)\n",
    "\n",
    "\n",
    "\n",
    "fig.set_size_inches(14, 6)\n",
    "\n",
    "# plt.savefig(f'degree_frequency.png',  \n",
    "# \t\t\tformat='png',  \n",
    "# \t\t\tbbox_inches='tight',  \n",
    "# \t\t\tdpi=300  \n",
    "# \t\t\t)"
   ]
  },
  {
   "cell_type": "code",
   "execution_count": null,
   "metadata": {},
   "outputs": [],
   "source": []
  },
  {
   "cell_type": "markdown",
   "metadata": {},
   "source": [
    "# P 2 "
   ]
  },
  {
   "cell_type": "code",
   "execution_count": 77,
   "metadata": {
    "ExecuteTime": {
     "end_time": "2021-04-18T09:16:02.508627Z",
     "start_time": "2021-04-18T09:16:02.496735Z"
    }
   },
   "outputs": [
    {
     "name": "stdout",
     "output_type": "stream",
     "text": [
      "         degree     coeff  isessential\n",
      "gene                                  \n",
      "YNL110C      39  0.372470            1\n",
      "YML085C      39  0.097166            1\n"
     ]
    }
   ],
   "source": [
    "def p2_solution(gene_id: list, df):\n",
    "    \n",
    "    result = df.set_index('gene').loc[gene_id, :]\n",
    "    print(result)\n",
    "    \n",
    "\n",
    "\n",
    "# df.set_index('gene').loc[['YNL110C','YML085C'], :]\n",
    "p2_solution(['YNL110C','YML085C'], df)"
   ]
  },
  {
   "cell_type": "markdown",
   "metadata": {
    "ExecuteTime": {
     "end_time": "2021-04-18T06:54:05.711659Z",
     "start_time": "2021-04-18T06:54:05.691447Z"
    }
   },
   "source": [
    "# P3 "
   ]
  },
  {
   "cell_type": "code",
   "execution_count": 78,
   "metadata": {
    "ExecuteTime": {
     "end_time": "2021-04-18T09:23:44.879607Z",
     "start_time": "2021-04-18T09:23:44.874254Z"
    }
   },
   "outputs": [],
   "source": [
    "from scipy.stats import ranksums \n",
    "def p3_solution(df):\n",
    "    group_0 = df[df.isessential == 0].degree.values \n",
    "    group_1 = df[df.isessential == 1].degree.values \n",
    "    s, p = ranksums(group_0, group_1)\n",
    "    \n",
    "    return s, p "
   ]
  },
  {
   "cell_type": "code",
   "execution_count": 79,
   "metadata": {
    "ExecuteTime": {
     "end_time": "2021-04-18T09:23:50.794796Z",
     "start_time": "2021-04-18T09:23:50.735058Z"
    }
   },
   "outputs": [
    {
     "data": {
      "text/plain": [
       "(-10.488778541643851, 9.727778738411195e-26)"
      ]
     },
     "execution_count": 79,
     "metadata": {},
     "output_type": "execute_result"
    }
   ],
   "source": [
    "p3_solution(df)"
   ]
  },
  {
   "cell_type": "code",
   "execution_count": 174,
   "metadata": {
    "ExecuteTime": {
     "end_time": "2021-04-18T06:54:50.810632Z",
     "start_time": "2021-04-18T06:54:50.795888Z"
    }
   },
   "outputs": [
    {
     "data": {
      "text/html": [
       "<div>\n",
       "<style scoped>\n",
       "    .dataframe tbody tr th:only-of-type {\n",
       "        vertical-align: middle;\n",
       "    }\n",
       "\n",
       "    .dataframe tbody tr th {\n",
       "        vertical-align: top;\n",
       "    }\n",
       "\n",
       "    .dataframe thead th {\n",
       "        text-align: right;\n",
       "    }\n",
       "</style>\n",
       "<table border=\"1\" class=\"dataframe\">\n",
       "  <thead>\n",
       "    <tr style=\"text-align: right;\">\n",
       "      <th></th>\n",
       "      <th>gene</th>\n",
       "      <th>degree</th>\n",
       "      <th>isessential</th>\n",
       "      <th>coeff</th>\n",
       "    </tr>\n",
       "  </thead>\n",
       "  <tbody>\n",
       "    <tr>\n",
       "      <th>0</th>\n",
       "      <td>YBR119W</td>\n",
       "      <td>11</td>\n",
       "      <td>0</td>\n",
       "      <td>50.0</td>\n",
       "    </tr>\n",
       "    <tr>\n",
       "      <th>1</th>\n",
       "      <td>YBR152W</td>\n",
       "      <td>19</td>\n",
       "      <td>1</td>\n",
       "      <td>76.0</td>\n",
       "    </tr>\n",
       "    <tr>\n",
       "      <th>2</th>\n",
       "      <td>YDL087C</td>\n",
       "      <td>22</td>\n",
       "      <td>1</td>\n",
       "      <td>107.0</td>\n",
       "    </tr>\n",
       "    <tr>\n",
       "      <th>3</th>\n",
       "      <td>YDL175C</td>\n",
       "      <td>5</td>\n",
       "      <td>0</td>\n",
       "      <td>7.0</td>\n",
       "    </tr>\n",
       "    <tr>\n",
       "      <th>4</th>\n",
       "      <td>YDR235W</td>\n",
       "      <td>11</td>\n",
       "      <td>1</td>\n",
       "      <td>53.0</td>\n",
       "    </tr>\n",
       "    <tr>\n",
       "      <th>...</th>\n",
       "      <td>...</td>\n",
       "      <td>...</td>\n",
       "      <td>...</td>\n",
       "      <td>...</td>\n",
       "    </tr>\n",
       "    <tr>\n",
       "      <th>1425</th>\n",
       "      <td>YLR386W</td>\n",
       "      <td>1</td>\n",
       "      <td>0</td>\n",
       "      <td>0.0</td>\n",
       "    </tr>\n",
       "    <tr>\n",
       "      <th>1426</th>\n",
       "      <td>YOR069W</td>\n",
       "      <td>1</td>\n",
       "      <td>0</td>\n",
       "      <td>0.0</td>\n",
       "    </tr>\n",
       "    <tr>\n",
       "      <th>1427</th>\n",
       "      <td>YNR007C</td>\n",
       "      <td>1</td>\n",
       "      <td>0</td>\n",
       "      <td>0.0</td>\n",
       "    </tr>\n",
       "    <tr>\n",
       "      <th>1428</th>\n",
       "      <td>YKR067W</td>\n",
       "      <td>1</td>\n",
       "      <td>0</td>\n",
       "      <td>0.0</td>\n",
       "    </tr>\n",
       "    <tr>\n",
       "      <th>1429</th>\n",
       "      <td>YER125W</td>\n",
       "      <td>1</td>\n",
       "      <td>1</td>\n",
       "      <td>0.0</td>\n",
       "    </tr>\n",
       "  </tbody>\n",
       "</table>\n",
       "<p>1430 rows × 4 columns</p>\n",
       "</div>"
      ],
      "text/plain": [
       "         gene  degree  isessential  coeff\n",
       "0     YBR119W      11            0   50.0\n",
       "1     YBR152W      19            1   76.0\n",
       "2     YDL087C      22            1  107.0\n",
       "3     YDL175C       5            0    7.0\n",
       "4     YDR235W      11            1   53.0\n",
       "...       ...     ...          ...    ...\n",
       "1425  YLR386W       1            0    0.0\n",
       "1426  YOR069W       1            0    0.0\n",
       "1427  YNR007C       1            0    0.0\n",
       "1428  YKR067W       1            0    0.0\n",
       "1429  YER125W       1            1    0.0\n",
       "\n",
       "[1430 rows x 4 columns]"
      ]
     },
     "execution_count": 174,
     "metadata": {},
     "output_type": "execute_result"
    }
   ],
   "source": [
    "df "
   ]
  },
  {
   "cell_type": "code",
   "execution_count": 176,
   "metadata": {
    "ExecuteTime": {
     "end_time": "2021-04-18T06:56:40.516526Z",
     "start_time": "2021-04-18T06:56:40.474193Z"
    }
   },
   "outputs": [],
   "source": [
    "from scipy.stats import ranksums "
   ]
  },
  {
   "cell_type": "code",
   "execution_count": 181,
   "metadata": {
    "ExecuteTime": {
     "end_time": "2021-04-18T06:57:42.241604Z",
     "start_time": "2021-04-18T06:57:42.224568Z"
    }
   },
   "outputs": [],
   "source": [
    "group_0 = df[df.isessential == 0].degree.values \n",
    "group_1 = df[df.isessential == 1].degree.values "
   ]
  },
  {
   "cell_type": "code",
   "execution_count": 185,
   "metadata": {
    "ExecuteTime": {
     "end_time": "2021-04-18T07:01:16.983591Z",
     "start_time": "2021-04-18T07:01:16.964623Z"
    }
   },
   "outputs": [],
   "source": [
    "s, p = ranksums(group_0, group_1)"
   ]
  },
  {
   "cell_type": "code",
   "execution_count": 187,
   "metadata": {
    "ExecuteTime": {
     "end_time": "2021-04-18T07:01:24.841871Z",
     "start_time": "2021-04-18T07:01:24.834843Z"
    }
   },
   "outputs": [
    {
     "data": {
      "text/plain": [
       "9.727778738411195e-26"
      ]
     },
     "execution_count": 187,
     "metadata": {},
     "output_type": "execute_result"
    }
   ],
   "source": [
    "p "
   ]
  },
  {
   "cell_type": "code",
   "execution_count": 183,
   "metadata": {
    "ExecuteTime": {
     "end_time": "2021-04-18T06:58:30.229313Z",
     "start_time": "2021-04-18T06:58:30.219309Z"
    }
   },
   "outputs": [],
   "source": [
    "from scipy.stats import ttest_ind"
   ]
  },
  {
   "cell_type": "code",
   "execution_count": 184,
   "metadata": {
    "ExecuteTime": {
     "end_time": "2021-04-18T06:58:35.065422Z",
     "start_time": "2021-04-18T06:58:35.053550Z"
    }
   },
   "outputs": [
    {
     "data": {
      "text/plain": [
       "Ttest_indResult(statistic=-8.855810749591601, pvalue=2.4111090931471354e-18)"
      ]
     },
     "execution_count": 184,
     "metadata": {},
     "output_type": "execute_result"
    }
   ],
   "source": [
    "ttest_ind(group_0, group_1)"
   ]
  },
  {
   "cell_type": "markdown",
   "metadata": {},
   "source": [
    "# p 4 "
   ]
  },
  {
   "cell_type": "code",
   "execution_count": 3,
   "metadata": {
    "ExecuteTime": {
     "end_time": "2021-04-18T09:41:05.289819Z",
     "start_time": "2021-04-18T09:41:05.277394Z"
    }
   },
   "outputs": [],
   "source": [
    "data_h = np.load('./HW4_data/ppi_network_human.npz')"
   ]
  },
  {
   "cell_type": "code",
   "execution_count": 8,
   "metadata": {
    "ExecuteTime": {
     "end_time": "2021-04-18T09:41:26.712036Z",
     "start_time": "2021-04-18T09:41:26.696239Z"
    }
   },
   "outputs": [
    {
     "data": {
      "text/plain": [
       "['gene_names', 'ppi_network']"
      ]
     },
     "execution_count": 8,
     "metadata": {},
     "output_type": "execute_result"
    }
   ],
   "source": [
    "list(data_h.keys())"
   ]
  },
  {
   "cell_type": "code",
   "execution_count": 9,
   "metadata": {
    "ExecuteTime": {
     "end_time": "2021-04-18T09:41:27.338714Z",
     "start_time": "2021-04-18T09:41:27.128832Z"
    }
   },
   "outputs": [],
   "source": [
    "network = data_h['ppi_network']\n",
    "gene_name = data_h['gene_names']"
   ]
  },
  {
   "cell_type": "code",
   "execution_count": 10,
   "metadata": {
    "ExecuteTime": {
     "end_time": "2021-04-18T09:41:39.906327Z",
     "start_time": "2021-04-18T09:41:27.654363Z"
    }
   },
   "outputs": [
    {
     "name": "stderr",
     "output_type": "stream",
     "text": [
      "/Users/liyang/miniconda3/envs/work/lib/python3.7/site-packages/ipykernel_launcher.py:9: RuntimeWarning: divide by zero encountered in log10\n",
      "  if __name__ == '__main__':\n"
     ]
    },
    {
     "name": "stdout",
     "output_type": "stream",
     "text": [
      "Proteins with the highest degrees: ['YWHAG' 'TP53' 'EP300' 'CREBBP' 'SRC']\n",
      "Interactions: 5.0\n"
     ]
    },
    {
     "data": {
      "image/png": "[encoded data removed]",
      "text/plain": [
       "<Figure size 1008x432 with 2 Axes>"
      ]
     },
     "metadata": {
      "needs_background": "light"
     },
     "output_type": "display_data"
    },
    {
     "data": {
      "image/png": "[encoded data removed]",
      "text/plain": [
       "<Figure size 1008x432 with 1 Axes>"
      ]
     },
     "metadata": {
      "needs_background": "light"
     },
     "output_type": "display_data"
    }
   ],
   "source": [
    "df_h = p1_solution(network, gene_name)"
   ]
  },
  {
   "cell_type": "code",
   "execution_count": 11,
   "metadata": {
    "ExecuteTime": {
     "end_time": "2021-04-18T09:42:12.713632Z",
     "start_time": "2021-04-18T09:42:12.703273Z"
    }
   },
   "outputs": [
    {
     "data": {
      "text/html": [
       "<div>\n",
       "<style scoped>\n",
       "    .dataframe tbody tr th:only-of-type {\n",
       "        vertical-align: middle;\n",
       "    }\n",
       "\n",
       "    .dataframe tbody tr th {\n",
       "        vertical-align: top;\n",
       "    }\n",
       "\n",
       "    .dataframe thead th {\n",
       "        text-align: right;\n",
       "    }\n",
       "</style>\n",
       "<table border=\"1\" class=\"dataframe\">\n",
       "  <thead>\n",
       "    <tr style=\"text-align: right;\">\n",
       "      <th></th>\n",
       "      <th>gene</th>\n",
       "      <th>degree</th>\n",
       "      <th>coeff</th>\n",
       "    </tr>\n",
       "  </thead>\n",
       "  <tbody>\n",
       "  </tbody>\n",
       "</table>\n",
       "</div>"
      ],
      "text/plain": [
       "Empty DataFrame\n",
       "Columns: [gene, degree, coeff]\n",
       "Index: []"
      ]
     },
     "execution_count": 11,
     "metadata": {},
     "output_type": "execute_result"
    }
   ],
   "source": [
    "df_h[df_h['coeff'] > 1 ] "
   ]
  },
  {
   "cell_type": "code",
   "execution_count": 14,
   "metadata": {
    "ExecuteTime": {
     "end_time": "2021-04-18T09:42:35.541603Z",
     "start_time": "2021-04-18T09:42:35.527515Z"
    }
   },
   "outputs": [
    {
     "data": {
      "text/html": [
       "<div>\n",
       "<style scoped>\n",
       "    .dataframe tbody tr th:only-of-type {\n",
       "        vertical-align: middle;\n",
       "    }\n",
       "\n",
       "    .dataframe tbody tr th {\n",
       "        vertical-align: top;\n",
       "    }\n",
       "\n",
       "    .dataframe thead th {\n",
       "        text-align: right;\n",
       "    }\n",
       "</style>\n",
       "<table border=\"1\" class=\"dataframe\">\n",
       "  <thead>\n",
       "    <tr style=\"text-align: right;\">\n",
       "      <th></th>\n",
       "      <th>gene</th>\n",
       "      <th>degree</th>\n",
       "      <th>coeff</th>\n",
       "    </tr>\n",
       "  </thead>\n",
       "  <tbody>\n",
       "    <tr>\n",
       "      <th>241</th>\n",
       "      <td>ALDH1A1</td>\n",
       "      <td>0</td>\n",
       "      <td>0.0</td>\n",
       "    </tr>\n",
       "    <tr>\n",
       "      <th>771</th>\n",
       "      <td>AQP2</td>\n",
       "      <td>0</td>\n",
       "      <td>0.0</td>\n",
       "    </tr>\n",
       "    <tr>\n",
       "      <th>2600</th>\n",
       "      <td>SULT2A1</td>\n",
       "      <td>0</td>\n",
       "      <td>0.0</td>\n",
       "    </tr>\n",
       "    <tr>\n",
       "      <th>2610</th>\n",
       "      <td>ALAD</td>\n",
       "      <td>0</td>\n",
       "      <td>0.0</td>\n",
       "    </tr>\n",
       "    <tr>\n",
       "      <th>3119</th>\n",
       "      <td>GLO1</td>\n",
       "      <td>0</td>\n",
       "      <td>0.0</td>\n",
       "    </tr>\n",
       "    <tr>\n",
       "      <th>...</th>\n",
       "      <td>...</td>\n",
       "      <td>...</td>\n",
       "      <td>...</td>\n",
       "    </tr>\n",
       "    <tr>\n",
       "      <th>8475</th>\n",
       "      <td>CTH</td>\n",
       "      <td>0</td>\n",
       "      <td>0.0</td>\n",
       "    </tr>\n",
       "    <tr>\n",
       "      <th>8493</th>\n",
       "      <td>-</td>\n",
       "      <td>0</td>\n",
       "      <td>0.0</td>\n",
       "    </tr>\n",
       "    <tr>\n",
       "      <th>8871</th>\n",
       "      <td>THRSP</td>\n",
       "      <td>0</td>\n",
       "      <td>0.0</td>\n",
       "    </tr>\n",
       "    <tr>\n",
       "      <th>8899</th>\n",
       "      <td>QDPR</td>\n",
       "      <td>0</td>\n",
       "      <td>0.0</td>\n",
       "    </tr>\n",
       "    <tr>\n",
       "      <th>8900</th>\n",
       "      <td>PAH</td>\n",
       "      <td>0</td>\n",
       "      <td>0.0</td>\n",
       "    </tr>\n",
       "  </tbody>\n",
       "</table>\n",
       "<p>163 rows × 3 columns</p>\n",
       "</div>"
      ],
      "text/plain": [
       "         gene  degree  coeff\n",
       "241   ALDH1A1       0    0.0\n",
       "771      AQP2       0    0.0\n",
       "2600  SULT2A1       0    0.0\n",
       "2610     ALAD       0    0.0\n",
       "3119     GLO1       0    0.0\n",
       "...       ...     ...    ...\n",
       "8475      CTH       0    0.0\n",
       "8493        -       0    0.0\n",
       "8871    THRSP       0    0.0\n",
       "8899     QDPR       0    0.0\n",
       "8900      PAH       0    0.0\n",
       "\n",
       "[163 rows x 3 columns]"
      ]
     },
     "execution_count": 14,
     "metadata": {},
     "output_type": "execute_result"
    }
   ],
   "source": [
    "df_h[df_h.degree == 0] "
   ]
  },
  {
   "cell_type": "code",
   "execution_count": 17,
   "metadata": {
    "ExecuteTime": {
     "end_time": "2021-04-18T09:44:15.530538Z",
     "start_time": "2021-04-18T09:44:15.521815Z"
    }
   },
   "outputs": [
    {
     "data": {
      "text/plain": [
       "array([[0, 1, 0, 0, 1],\n",
       "       [1, 0, 1, 1, 0],\n",
       "       [0, 1, 0, 1, 0],\n",
       "       [0, 1, 1, 0, 0],\n",
       "       [1, 0, 0, 0, 0]], dtype=uint8)"
      ]
     },
     "execution_count": 17,
     "metadata": {},
     "output_type": "execute_result"
    }
   ],
   "source": [
    "high = df_h.sort_values(by='degree',ascending=False)[:5]\n",
    "ind_high = high.index \n",
    "gene_high = high.gene.values \n",
    "\n",
    "network[np.ix_(ind_high, ind_high)]"
   ]
  },
  {
   "cell_type": "code",
   "execution_count": null,
   "metadata": {},
   "outputs": [],
   "source": []
  },
  {
   "cell_type": "code",
   "execution_count": null,
   "metadata": {},
   "outputs": [],
   "source": []
  },
  {
   "cell_type": "code",
   "execution_count": null,
   "metadata": {
    "code_folding": [
     0,
     53
    ]
   },
   "outputs": [],
   "source": [
    "def plot_degree(plot_values, name='degree_freq'):\n",
    "\n",
    "    fig, axs = plt.subplots(1,2)\n",
    "\n",
    "    axs = axs.flatten() \n",
    "\n",
    "    for ind, ax in enumerate(axs): \n",
    "\n",
    "        degree = plot_values[:,0] if ind else np.log10(plot_values[:,0])\n",
    "        freq = plot_values[:,1] if ind else np.log10(plot_values[:,1])\n",
    "        xlabel = 'Degree' if ind else 'Log Degree'\n",
    "        ylbael = 'Frequency' if ind else 'Log Frequency'\n",
    "        ax.plot(degree, freq, linewidth=2, color='r')\n",
    "\n",
    "        ax.set_xlabel(xlabel, fontsize=15)\n",
    "        ax.set_ylabel(ylbael, fontsize=15)\n",
    "\n",
    "        ax.tick_params(axis='y', labelsize=12)\n",
    "        ax.tick_params(axis='x', labelsize=12)\n",
    "\n",
    "\n",
    "    fig.set_size_inches(14, 6)\n",
    "\n",
    "    plt.savefig(f'{name}.png',  \n",
    "                format='png',  \n",
    "                bbox_inches='tight',  \n",
    "                dpi=300  \n",
    "                )\n",
    "\n",
    "\n",
    "def get_high(number, ppi_network, df):\n",
    "    high = df.sort_values(by='degree',ascending=False)[:number]\n",
    "    ind_high = high.index \n",
    "    gene_high = high.gene.values \n",
    "    \n",
    "    interactions = ppi_network[np.ix_(ind_high, ind_high)].sum()/2\n",
    "    \n",
    "    return gene_high, interactions\n",
    "    \n",
    "def get_cluster_coeff(gene, ppi_network, df):  \n",
    "    \n",
    "    ind= df[df.gene == gene].index.values[0]\n",
    "    indx = ppi_network[ind] == 1 \n",
    "    supposed_interactions  = (indx.sum() * (indx.sum() - 1))/2\n",
    "    \n",
    "    if supposed_interactions == 0:\n",
    "            return  0\n",
    "\n",
    "    neibor_interactions = ppi_network[np.ix_(indx, indx)].sum()/2    \n",
    "    \n",
    "    return neibor_interactions/supposed_interactions\n",
    "\n",
    "\n",
    "def plot_coeff(df, name='coeff_degree'):\n",
    "\n",
    "    fig, ax = plt.subplots()\n",
    "\n",
    "    df_temp = df.sort_values(by='coeff')\n",
    "\n",
    "    x = df_temp['coeff'].values\n",
    "    y = df_temp['degree'].values\n",
    "\n",
    "    xlabel, ylbael  = 'Clustering Coefficient', 'Node Degree'\n",
    "\n",
    "    ax.plot(x, y, linewidth=2, color='navy')\n",
    "\n",
    "    ax.set_xlabel(xlabel, fontsize=15)\n",
    "    ax.set_ylabel(ylbael, fontsize=15)\n",
    "\n",
    "    ax.tick_params(axis='y', labelsize=12)\n",
    "    ax.tick_params(axis='x', labelsize=12)\n",
    "\n",
    "    fig.set_size_inches(14, 6)\n",
    "\n",
    "    plt.savefig(f'{name}.png',  \n",
    "    \t\t\tformat='png',  \n",
    "    \t\t\tbbox_inches='tight',  \n",
    "    \t\t\tdpi=300  \n",
    "    \t\t\t)\n",
    "\n",
    "    \n",
    "\n",
    "def p1_solution(ppi_network, gene_names, number=5):\n",
    "    \n",
    "    degree = ppi_network.sum(axis=0)\n",
    "    \n",
    "    df = pd.DataFrame({'gene': gene_names, 'degree': degree})\n",
    "    \n",
    "    values_plot = (df.degree.value_counts()\n",
    "     .reset_index()\n",
    "     .sort_values(by = 'index')\n",
    "     .to_numpy())\n",
    "                   \n",
    "        \n",
    "    plot_degree(values_plot) \n",
    "    \n",
    "    gene_high, interactions = get_high(number, ppi_network, df) \n",
    "    \n",
    "        \n",
    "    print((f'Proteins with the highest degrees: {gene_high}\\n'\n",
    "           f'Interactions: {interactions}'))\n",
    "    \n",
    "\n",
    "    df['coeff'] = df.gene.apply(lambda x :get_cluster_coeff(x,  ppi_network, df))\n",
    "    \n",
    "    plot_coeff(df)\n",
    "    \n",
    "    return df \n",
    "    \n",
    "    "
   ]
  },
  {
   "cell_type": "code",
   "execution_count": null,
   "metadata": {},
   "outputs": [],
   "source": [
    "\n",
    "    degree = ppi_network.sum(axis=0)\n",
    "    \n",
    "    df = pd.DataFrame({'gene': gene_names, 'degree': degree})\n",
    "    \n",
    "    values_plot = (df.degree.value_counts()\n",
    "     .reset_index()\n",
    "     .sort_values(by = 'index')\n",
    "     .to_numpy())\n",
    "                   \n",
    "        \n",
    "    plot_degree(values_plot) \n",
    "    \n",
    "    gene_high, interactions = get_high(number, ppi_network, df) \n",
    "    \n",
    "        \n",
    "    print((f'Proteins with the highest degrees: {gene_high}\\n'\n",
    "           f'Interactions: {interactions}'))\n",
    "    \n",
    "\n",
    "    df['coeff'] = df.gene.apply(lambda x :get_cluster_coeff(x,  ppi_network, df))\n",
    "    \n",
    "    plot_coeff(df)"
   ]
  },
  {
   "cell_type": "code",
   "execution_count": 27,
   "metadata": {
    "ExecuteTime": {
     "end_time": "2021-04-18T09:38:43.673543Z",
     "start_time": "2021-04-18T09:38:43.664421Z"
    }
   },
   "outputs": [],
   "source": []
  },
  {
   "cell_type": "code",
   "execution_count": 30,
   "metadata": {
    "ExecuteTime": {
     "end_time": "2021-04-18T09:38:53.000726Z",
     "start_time": "2021-04-18T09:38:52.992236Z"
    }
   },
   "outputs": [
    {
     "data": {
      "text/plain": [
       "0"
      ]
     },
     "execution_count": 30,
     "metadata": {},
     "output_type": "execute_result"
    }
   ],
   "source": []
  },
  {
   "cell_type": "code",
   "execution_count": null,
   "metadata": {},
   "outputs": [],
   "source": [
    "    high = df.sort_values(by='degree',ascending=False)[:number]\n",
    "    ind_high = high.index \n",
    "    gene_high = high.gene.values \n",
    "    \n",
    "    interactions = ppi_network[np.ix_(ind_high, ind_high)].sum()/2"
   ]
  }
 ],
 "metadata": {
  "hide_input": false,
  "kernelspec": {
   "display_name": "Python 3",
   "language": "python",
   "name": "python3"
  },
  "language_info": {
   "codemirror_mode": {
    "name": "ipython",
    "version": 3
   },
   "file_extension": ".py",
   "mimetype": "text/x-python",
   "name": "python",
   "nbconvert_exporter": "python",
   "pygments_lexer": "ipython3",
   "version": "3.7.7"
  },
  "toc": {
   "base_numbering": 1,
   "nav_menu": {},
   "number_sections": true,
   "sideBar": true,
   "skip_h1_title": false,
   "title_cell": "Table of Contents",
   "title_sidebar": "Contents",
   "toc_cell": false,
   "toc_position": {},
   "toc_section_display": true,
   "toc_window_display": false
  },
  "varInspector": {
   "cols": {
    "lenName": 16,
    "lenType": 16,
    "lenVar": 40
   },
   "kernels_config": {
    "python": {
     "delete_cmd_postfix": "",
     "delete_cmd_prefix": "del ",
     "library": "var_list.py",
     "varRefreshCmd": "print(var_dic_list())"
    },
    "r": {
     "delete_cmd_postfix": ") ",
     "delete_cmd_prefix": "rm(",
     "library": "var_list.r",
     "varRefreshCmd": "cat(var_dic_list()) "
    }
   },
   "types_to_exclude": [
    "module",
    "function",
    "builtin_function_or_method",
    "instance",
    "_Feature"
   ],
   "window_display": false
  }
 },
 "nbformat": 4,
 "nbformat_minor": 4
}
