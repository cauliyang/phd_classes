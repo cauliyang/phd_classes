{
  "nbformat": 4,
  "nbformat_minor": 0,
  "metadata": {
    "colab": {
      "name": "HW5_CS5525.ipynb",
      "provenance": [],
      "collapsed_sections": [],
      "toc_visible": true
    },
    "kernelspec": {
      "display_name": "Python 3",
      "name": "python3"
    },
    "language_info": {
      "name": "python"
    },
    "widgets": {
      "application/vnd.jupyter.widget-state+json": {
        "711c61e13b7b4dbe99a69562fd0bf0bb": {
          "model_module": "@jupyter-widgets/controls",
          "model_name": "HBoxModel",
          "state": {
            "_dom_classes": [],
            "_model_module": "@jupyter-widgets/controls",
            "_model_module_version": "1.5.0",
            "_model_name": "HBoxModel",
            "_view_count": null,
            "_view_module": "@jupyter-widgets/controls",
            "_view_module_version": "1.5.0",
            "_view_name": "HBoxView",
            "box_style": "",
            "children": [
              "IPY_MODEL_3285455bafe74467aaec4218d1e3cf5d",
              "IPY_MODEL_bc3452564e5d4e2baea35319390ecf38"
            ],
            "layout": "IPY_MODEL_cd84a24da5ee4eb5bcb3e7db2a7597de"
          }
        },
        "3285455bafe74467aaec4218d1e3cf5d": {
          "model_module": "@jupyter-widgets/controls",
          "model_name": "FloatProgressModel",
          "state": {
            "_dom_classes": [],
            "_model_module": "@jupyter-widgets/controls",
            "_model_module_version": "1.5.0",
            "_model_name": "FloatProgressModel",
            "_view_count": null,
            "_view_module": "@jupyter-widgets/controls",
            "_view_module_version": "1.5.0",
            "_view_name": "ProgressView",
            "bar_style": "success",
            "description": "100%",
            "description_tooltip": null,
            "layout": "IPY_MODEL_8519d20fceb94a5c81f31a88255f42f4",
            "max": 100,
            "min": 0,
            "orientation": "horizontal",
            "style": "IPY_MODEL_1ef9ece0c0d340fa8d44e6322b587c4d",
            "value": 100
          }
        },
        "bc3452564e5d4e2baea35319390ecf38": {
          "model_module": "@jupyter-widgets/controls",
          "model_name": "HTMLModel",
          "state": {
            "_dom_classes": [],
            "_model_module": "@jupyter-widgets/controls",
            "_model_module_version": "1.5.0",
            "_model_name": "HTMLModel",
            "_view_count": null,
            "_view_module": "@jupyter-widgets/controls",
            "_view_module_version": "1.5.0",
            "_view_name": "HTMLView",
            "description": "",
            "description_tooltip": null,
            "layout": "IPY_MODEL_5fe08e95d5184a37a76555efe1055dc3",
            "placeholder": "​",
            "style": "IPY_MODEL_1426c52d07844d9188c00c43b82d683c",
            "value": " 100/100 [10:07&lt;00:00,  6.07s/it]"
          }
        },
        "cd84a24da5ee4eb5bcb3e7db2a7597de": {
          "model_module": "@jupyter-widgets/base",
          "model_name": "LayoutModel",
          "state": {
            "_model_module": "@jupyter-widgets/base",
            "_model_module_version": "1.2.0",
            "_model_name": "LayoutModel",
            "_view_count": null,
            "_view_module": "@jupyter-widgets/base",
            "_view_module_version": "1.2.0",
            "_view_name": "LayoutView",
            "align_content": null,
            "align_items": null,
            "align_self": null,
            "border": null,
            "bottom": null,
            "display": null,
            "flex": null,
            "flex_flow": null,
            "grid_area": null,
            "grid_auto_columns": null,
            "grid_auto_flow": null,
            "grid_auto_rows": null,
            "grid_column": null,
            "grid_gap": null,
            "grid_row": null,
            "grid_template_areas": null,
            "grid_template_columns": null,
            "grid_template_rows": null,
            "height": null,
            "justify_content": null,
            "justify_items": null,
            "left": null,
            "margin": null,
            "max_height": null,
            "max_width": null,
            "min_height": null,
            "min_width": null,
            "object_fit": null,
            "object_position": null,
            "order": null,
            "overflow": null,
            "overflow_x": null,
            "overflow_y": null,
            "padding": null,
            "right": null,
            "top": null,
            "visibility": null,
            "width": null
          }
        },
        "8519d20fceb94a5c81f31a88255f42f4": {
          "model_module": "@jupyter-widgets/base",
          "model_name": "LayoutModel",
          "state": {
            "_model_module": "@jupyter-widgets/base",
            "_model_module_version": "1.2.0",
            "_model_name": "LayoutModel",
            "_view_count": null,
            "_view_module": "@jupyter-widgets/base",
            "_view_module_version": "1.2.0",
            "_view_name": "LayoutView",
            "align_content": null,
            "align_items": null,
            "align_self": null,
            "border": null,
            "bottom": null,
            "display": null,
            "flex": null,
            "flex_flow": null,
            "grid_area": null,
            "grid_auto_columns": null,
            "grid_auto_flow": null,
            "grid_auto_rows": null,
            "grid_column": null,
            "grid_gap": null,
            "grid_row": null,
            "grid_template_areas": null,
            "grid_template_columns": null,
            "grid_template_rows": null,
            "height": null,
            "justify_content": null,
            "justify_items": null,
            "left": null,
            "margin": null,
            "max_height": null,
            "max_width": null,
            "min_height": null,
            "min_width": null,
            "object_fit": null,
            "object_position": null,
            "order": null,
            "overflow": null,
            "overflow_x": null,
            "overflow_y": null,
            "padding": null,
            "right": null,
            "top": null,
            "visibility": null,
            "width": null
          }
        },
        "1ef9ece0c0d340fa8d44e6322b587c4d": {
          "model_module": "@jupyter-widgets/controls",
          "model_name": "ProgressStyleModel",
          "state": {
            "_model_module": "@jupyter-widgets/controls",
            "_model_module_version": "1.5.0",
            "_model_name": "ProgressStyleModel",
            "_view_count": null,
            "_view_module": "@jupyter-widgets/base",
            "_view_module_version": "1.2.0",
            "_view_name": "StyleView",
            "bar_color": null,
            "description_width": "initial"
          }
        },
        "5fe08e95d5184a37a76555efe1055dc3": {
          "model_module": "@jupyter-widgets/base",
          "model_name": "LayoutModel",
          "state": {
            "_model_module": "@jupyter-widgets/base",
            "_model_module_version": "1.2.0",
            "_model_name": "LayoutModel",
            "_view_count": null,
            "_view_module": "@jupyter-widgets/base",
            "_view_module_version": "1.2.0",
            "_view_name": "LayoutView",
            "align_content": null,
            "align_items": null,
            "align_self": null,
            "border": null,
            "bottom": null,
            "display": null,
            "flex": null,
            "flex_flow": null,
            "grid_area": null,
            "grid_auto_columns": null,
            "grid_auto_flow": null,
            "grid_auto_rows": null,
            "grid_column": null,
            "grid_gap": null,
            "grid_row": null,
            "grid_template_areas": null,
            "grid_template_columns": null,
            "grid_template_rows": null,
            "height": null,
            "justify_content": null,
            "justify_items": null,
            "left": null,
            "margin": null,
            "max_height": null,
            "max_width": null,
            "min_height": null,
            "min_width": null,
            "object_fit": null,
            "object_position": null,
            "order": null,
            "overflow": null,
            "overflow_x": null,
            "overflow_y": null,
            "padding": null,
            "right": null,
            "top": null,
            "visibility": null,
            "width": null
          }
        },
        "1426c52d07844d9188c00c43b82d683c": {
          "model_module": "@jupyter-widgets/controls",
          "model_name": "DescriptionStyleModel",
          "state": {
            "_model_module": "@jupyter-widgets/controls",
            "_model_module_version": "1.5.0",
            "_model_name": "DescriptionStyleModel",
            "_view_count": null,
            "_view_module": "@jupyter-widgets/base",
            "_view_module_version": "1.2.0",
            "_view_name": "StyleView",
            "description_width": ""
          }
        },
        "51831a9e04a14c5ba433e00a2a960741": {
          "model_module": "@jupyter-widgets/controls",
          "model_name": "HBoxModel",
          "state": {
            "_view_name": "HBoxView",
            "_dom_classes": [],
            "_model_name": "HBoxModel",
            "_view_module": "@jupyter-widgets/controls",
            "_model_module_version": "1.5.0",
            "_view_count": null,
            "_view_module_version": "1.5.0",
            "box_style": "",
            "layout": "IPY_MODEL_3c1d277961284065a50b6dd466a5f5ba",
            "_model_module": "@jupyter-widgets/controls",
            "children": [
              "IPY_MODEL_862b397806e948d59283abf0f6b17469",
              "IPY_MODEL_28c10d83d6e643e2ac3d7fad3605ac4c"
            ]
          }
        },
        "3c1d277961284065a50b6dd466a5f5ba": {
          "model_module": "@jupyter-widgets/base",
          "model_name": "LayoutModel",
          "state": {
            "_view_name": "LayoutView",
            "grid_template_rows": null,
            "right": null,
            "justify_content": null,
            "_view_module": "@jupyter-widgets/base",
            "overflow": null,
            "_model_module_version": "1.2.0",
            "_view_count": null,
            "flex_flow": null,
            "width": null,
            "min_width": null,
            "border": null,
            "align_items": null,
            "bottom": null,
            "_model_module": "@jupyter-widgets/base",
            "top": null,
            "grid_column": null,
            "overflow_y": null,
            "overflow_x": null,
            "grid_auto_flow": null,
            "grid_area": null,
            "grid_template_columns": null,
            "flex": null,
            "_model_name": "LayoutModel",
            "justify_items": null,
            "grid_row": null,
            "max_height": null,
            "align_content": null,
            "visibility": null,
            "align_self": null,
            "height": null,
            "min_height": null,
            "padding": null,
            "grid_auto_rows": null,
            "grid_gap": null,
            "max_width": null,
            "order": null,
            "_view_module_version": "1.2.0",
            "grid_template_areas": null,
            "object_position": null,
            "object_fit": null,
            "grid_auto_columns": null,
            "margin": null,
            "display": null,
            "left": null
          }
        },
        "862b397806e948d59283abf0f6b17469": {
          "model_module": "@jupyter-widgets/controls",
          "model_name": "FloatProgressModel",
          "state": {
            "_view_name": "ProgressView",
            "style": "IPY_MODEL_50ea8174a6a945bab7c1ed4e01dd9983",
            "_dom_classes": [],
            "description": "100%",
            "_model_name": "FloatProgressModel",
            "bar_style": "success",
            "max": 100,
            "_view_module": "@jupyter-widgets/controls",
            "_model_module_version": "1.5.0",
            "value": 100,
            "_view_count": null,
            "_view_module_version": "1.5.0",
            "orientation": "horizontal",
            "min": 0,
            "description_tooltip": null,
            "_model_module": "@jupyter-widgets/controls",
            "layout": "IPY_MODEL_8b95a18a353f489e9160d4f224bfd8f0"
          }
        },
        "28c10d83d6e643e2ac3d7fad3605ac4c": {
          "model_module": "@jupyter-widgets/controls",
          "model_name": "HTMLModel",
          "state": {
            "_view_name": "HTMLView",
            "style": "IPY_MODEL_06fae589c2b244c1987b48a18c444ac2",
            "_dom_classes": [],
            "description": "",
            "_model_name": "HTMLModel",
            "placeholder": "​",
            "_view_module": "@jupyter-widgets/controls",
            "_model_module_version": "1.5.0",
            "value": " 100/100 [01:11&lt;00:00,  1.41it/s]",
            "_view_count": null,
            "_view_module_version": "1.5.0",
            "description_tooltip": null,
            "_model_module": "@jupyter-widgets/controls",
            "layout": "IPY_MODEL_39234cc4337c4569af42add2cd11848f"
          }
        },
        "50ea8174a6a945bab7c1ed4e01dd9983": {
          "model_module": "@jupyter-widgets/controls",
          "model_name": "ProgressStyleModel",
          "state": {
            "_view_name": "StyleView",
            "_model_name": "ProgressStyleModel",
            "description_width": "initial",
            "_view_module": "@jupyter-widgets/base",
            "_model_module_version": "1.5.0",
            "_view_count": null,
            "_view_module_version": "1.2.0",
            "bar_color": null,
            "_model_module": "@jupyter-widgets/controls"
          }
        },
        "8b95a18a353f489e9160d4f224bfd8f0": {
          "model_module": "@jupyter-widgets/base",
          "model_name": "LayoutModel",
          "state": {
            "_view_name": "LayoutView",
            "grid_template_rows": null,
            "right": null,
            "justify_content": null,
            "_view_module": "@jupyter-widgets/base",
            "overflow": null,
            "_model_module_version": "1.2.0",
            "_view_count": null,
            "flex_flow": null,
            "width": null,
            "min_width": null,
            "border": null,
            "align_items": null,
            "bottom": null,
            "_model_module": "@jupyter-widgets/base",
            "top": null,
            "grid_column": null,
            "overflow_y": null,
            "overflow_x": null,
            "grid_auto_flow": null,
            "grid_area": null,
            "grid_template_columns": null,
            "flex": null,
            "_model_name": "LayoutModel",
            "justify_items": null,
            "grid_row": null,
            "max_height": null,
            "align_content": null,
            "visibility": null,
            "align_self": null,
            "height": null,
            "min_height": null,
            "padding": null,
            "grid_auto_rows": null,
            "grid_gap": null,
            "max_width": null,
            "order": null,
            "_view_module_version": "1.2.0",
            "grid_template_areas": null,
            "object_position": null,
            "object_fit": null,
            "grid_auto_columns": null,
            "margin": null,
            "display": null,
            "left": null
          }
        },
        "06fae589c2b244c1987b48a18c444ac2": {
          "model_module": "@jupyter-widgets/controls",
          "model_name": "DescriptionStyleModel",
          "state": {
            "_view_name": "StyleView",
            "_model_name": "DescriptionStyleModel",
            "description_width": "",
            "_view_module": "@jupyter-widgets/base",
            "_model_module_version": "1.5.0",
            "_view_count": null,
            "_view_module_version": "1.2.0",
            "_model_module": "@jupyter-widgets/controls"
          }
        },
        "39234cc4337c4569af42add2cd11848f": {
          "model_module": "@jupyter-widgets/base",
          "model_name": "LayoutModel",
          "state": {
            "_view_name": "LayoutView",
            "grid_template_rows": null,
            "right": null,
            "justify_content": null,
            "_view_module": "@jupyter-widgets/base",
            "overflow": null,
            "_model_module_version": "1.2.0",
            "_view_count": null,
            "flex_flow": null,
            "width": null,
            "min_width": null,
            "border": null,
            "align_items": null,
            "bottom": null,
            "_model_module": "@jupyter-widgets/base",
            "top": null,
            "grid_column": null,
            "overflow_y": null,
            "overflow_x": null,
            "grid_auto_flow": null,
            "grid_area": null,
            "grid_template_columns": null,
            "flex": null,
            "_model_name": "LayoutModel",
            "justify_items": null,
            "grid_row": null,
            "max_height": null,
            "align_content": null,
            "visibility": null,
            "align_self": null,
            "height": null,
            "min_height": null,
            "padding": null,
            "grid_auto_rows": null,
            "grid_gap": null,
            "max_width": null,
            "order": null,
            "_view_module_version": "1.2.0",
            "grid_template_areas": null,
            "object_position": null,
            "object_fit": null,
            "grid_auto_columns": null,
            "margin": null,
            "display": null,
            "left": null
          }
        }
      }
    }
  },
  "cells": [
    {
      "cell_type": "markdown",
      "metadata": {
        "id": "9bOfL2PRf88Q"
      },
      "source": [
        "# P1"
      ]
    },
    {
      "cell_type": "markdown",
      "metadata": {
        "id": "-5CdzvTXf_kl"
      },
      "source": [
        "## a "
      ]
    },
    {
      "cell_type": "code",
      "metadata": {
        "id": "_OXW8u2MgAsV"
      },
      "source": [
        "# import data \n",
        "import numpy as np\n",
        "from sklearn.datasets import load_digits\n",
        "import matplotlib.pyplot as plt \n",
        "from sklearn.metrics import accuracy_score\n",
        "from sklearn.base import ClassifierMixin, BaseEstimator"
      ],
      "execution_count": null,
      "outputs": []
    },
    {
      "cell_type": "code",
      "metadata": {
        "id": "psX0fEeTghhe"
      },
      "source": [
        "X, Y = load_digits(return_X_y = True)\n",
        "Y = np.where(Y<5, -1, 1)"
      ],
      "execution_count": null,
      "outputs": []
    },
    {
      "cell_type": "code",
      "metadata": {
        "colab": {
          "base_uri": "https://localhost:8080/"
        },
        "id": "_tWb-CBtgzZM",
        "outputId": "e379ef5d-af5e-40fd-afd1-317a7c5f8709"
      },
      "source": [
        "X.shape "
      ],
      "execution_count": null,
      "outputs": [
        {
          "output_type": "execute_result",
          "data": {
            "text/plain": [
              "(1797, 64)"
            ]
          },
          "metadata": {
            "tags": []
          },
          "execution_count": 49
        }
      ]
    },
    {
      "cell_type": "code",
      "metadata": {
        "colab": {
          "base_uri": "https://localhost:8080/"
        },
        "id": "L5Ud2wgshZSC",
        "outputId": "894f47c4-29b5-4fd8-c4f4-e3380207077a"
      },
      "source": [
        "np.unique(Y)"
      ],
      "execution_count": null,
      "outputs": [
        {
          "output_type": "execute_result",
          "data": {
            "text/plain": [
              "array([-1,  1])"
            ]
          },
          "metadata": {
            "tags": []
          },
          "execution_count": 50
        }
      ]
    },
    {
      "cell_type": "code",
      "metadata": {
        "colab": {
          "base_uri": "https://localhost:8080/",
          "height": 585
        },
        "id": "NaEH6LGhgnDv",
        "outputId": "80d03d0a-bca3-44d6-d117-9d772c3e0db8"
      },
      "source": [
        "\n",
        "fig, axs = plt.subplots(4 ,4 )\n",
        "axs = axs.flatten() \n",
        "for ind,ax in enumerate(axs): \n",
        "  ax.matshow(X[ind].reshape(8,8))\n",
        "  ax.set_title(f'{Y[ind]}')\n",
        "  ax.set_axis_off()\n",
        "\n",
        "fig.set_size_inches(8,8)\n",
        "fig.set_tight_layout('pad')"
      ],
      "execution_count": null,
      "outputs": [
        {
          "output_type": "display_data",
          "data": {
            "image/png": "[encoded data removed]",
            "text/plain": [
              "<Figure size 576x576 with 16 Axes>"
            ]
          },
          "metadata": {
            "tags": []
          }
        }
      ]
    },
    {
      "cell_type": "code",
      "metadata": {
        "id": "fl0CsDd_hFFc"
      },
      "source": [
        "## Implement Adaboost "
      ],
      "execution_count": null,
      "outputs": []
    },
    {
      "cell_type": "code",
      "metadata": {
        "id": "nYtfg7sqX9Nm"
      },
      "source": [
        "from functools import partial"
      ],
      "execution_count": null,
      "outputs": []
    },
    {
      "cell_type": "code",
      "metadata": {
        "id": "z3C8BnQu53AD"
      },
      "source": [
        "def decision_stumps(X, Y, D): \n",
        "  num_data, num_feature  = X.shape \n",
        "  min_obj = float('inf') \n",
        "  threshold, feature = None, None\n",
        "\n",
        "  for fea in range(num_feature):\n",
        "    data = X[:, fea].copy()\n",
        "    sort_ind = np.argsort(data)\n",
        "\n",
        "    sort_x = data[sort_ind]\n",
        "    sort_x = np.r_[sort_x, sort_x[-1] + 1 ]\n",
        "\n",
        "    sort_y = Y[sort_ind]\n",
        "    sort_d = D[sort_ind]\n",
        "\n",
        "    obj  = sort_d[sort_y == 1].sum() \n",
        "\n",
        "    if obj < min_obj: \n",
        "      min_obj = obj \n",
        "      threshold = sort_x[0]-1 \n",
        "      feature = fea \n",
        "\n",
        "    for ind in range(num_data): \n",
        "      obj = obj - sort_y[ind]* sort_d[ind]\n",
        "\n",
        "      if obj < min_obj and sort_x[ind] != sort_x[ind + 1]:\n",
        "        min_obj = obj \n",
        "        threshold = 0.5 *(sort_x[ind] + sort_x[ind+1])\n",
        "        feature = fea \n",
        "\n",
        "  def predictor(X, fea, threshold):\n",
        "\n",
        "    predicts = np.ones(X.shape[0])\n",
        "\n",
        "    predicts[X[:,fea] < threshold] = 1\n",
        "\n",
        "    predicts[X[:,fea] > threshold] = -1\n",
        "\n",
        "    return predicts \n",
        "\n",
        "  return partial(predictor, fea=feature, threshold=threshold)\n",
        "\n"
      ],
      "execution_count": null,
      "outputs": []
    },
    {
      "cell_type": "code",
      "metadata": {
        "id": "npFE4h6COuQN"
      },
      "source": [
        "class AdaBoost(ClassifierMixin, BaseEstimator):\n",
        "  def __init__(self, weak_learner, number_round):\n",
        "    self.weak_learner = weak_learner \n",
        "    self.number_round = number_round \n",
        "    self.learners = []\n",
        "\n",
        "  def fit(self, X, Y): \n",
        "    numbers_data = Y.shape[0] \n",
        "    d =  np.ones_like(Y)/numbers_data\n",
        "\n",
        "    for round in range(self.number_round): \n",
        "      h = self.weak_learner(X, Y, d)\n",
        "\n",
        "      error = d[Y != h(X)].sum()\n",
        "      \n",
        "      w = 0.5*(np.log(1/error -1))\n",
        "\n",
        "      self.learners.append((h,w))\n",
        "\n",
        "      # print(f'error: {error}\\t w:{w}')\n",
        "\n",
        "      temp = d * np.exp(- w * Y * h(X))\n",
        "      \n",
        "      d = temp/np.sum(temp)   \n",
        "\n",
        "      # print(f'Round: {round} \\t Acc: {accuracy_score(Y, self.predict(X))}')\n",
        "\n",
        "  def predict(self, X): \n",
        "\n",
        "    result = np.zeros(X.shape[0])\n",
        "\n",
        "    for learner,w in self.learners: \n",
        "      result += w * learner(X)  \n",
        "\n",
        "    return np.where(result > 0, 1, -1)\n"
      ],
      "execution_count": null,
      "outputs": []
    },
    {
      "cell_type": "code",
      "metadata": {
        "id": "1KhmBywXTX5S"
      },
      "source": [
        "ada = AdaBoost(decision_stumps, 50)"
      ],
      "execution_count": null,
      "outputs": []
    },
    {
      "cell_type": "code",
      "metadata": {
        "colab": {
          "base_uri": "https://localhost:8080/"
        },
        "id": "xpWThXT165Pr",
        "outputId": "d23e4b1c-382b-4a44-cf60-60b0a6abcefc"
      },
      "source": [
        "cross_val_score(ada, X, Y, cv=5)"
      ],
      "execution_count": null,
      "outputs": [
        {
          "output_type": "execute_result",
          "data": {
            "text/plain": [
              "array([0.80277778, 0.79722222, 0.78830084, 0.78830084, 0.79108635])"
            ]
          },
          "metadata": {
            "tags": []
          },
          "execution_count": 60
        }
      ]
    },
    {
      "cell_type": "code",
      "metadata": {
        "id": "Ff1ds9o4aIX1"
      },
      "source": [
        "from sklearn.ensemble import AdaBoostClassifier\n",
        "from sklearn.tree import DecisionTreeClassifier"
      ],
      "execution_count": null,
      "outputs": []
    },
    {
      "cell_type": "code",
      "metadata": {
        "id": "Ojum-qKBc1_M"
      },
      "source": [
        "dc = DecisionTreeClassifier(max_depth=1)"
      ],
      "execution_count": null,
      "outputs": []
    },
    {
      "cell_type": "code",
      "metadata": {
        "id": "FGCzwG92cSEk"
      },
      "source": [
        "skada = AdaBoostClassifier(dc)"
      ],
      "execution_count": null,
      "outputs": []
    },
    {
      "cell_type": "code",
      "metadata": {
        "colab": {
          "base_uri": "https://localhost:8080/"
        },
        "id": "ij5o1ljCcVjF",
        "outputId": "c1e9a7b9-b9e8-4d66-f598-7718e81d3f90"
      },
      "source": [
        "cross_val_score(skada, X, Y, cv=5)"
      ],
      "execution_count": null,
      "outputs": [
        {
          "output_type": "execute_result",
          "data": {
            "text/plain": [
              "array([0.83333333, 0.86666667, 0.91086351, 0.88857939, 0.8551532 ])"
            ]
          },
          "metadata": {
            "tags": []
          },
          "execution_count": 64
        }
      ]
    },
    {
      "cell_type": "markdown",
      "metadata": {
        "id": "jqHFuLocTS9m"
      },
      "source": [
        "# P2 "
      ]
    },
    {
      "cell_type": "code",
      "metadata": {
        "id": "i5KkilM2TUTo"
      },
      "source": [
        "from sklearn.base import ClassifierMixin, BaseEstimator, RegressorMixin"
      ],
      "execution_count": null,
      "outputs": []
    },
    {
      "cell_type": "markdown",
      "metadata": {
        "id": "ffYk1dPxTVPG"
      },
      "source": [
        "## b(iii)"
      ]
    },
    {
      "cell_type": "code",
      "metadata": {
        "id": "FmlvEnqnTX2t"
      },
      "source": [
        "class Boost_logistic_loss(ClassifierMixin, BaseEstimator):\n",
        "  def __init__(self, weak_learner, number_round=100, step_size=1e-1):\n",
        "    self.weak_learner = weak_learner \n",
        "    self.number_round = number_round \n",
        "    self.step_size = step_size \n",
        "    self.learners = [(lambda x : np.zeros(x.shape[0]) ,self.step_size),]\n",
        "  \n",
        "  def __call__(self, X):\n",
        "    result = np.zeros(X.shape[0])\n",
        "\n",
        "    for learner, w in self.learners: \n",
        "      result += w * learner(X)\n",
        "\n",
        "    return result \n",
        "\n",
        "  def fit(self, X, Y): \n",
        "\n",
        "    numbers_data = Y.shape[0] \n",
        "\n",
        "    for round in range(self.number_round): \n",
        "\n",
        "      z =  np.sum(1/(1+ np.exp(Y * self(X))))\n",
        "      d =  (1/(1+ np.exp(Y * self(X))))/z \n",
        "      h = self.weak_learner(X, Y, d)\n",
        "\n",
        "      # error = d[Y != h(X)].sum()\n",
        "      \n",
        "      # w = 0.5*(np.log(1/error -1))\n",
        "\n",
        "      if self.step_size: \n",
        "        step = self.step_size\n",
        "      else:\n",
        "        error = d[Y != h(X)].sum()\n",
        "        step = 0.5*(np.log(1/error -1))\n",
        "\n",
        "      self.learners.append((h, step))\n",
        "\n",
        "      # print(f'error: {error}\\t w:{w}')\n",
        "      # if verbose:\n",
        "      # print(f'Round: {round} \\t Acc: {accuracy_score(Y, self.predict(X))}')\n",
        "\n",
        "  def predict(self, X): \n",
        "\n",
        "    result = self(X)\n",
        "\n",
        "    # for learner,w in self.learners: \n",
        "      # result += w * learner(X)  \n",
        "\n",
        "    return np.where(result > 0, 1, -1)\n"
      ],
      "execution_count": null,
      "outputs": []
    },
    {
      "cell_type": "code",
      "metadata": {
        "colab": {
          "base_uri": "https://localhost:8080/"
        },
        "id": "CtlDkSoxvlyj",
        "outputId": "febc5b91-b4b9-478b-df5c-d92d5b59e45e"
      },
      "source": [
        "for lr in np.linspace(0, 10, 20):\n",
        "  bl = Boost_logistic_loss(decision_stumps, step_size=lr )\n",
        "  bl.fit(X,Y)\n",
        "  print(f'lr: {lr}\\t acc: {accuracy_score(Y, bl.predict(X))}')\n"
      ],
      "execution_count": null,
      "outputs": [
        {
          "output_type": "stream",
          "text": [
            "lr: 0.0\t acc: 0.8269337785197551\n",
            "lr: 0.5263157894736842\t acc: 0.8341680578742349\n",
            "lr: 1.0526315789473684\t acc: 0.8447412353923205\n",
            "lr: 1.5789473684210527\t acc: 0.8102392877017252\n",
            "lr: 2.1052631578947367\t acc: 0.8196994991652755\n",
            "lr: 2.631578947368421\t acc: 0.803561491374513\n",
            "lr: 3.1578947368421053\t acc: 0.798553144129104\n",
            "lr: 3.6842105263157894\t acc: 0.7890929326655537\n",
            "lr: 4.2105263157894735\t acc: 0.7946577629382304\n",
            "lr: 4.7368421052631575\t acc: 0.7913188647746243\n",
            "lr: 5.263157894736842\t acc: 0.7996661101836394\n",
            "lr: 5.789473684210526\t acc: 0.800222593210907\n",
            "lr: 6.315789473684211\t acc: 0.800222593210907\n",
            "lr: 6.842105263157895\t acc: 0.7946577629382304\n",
            "lr: 7.368421052631579\t acc: 0.7913188647746243\n",
            "lr: 7.894736842105263\t acc: 0.800222593210907\n",
            "lr: 8.421052631578947\t acc: 0.7946577629382304\n",
            "lr: 8.947368421052632\t acc: 0.7946577629382304\n",
            "lr: 9.473684210526315\t acc: 0.7918753478018921\n",
            "lr: 10.0\t acc: 0.7918753478018921\n"
          ],
          "name": "stdout"
        }
      ]
    },
    {
      "cell_type": "code",
      "metadata": {
        "id": "baL3--hW7fYA"
      },
      "source": [
        "bl = Boost_logistic_loss(decision_stumps, step_size=1)"
      ],
      "execution_count": null,
      "outputs": []
    },
    {
      "cell_type": "code",
      "metadata": {
        "colab": {
          "base_uri": "https://localhost:8080/"
        },
        "id": "dt1cAfXTjFJc",
        "outputId": "72499cd3-f8f6-4181-a918-2a0541d7197f"
      },
      "source": [
        "cross_val_score(bl, X, Y, cv=5)"
      ],
      "execution_count": null,
      "outputs": [
        {
          "output_type": "execute_result",
          "data": {
            "text/plain": [
              "array([0.79444444, 0.73888889, 0.80501393, 0.77158774, 0.77715877])"
            ]
          },
          "metadata": {
            "tags": []
          },
          "execution_count": 66
        }
      ]
    },
    {
      "cell_type": "markdown",
      "metadata": {
        "id": "WXPMGJP02oZ9"
      },
      "source": [
        "## b(iv)"
      ]
    },
    {
      "cell_type": "code",
      "metadata": {
        "id": "4TyYIip92qFk"
      },
      "source": [
        "from sklearn.tree import DecisionTreeRegressor\n",
        "from sklearn.datasets import load_boston\n",
        "from sklearn import metrics"
      ],
      "execution_count": null,
      "outputs": []
    },
    {
      "cell_type": "code",
      "metadata": {
        "id": "t3c9uzO2a2Z8"
      },
      "source": [
        ""
      ],
      "execution_count": null,
      "outputs": []
    },
    {
      "cell_type": "code",
      "metadata": {
        "id": "iFqFbsue6i0E"
      },
      "source": [
        "from sklearn.model_selection import cross_val_score\n",
        "from sklearn.model_selection import train_test_split"
      ],
      "execution_count": null,
      "outputs": []
    },
    {
      "cell_type": "code",
      "metadata": {
        "id": "9I6sXIhPFM9m"
      },
      "source": [
        "def display_scores(scores):\n",
        "  print(f'scores: {scores}')\n",
        "  print(f'Mean: {scores.mean()}')\n",
        "  print(f'Std: {scores.std()}')"
      ],
      "execution_count": null,
      "outputs": []
    },
    {
      "cell_type": "code",
      "metadata": {
        "id": "iD6eUegR6Cc_"
      },
      "source": [
        "X2, Y2 = load_boston(return_X_y = True)\n",
        "X2_train, X2_test, Y2_train, Y2_test = train_test_split(X2, Y2, test_size=0.1, random_state=42)"
      ],
      "execution_count": null,
      "outputs": []
    },
    {
      "cell_type": "code",
      "metadata": {
        "colab": {
          "base_uri": "https://localhost:8080/"
        },
        "id": "o4OtEDKsMdhL",
        "outputId": "fc5b026a-2d60-48e3-f585-3c2e2db87a95"
      },
      "source": [
        "for i in range(10):\n",
        "  dtr = DecisionTreeRegressor(max_leaf_nodes=5)\n",
        "  dtr.fit(X2_train, Y2_train)\n",
        "  print(f'Error :{metrics.mean_squared_error(Y2_test, dtr.predict(X2_test))}')"
      ],
      "execution_count": null,
      "outputs": [
        {
          "output_type": "stream",
          "text": [
            "Error :23.536607739512178\n",
            "Error :23.536607739512174\n",
            "Error :23.536607739512178\n",
            "Error :23.53660773951218\n",
            "Error :23.53660773951217\n",
            "Error :23.536607739512196\n",
            "Error :23.536607739512196\n",
            "Error :23.536607739512203\n",
            "Error :23.536607739512203\n",
            "Error :23.53660773951217\n"
          ],
          "name": "stdout"
        }
      ]
    },
    {
      "cell_type": "code",
      "metadata": {
        "id": "R82QGYUZ27LW"
      },
      "source": [
        "class Boost_CART(RegressorMixin, BaseEstimator):\n",
        "  def __init__(self, weak_learner, number_round=100):\n",
        "    self.weak_learner = weak_learner \n",
        "    self.number_round = number_round \n",
        "    self.learners = []\n",
        "\n",
        "  def __call__(self, X):\n",
        "    result = np.zeros(X.shape[0])\n",
        "\n",
        "    if not self.learners: \n",
        "      return result \n",
        "    else:\n",
        "      for learner in self.learners: \n",
        "        result += learner.predict(X)\n",
        "    return result \n",
        "\n",
        "  def fit(self, X, Y): \n",
        "\n",
        "    for round in range(self.number_round): \n",
        "      residual = Y - self(X)\n",
        "      # print(residual.mean())\n",
        "      weak_learner = self.weak_learner() \n",
        "      weak_learner.fit(X, residual)\n",
        "      self.learners.append(weak_learner)\n",
        "\n",
        "  def predict(self, X): \n",
        "\n",
        "    return self(X)\n"
      ],
      "execution_count": null,
      "outputs": []
    },
    {
      "cell_type": "code",
      "metadata": {
        "colab": {
          "base_uri": "https://localhost:8080/"
        },
        "id": "x8Tyc_ta58vR",
        "outputId": "a2911176-18b3-44c4-92cb-7564d4c5a149"
      },
      "source": [
        "for i in range(5):\n",
        "  bc = Boost_CART(partial(DecisionTreeRegressor, max_leaf_nodes=5), 100)\n",
        "  bc.fit(X2_train, Y2_train)\n",
        "  print(f'Error: {metrics.mean_squared_error(Y2_test, bc.predict(X2_test))}')"
      ],
      "execution_count": null,
      "outputs": [
        {
          "output_type": "stream",
          "text": [
            "Error: 4.727736401477419\n",
            "Error: 4.8109653844403395\n",
            "Error: 4.727736401477413\n",
            "Error: 4.811960883946464\n",
            "Error: 4.72773640147742\n"
          ],
          "name": "stdout"
        }
      ]
    },
    {
      "cell_type": "code",
      "metadata": {
        "id": "SR4c9otIOQni"
      },
      "source": [
        ""
      ],
      "execution_count": null,
      "outputs": []
    },
    {
      "cell_type": "markdown",
      "metadata": {
        "id": "tgJbMZamOQ17"
      },
      "source": [
        "# p3"
      ]
    },
    {
      "cell_type": "code",
      "metadata": {
        "id": "7Z5b_9UcORpS"
      },
      "source": [
        ""
      ],
      "execution_count": null,
      "outputs": []
    },
    {
      "cell_type": "code",
      "metadata": {
        "id": "Mn3VLB2kapoL"
      },
      "source": [
        "from sklearn.tree import DecisionTreeRegressor\n",
        "from sklearn.datasets import load_boston\n",
        "from sklearn import metrics"
      ],
      "execution_count": null,
      "outputs": []
    },
    {
      "cell_type": "code",
      "metadata": {
        "id": "JNosWN9_apoT"
      },
      "source": [
        "from sklearn.model_selection import cross_val_score\n",
        "from sklearn.model_selection import train_test_split\n",
        "from sklearn.base import ClassifierMixin, BaseEstimator, RegressorMixin"
      ],
      "execution_count": null,
      "outputs": []
    },
    {
      "cell_type": "code",
      "metadata": {
        "id": "eJDgNIRaapoT"
      },
      "source": [
        "def display_scores(scores):\n",
        "  print(f'scores: {scores}')\n",
        "  print(f'Mean: {scores.mean()}')\n",
        "  print(f'Std: {scores.std()}')"
      ],
      "execution_count": null,
      "outputs": []
    },
    {
      "cell_type": "code",
      "metadata": {
        "id": "mV8WHyLYapoU"
      },
      "source": [
        "X2, Y2 = load_boston(return_X_y = True)\n",
        "X2_train, X2_test, Y2_train, Y2_test = train_test_split(X2, Y2, test_size=0.1, random_state=42)"
      ],
      "execution_count": null,
      "outputs": []
    },
    {
      "cell_type": "markdown",
      "metadata": {
        "id": "gFhzcgxYOSZM"
      },
      "source": [
        "## a "
      ]
    },
    {
      "cell_type": "code",
      "metadata": {
        "id": "I-nEL7ZVOTCo"
      },
      "source": [
        "class Bagging_CART(RegressorMixin, BaseEstimator): \n",
        "  def __init__(self, weak_learner, number_round=100 ):\n",
        "    self.weak_learner = weak_learner \n",
        "    self.number_round = number_round \n",
        "    self.learners = []\n",
        "\n",
        "  def __call__(self, X):\n",
        "    result = np.zeros(X.shape[0])\n",
        "\n",
        "    if not self.learners: \n",
        "      return result \n",
        "    else:\n",
        "      for learner in self.learners: \n",
        "        result += learner.predict(X)\n",
        "\n",
        "    return result/self.number_round\n",
        "\n",
        "  def fit(self, X, Y): \n",
        "    \n",
        "\n",
        "    # weak_learner = self.weak_learner() \n",
        "    # weak_learner.fit(X, Y)\n",
        "    # self.learners.append(weak_learner)\n",
        "\n",
        "    for round in range(self.number_round): \n",
        "      ind = np.random.choice(X.shape[0],X.shape[0], )\n",
        "      BX = X[ind,:]\n",
        "      BY = Y[ind]\n",
        "\n",
        "      weak_learner = self.weak_learner() \n",
        "      weak_learner.fit(BX,BY)\n",
        "\n",
        "      self.learners.append(weak_learner)\n",
        "\n",
        "  def predict(self, X): \n",
        "\n",
        "    return self(X)\n",
        "\n",
        "\n"
      ],
      "execution_count": null,
      "outputs": []
    },
    {
      "cell_type": "code",
      "metadata": {
        "colab": {
          "base_uri": "https://localhost:8080/"
        },
        "id": "Bqneuna8b-lR",
        "outputId": "899f8fef-d301-4a6a-d482-fb76dc5ccf5f"
      },
      "source": [
        "# reduce variance \n",
        "for i in range(5):\n",
        "  bg = Bagging_CART(partial(DecisionTreeRegressor), 100)\n",
        "  bg.fit(X2_train, Y2_train)\n",
        "  print(f'Error: {metrics.mean_squared_error(Y2_test, bg.predict(X2_test))}')"
      ],
      "execution_count": null,
      "outputs": [
        {
          "output_type": "stream",
          "text": [
            "Error: 8.718871274509807\n",
            "Error: 9.424940392156875\n",
            "Error: 8.065484078431378\n",
            "Error: 11.055133392156877\n",
            "Error: 9.481172411764707\n"
          ],
          "name": "stdout"
        }
      ]
    },
    {
      "cell_type": "code",
      "metadata": {
        "colab": {
          "base_uri": "https://localhost:8080/"
        },
        "id": "YgvezFURfiXL",
        "outputId": "add69dfe-9040-4113-a01f-3b91cf598b43"
      },
      "source": [
        "# Larger Baise \n",
        "for i in range(5):\n",
        "  d= DecisionTreeRegressor()\n",
        "  d.fit(X2_train, Y2_train)\n",
        "  print(f'Error: {metrics.mean_squared_error(Y2_test, d.predict(X2_test))}')"
      ],
      "execution_count": null,
      "outputs": [
        {
          "output_type": "stream",
          "text": [
            "Error: 33.34058823529412\n",
            "Error: 11.772745098039218\n",
            "Error: 11.821568627450983\n",
            "Error: 34.48862745098039\n",
            "Error: 33.73274509803922\n"
          ],
          "name": "stdout"
        }
      ]
    },
    {
      "cell_type": "markdown",
      "metadata": {
        "id": "5EiscU58g9Uz"
      },
      "source": [
        "## b "
      ]
    },
    {
      "cell_type": "code",
      "metadata": {
        "id": "a6lH9wRYg98n"
      },
      "source": [
        "class MyRandomForest(RegressorMixin, BaseEstimator):\n",
        "  def __init__(self,  weak_learner, number_round=100,):\n",
        "    self.weak_learner = weak_learner \n",
        "    self.number_round = number_round \n",
        "    self.learners = []\n",
        "    self.oob = {}\n",
        "    self.oob_score= 0\n",
        "  def __call__(self, X):\n",
        "    result = np.zeros(X.shape[0])\n",
        "\n",
        "    if not self.learners: \n",
        "      return result \n",
        "    else:\n",
        "      for learner in self.learners: \n",
        "        result += learner.predict(X)\n",
        "\n",
        "    return result/self.number_round\n",
        "\n",
        "  def fit(self, X, Y): \n",
        "    \n",
        "    for round in range(self.number_round): \n",
        "      self.oob = set(list(range(X.shape[0])))\n",
        "      ind = np.random.choice(X.shape[0],X.shape[0], )\n",
        "\n",
        "      self.oob = self.oob - set(ind)\n",
        "\n",
        "      BX = X[ind,:]\n",
        "      BY = Y[ind]\n",
        "\n",
        "      weak_learner = self.weak_learner() \n",
        "      weak_learner.fit(BX,BY)\n",
        "\n",
        "      self.learners.append(weak_learner)\n",
        "\n",
        "      oobx, ooby = X[list(self.oob),:], Y[list(self.oob)]\n",
        "      self.oob_score += metrics.mean_squared_error(ooby, self.predict(oobx))\n",
        "    # print(f\"OOB Error:{self.oob_score/self.number_round}\")\n",
        "\n",
        "  def predict(self, X): \n",
        "\n",
        "    return self(X)\n",
        "\n"
      ],
      "execution_count": null,
      "outputs": []
    },
    {
      "cell_type": "code",
      "metadata": {
        "colab": {
          "base_uri": "https://localhost:8080/"
        },
        "id": "ssFlTaSukzUR",
        "outputId": "55e37d21-6c3a-4a8f-a873-6ba76663be67"
      },
      "source": [
        "#max feature/m = p/3 \n",
        "#\n",
        "\n",
        "for i in range(5):\n",
        "  mrf = MyRandomForest(partial(DecisionTreeRegressor, max_features= max(X2.shape[1]//3,5)), 100)\n",
        "  mrf.fit(X2_train, Y2_train)\n",
        "  print(f'Error: {metrics.mean_squared_error(Y2_test, mrf.predict(X2_test))}')"
      ],
      "execution_count": null,
      "outputs": [
        {
          "output_type": "stream",
          "text": [
            "Error: 5.244079843137252\n",
            "Error: 6.062448039215684\n",
            "Error: 6.783053803921562\n",
            "Error: 6.428040078431373\n",
            "Error: 4.72338462745098\n"
          ],
          "name": "stdout"
        }
      ]
    },
    {
      "cell_type": "code",
      "metadata": {
        "id": "QSFa0ZHzlEj0"
      },
      "source": [
        ""
      ],
      "execution_count": null,
      "outputs": []
    },
    {
      "cell_type": "markdown",
      "metadata": {
        "id": "bRiuIZLhqWZo"
      },
      "source": [
        "## c "
      ]
    },
    {
      "cell_type": "code",
      "metadata": {
        "id": "Tj6_MxDcrUKc"
      },
      "source": [
        ""
      ],
      "execution_count": null,
      "outputs": []
    },
    {
      "cell_type": "code",
      "metadata": {
        "id": "Vq0L10_1seHq"
      },
      "source": [
        "from tqdm.notebook import tqdm\n",
        "from sklearn.model_selection import cross_validate"
      ],
      "execution_count": null,
      "outputs": []
    },
    {
      "cell_type": "markdown",
      "metadata": {
        "id": "HYjsGik034Ib"
      },
      "source": [
        "### Cross Validation"
      ]
    },
    {
      "cell_type": "code",
      "metadata": {
        "colab": {
          "base_uri": "https://localhost:8080/",
          "height": 66,
          "referenced_widgets": [
            "711c61e13b7b4dbe99a69562fd0bf0bb",
            "3285455bafe74467aaec4218d1e3cf5d",
            "bc3452564e5d4e2baea35319390ecf38",
            "cd84a24da5ee4eb5bcb3e7db2a7597de",
            "8519d20fceb94a5c81f31a88255f42f4",
            "1ef9ece0c0d340fa8d44e6322b587c4d",
            "5fe08e95d5184a37a76555efe1055dc3",
            "1426c52d07844d9188c00c43b82d683c"
          ]
        },
        "id": "LraVPusu0ZJ0",
        "outputId": "b3cb222c-af7c-4a80-af43-341fd46bbddb"
      },
      "source": [
        "trees = 100\n",
        "e1s,e2s,e3s = [],[],[] \n",
        "\n",
        "for num_tree in tqdm(range(trees)):\n",
        "  bc = Boost_CART(partial(DecisionTreeRegressor, max_leaf_nodes=5), num_tree)\n",
        "  s1  = cross_validate(bc ,X2, Y2, scoring='neg_mean_squared_error', cv=10, return_train_score=True, n_jobs=-1)\n",
        "  e1s.append((-s1['test_score']).mean())\n",
        "\n",
        "  # reduce variance \n",
        "  bg = Bagging_CART(partial(DecisionTreeRegressor), num_tree)\n",
        "  s2  = cross_validate(bg ,X2, Y2, scoring='neg_mean_squared_error', cv=10, return_train_score=True, n_jobs=-1)\n",
        "  e2s.append((-s2['test_score']).mean())\n",
        "\n",
        "  mrf = MyRandomForest(partial(DecisionTreeRegressor, max_features= max(X2.shape[1]//3,5)), num_tree)\n",
        "  s3  = cross_validate(mrf ,X2, Y2, scoring='neg_mean_squared_error', cv=10, return_train_score=True, n_jobs=-1)\n",
        "  e3s.append((-s3['test_score']).mean())\n",
        "\n"
      ],
      "execution_count": null,
      "outputs": [
        {
          "output_type": "display_data",
          "data": {
            "application/vnd.jupyter.widget-view+json": {
              "model_id": "711c61e13b7b4dbe99a69562fd0bf0bb",
              "version_major": 2,
              "version_minor": 0
            },
            "text/plain": [
              "HBox(children=(FloatProgress(value=0.0), HTML(value='')))"
            ]
          },
          "metadata": {
            "tags": []
          }
        },
        {
          "output_type": "stream",
          "text": [
            "\n"
          ],
          "name": "stdout"
        }
      ]
    },
    {
      "cell_type": "code",
      "metadata": {
        "colab": {
          "base_uri": "https://localhost:8080/",
          "height": 534
        },
        "id": "Z_9CdO0A4FtP",
        "outputId": "486584a6-fdc6-4d3b-cdf0-1bce5cf1d944"
      },
      "source": [
        "plt.style.use('ggplot')\n",
        "plt.rcParams['font.size'] = 14\n",
        "\n",
        "fig, ax = plt.subplots() \n",
        "x = range(trees)\n",
        " \n",
        "\n",
        "ax.plot(x, e1s, color='r', linewidth=2, label='Gradient Boosting (5 Node)')\n",
        "ax.plot(x, e2s, color='g', linewidth=2, label='Bagging')\n",
        "ax.plot(x, e3s, color='y', linewidth=2,label='Random Forest')\n",
        "\n",
        "ax.legend(fontsize=15,edgecolor='k',fancybox=True)\n",
        "\n",
        "ax.tick_params(axis='y', labelsize=15)\n",
        "ax.tick_params(axis='x', labelsize=15)\n",
        "ax.set_ylim(0, 50)\n",
        "ax.set_title(f'House Price Data')\n",
        "ax.set_xlabel('Number of Trees')\n",
        "ax.set_ylabel('Test Error (MSE)')\n",
        "fig.set_size_inches(14,8)\n",
        "\n",
        "plt.savefig(f'CV.png',  \n",
        "\t\t\tformat='png',  \n",
        "\t\t\tbbox_inches='tight',  \n",
        "\t\t\tdpi=300  \n",
        "\t\t\t)"
      ],
      "execution_count": null,
      "outputs": [
        {
          "output_type": "display_data",
          "data": {
            "image/png": "[encoded data removed]",
            "text/plain": [
              "<Figure size 1008x576 with 1 Axes>"
            ]
          },
          "metadata": {
            "tags": []
          }
        }
      ]
    },
    {
      "cell_type": "markdown",
      "metadata": {
        "id": "abf0HTKp387S"
      },
      "source": [
        "### Train and Test set "
      ]
    },
    {
      "cell_type": "code",
      "metadata": {
        "colab": {
          "base_uri": "https://localhost:8080/",
          "height": 66,
          "referenced_widgets": [
            "51831a9e04a14c5ba433e00a2a960741",
            "3c1d277961284065a50b6dd466a5f5ba",
            "862b397806e948d59283abf0f6b17469",
            "28c10d83d6e643e2ac3d7fad3605ac4c",
            "50ea8174a6a945bab7c1ed4e01dd9983",
            "8b95a18a353f489e9160d4f224bfd8f0",
            "06fae589c2b244c1987b48a18c444ac2",
            "39234cc4337c4569af42add2cd11848f"
          ]
        },
        "id": "9x-bNM4-qW9e",
        "outputId": "2bd62ec8-bb63-448c-a297-81c98704282b"
      },
      "source": [
        "trees = 100\n",
        "e1s,e2s,e3s = [],[],[] \n",
        "\n",
        "for num_tree in tqdm(range(trees)):\n",
        "  bc = Boost_CART(partial(DecisionTreeRegressor, max_leaf_nodes=5), num_tree)\n",
        "  bc.fit(X2_train, Y2_train)\n",
        "  e1 = metrics.mean_squared_error(Y2_test, bc.predict(X2_test))\n",
        "  e1s.append(e1)\n",
        "\n",
        "  # reduce variance \n",
        "  bg = Bagging_CART(partial(DecisionTreeRegressor), num_tree)\n",
        "  bg.fit(X2_train, Y2_train)\n",
        "  e2 = metrics.mean_squared_error(Y2_test, bg.predict(X2_test))\n",
        "  e2s.append(e2)\n",
        "\n",
        "  mrf = MyRandomForest(partial(DecisionTreeRegressor, max_features= max(X2.shape[1]//3,5)), num_tree)\n",
        "  mrf.fit(X2_train, Y2_train)\n",
        "  e3 = metrics.mean_squared_error(Y2_test, mrf.predict(X2_test))\n",
        "  e3s.append(e3)\n",
        "\n"
      ],
      "execution_count": null,
      "outputs": [
        {
          "output_type": "display_data",
          "data": {
            "application/vnd.jupyter.widget-view+json": {
              "model_id": "51831a9e04a14c5ba433e00a2a960741",
              "version_minor": 0,
              "version_major": 2
            },
            "text/plain": [
              "HBox(children=(FloatProgress(value=0.0), HTML(value='')))"
            ]
          },
          "metadata": {
            "tags": []
          }
        },
        {
          "output_type": "stream",
          "text": [
            "\n"
          ],
          "name": "stdout"
        }
      ]
    },
    {
      "cell_type": "code",
      "metadata": {
        "colab": {
          "base_uri": "https://localhost:8080/",
          "height": 534
        },
        "id": "ZRNF1gnYrPAD",
        "outputId": "0aad3778-b9ff-4dce-8858-8b17272f0161"
      },
      "source": [
        "plt.style.use('ggplot')\n",
        "plt.rcParams['font.size'] = 14\n",
        "\n",
        "fig, ax = plt.subplots() \n",
        "x = range(trees)\n",
        " \n",
        "\n",
        "ax.plot(x, e1s, color='r', linewidth=2, label='Gradient Boosting (5 Node)')\n",
        "ax.plot(x, e2s, color='g', linewidth=2, label='Bagging')\n",
        "ax.plot(x, e3s, color='y', linewidth=2,label='Random Forest')\n",
        "\n",
        "ax.legend(fontsize=15,edgecolor='k',fancybox=True)\n",
        "\n",
        "ax.tick_params(axis='y', labelsize=15)\n",
        "ax.tick_params(axis='x', labelsize=15)\n",
        "ax.set_ylim(0, 20)\n",
        "ax.set_title(f'House Price Data')\n",
        "ax.set_xlabel('Number of Trees')\n",
        "ax.set_ylabel('Test Error (MSE)')\n",
        "fig.set_size_inches(14,8)\n",
        "plt.savefig(f'NCV.png',  \n",
        "\t\t\tformat='png',  \n",
        "\t\t\tbbox_inches='tight',  \n",
        "\t\t\tdpi=300  \n",
        "\t\t\t)"
      ],
      "execution_count": null,
      "outputs": [
        {
          "output_type": "display_data",
          "data": {
            "image/png": "[encoded data removed]",
            "text/plain": [
              "<Figure size 1008x576 with 1 Axes>"
            ]
          },
          "metadata": {
            "tags": []
          }
        }
      ]
    },
    {
      "cell_type": "code",
      "metadata": {
        "id": "MCIkGMmptH_R"
      },
      "source": [
        ""
      ],
      "execution_count": null,
      "outputs": []
    }
  ]
}