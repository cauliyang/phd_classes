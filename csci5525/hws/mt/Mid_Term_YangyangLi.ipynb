{
  "nbformat": 4,
  "nbformat_minor": 0,
  "metadata": {
    "colab": {
      "name": "Mid_Term_YangyangLi.ipynb",
      "provenance": [],
      "collapsed_sections": []
    },
    "kernelspec": {
      "display_name": "Python 3",
      "name": "python3"
    },
    "language_info": {
      "name": "python"
    }
  },
  "cells": [
    {
      "cell_type": "markdown",
      "metadata": {
        "id": "WgJ7LTy9iYVN"
      },
      "source": [
        "# 1. Problem 1"
      ]
    },
    {
      "cell_type": "markdown",
      "metadata": {
        "id": "P2qyYPLlicG_"
      },
      "source": [
        "## 1. d i"
      ]
    },
    {
      "cell_type": "code",
      "metadata": {
        "id": "JVTM0sybifdu"
      },
      "source": [
        "from IPython.core.interactiveshell import InteractiveShell \n",
        "InteractiveShell.ast_node_interactivity = \"all\"\n",
        "import numpy as np \n",
        "import matplotlib.pyplot as plt"
      ],
      "execution_count": null,
      "outputs": []
    },
    {
      "cell_type": "code",
      "metadata": {
        "id": "Xelm10hkjz2J"
      },
      "source": [
        "# define objective function and subgradient \n",
        "def objective_function(A, x, y, la): \n",
        "  return 0.5 * np.linalg.norm(y - A@x)**2 + la * np.linalg.norm(x, ord=1)\n",
        "\n",
        "def sub_grdient(x, value):\n",
        "  data = x.copy() \n",
        "  data[data > 0] = 1\n",
        "  data[data < 0] = -1\n",
        "  temp  = value if value else rng.uniform(low=-1, high=1, size = 1 )\n",
        "  return   np.where(data == 0, temp , data)\n",
        "\n",
        "\n",
        "def objective_function_gradient(A, x, y, la, value):\n",
        "  return  A.T.dot(A@x - y) + la*sub_grdient(x, value) \n"
      ],
      "execution_count": null,
      "outputs": []
    },
    {
      "cell_type": "code",
      "metadata": {
        "id": "5BXWBdCzer1m"
      },
      "source": [
        "def train(A, x, x0,  y, la, value=0.6, threshold=1e-4, step_size=1e-3):\n",
        "\n",
        "  \n",
        "  delta = np.abs(objective_function(A, x, y, la)) \n",
        "\n",
        "  k=1\n",
        "  while delta > threshold: \n",
        "\n",
        "    last = objective_function(A, x, y, la)\n",
        "\n",
        "    x -=  (step_size/np.square(k)) *  objective_function_gradient(A, x, y, la, value)\n",
        "\n",
        "    current = objective_function(A, x, y, la) \n",
        "    delta = np.abs(current - last)  \n",
        "\n",
        "    if (k-1) % 500 == 0: \n",
        "\n",
        "      loss = np.linalg.norm(x - x0)**2\n",
        "\n",
        "      print(f\"Iter {k} Loss: {loss}\")    \n",
        "    \n",
        "    k +=1\n",
        "  return x "
      ],
      "execution_count": null,
      "outputs": []
    },
    {
      "cell_type": "code",
      "metadata": {
        "id": "LBXJG38fam5K"
      },
      "source": [
        "rng = np.random.default_rng(seed=42)\n",
        "N, d, p = 30, 100, .2\n",
        "A = rng.standard_normal(size = (N, d))\n",
        "epsilon = rng.normal(loc=0, scale=.5, size=(N, 1))\n",
        "x0 = rng.binomial(1, p , d).reshape(d, -1)\n",
        "y = A.dot(x0) + epsilon\n"
      ],
      "execution_count": null,
      "outputs": []
    },
    {
      "cell_type": "markdown",
      "metadata": {
        "id": "b3I-Nx9Aj-AK"
      },
      "source": [
        "Try $\\lambda = 10, 1, 1e-2$. Get best performace when $\\lambda = 1e-2$"
      ]
    },
    {
      "cell_type": "code",
      "metadata": {
        "colab": {
          "base_uri": "https://localhost:8080/"
        },
        "id": "7CoU3PuUuYqk",
        "outputId": "aab64a12-7417-4354-b46d-71baa1794264"
      },
      "source": [
        "lambda_values = [10, 1, 1e-2]\n",
        "\n",
        "x_values = [] \n",
        "for lambda_value in lambda_values:\n",
        "  x = np.zeros(shape=(100,1)) \n",
        "  x = train(A, x, x0, y, lambda_value, value= None, threshold=1e-4,  step_size=1)\n",
        "  x_values.append(x)\n",
        "  print(f'lambda value: {lambda_value} End\\n')"
      ],
      "execution_count": null,
      "outputs": [
        {
          "output_type": "stream",
          "text": [
            "Iter 1 Loss: 82203.28891718033\n",
            "Iter 501 Loss: 4013.7469811206283\n",
            "Iter 1001 Loss: 4003.2400657485628\n",
            "Iter 1501 Loss: 3999.734407408353\n",
            "Iter 2001 Loss: 3997.980961141197\n",
            "Iter 2501 Loss: 3996.9286943719126\n",
            "Iter 3001 Loss: 3996.2270998619256\n",
            "Iter 3501 Loss: 3995.7259166650724\n",
            "Iter 4001 Loss: 3995.350007462291\n",
            "Iter 4501 Loss: 3995.05762268272\n",
            "Iter 5001 Loss: 3994.8237047299717\n",
            "Iter 5501 Loss: 3994.6323132490543\n",
            "Iter 6001 Loss: 3994.4728153253595\n",
            "Iter 6501 Loss: 3994.3378529168554\n",
            "Iter 7001 Loss: 3994.222168935202\n",
            "Iter 7501 Loss: 3994.1219080491837\n",
            "Iter 8001 Loss: 3994.034178679282\n",
            "Iter 8501 Loss: 3993.9567701157935\n",
            "lambda value: 10 End\n",
            "\n",
            "Iter 1 Loss: 84605.04231233979\n",
            "Iter 501 Loss: 34.81136623588204\n",
            "Iter 1001 Loss: 34.727832446839884\n",
            "lambda value: 1 End\n",
            "\n",
            "Iter 1 Loss: 83675.35169695459\n",
            "Iter 501 Loss: 11.557893367246884\n",
            "lambda value: 0.01 End\n",
            "\n"
          ],
          "name": "stdout"
        }
      ]
    },
    {
      "cell_type": "code",
      "metadata": {
        "colab": {
          "base_uri": "https://localhost:8080/",
          "height": 493
        },
        "id": "PUl1SVR8v49V",
        "outputId": "e4618073-b4ff-4066-a6a8-4cd60b6f372b"
      },
      "source": [
        "fig, axs = plt.subplots(1,3);\n",
        "axs = axs.flatten()\n",
        "k = 0 \n",
        "for col in range(3): \n",
        "    ax = axs[col]\n",
        "    ax.stem(x_values[col], linefmt='red', markerfmt='o',label=rf'$\\lambda = {lambda_values[col]}$',use_line_collection= True)\n",
        "    ax.stem(x0, linefmt='gray', markerfmt='*',label='Groudtruth',use_line_collection= True)\n",
        "    ax.set_xlabel(\"Index\")\n",
        "    ax.set_ylabel(\"Value\")\n",
        "    ax.set_title(f\"$\\lambda = {lambda_values[col]}$\")\n",
        "    ax.legend() \n",
        "\n",
        "fig.set_size_inches(20, 6)\n",
        "fig.set_tight_layout(\"pad\")"
      ],
      "execution_count": null,
      "outputs": [
        {
          "output_type": "execute_result",
          "data": {
            "text/plain": [
              "<StemContainer object of 3 artists>"
            ]
          },
          "metadata": {
            "tags": []
          },
          "execution_count": 100
        },
        {
          "output_type": "execute_result",
          "data": {
            "text/plain": [
              "<StemContainer object of 3 artists>"
            ]
          },
          "metadata": {
            "tags": []
          },
          "execution_count": 100
        },
        {
          "output_type": "execute_result",
          "data": {
            "text/plain": [
              "Text(0.5, 0, 'Index')"
            ]
          },
          "metadata": {
            "tags": []
          },
          "execution_count": 100
        },
        {
          "output_type": "execute_result",
          "data": {
            "text/plain": [
              "Text(0, 0.5, 'Value')"
            ]
          },
          "metadata": {
            "tags": []
          },
          "execution_count": 100
        },
        {
          "output_type": "execute_result",
          "data": {
            "text/plain": [
              "Text(0.5, 1.0, '$\\\\lambda = 10$')"
            ]
          },
          "metadata": {
            "tags": []
          },
          "execution_count": 100
        },
        {
          "output_type": "execute_result",
          "data": {
            "text/plain": [
              "<matplotlib.legend.Legend at 0x7f0c674bd810>"
            ]
          },
          "metadata": {
            "tags": []
          },
          "execution_count": 100
        },
        {
          "output_type": "execute_result",
          "data": {
            "text/plain": [
              "<StemContainer object of 3 artists>"
            ]
          },
          "metadata": {
            "tags": []
          },
          "execution_count": 100
        },
        {
          "output_type": "execute_result",
          "data": {
            "text/plain": [
              "<StemContainer object of 3 artists>"
            ]
          },
          "metadata": {
            "tags": []
          },
          "execution_count": 100
        },
        {
          "output_type": "execute_result",
          "data": {
            "text/plain": [
              "Text(0.5, 0, 'Index')"
            ]
          },
          "metadata": {
            "tags": []
          },
          "execution_count": 100
        },
        {
          "output_type": "execute_result",
          "data": {
            "text/plain": [
              "Text(0, 0.5, 'Value')"
            ]
          },
          "metadata": {
            "tags": []
          },
          "execution_count": 100
        },
        {
          "output_type": "execute_result",
          "data": {
            "text/plain": [
              "Text(0.5, 1.0, '$\\\\lambda = 1$')"
            ]
          },
          "metadata": {
            "tags": []
          },
          "execution_count": 100
        },
        {
          "output_type": "execute_result",
          "data": {
            "text/plain": [
              "<matplotlib.legend.Legend at 0x7f0c67392a50>"
            ]
          },
          "metadata": {
            "tags": []
          },
          "execution_count": 100
        },
        {
          "output_type": "execute_result",
          "data": {
            "text/plain": [
              "<StemContainer object of 3 artists>"
            ]
          },
          "metadata": {
            "tags": []
          },
          "execution_count": 100
        },
        {
          "output_type": "execute_result",
          "data": {
            "text/plain": [
              "<StemContainer object of 3 artists>"
            ]
          },
          "metadata": {
            "tags": []
          },
          "execution_count": 100
        },
        {
          "output_type": "execute_result",
          "data": {
            "text/plain": [
              "Text(0.5, 0, 'Index')"
            ]
          },
          "metadata": {
            "tags": []
          },
          "execution_count": 100
        },
        {
          "output_type": "execute_result",
          "data": {
            "text/plain": [
              "Text(0, 0.5, 'Value')"
            ]
          },
          "metadata": {
            "tags": []
          },
          "execution_count": 100
        },
        {
          "output_type": "execute_result",
          "data": {
            "text/plain": [
              "Text(0.5, 1.0, '$\\\\lambda = 0.01$')"
            ]
          },
          "metadata": {
            "tags": []
          },
          "execution_count": 100
        },
        {
          "output_type": "execute_result",
          "data": {
            "text/plain": [
              "<matplotlib.legend.Legend at 0x7f0c672c3a90>"
            ]
          },
          "metadata": {
            "tags": []
          },
          "execution_count": 100
        },
        {
          "output_type": "display_data",
          "data": {
            "image/png": "[encoded data removed]",
            "text/plain": [
              "<Figure size 1440x432 with 3 Axes>"
            ]
          },
          "metadata": {
            "tags": [],
            "needs_background": "light"
          }
        }
      ]
    },
    {
      "cell_type": "markdown",
      "metadata": {
        "id": "hdjwM_VTsy9e"
      },
      "source": [
        "## d ii"
      ]
    },
    {
      "cell_type": "code",
      "metadata": {
        "id": "c_ad-qsMs0D1"
      },
      "source": [
        ""
      ],
      "execution_count": null,
      "outputs": []
    },
    {
      "cell_type": "markdown",
      "metadata": {
        "id": "KYogI4Zp2rgE"
      },
      "source": [
        "![image.png](data:image/png;base64,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)"
      ]
    },
    {
      "cell_type": "code",
      "metadata": {
        "id": "S4MeouWzwtvt"
      },
      "source": [
        "# define objective function and subgradient \n",
        "def objective_function(A, x, y, la): \n",
        "  return np.linalg.norm(y - A@x) + la * np.linalg.norm(x, ord=1)\n",
        "\n",
        "def sub_gradient_l1norm(x, value):\n",
        "  data = x.copy() \n",
        "  data[data > 0] = 1\n",
        "  data[data < 0] = -1\n",
        "  temp  = value if value else rng.uniform(low=-1, high=1, size = 1 )\n",
        "  return   np.where(data == 0, temp , data)\n",
        "\n",
        "def sub_gradient_l2norm(A, x, y): \n",
        "  temp = A @x - y \n",
        "  \n",
        "  if (temp == np.zeros_like(temp)).ravel().all(): \n",
        "    flag = True \n",
        "    print(f'Vector is 0 Find Value')\n",
        "    while flag: \n",
        "      temp = rng.random(size=x.shape)\n",
        "      if np.linalg.norm(A@temp - y) <= 1:\n",
        "        flag = False\n",
        "    return temp \n",
        "  else:\n",
        "    return (np.ones(shape=(1, A.shape[0])).dot(A * (A@x - y))).T \n",
        "\n",
        "def objective_function_gradient(A, x, y, la, value):\n",
        "  return  sub_gradient_l2norm(A,x ,y) + la*sub_gradient_l1norm(x, value) \n"
      ],
      "execution_count": null,
      "outputs": []
    },
    {
      "cell_type": "code",
      "metadata": {
        "id": "w-34rx_M3Oga"
      },
      "source": [
        "def train(A, x, x0, y, la, value=0.6, threshold=1e-9, step_size=1e-3):\n",
        "\n",
        "  \n",
        "  delta = np.abs(objective_function(A, x, y, la)) \n",
        "\n",
        "  k=1\n",
        "  while delta > threshold: \n",
        "    last = objective_function(A, x, y, la)\n",
        "\n",
        "    x -=  (step_size/np.square(k)) *  objective_function_gradient(A, x, y, la, value)\n",
        "\n",
        "    current = objective_function(A, x, y, la) \n",
        "    delta = np.abs(current - last)  \n",
        "\n",
        "    if (k-1) % 500 == 0: \n",
        "\n",
        "      loss = np.linalg.norm(x - x0)**2 \n",
        "      print(f\"Iter {k} Loss: {loss}\")    \n",
        "    \n",
        "    k +=1\n",
        "  return x "
      ],
      "execution_count": null,
      "outputs": []
    },
    {
      "cell_type": "markdown",
      "metadata": {
        "id": "eWJznB2KkVcU"
      },
      "source": [
        "Try $\\lambda = 10, 1, 1e-2$. Get best performace when $\\lambda = 1e-2$"
      ]
    },
    {
      "cell_type": "code",
      "metadata": {
        "id": "6hYt-lFJ4n1b"
      },
      "source": [
        "rng = np.random.default_rng(seed=42)\n",
        "N, d, p = 30, 100, .2\n",
        "A = rng.standard_normal(size = (N, d))\n",
        "epsilon = rng.normal(loc=0, scale=.5, size=(N, 1))\n",
        "x0 = rng.binomial(1, p , d).reshape(d, -1)\n",
        "y = A.dot(x0) + epsilon\n"
      ],
      "execution_count": null,
      "outputs": []
    },
    {
      "cell_type": "code",
      "metadata": {
        "colab": {
          "base_uri": "https://localhost:8080/"
        },
        "id": "X0K2DjkS4vNE",
        "outputId": "891a8034-3536-4f7a-82e6-7454294bd7d3"
      },
      "source": [
        "lambda_values = [10, 1 , 1e-2,]\n",
        "\n",
        "x_values = [] \n",
        "for lambda_value in lambda_values:\n",
        "  x = np.zeros(shape=(100,1)) \n",
        "  x = train(A, x, x0, y, lambda_value, value= None, threshold=1e-4,  step_size=1)\n",
        "  x_values.append(x)\n",
        "  print(f'lambda value: {lambda_value} End\\n')"
      ],
      "execution_count": null,
      "outputs": [
        {
          "output_type": "stream",
          "text": [
            "Iter 1 Loss: 82203.28891718033\n",
            "Iter 101 Loss: 4097.278004235519\n",
            "Iter 201 Loss: 4045.1789936502473\n",
            "Iter 301 Loss: 4027.7333271720095\n",
            "Iter 401 Loss: 4018.9947684050985\n",
            "Iter 501 Loss: 4013.7469811206283\n",
            "Iter 601 Loss: 4010.246388370224\n",
            "Iter 701 Loss: 4007.7448628186876\n",
            "Iter 801 Loss: 4005.86823733321\n",
            "Iter 901 Loss: 4004.4082058554145\n",
            "Iter 1001 Loss: 4003.2400657485628\n",
            "Iter 1101 Loss: 4002.2841066068713\n",
            "Iter 1201 Loss: 4001.4874416166926\n",
            "Iter 1301 Loss: 4000.813246352783\n",
            "Iter 1401 Loss: 4000.2353162754384\n",
            "Iter 1501 Loss: 3999.734407408353\n",
            "Iter 1601 Loss: 3999.2961001168164\n",
            "Iter 1701 Loss: 3998.909307709766\n",
            "Iter 1801 Loss: 3998.565489207076\n",
            "Iter 1901 Loss: 3998.257848588832\n",
            "Iter 2001 Loss: 3997.980961141197\n",
            "Iter 2101 Loss: 3997.7304350184213\n",
            "Iter 2201 Loss: 3997.5026766347064\n",
            "Iter 2301 Loss: 3997.294709630891\n",
            "Iter 2401 Loss: 3997.1040825863474\n",
            "Iter 2501 Loss: 3996.9286943719126\n",
            "Iter 2601 Loss: 3996.766793884421\n",
            "Iter 2701 Loss: 3996.6168773579648\n",
            "Iter 2801 Loss: 3996.4776770012545\n",
            "Iter 2901 Loss: 3996.3480692081066\n",
            "Iter 3001 Loss: 3996.2270998619256\n",
            "Iter 3101 Loss: 3996.1139290184096\n",
            "Iter 3201 Loss: 3996.0078339200986\n",
            "Iter 3301 Loss: 3995.908167445767\n",
            "Iter 3401 Loss: 3995.8143659238676\n",
            "Iter 3501 Loss: 3995.7259166650724\n",
            "Iter 3601 Loss: 3995.642383533285\n",
            "Iter 3701 Loss: 3995.5633648108246\n",
            "Iter 3801 Loss: 3995.4885041698058\n",
            "Iter 3901 Loss: 3995.417479199115\n",
            "Iter 4001 Loss: 3995.350007462291\n",
            "Iter 4101 Loss: 3995.285826447849\n",
            "Iter 4201 Loss: 3995.2247034112443\n",
            "Iter 4301 Loss: 3995.166418401845\n",
            "Iter 4401 Loss: 3995.110784436123\n",
            "Iter 4501 Loss: 3995.05762268272\n",
            "Iter 4601 Loss: 3995.006771945025\n",
            "Iter 4701 Loss: 3994.958082927346\n",
            "Iter 4801 Loss: 3994.911424117302\n",
            "Iter 4901 Loss: 3994.86666946048\n",
            "Iter 5001 Loss: 3994.8237047299717\n",
            "Iter 5101 Loss: 3994.782424647947\n",
            "Iter 5201 Loss: 3994.7427320344373\n",
            "Iter 5301 Loss: 3994.704537051455\n",
            "Iter 5401 Loss: 3994.667756502191\n",
            "Iter 5501 Loss: 3994.6323132490543\n",
            "Iter 5601 Loss: 3994.598134386056\n",
            "Iter 5701 Loss: 3994.5651558990644\n",
            "Iter 5801 Loss: 3994.533314458866\n",
            "Iter 5901 Loss: 3994.502552250266\n",
            "Iter 6001 Loss: 3994.4728153253595\n",
            "Iter 6101 Loss: 3994.4440521866454\n",
            "Iter 6201 Loss: 3994.4162178558618\n",
            "Iter 6301 Loss: 3994.3892670484665\n",
            "Iter 6401 Loss: 3994.363159333545\n",
            "Iter 6501 Loss: 3994.3378529168554\n",
            "Iter 6601 Loss: 3994.313314223062\n",
            "Iter 6701 Loss: 3994.2895079441937\n",
            "Iter 6801 Loss: 3994.266401774314\n",
            "Iter 6901 Loss: 3994.243965275143\n",
            "Iter 7001 Loss: 3994.222168935202\n",
            "Iter 7101 Loss: 3994.200987327446\n",
            "Iter 7201 Loss: 3994.180394036279\n",
            "Iter 7301 Loss: 3994.1603648873893\n",
            "Iter 7401 Loss: 3994.140876280785\n",
            "Iter 7501 Loss: 3994.1219080491837\n",
            "Iter 7601 Loss: 3994.103438931378\n",
            "Iter 7701 Loss: 3994.085449484045\n",
            "Iter 7801 Loss: 3994.067921260073\n",
            "Iter 7901 Loss: 3994.05083610491\n",
            "Iter 8001 Loss: 3994.034178679282\n",
            "Iter 8101 Loss: 3994.01793311906\n",
            "Iter 8201 Loss: 3994.0020831453185\n",
            "Iter 8301 Loss: 3993.986615064329\n",
            "Iter 8401 Loss: 3993.9715146710896\n",
            "Iter 8501 Loss: 3993.9567701157935\n",
            "Iter 8601 Loss: 3993.942368427249\n",
            "Iter 8701 Loss: 3993.9282977828598\n",
            "Iter 8801 Loss: 3993.9145463816067\n",
            "Iter 8901 Loss: 3993.901104490712\n",
            "lambda value: 10 End\n",
            "\n",
            "Iter 1 Loss: 84605.04231233979\n",
            "Iter 101 Loss: 35.500011342504614\n",
            "Iter 201 Loss: 35.063390709829484\n",
            "Iter 301 Loss: 34.92303169151053\n",
            "Iter 401 Loss: 34.85319450558439\n",
            "Iter 501 Loss: 34.81136623588204\n",
            "Iter 601 Loss: 34.783505462944355\n",
            "Iter 701 Loss: 34.76361539273418\n",
            "Iter 801 Loss: 34.74870300821244\n",
            "Iter 901 Loss: 34.737107319376506\n",
            "Iter 1001 Loss: 34.727832446839884\n",
            "Iter 1101 Loss: 34.72024497113544\n",
            "lambda value: 1 End\n",
            "\n",
            "Iter 1 Loss: 83675.35169695459\n",
            "Iter 101 Loss: 11.593243645614798\n",
            "Iter 201 Loss: 11.563952993312206\n",
            "Iter 301 Loss: 11.560123635895293\n",
            "Iter 401 Loss: 11.558662394430138\n",
            "Iter 501 Loss: 11.557893367246884\n",
            "Iter 601 Loss: 11.55741911590055\n",
            "Iter 701 Loss: 11.557097460629784\n",
            "Iter 801 Loss: 11.556864971519435\n",
            "lambda value: 0.01 End\n",
            "\n"
          ],
          "name": "stdout"
        }
      ]
    },
    {
      "cell_type": "code",
      "metadata": {
        "colab": {
          "base_uri": "https://localhost:8080/",
          "height": 493
        },
        "id": "yOYyG7Za4yma",
        "outputId": "7311d9d9-c2fb-49c4-b1c6-8de88a866d5d"
      },
      "source": [
        "\n",
        "fig, axs = plt.subplots(1,3);\n",
        "axs = axs.flatten()\n",
        "k = 0 \n",
        "for col in range(3): \n",
        "    ax = axs[col]\n",
        "    ax.stem(x_values[col], linefmt='red', markerfmt='o',label=rf'$\\lambda = {lambda_values[col]}$',use_line_collection= True)\n",
        "    ax.stem(x0, linefmt='gray', markerfmt='*',label='Groudtruth',use_line_collection= True)\n",
        "    ax.set_xlabel(\"Index\")\n",
        "    ax.set_ylabel(\"Value\")\n",
        "    ax.set_title(f\"$\\lambda = {lambda_values[col]}$\")\n",
        "    ax.legend() \n",
        "\n",
        "fig.set_size_inches(20, 6)\n",
        "fig.set_tight_layout(\"pad\")"
      ],
      "execution_count": null,
      "outputs": [
        {
          "output_type": "execute_result",
          "data": {
            "text/plain": [
              "<StemContainer object of 3 artists>"
            ]
          },
          "metadata": {
            "tags": []
          },
          "execution_count": 112
        },
        {
          "output_type": "execute_result",
          "data": {
            "text/plain": [
              "<StemContainer object of 3 artists>"
            ]
          },
          "metadata": {
            "tags": []
          },
          "execution_count": 112
        },
        {
          "output_type": "execute_result",
          "data": {
            "text/plain": [
              "Text(0.5, 0, 'Index')"
            ]
          },
          "metadata": {
            "tags": []
          },
          "execution_count": 112
        },
        {
          "output_type": "execute_result",
          "data": {
            "text/plain": [
              "Text(0, 0.5, 'Value')"
            ]
          },
          "metadata": {
            "tags": []
          },
          "execution_count": 112
        },
        {
          "output_type": "execute_result",
          "data": {
            "text/plain": [
              "Text(0.5, 1.0, '$\\\\lambda = 10$')"
            ]
          },
          "metadata": {
            "tags": []
          },
          "execution_count": 112
        },
        {
          "output_type": "execute_result",
          "data": {
            "text/plain": [
              "<matplotlib.legend.Legend at 0x7f0c66f89d50>"
            ]
          },
          "metadata": {
            "tags": []
          },
          "execution_count": 112
        },
        {
          "output_type": "execute_result",
          "data": {
            "text/plain": [
              "<StemContainer object of 3 artists>"
            ]
          },
          "metadata": {
            "tags": []
          },
          "execution_count": 112
        },
        {
          "output_type": "execute_result",
          "data": {
            "text/plain": [
              "<StemContainer object of 3 artists>"
            ]
          },
          "metadata": {
            "tags": []
          },
          "execution_count": 112
        },
        {
          "output_type": "execute_result",
          "data": {
            "text/plain": [
              "Text(0.5, 0, 'Index')"
            ]
          },
          "metadata": {
            "tags": []
          },
          "execution_count": 112
        },
        {
          "output_type": "execute_result",
          "data": {
            "text/plain": [
              "Text(0, 0.5, 'Value')"
            ]
          },
          "metadata": {
            "tags": []
          },
          "execution_count": 112
        },
        {
          "output_type": "execute_result",
          "data": {
            "text/plain": [
              "Text(0.5, 1.0, '$\\\\lambda = 1$')"
            ]
          },
          "metadata": {
            "tags": []
          },
          "execution_count": 112
        },
        {
          "output_type": "execute_result",
          "data": {
            "text/plain": [
              "<matplotlib.legend.Legend at 0x7f0c66f9dcd0>"
            ]
          },
          "metadata": {
            "tags": []
          },
          "execution_count": 112
        },
        {
          "output_type": "execute_result",
          "data": {
            "text/plain": [
              "<StemContainer object of 3 artists>"
            ]
          },
          "metadata": {
            "tags": []
          },
          "execution_count": 112
        },
        {
          "output_type": "execute_result",
          "data": {
            "text/plain": [
              "<StemContainer object of 3 artists>"
            ]
          },
          "metadata": {
            "tags": []
          },
          "execution_count": 112
        },
        {
          "output_type": "execute_result",
          "data": {
            "text/plain": [
              "Text(0.5, 0, 'Index')"
            ]
          },
          "metadata": {
            "tags": []
          },
          "execution_count": 112
        },
        {
          "output_type": "execute_result",
          "data": {
            "text/plain": [
              "Text(0, 0.5, 'Value')"
            ]
          },
          "metadata": {
            "tags": []
          },
          "execution_count": 112
        },
        {
          "output_type": "execute_result",
          "data": {
            "text/plain": [
              "Text(0.5, 1.0, '$\\\\lambda = 0.01$')"
            ]
          },
          "metadata": {
            "tags": []
          },
          "execution_count": 112
        },
        {
          "output_type": "execute_result",
          "data": {
            "text/plain": [
              "<matplotlib.legend.Legend at 0x7f0c66f68190>"
            ]
          },
          "metadata": {
            "tags": []
          },
          "execution_count": 112
        },
        {
          "output_type": "display_data",
          "data": {
            "image/png": "[encoded data removed]",
            "text/plain": [
              "<Figure size 1440x432 with 3 Axes>"
            ]
          },
          "metadata": {
            "tags": [],
            "needs_background": "light"
          }
        }
      ]
    },
    {
      "cell_type": "code",
      "metadata": {
        "id": "_qhzr4TM54gV"
      },
      "source": [
        ""
      ],
      "execution_count": null,
      "outputs": []
    },
    {
      "cell_type": "markdown",
      "metadata": {
        "id": "A-fO9ktX7GAJ"
      },
      "source": [
        "## d iii"
      ]
    },
    {
      "cell_type": "code",
      "metadata": {
        "id": "79wTlO5K7Gon"
      },
      "source": [
        "# Creat lasso \n",
        "def lasso_train(A, x, x0, y, la, value=0.6, threshold=1e-9, step_size=1e-3):\n",
        "\n",
        "  def objective_function(A, x, y, la): \n",
        "    return 0.5 * np.linalg.norm(y - A@x)**2 + la * np.linalg.norm(x, ord=1)\n",
        "\n",
        "  def sub_gradient_l1norm(x, value):\n",
        "    data = x.copy() \n",
        "    data[data > 0] = 1\n",
        "    data[data < 0] = -1\n",
        "    temp  = value if value else rng.uniform(low=-1, high=1, size = 1 )\n",
        "    return   np.where(data == 0, temp , data)\n",
        "\n",
        "  def objective_function_gradient(A, x, y, la, value):\n",
        "    return  A.T.dot(A@x - y) + la*sub_gradient_l1norm(x, value) \n",
        "\n",
        "  delta = np.abs(objective_function(A, x, y, la)) \n",
        "\n",
        "  k=1\n",
        "  while delta > threshold: \n",
        "    last = objective_function(A, x, y, la)\n",
        "\n",
        "    x -=  (step_size/np.square(k)) *  objective_function_gradient(A, x, y, la, value)\n",
        "\n",
        "    current = objective_function(A, x, y, la) \n",
        "    delta = np.abs(current - last)  \n",
        "\n",
        "    if (k-1) % 500 == 0: \n",
        "\n",
        "      loss = np.linalg.norm(x - x0)**2 \n",
        "\n",
        "      print(f\"Iter {k} Loss: {loss}\")    \n",
        "    \n",
        "    k +=1\n",
        "  return x \n",
        "\n",
        "\n",
        "\n"
      ],
      "execution_count": null,
      "outputs": []
    },
    {
      "cell_type": "markdown",
      "metadata": {
        "id": "eYvoSEjwkhPm"
      },
      "source": [
        "Try $\\sigma^2 = 0.7, 2, 4$. Get the best performance when $\\sigma^2 = 0.7$"
      ]
    },
    {
      "cell_type": "code",
      "metadata": {
        "id": "8-x4p3jQ7TcP",
        "colab": {
          "base_uri": "https://localhost:8080/"
        },
        "outputId": "6a392683-0353-45f7-cc6b-01b63107b2a4"
      },
      "source": [
        "for var in [0.7, 2, 4]:\n",
        "\n",
        "  rng = np.random.default_rng(seed=42)\n",
        "  N, d, p = 30, 100, .2\n",
        "  A = rng.standard_normal(size = (N, d))\n",
        "\n",
        "  epsilon = rng.normal(loc=0, scale=var, size=(N, 1))\n",
        "\n",
        "  x0 = rng.binomial(1, p , d).reshape(d, -1)\n",
        "  y = A.dot(x0) + epsilon\n",
        "\n",
        "\n",
        "  lambda_value = 1e-2\n",
        "\n",
        "  x = np.zeros(shape=(100,1)) \n",
        "  x = lasso_train(A, x, x0, y, lambda_value, value= None, threshold=1e-4,  step_size=1)\n",
        "\n",
        "  print(f'Variance value: {var} End\\n')"
      ],
      "execution_count": null,
      "outputs": [
        {
          "output_type": "stream",
          "text": [
            "Iter 1 Loss: 85440.59010746662\n",
            "Iter 501 Loss: 11.741290783322153\n",
            "Variance value: 0.7 End\n",
            "\n",
            "Iter 1 Loss: 101189.2343090654\n",
            "Iter 501 Loss: 14.133128880192148\n",
            "Variance value: 2 End\n",
            "\n",
            "Iter 1 Loss: 139868.17518044726\n",
            "Iter 501 Loss: 22.266508121325753\n",
            "Variance value: 4 End\n",
            "\n"
          ],
          "name": "stdout"
        }
      ]
    },
    {
      "cell_type": "code",
      "metadata": {
        "id": "utzDzJXzAInU"
      },
      "source": [
        "# create square root Lasso\n",
        "def square_root_train(A, x, x0, y, la, value=0.6, threshold=1e-9, step_size=1e-3):\n",
        "\n",
        "  def objective_function(A, x, y, la): \n",
        "    return np.linalg.norm(y - A@x) + la * np.linalg.norm(x, ord=1)\n",
        "\n",
        "  def sub_gradient_l1norm(x, value):\n",
        "    data = x.copy() \n",
        "    data[data > 0] = 1\n",
        "    data[data < 0] = -1\n",
        "    temp  = value if value else rng.uniform(low=-1, high=1, size = 1 )\n",
        "    return   np.where(data == 0, temp , data)\n",
        "\n",
        "  def sub_gradient_l2norm(A, x, y): \n",
        "    temp = A @x - y \n",
        "    \n",
        "    if (temp == np.zeros_like(temp)).ravel().all(): \n",
        "      flag = True \n",
        "      print(f'Vector is 0 Find Value')\n",
        "      while flag: \n",
        "        temp = rng.random(size=x.shape)\n",
        "        if np.linalg.norm(A@temp - y) <= 1:\n",
        "          flag = False\n",
        "      return temp \n",
        "    else:\n",
        "      return (np.ones(shape=(1, A.shape[0])).dot(A * (A@x - y))).T \n",
        "\n",
        "  def objective_function_gradient(A, x, y, la, value):\n",
        "    return  sub_gradient_l2norm(A,x ,y) + la*sub_gradient_l1norm(x, value) \n",
        "\n",
        "\n",
        "  \n",
        "  delta = np.abs(objective_function(A, x, y, la)) \n",
        "\n",
        "  k=1\n",
        "  while delta > threshold: \n",
        "    last = objective_function(A, x, y, la)\n",
        "\n",
        "    x -=  (step_size/np.square(k)) *  objective_function_gradient(A, x, y, la, value)\n",
        "\n",
        "    current = objective_function(A, x, y, la) \n",
        "    delta = np.abs(current - last)  \n",
        "\n",
        "    if (k-1) % 500 == 0: \n",
        "\n",
        "      loss = np.linalg.norm(x - x0)**2 \n",
        "\n",
        "      print(f\"Iter {k} Loss: {loss}\")    \n",
        "    \n",
        "    k +=1\n",
        "  return x "
      ],
      "execution_count": null,
      "outputs": []
    },
    {
      "cell_type": "markdown",
      "metadata": {
        "id": "4jDeXL9zk3my"
      },
      "source": [
        "Try $\\sigma^2 = 0.7, 2, 4$. Get the best performance when $\\sigma^2 = 0.7$"
      ]
    },
    {
      "cell_type": "code",
      "metadata": {
        "colab": {
          "base_uri": "https://localhost:8080/"
        },
        "id": "QPzsscIaiOEG",
        "outputId": "d6eaf141-8376-48cb-d3d4-94261d949ffc"
      },
      "source": [
        "for var in [0.7, 2, 4]:\n",
        "\n",
        "  rng = np.random.default_rng(seed=42)\n",
        "  N, d, p = 30, 100, .2\n",
        "  A = rng.standard_normal(size = (N, d))\n",
        "\n",
        "  epsilon = rng.normal(loc=0, scale=var, size=(N, 1))\n",
        "\n",
        "  x0 = rng.binomial(1, p , d).reshape(d, -1)\n",
        "  y = A.dot(x0) + epsilon\n",
        "\n",
        "\n",
        "  lambda_value = 1e-2\n",
        "\n",
        "  x = np.zeros(shape=(100,1)) \n",
        "  x =  square_root_train(A, x, x0, y, lambda_value, value= None, threshold=1e-4,  step_size=1)\n",
        "\n",
        "  print(f'Variance value: {var} End\\n')"
      ],
      "execution_count": null,
      "outputs": [
        {
          "output_type": "stream",
          "text": [
            "Iter 1 Loss: 85440.59010746662\n",
            "Iter 501 Loss: 11.74129176056695\n",
            "Variance value: 0.7 End\n",
            "\n",
            "Iter 1 Loss: 101189.2343090654\n",
            "Iter 501 Loss: 14.133129134926584\n",
            "Variance value: 2 End\n",
            "\n",
            "Iter 1 Loss: 139868.17518044726\n",
            "Iter 501 Loss: 22.266508310754077\n",
            "Variance value: 4 End\n",
            "\n"
          ],
          "name": "stdout"
        }
      ]
    },
    {
      "cell_type": "code",
      "metadata": {
        "id": "UgJhYJ22hLy7"
      },
      "source": [
        ""
      ],
      "execution_count": null,
      "outputs": []
    }
  ]
}