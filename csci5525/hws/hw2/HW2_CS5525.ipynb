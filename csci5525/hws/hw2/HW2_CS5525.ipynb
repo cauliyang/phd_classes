{
  "nbformat": 4,
  "nbformat_minor": 0,
  "metadata": {
    "colab": {
      "name": "HW2_CS5525.ipynb",
      "provenance": [],
      "collapsed_sections": []
    },
    "kernelspec": {
      "name": "python3",
      "display_name": "Python 3"
    },
    "language_info": {
      "name": "python"
    }
  },
  "cells": [
    {
      "cell_type": "markdown",
      "metadata": {
        "id": "dwtLFkYPiA19"
      },
      "source": [
        "# 1.Question C of Problem 1\n",
        "\n"
      ]
    },
    {
      "cell_type": "code",
      "metadata": {
        "id": "tbyQOJgSh_DE"
      },
      "source": [
        "from IPython.core.interactiveshell import InteractiveShell \n",
        "InteractiveShell.ast_node_interactivity = \"all\""
      ],
      "execution_count": 219,
      "outputs": []
    },
    {
      "cell_type": "code",
      "metadata": {
        "id": "jIZIpWBgiJhJ"
      },
      "source": [
        "import numpy as np \n",
        "import matplotlib.pyplot as plt"
      ],
      "execution_count": 220,
      "outputs": []
    },
    {
      "cell_type": "markdown",
      "metadata": {
        "id": "_SkgZdfCjLCk"
      },
      "source": [
        "## Generate Data "
      ]
    },
    {
      "cell_type": "code",
      "metadata": {
        "id": "oD6GB9zOiLWV"
      },
      "source": [
        "m, n = 100, 50 \n",
        "\n",
        "rng = np.random.default_rng(seed=42)\n",
        "\n",
        "A = rng.standard_normal(size=(m, n))\n",
        "\n",
        "y = rng.standard_normal(size=(m,1))\n",
        "\n",
        "x = np.zeros((n,1))"
      ],
      "execution_count": 221,
      "outputs": []
    },
    {
      "cell_type": "markdown",
      "metadata": {
        "id": "XpzFLNlkjVn5"
      },
      "source": [
        "## Gradient Descent"
      ]
    },
    {
      "cell_type": "code",
      "metadata": {
        "id": "lQJths-CjUVZ"
      },
      "source": [
        "func = lambda x : np.linalg.norm(y - A@x) ** 2 \n",
        "gradient = lambda x: 2 * A.T.dot(A@x - y)\n",
        "objective_values = [] \n",
        "epsilon = 1e-04"
      ],
      "execution_count": 222,
      "outputs": []
    },
    {
      "cell_type": "code",
      "metadata": {
        "colab": {
          "base_uri": "https://localhost:8080/"
        },
        "id": "i_uZmzv988PB",
        "outputId": "af4dd38f-6e4f-4a66-8972-5ac3306b7794"
      },
      "source": [
        "k = 0 \n",
        "while np.linalg.norm(gradient(x)) > epsilon: \n",
        "    \n",
        "    objective_values.append(func(x))\n",
        "    rho, t, c = rng.random(3)\n",
        "    while func(x - t* gradient(x)) - func(x) > - c*t* np.linalg.norm(gradient(x))**2: \n",
        "        t *= rho \n",
        "\n",
        "    x  = x - t*gradient(x)\n",
        "    k+=1 \n",
        "    if k % 10 ==0:\n",
        "        print(f'{k} iter  objection value: {objective_values[-1]}')\n"
      ],
      "execution_count": 223,
      "outputs": [
        {
          "output_type": "stream",
          "text": [
            "10 iter  objection value: 42.526203476201694\n",
            "20 iter  objection value: 41.69109034698398\n",
            "30 iter  objection value: 41.599817760333416\n",
            "40 iter  objection value: 41.591218007404606\n",
            "50 iter  objection value: 41.59066676717894\n",
            "60 iter  objection value: 41.59048933441591\n",
            "70 iter  objection value: 41.590488358362265\n"
          ],
          "name": "stdout"
        }
      ]
    },
    {
      "cell_type": "markdown",
      "metadata": {
        "id": "0jal6CJYwn6-"
      },
      "source": [
        "## PLOT "
      ]
    },
    {
      "cell_type": "code",
      "metadata": {
        "id": "CdghbOiiqiCj",
        "colab": {
          "base_uri": "https://localhost:8080/",
          "height": 424
        },
        "outputId": "d63e2879-bf56-4791-dbe5-4511f4166d35"
      },
      "source": [
        "fig, axs = plt.subplots();\n",
        "\n",
        "axs.plot(objective_values, c='red', linewidth=4)\n",
        "\n",
        "_ = axs.set_xlabel(\"Iterate\", fontsize=12)\n",
        "_ = axs.set_ylabel(\"Objective Value\", fontsize=12)\n",
        "_ = axs.set_title(f\"Gradient Descent with Backtracking Line Search\")\n",
        "\n",
        "fig.set_size_inches(9, 6)\n",
        "\n"
      ],
      "execution_count": 224,
      "outputs": [
        {
          "output_type": "execute_result",
          "data": {
            "text/plain": [
              "[<matplotlib.lines.Line2D at 0x7fbf0547b290>]"
            ]
          },
          "metadata": {
            "tags": []
          },
          "execution_count": 224
        },
        {
          "output_type": "display_data",
          "data": {
            "image/png": "[encoded data removed]",
            "text/plain": [
              "<Figure size 648x432 with 1 Axes>"
            ]
          },
          "metadata": {
            "tags": [],
            "needs_background": "light"
          }
        }
      ]
    },
    {
      "cell_type": "markdown",
      "metadata": {
        "id": "k7UPL3fATu2Y"
      },
      "source": [
        "# 2.Question F of Problem 1"
      ]
    },
    {
      "cell_type": "code",
      "metadata": {
        "id": "LWY5kq_6WMVl"
      },
      "source": [
        "import cvxpy as cp\n",
        "import numpy as np\n",
        "import matplotlib.pyplot as plt"
      ],
      "execution_count": 225,
      "outputs": []
    },
    {
      "cell_type": "code",
      "metadata": {
        "id": "8jNLRAoNUJSm"
      },
      "source": [
        "m, n = 30, 100\n",
        "\n",
        "rng = np.random.default_rng(seed=42)\n",
        "\n",
        "A = rng.standard_normal(size=(m, n))\n",
        "\n",
        "x0 = rng.binomial(1, 0.2, n)\n",
        "\n",
        "epsilon = rng.normal(loc=0, scale= 0.5, size=m)\n",
        "\n",
        "y = A@x0 + epsilon"
      ],
      "execution_count": 226,
      "outputs": []
    },
    {
      "cell_type": "code",
      "metadata": {
        "id": "QxB7l3p-XbFH"
      },
      "source": [
        "\n",
        "def loss_fn(x, y, w): \n",
        "    return cp.norm2(x@w - y)**2 \n",
        "\n",
        "def regularizer(w): \n",
        "    return cp.norm1(w)\n",
        "\n",
        "\n",
        "def objective_fn(x, y , w, lambd): \n",
        "    return loss_fn(x, y, w) + lambd * regularizer(w)\n",
        "\n",
        "\n",
        "def mse(x, y , w):\n",
        "    return (1/ x.shape[0]) * loss_fn(x, y, w).value\n"
      ],
      "execution_count": 227,
      "outputs": []
    },
    {
      "cell_type": "code",
      "metadata": {
        "id": "I-HyEqMZUJVB",
        "colab": {
          "base_uri": "https://localhost:8080/"
        },
        "outputId": "e3c51d16-9b6f-4530-ba45-03b836e7596b"
      },
      "source": [
        "\n",
        "w = cp.Variable(n)\n",
        "\n",
        "lambd = cp.Parameter(nonneg=True)\n",
        "\n",
        "problem = cp.Problem(cp.Minimize(objective_fn(A, y, w, lambd)))\n",
        "\n",
        "lambd_values = [1e-2, 10,  1e2]\n",
        "\n",
        "w_values = []\n",
        "\n",
        "for v in lambd_values:\n",
        "    lambd.value = v\n",
        "    problem.solve()\n",
        "    w_values.append(w.value)\n",
        "\n",
        "\n"
      ],
      "execution_count": 228,
      "outputs": [
        {
          "output_type": "execute_result",
          "data": {
            "text/plain": [
              "0.14694708496494002"
            ]
          },
          "metadata": {
            "tags": []
          },
          "execution_count": 228
        },
        {
          "output_type": "execute_result",
          "data": {
            "text/plain": [
              "132.68329414612657"
            ]
          },
          "metadata": {
            "tags": []
          },
          "execution_count": 228
        },
        {
          "output_type": "execute_result",
          "data": {
            "text/plain": [
              "582.4896455697029"
            ]
          },
          "metadata": {
            "tags": []
          },
          "execution_count": 228
        }
      ]
    },
    {
      "cell_type": "code",
      "metadata": {
        "id": "DZEM0mWGEacz",
        "colab": {
          "base_uri": "https://localhost:8080/",
          "height": 492
        },
        "outputId": "f4009a93-9517-4fdd-c272-2c84a7117f3f"
      },
      "source": [
        "fig, axs = plt.subplots(1,3);\n",
        "axs = axs.flatten()\n",
        "\n",
        "for col in range(3): \n",
        "    ax = axs[col]\n",
        "    ax.stem(w_values[col], linefmt='red', markerfmt='o',label=rf'$\\lambda = {lambd_values[col]}$',use_line_collection= True)\n",
        "    ax.stem(x0, linefmt='gray', markerfmt='o',label='Groudtruth',use_line_collection= True)\n",
        "\n",
        "    ax.set_xlabel(\"Index\")\n",
        "    ax.set_ylabel(\"Value\")\n",
        "    ax.set_title(f\"$\\lambda = {lambd_values[col]}$\")\n",
        "    ax.legend() \n",
        "\n",
        "fig.set_size_inches(20, 6)\n",
        "fig.set_tight_layout(\"pad\")"
      ],
      "execution_count": 229,
      "outputs": [
        {
          "output_type": "execute_result",
          "data": {
            "text/plain": [
              "<StemContainer object of 3 artists>"
            ]
          },
          "metadata": {
            "tags": []
          },
          "execution_count": 229
        },
        {
          "output_type": "execute_result",
          "data": {
            "text/plain": [
              "<StemContainer object of 3 artists>"
            ]
          },
          "metadata": {
            "tags": []
          },
          "execution_count": 229
        },
        {
          "output_type": "execute_result",
          "data": {
            "text/plain": [
              "Text(0.5, 0, 'Index')"
            ]
          },
          "metadata": {
            "tags": []
          },
          "execution_count": 229
        },
        {
          "output_type": "execute_result",
          "data": {
            "text/plain": [
              "Text(0, 0.5, 'Value')"
            ]
          },
          "metadata": {
            "tags": []
          },
          "execution_count": 229
        },
        {
          "output_type": "execute_result",
          "data": {
            "text/plain": [
              "Text(0.5, 1.0, '$\\\\lambda = 0.01$')"
            ]
          },
          "metadata": {
            "tags": []
          },
          "execution_count": 229
        },
        {
          "output_type": "execute_result",
          "data": {
            "text/plain": [
              "<matplotlib.legend.Legend at 0x7fbef4b95d10>"
            ]
          },
          "metadata": {
            "tags": []
          },
          "execution_count": 229
        },
        {
          "output_type": "execute_result",
          "data": {
            "text/plain": [
              "<StemContainer object of 3 artists>"
            ]
          },
          "metadata": {
            "tags": []
          },
          "execution_count": 229
        },
        {
          "output_type": "execute_result",
          "data": {
            "text/plain": [
              "<StemContainer object of 3 artists>"
            ]
          },
          "metadata": {
            "tags": []
          },
          "execution_count": 229
        },
        {
          "output_type": "execute_result",
          "data": {
            "text/plain": [
              "Text(0.5, 0, 'Index')"
            ]
          },
          "metadata": {
            "tags": []
          },
          "execution_count": 229
        },
        {
          "output_type": "execute_result",
          "data": {
            "text/plain": [
              "Text(0, 0.5, 'Value')"
            ]
          },
          "metadata": {
            "tags": []
          },
          "execution_count": 229
        },
        {
          "output_type": "execute_result",
          "data": {
            "text/plain": [
              "Text(0.5, 1.0, '$\\\\lambda = 10$')"
            ]
          },
          "metadata": {
            "tags": []
          },
          "execution_count": 229
        },
        {
          "output_type": "execute_result",
          "data": {
            "text/plain": [
              "<matplotlib.legend.Legend at 0x7fbf05347e50>"
            ]
          },
          "metadata": {
            "tags": []
          },
          "execution_count": 229
        },
        {
          "output_type": "execute_result",
          "data": {
            "text/plain": [
              "<StemContainer object of 3 artists>"
            ]
          },
          "metadata": {
            "tags": []
          },
          "execution_count": 229
        },
        {
          "output_type": "execute_result",
          "data": {
            "text/plain": [
              "<StemContainer object of 3 artists>"
            ]
          },
          "metadata": {
            "tags": []
          },
          "execution_count": 229
        },
        {
          "output_type": "execute_result",
          "data": {
            "text/plain": [
              "Text(0.5, 0, 'Index')"
            ]
          },
          "metadata": {
            "tags": []
          },
          "execution_count": 229
        },
        {
          "output_type": "execute_result",
          "data": {
            "text/plain": [
              "Text(0, 0.5, 'Value')"
            ]
          },
          "metadata": {
            "tags": []
          },
          "execution_count": 229
        },
        {
          "output_type": "execute_result",
          "data": {
            "text/plain": [
              "Text(0.5, 1.0, '$\\\\lambda = 100.0$')"
            ]
          },
          "metadata": {
            "tags": []
          },
          "execution_count": 229
        },
        {
          "output_type": "execute_result",
          "data": {
            "text/plain": [
              "<matplotlib.legend.Legend at 0x7fbf05383290>"
            ]
          },
          "metadata": {
            "tags": []
          },
          "execution_count": 229
        },
        {
          "output_type": "display_data",
          "data": {
            "image/png": "[encoded data removed]",
            "text/plain": [
              "<Figure size 1440x432 with 3 Axes>"
            ]
          },
          "metadata": {
            "tags": [],
            "needs_background": "light"
          }
        }
      ]
    },
    {
      "cell_type": "code",
      "metadata": {
        "id": "T3xezW2La68I"
      },
      "source": [
        ""
      ],
      "execution_count": null,
      "outputs": []
    },
    {
      "cell_type": "markdown",
      "metadata": {
        "id": "zwCIhxv0Vqe7"
      },
      "source": [
        "# 3.Question E  of Problem 2"
      ]
    },
    {
      "cell_type": "markdown",
      "metadata": {
        "id": "an-bch-XiuRP"
      },
      "source": [
        "## Gradient Descent"
      ]
    },
    {
      "cell_type": "code",
      "metadata": {
        "id": "dNKttg1JbMjX"
      },
      "source": [
        "import numpy as np \n",
        "import matplotlib.pyplot as plt\n",
        "from sklearn.datasets import load_breast_cancer\n",
        "from sklearn.preprocessing import StandardScaler\n"
      ],
      "execution_count": 230,
      "outputs": []
    },
    {
      "cell_type": "code",
      "metadata": {
        "id": "e0QEc4c_YVwU"
      },
      "source": [
        "data, target = load_breast_cancer(return_X_y=True)\n",
        "X, y = data.astype(np.float128), target.reshape(-1,1).astype(np.float128)\n",
        "y = np.where(y<1, -1, 1)\n",
        "std = StandardScaler()\n",
        "X = std.fit_transform(X)"
      ],
      "execution_count": 231,
      "outputs": []
    },
    {
      "cell_type": "code",
      "metadata": {
        "id": "iWx019tDYj-Y"
      },
      "source": [
        "func = lambda w : np.sum(np.log(1 + np.exp(X@w * -y)))\n",
        "gradient = lambda w: X.T.dot(1/(np.exp(X@w * y) +1)* -y ) \n",
        "objective_values = [] \n",
        "epsilon = 1e-2\n",
        "rng = np.random.default_rng()\n",
        "w = np.zeros((X.shape[1],1), dtype=np.float128)"
      ],
      "execution_count": 206,
      "outputs": []
    },
    {
      "cell_type": "code",
      "metadata": {
        "colab": {
          "base_uri": "https://localhost:8080/"
        },
        "id": "L8059MLoY--J",
        "outputId": "c3e30afe-9e72-450d-d7b4-88a71f1738b5"
      },
      "source": [
        "k = 0 \n",
        "while np.linalg.norm(gradient(w)) > epsilon: \n",
        "    \n",
        "    objective_values.append(func(w))\n",
        "    rho, t, c = rng.random(3)\n",
        "    while func(w - t* gradient(w)) - func(w) > - c*t* np.linalg.norm(gradient(w))**2: \n",
        "        t *= rho \n",
        "\n",
        "    w  = w - t*gradient(w)\n",
        "    k+=1 \n",
        "\n",
        "    if k % 1000 == 0:\n",
        "        print(f'{k} iter  objection value: {objective_values[-1]}')"
      ],
      "execution_count": 207,
      "outputs": [
        {
          "output_type": "stream",
          "text": [
            "1000 iter  objection value: 17.339443842201096\n",
            "2000 iter  objection value: 16.748854877341703\n",
            "3000 iter  objection value: 16.544513711631613\n",
            "4000 iter  objection value: 16.421607435086987\n",
            "5000 iter  objection value: 16.33614867809978\n",
            "6000 iter  objection value: 16.2686259657843\n",
            "7000 iter  objection value: 16.206861542854465\n",
            "8000 iter  objection value: 16.150732589538915\n",
            "9000 iter  objection value: 16.101340733079333\n",
            "10000 iter  objection value: 16.05164493012981\n",
            "11000 iter  objection value: 16.003601629460213\n",
            "12000 iter  objection value: 15.962302239287679\n",
            "13000 iter  objection value: 15.921376536980953\n",
            "14000 iter  objection value: 15.878474409442465\n",
            "15000 iter  objection value: 15.8391426897295\n",
            "16000 iter  objection value: 15.802276276883495\n",
            "17000 iter  objection value: 15.76710881674149\n",
            "18000 iter  objection value: 15.732692133671721\n",
            "19000 iter  objection value: 15.697702837870015\n",
            "20000 iter  objection value: 15.663719586743426\n",
            "21000 iter  objection value: 15.627853318124242\n",
            "22000 iter  objection value: 15.596775817494157\n",
            "23000 iter  objection value: 15.566863126449292\n",
            "24000 iter  objection value: 15.536186649937296\n",
            "25000 iter  objection value: 15.509348973033747\n",
            "26000 iter  objection value: 15.48171001918329\n",
            "27000 iter  objection value: 15.454470298611662\n",
            "28000 iter  objection value: 15.428692422418841\n",
            "29000 iter  objection value: 15.403563627430133\n",
            "30000 iter  objection value: 15.377586295480848\n",
            "31000 iter  objection value: 15.353158679870772\n",
            "32000 iter  objection value: 15.326878150881015\n",
            "33000 iter  objection value: 15.302603869512271\n",
            "34000 iter  objection value: 15.279772434108068\n",
            "35000 iter  objection value: 15.257087302132534\n",
            "36000 iter  objection value: 15.234021388105127\n",
            "37000 iter  objection value: 15.210739378512933\n",
            "38000 iter  objection value: 15.187807326285535\n",
            "39000 iter  objection value: 15.1661308629521\n",
            "40000 iter  objection value: 15.146194581341012\n",
            "41000 iter  objection value: 15.12521916796778\n",
            "42000 iter  objection value: 15.105105511695863\n",
            "43000 iter  objection value: 15.085363000857528\n",
            "44000 iter  objection value: 15.065790915153558\n",
            "45000 iter  objection value: 15.046551549503418\n",
            "46000 iter  objection value: 15.02732732399759\n",
            "47000 iter  objection value: 15.010653303535864\n",
            "48000 iter  objection value: 14.993329822212097\n",
            "49000 iter  objection value: 14.976119151680903\n",
            "50000 iter  objection value: 14.959979412736592\n",
            "51000 iter  objection value: 14.943213531890171\n",
            "52000 iter  objection value: 14.927445388976937\n",
            "53000 iter  objection value: 14.911835763306279\n",
            "54000 iter  objection value: 14.895422835420705\n",
            "55000 iter  objection value: 14.881331504945948\n",
            "56000 iter  objection value: 14.866316513418802\n",
            "57000 iter  objection value: 14.850706517852728\n",
            "58000 iter  objection value: 14.836812395049288\n",
            "59000 iter  objection value: 14.82240878376347\n",
            "60000 iter  objection value: 14.808584285862828\n",
            "61000 iter  objection value: 14.793707292115693\n",
            "62000 iter  objection value: 14.780534676585864\n",
            "63000 iter  objection value: 14.76777751147838\n",
            "64000 iter  objection value: 14.753723650767006\n",
            "65000 iter  objection value: 14.742110109522098\n",
            "66000 iter  objection value: 14.729524583871518\n",
            "67000 iter  objection value: 14.716557295728869\n",
            "68000 iter  objection value: 14.704507030246573\n",
            "69000 iter  objection value: 14.692196320370682\n",
            "70000 iter  objection value: 14.680711621487916\n",
            "71000 iter  objection value: 14.668530216167907\n",
            "72000 iter  objection value: 14.656995847412468\n",
            "73000 iter  objection value: 14.646553669803106\n",
            "74000 iter  objection value: 14.634967940147739\n",
            "75000 iter  objection value: 14.62360938455708\n",
            "76000 iter  objection value: 14.613133819253465\n",
            "77000 iter  objection value: 14.603296602356043\n",
            "78000 iter  objection value: 14.59246362246337\n"
          ],
          "name": "stdout"
        }
      ]
    },
    {
      "cell_type": "code",
      "metadata": {
        "id": "SEyD7Ilrm8gt"
      },
      "source": [
        "np.save('model.npy', w)"
      ],
      "execution_count": 213,
      "outputs": []
    },
    {
      "cell_type": "markdown",
      "metadata": {
        "id": "u4lUV0VT_xVw"
      },
      "source": [
        "## Test and Report Accuracy"
      ]
    },
    {
      "cell_type": "code",
      "metadata": {
        "colab": {
          "base_uri": "https://localhost:8080/"
        },
        "id": "hWCOW4kk_KAZ",
        "outputId": "c5aa6d34-c079-4dd7-db20-96652e926f9f"
      },
      "source": [
        "from sklearn.metrics import  accuracy_score\n",
        "accuracy_score(y, np.where(X@w > 0, 1, 0))"
      ],
      "execution_count": 209,
      "outputs": [
        {
          "output_type": "execute_result",
          "data": {
            "text/plain": [
              "0.6274165202108963"
            ]
          },
          "metadata": {
            "tags": []
          },
          "execution_count": 209
        }
      ]
    },
    {
      "cell_type": "markdown",
      "metadata": {
        "id": "kTmo_-oU_3X3"
      },
      "source": [
        "## LogisticRegression of Sklearn"
      ]
    },
    {
      "cell_type": "code",
      "metadata": {
        "id": "A7kbCsA6_hpd"
      },
      "source": [
        "from sklearn.linear_model import LogisticRegression"
      ],
      "execution_count": 210,
      "outputs": []
    },
    {
      "cell_type": "code",
      "metadata": {
        "id": "4TZTsNc8_pov"
      },
      "source": [
        "logis  = LogisticRegression(random_state=42).fit(X, y.ravel())"
      ],
      "execution_count": 211,
      "outputs": []
    },
    {
      "cell_type": "code",
      "metadata": {
        "colab": {
          "base_uri": "https://localhost:8080/"
        },
        "id": "vfsE0tYmeica",
        "outputId": "e3b4f809-81e3-4d4b-8473-7dab704b4724"
      },
      "source": [
        "accuracy_score( y, logis.predict(X))"
      ],
      "execution_count": 212,
      "outputs": [
        {
          "output_type": "execute_result",
          "data": {
            "text/plain": [
              "0.9876977152899824"
            ]
          },
          "metadata": {
            "tags": []
          },
          "execution_count": 212
        }
      ]
    },
    {
      "cell_type": "markdown",
      "metadata": {
        "id": "EevKrnPOAWV7"
      },
      "source": [
        "**Built-in logistic regression of sklearn is better than mine based on the accuracy but not many**"
      ]
    }
  ]
}