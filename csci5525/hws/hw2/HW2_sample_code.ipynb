{
  "nbformat": 4,
  "nbformat_minor": 0,
  "metadata": {
    "colab": {
      "name": "HW2_sample_code.ipynb",
      "provenance": [],
      "collapsed_sections": []
    },
    "kernelspec": {
      "display_name": "Python 3",
      "language": "python",
      "name": "python3"
    },
    "language_info": {
      "codemirror_mode": {
        "name": "ipython",
        "version": 3
      },
      "file_extension": ".py",
      "mimetype": "text/x-python",
      "name": "python",
      "nbconvert_exporter": "python",
      "pygments_lexer": "ipython3",
      "version": "3.7.6"
    }
  },
  "cells": [
    {
      "cell_type": "markdown",
      "metadata": {
        "id": "3dWJW1C_Lsxs"
      },
      "source": [
        "## Problem 1 (c)"
      ]
    },
    {
      "cell_type": "code",
      "metadata": {
        "colab": {
          "base_uri": "https://localhost:8080/",
          "height": 282
        },
        "id": "-Y2AxEojLsxt",
        "outputId": "bf1e2fb7-9944-4d79-a389-161e344a2e13"
      },
      "source": [
        "import numpy as np\n",
        "import matplotlib.pyplot as plt\n",
        "\n",
        "# Objective function\n",
        "def obj(A,y,x):\n",
        "    return np.linalg.norm(y-A@x)**2\n",
        "\n",
        "# Parameters\n",
        "m = 100\n",
        "n = 50\n",
        "rho = 0.5\n",
        "eta = 0.5\n",
        "grad_tol= 1e-3 \n",
        "\n",
        "# Data generation\n",
        "np.random.seed(1)\n",
        "A = np.random.normal(0,1,(m,n))\n",
        "y = np.random.normal(0,1,(m,1))\n",
        "x = np.zeros((n, 1))\n",
        "\n",
        "# Gradient and Loss at the initialization\n",
        "grad = 2*A.T@(A@x-y)\n",
        "loss = [obj(A,y,x)]\n",
        "\n",
        "while np.linalg.norm(grad) > grad_tol:\n",
        "    grad = 2*A.T@(A@x-y)\n",
        "    # Line search\n",
        "    t = 1 \n",
        "    while obj(A,y,x-t*grad) - obj(A,y,x) > -eta*t*np.linalg.norm(grad)**2:\n",
        "        t = rho*t\n",
        "    # Gradient descent\n",
        "    x = x-t*grad\n",
        "    loss.append(obj(A,y,x))\n",
        "\n",
        "plt.plot(loss)"
      ],
      "execution_count": null,
      "outputs": [
        {
          "output_type": "execute_result",
          "data": {
            "text/plain": [
              "[<matplotlib.lines.Line2D at 0x7f56c311e950>]"
            ]
          },
          "metadata": {
            "tags": []
          },
          "execution_count": 1
        },
        {
          "output_type": "display_data",
          "data": {
            "image/png": "[encoded data removed]",
            "text/plain": [
              "<Figure size 432x288 with 1 Axes>"
            ]
          },
          "metadata": {
            "tags": []
          }
        }
      ]
    },
    {
      "cell_type": "markdown",
      "metadata": {
        "id": "L2YRzBqDLsxu"
      },
      "source": [
        "## Problem 1 (f) "
      ]
    },
    {
      "cell_type": "code",
      "metadata": {
        "id": "7nySbfIyLsxu",
        "outputId": "34f7bb46-bd39-407a-c619-b5d113858132"
      },
      "source": [
        "import cvxpy as cp\n",
        "\n",
        "def obj(A,y,x,lambd):\n",
        "    return cp.norm2(y-A@x)**2 + lambd*cp.norm1(x)\n",
        "\n",
        "def generate_data():\n",
        "    np.random.seed(1)\n",
        "    A = np.random.normal(0,1,(30,100))\n",
        "    x_star = np.random.binomial(1,0.2,(100,1))\n",
        "    y = A@x_star + np.random.normal(0,0.5,(30,1))\n",
        "    return A,x_star,y\n",
        "\n",
        "\n",
        "# generate data\n",
        "A,x_star,y = generate_data()\n",
        "\n",
        "# define variable for solver\n",
        "x = cp.Variable((100,1))\n",
        "lambd = cp.Parameter(nonneg=True)\n",
        "problem = cp.Problem(cp.Minimize(obj(A,y,x,lambd)))\n",
        "\n",
        "lambd_list = [1,10,100]\n",
        "x_pred = []\n",
        "# solve for each lambda\n",
        "for l in lambd_list:\n",
        "    lambd.value = l\n",
        "    problem.solve()\n",
        "    x_pred.append(x.value)\n",
        "\n",
        "# plot\n",
        "markers = ['C0o', 'C1o', 'C2o', 'C3o']\n",
        "labels = ['$x_0$', '$x_{\\lambda=1}$', '$x_{\\lambda=10}$', '$x_{\\lambda=100}$']\n",
        "plt.figure(figsize=(10, 8))\n",
        "plt.stem(x_star, use_line_collection=True, linefmt='-', label=labels[0], markerfmt=markers[0])\n",
        "for x,  m, l in zip(x_pred, markers[1:], labels[1:]):\n",
        "    plt.stem(x, use_line_collection=True, linefmt='-', label=l, markerfmt=m)\n",
        "plt.legend()\n",
        "plt.show()"
      ],
      "execution_count": null,
      "outputs": [
        {
          "output_type": "display_data",
          "data": {
            "image/png": "[encoded data removed]",
            "text/plain": [
              "<Figure size 720x576 with 1 Axes>"
            ]
          },
          "metadata": {
            "tags": []
          }
        }
      ]
    },
    {
      "cell_type": "markdown",
      "metadata": {
        "id": "6EDB4behLsxu"
      },
      "source": [
        "With increasing $\\lambda$, the optimal $x_*$ becomes more sparse. "
      ]
    },
    {
      "cell_type": "markdown",
      "metadata": {
        "id": "6gPSE3WdLsxv"
      },
      "source": [
        "## Problem 2 (d)(e)"
      ]
    },
    {
      "cell_type": "code",
      "metadata": {
        "colab": {
          "base_uri": "https://localhost:8080/",
          "height": 299
        },
        "id": "0azVhZJ1Lsxv",
        "outputId": "f4c88516-194b-489d-f004-24b84d70e65b"
      },
      "source": [
        "import sklearn\n",
        "from sklearn.datasets import load_breast_cancer\n",
        "from sklearn import linear_model,metrics\n",
        "\n",
        "def obj(w,y,x):\n",
        "    return np.sum(np.log(1+np.exp(-y*x@w)))\n",
        "\n",
        "def grad(w,y,x): \n",
        "    return  x.T @ (-y*np.exp(-y*x@w) / (1+np.exp(-y*x@w)))\n",
        "\n",
        "rho = 0.5\n",
        "eta = 0.5\n",
        "grad_tol = 1e-1\n",
        "\n",
        "data = load_breast_cancer()\n",
        "x = data.data\n",
        "x = sklearn.preprocessing.scale(x)\n",
        "y = np.sign(data.target.reshape(x.shape[0], 1)-0.5)\n",
        "w = np.zeros((x.shape[1],1))\n",
        "\n",
        "obj_grad = grad(w,y,x)\n",
        "obj_func = []\n",
        "\n",
        "\n",
        "while np.linalg.norm(obj_grad) > grad_tol:\n",
        "    obj_func += [obj(w,y,x)]\n",
        "    obj_grad = grad(w,y,x)\n",
        "    t = 1\n",
        "    while obj(w-t*obj_grad,y,x) - obj(w,y,x) > - eta*t*np.linalg.norm(obj_grad)**2:\n",
        "        t = rho*t\n",
        "    w = w-t*obj_grad\n",
        "\n",
        "plt.plot(obj_func)\n",
        "plt.show()"
      ],
      "execution_count": 8,
      "outputs": [
        {
          "output_type": "stream",
          "text": [
            "/usr/local/lib/python3.7/dist-packages/ipykernel_launcher.py:6: RuntimeWarning: overflow encountered in exp\n",
            "  \n"
          ],
          "name": "stderr"
        },
        {
          "output_type": "display_data",
          "data": {
            "image/png": "[encoded data removed]",
            "text/plain": [
              "<Figure size 432x288 with 1 Axes>"
            ]
          },
          "metadata": {
            "tags": [],
            "needs_background": "light"
          }
        }
      ]
    },
    {
      "cell_type": "code",
      "metadata": {
        "id": "xjDtIamULsxv",
        "colab": {
          "base_uri": "https://localhost:8080/"
        },
        "outputId": "4ea7f999-143d-42b1-c356-0566db5c7358"
      },
      "source": [
        "y_gd = 1/(1 + np.exp(-x @ w))\n",
        "y_gd[y_gd > 0.5] = 1\n",
        "y_gd[y_gd <= 0.5] = -1\n",
        "base_lr_model = linear_model.LogisticRegression()\n",
        "base_lr_model.fit(x, y.reshape(y.shape[0],))\n",
        "y_sk = base_lr_model.predict(x)\n",
        "print(f'Sklearn Accuracy: {metrics.accuracy_score(y_sk, y)}')\n",
        "print(f'Gradient Descent Accuracy: {metrics.accuracy_score(y_gd, y)}')"
      ],
      "execution_count": 9,
      "outputs": [
        {
          "output_type": "stream",
          "text": [
            "Sklearn Accuracy: 0.9876977152899824\n",
            "Gradient Descent Accuracy: 0.9929701230228472\n"
          ],
          "name": "stdout"
        }
      ]
    },
    {
      "cell_type": "code",
      "metadata": {
        "id": "ShjCQbzILsxw"
      },
      "source": [
        ""
      ],
      "execution_count": null,
      "outputs": []
    }
  ]
}