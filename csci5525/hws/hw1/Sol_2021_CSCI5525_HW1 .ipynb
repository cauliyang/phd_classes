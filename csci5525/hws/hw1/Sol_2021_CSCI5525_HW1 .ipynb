{
  "nbformat": 4,
  "nbformat_minor": 0,
  "metadata": {
    "colab": {
      "name": "2021_CSCI5525_HW1.ipynb",
      "provenance": [],
      "collapsed_sections": []
    },
    "kernelspec": {
      "name": "python3",
      "display_name": "Python 3"
    }
  },
  "cells": [
    {
      "cell_type": "code",
      "metadata": {
        "colab": {
          "base_uri": "https://localhost:8080/"
        },
        "id": "8vDtwcdMAyBI",
        "outputId": "f3b9d043-920b-4527-d6af-309b6e9efda5"
      },
      "source": [
        "# !pip install cvxpy\n",
        "import numpy as np \n",
        "from numpy.random import default_rng\n",
        "import cvxpy as cp\n",
        "\n",
        "# fix a random seed \n",
        "# rng = default_rng(5525)\n",
        "\n",
        "m, n = 1000, 20 \n",
        "\n",
        "X  = rng.standard_normal((m, n))\n",
        "w0 = rng.standard_normal(n)  \n",
        "\n",
        "\n",
        "y = X @ w0 + rng.laplace(scale=0.5,size=(m, ))\n",
        "print(y.shape)\n",
        "\n",
        "w1 = cp.Variable(n) \n",
        "cost = cp.sum_squares(X @ w1 - y)\n",
        "prob = cp.Problem(cp.Minimize(cost))\n",
        "prob.solve()\n",
        "print(\"The norm of the residual is \", cp.norm(w1 - w0, p=2).value)\n",
        "\n",
        "w2 = cp.Variable(n) \n",
        "cost = cp.norm1(X @ w2 - y)\n",
        "prob = cp.Problem(cp.Minimize(cost))\n",
        "prob.solve()\n",
        "\n",
        "print(\"The norm of the residual is \", cp.norm(w2 - w0, p=2).value)"
      ],
      "execution_count": 83,
      "outputs": [
        {
          "output_type": "stream",
          "text": [
            "(1000,)\n",
            "The norm of the residual is  0.07088150993385875\n",
            "The norm of the residual is  0.06350149925465778\n"
          ],
          "name": "stdout"
        }
      ]
    }
  ]
}