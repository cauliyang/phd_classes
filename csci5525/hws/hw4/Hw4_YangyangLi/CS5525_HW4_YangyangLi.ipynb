{
  "nbformat": 4,
  "nbformat_minor": 0,
  "metadata": {
    "colab": {
      "name": "CS5525_HW4_YangyangLi.ipynb",
      "provenance": [],
      "collapsed_sections": [
        "tuAZ3RCvOQto"
      ]
    },
    "kernelspec": {
      "display_name": "Python 3",
      "name": "python3"
    },
    "language_info": {
      "name": "python"
    }
  },
  "cells": [
    {
      "cell_type": "markdown",
      "metadata": {
        "id": "xHxWdGCJlf-U"
      },
      "source": [
        "# 1. Problem 1 "
      ]
    },
    {
      "cell_type": "markdown",
      "metadata": {
        "id": "Sh6NnMmXOTpW"
      },
      "source": [
        "## b (ii)\n",
        "\n"
      ]
    },
    {
      "cell_type": "code",
      "metadata": {
        "id": "fp4a2w7IOUdD"
      },
      "source": [
        "from IPython.core.interactiveshell import InteractiveShell \n",
        "InteractiveShell.ast_node_interactivity = \"all\""
      ],
      "execution_count": null,
      "outputs": []
    },
    {
      "cell_type": "code",
      "metadata": {
        "id": "3uqRltvBmMYS"
      },
      "source": [
        "import numpy as np \n",
        "import matplotlib.pyplot as plt\n",
        "from sklearn.datasets import load_breast_cancer\n",
        "from sklearn.preprocessing import StandardScaler\n",
        "from sklearn.metrics import  accuracy_score "
      ],
      "execution_count": null,
      "outputs": []
    },
    {
      "cell_type": "code",
      "metadata": {
        "id": "Tb1FJ1_jmOH3"
      },
      "source": [
        "data, target = load_breast_cancer(return_X_y=True)\n",
        "X, y = data, target.reshape(-1,1) \n",
        "y = np.where(y<1, -1, 1)\n",
        "std = StandardScaler()\n",
        "X = std.fit_transform(X)"
      ],
      "execution_count": null,
      "outputs": []
    },
    {
      "cell_type": "code",
      "metadata": {
        "id": "hEU55PyowUOO"
      },
      "source": [
        "X = np.c_[X, np.ones((X.shape[0], 1))]"
      ],
      "execution_count": null,
      "outputs": []
    },
    {
      "cell_type": "code",
      "metadata": {
        "id": "WLVkL0wX2D0K"
      },
      "source": [
        "objective_values = [] \n",
        "epsilon = 1e-5\n",
        "rng = np.random.default_rng()\n",
        "W = np.zeros((X.shape[1],1) )\n",
        "C = 3"
      ],
      "execution_count": null,
      "outputs": []
    },
    {
      "cell_type": "code",
      "metadata": {
        "id": "ekENB-YRwvxf"
      },
      "source": [
        "def loss_function(z): \n",
        "  return np.where( z >= 1, 0 , (1-z)**2)\n",
        "\n",
        "def objective_function(W ,C=C, X=X, y=y):\n",
        "  return (0.5 * np.linalg.norm(W)**2 + C * (np.ones((1, X.shape[0])).dot(loss_function( y * (X @ W)))))[0][0]\n",
        "\n",
        "def loss_gradient(z): \n",
        "  return np.where(z >= 1, 0, 2*(z-1))\n",
        "\n",
        "def objective_function_gradient(W , C=C, X=X, y=y): \n",
        "  return W + C * (loss_gradient(y * (X @ W)).T.dot( X * y)).T \n"
      ],
      "execution_count": null,
      "outputs": []
    },
    {
      "cell_type": "code",
      "metadata": {
        "colab": {
          "base_uri": "https://localhost:8080/"
        },
        "id": "I355eb0gmurG",
        "outputId": "62bc579a-ac0d-49e1-f798-f00788a1b76f"
      },
      "source": [
        "k = 0 \n",
        "current_gradient = objective_function_gradient(W) \n",
        "\n",
        "while np.linalg.norm(current_gradient) > epsilon: \n",
        "  acc = accuracy_score(y, np.where(X@W > 0, 1, -1)) \n",
        "  if k % 50 == 0:\n",
        "    print(f'{k} iter acc {acc}')\n",
        "  objective_value = objective_function(W)\n",
        "\n",
        "  objective_values.append(objective_value)\n",
        "\n",
        "  rho, t, c = rng.random(3)\n",
        "\n",
        "  while  objective_function(W - t* current_gradient) - objective_value  > -c*t* np.linalg.norm(current_gradient)**2:\n",
        "    t *= rho \n",
        "\n",
        "  W   -=  t * current_gradient\n",
        "\n",
        "  current_gradient = objective_function_gradient(W) \n",
        "\n",
        "  k+=1 \n",
        "  "
      ],
      "execution_count": null,
      "outputs": [
        {
          "output_type": "stream",
          "text": [
            "0 iter acc 0.37258347978910367\n",
            "50 iter acc 0.9876977152899824\n",
            "100 iter acc 0.9894551845342706\n",
            "150 iter acc 0.9894551845342706\n",
            "200 iter acc 0.9894551845342706\n",
            "250 iter acc 0.9894551845342706\n",
            "300 iter acc 0.9894551845342706\n",
            "350 iter acc 0.9894551845342706\n",
            "400 iter acc 0.9894551845342706\n",
            "450 iter acc 0.9894551845342706\n",
            "500 iter acc 0.9894551845342706\n",
            "550 iter acc 0.9894551845342706\n",
            "600 iter acc 0.9894551845342706\n",
            "650 iter acc 0.9894551845342706\n",
            "700 iter acc 0.9894551845342706\n",
            "750 iter acc 0.9894551845342706\n",
            "800 iter acc 0.9894551845342706\n",
            "850 iter acc 0.9894551845342706\n",
            "900 iter acc 0.9894551845342706\n",
            "950 iter acc 0.9894551845342706\n",
            "1000 iter acc 0.9894551845342706\n",
            "1050 iter acc 0.9894551845342706\n",
            "1100 iter acc 0.9894551845342706\n",
            "1150 iter acc 0.9894551845342706\n",
            "1200 iter acc 0.9894551845342706\n",
            "1250 iter acc 0.9894551845342706\n",
            "1300 iter acc 0.9894551845342706\n",
            "1350 iter acc 0.9894551845342706\n",
            "1400 iter acc 0.9894551845342706\n",
            "1450 iter acc 0.9894551845342706\n",
            "1500 iter acc 0.9894551845342706\n",
            "1550 iter acc 0.9894551845342706\n",
            "1600 iter acc 0.9894551845342706\n",
            "1650 iter acc 0.9894551845342706\n",
            "1700 iter acc 0.9894551845342706\n"
          ],
          "name": "stdout"
        }
      ]
    },
    {
      "cell_type": "code",
      "metadata": {
        "id": "mRdgWC2Cm0pq"
      },
      "source": [
        "np.save('model.npy', W)"
      ],
      "execution_count": null,
      "outputs": []
    },
    {
      "cell_type": "code",
      "metadata": {
        "id": "A1xAl6x7m2FQ"
      },
      "source": [
        ""
      ],
      "execution_count": null,
      "outputs": []
    },
    {
      "cell_type": "code",
      "metadata": {
        "colab": {
          "base_uri": "https://localhost:8080/"
        },
        "id": "08H8dptQ8y4f",
        "outputId": "1cdeaeb6-e069-4a4b-8f2c-7d86114b2fcb"
      },
      "source": [
        "accuracy_score(y, np.where(X@W > 0, 1, -1)) "
      ],
      "execution_count": null,
      "outputs": [
        {
          "output_type": "execute_result",
          "data": {
            "text/plain": [
              "0.0"
            ]
          },
          "metadata": {
            "tags": []
          },
          "execution_count": 135
        }
      ]
    },
    {
      "cell_type": "markdown",
      "metadata": {
        "id": "tuAZ3RCvOQto"
      },
      "source": [
        "## b (iii)\n"
      ]
    },
    {
      "cell_type": "code",
      "metadata": {
        "id": "lVUYAUAD82fs"
      },
      "source": [
        "from sklearn.svm import SVC \n",
        "from sklearn.model_selection import GridSearchCV "
      ],
      "execution_count": null,
      "outputs": []
    },
    {
      "cell_type": "code",
      "metadata": {
        "id": "Ij4M8w_TFEAD"
      },
      "source": [
        "svc = SVC(kernel='linear', random_state=42)"
      ],
      "execution_count": null,
      "outputs": []
    },
    {
      "cell_type": "code",
      "metadata": {
        "id": "FQ9SIXVnKZaC",
        "colab": {
          "base_uri": "https://localhost:8080/"
        },
        "outputId": "f8430108-045e-4fd2-fc3b-5213a94daea9"
      },
      "source": [
        "config = {'C': list(range(1, 200, 1))}\n",
        "clf = GridSearchCV(svc, config, verbose=1, n_jobs=-1, refit=True)\n",
        "clf.fit(X, y.ravel())"
      ],
      "execution_count": null,
      "outputs": [
        {
          "output_type": "stream",
          "text": [
            "Fitting 5 folds for each of 199 candidates, totalling 995 fits\n"
          ],
          "name": "stdout"
        },
        {
          "output_type": "stream",
          "text": [
            "[Parallel(n_jobs=-1)]: Using backend LokyBackend with 2 concurrent workers.\n",
            "[Parallel(n_jobs=-1)]: Done 390 tasks      | elapsed:    5.4s\n",
            "[Parallel(n_jobs=-1)]: Done 992 out of 995 | elapsed:   22.7s remaining:    0.1s\n",
            "[Parallel(n_jobs=-1)]: Done 995 out of 995 | elapsed:   22.8s finished\n"
          ],
          "name": "stderr"
        },
        {
          "output_type": "execute_result",
          "data": {
            "text/plain": [
              "GridSearchCV(cv=None, error_score=nan,\n",
              "             estimator=SVC(C=1.0, break_ties=False, cache_size=200,\n",
              "                           class_weight=None, coef0=0.0,\n",
              "                           decision_function_shape='ovr', degree=3,\n",
              "                           gamma='scale', kernel='linear', max_iter=-1,\n",
              "                           probability=False, random_state=42, shrinking=True,\n",
              "                           tol=0.001, verbose=False),\n",
              "             iid='deprecated', n_jobs=-1,\n",
              "             param_grid={'C': [1, 2, 3, 4, 5, 6, 7, 8, 9, 10, 11, 12, 13, 14,\n",
              "                               15, 16, 17, 18, 19, 20, 21, 22, 23, 24, 25, 26,\n",
              "                               27, 28, 29, 30, ...]},\n",
              "             pre_dispatch='2*n_jobs', refit=True, return_train_score=False,\n",
              "             scoring=None, verbose=1)"
            ]
          },
          "metadata": {
            "tags": []
          },
          "execution_count": 233
        }
      ]
    },
    {
      "cell_type": "code",
      "metadata": {
        "colab": {
          "base_uri": "https://localhost:8080/"
        },
        "id": "PYtsRED4MFpv",
        "outputId": "22d00efb-8642-4a1f-9842-95d77071c6de"
      },
      "source": [
        "print(f'Best parameters: {clf.best_params_}')\n",
        "best_estiamtor = clf.best_estimator_ \n",
        "\n",
        "print(f'Best Accuracy is {accuracy_score(y, best_estimator.predict(X))}')"
      ],
      "execution_count": null,
      "outputs": [
        {
          "output_type": "stream",
          "text": [
            "Best parameters: {'C': 3}\n",
            "Best Accuracy is 0.9912126537785588\n"
          ],
          "name": "stdout"
        }
      ]
    },
    {
      "cell_type": "code",
      "metadata": {
        "id": "LV8Vz8rUN0QS"
      },
      "source": [
        ""
      ],
      "execution_count": null,
      "outputs": []
    },
    {
      "cell_type": "markdown",
      "metadata": {
        "id": "56ig2XjJ4iZZ"
      },
      "source": [
        "## c (i)"
      ]
    },
    {
      "cell_type": "code",
      "metadata": {
        "id": "rP-8Ggxh4joz"
      },
      "source": [
        "data, target = load_breast_cancer(return_X_y=True)\n",
        "X, y = data, target.reshape(-1,1) \n",
        "y = np.where(y<1, -1, 1)\n",
        "std = StandardScaler()\n",
        "X = std.fit_transform(X)"
      ],
      "execution_count": null,
      "outputs": []
    },
    {
      "cell_type": "code",
      "metadata": {
        "colab": {
          "base_uri": "https://localhost:8080/"
        },
        "id": "aQJ2tD-DQkTA",
        "outputId": "dc33ebd5-db06-4b49-8a23-552980911eab"
      },
      "source": [
        "X.shape \n",
        "y.shape "
      ],
      "execution_count": null,
      "outputs": [
        {
          "output_type": "execute_result",
          "data": {
            "text/plain": [
              "(569, 1)"
            ]
          },
          "metadata": {
            "tags": []
          },
          "execution_count": 49
        }
      ]
    },
    {
      "cell_type": "code",
      "metadata": {
        "id": "2iAcMJBz9izB"
      },
      "source": [
        "class Gram: \n",
        "  def __init__(self, data, kernel): \n",
        "\n",
        "    self.data = data\n",
        "    self.kernel = kernel \n",
        "\n",
        "    self.N = self.data.shape[0]\n",
        "    self.G = np.zeros((self.N, self.N))\n",
        "\n",
        "    self.creat() \n",
        "    \n",
        "  def creat(self): \n",
        "    for first_id in range(self.N): \n",
        "      for sec_id in range(self.N): \n",
        "        self.G[first_id, sec_id] = self.kernel(self.data[first_id,:],  self.data[sec_id,:])\n",
        "\n",
        "  def __getitem__(self, ids):\n",
        "    return self.G[ids]"
      ],
      "execution_count": null,
      "outputs": []
    },
    {
      "cell_type": "code",
      "metadata": {
        "id": "IQG93K0h8UAt"
      },
      "source": [
        "def loss_function(z): \n",
        "  return np.where( z >= 1, 0 , (1-z)**2)\n",
        "\n",
        "def objective_function(G, y, alpha, C=C): \n",
        "  return (1/2 * alpha.T.dot(G).dot(alpha) + C * np.ones((1, G.shape[0])).dot(loss_function(y * (G @ alpha) )))[0][0]\n",
        "\n",
        "def loss_gradient(z): \n",
        "  return np.where(z >= 1, 0, 2*(z-1))\n",
        "\n",
        "def objective_function_gradient(G, y, alpha, C=C):\n",
        "  return G.dot(alpha) +  C * (loss_gradient(y * (G @ alpha)).T.dot(G * y)).T"
      ],
      "execution_count": null,
      "outputs": []
    },
    {
      "cell_type": "code",
      "metadata": {
        "id": "H_uCUE-D8ULy"
      },
      "source": [
        "def train(X, y, kernel, epsilon = 1e-2, C = 1.6): \n",
        "  G = Gram(X, kernel)\n",
        "  Gram_matrix = G.G \n",
        "\n",
        "\n",
        "  objective_values = [] \n",
        "  rng = np.random.default_rng()\n",
        "  alpha = np.zeros(((X.shape[0], 1)))\n",
        "\n",
        "  k = 0 \n",
        "  \n",
        "  current_gradient = objective_function_gradient(Gram_matrix, y, alpha) \n",
        "\n",
        "  while np.linalg.norm(current_gradient) > epsilon: \n",
        "    \n",
        "    objective_value = objective_function(Gram_matrix, y, alpha)\n",
        "\n",
        "    objective_values.append(objective_value)\n",
        "\n",
        "    rho, t, c = rng.random(3)\n",
        "\n",
        "    while  objective_function(Gram_matrix, y, alpha - t * current_gradient) - objective_value  > -c*t* np.linalg.norm(current_gradient)**2:\n",
        "      t *= rho \n",
        "\n",
        "    alpha -= t * current_gradient\n",
        "\n",
        "    current_gradient = objective_function_gradient(Gram_matrix, y, alpha) \n",
        "\n",
        "    k+=1 \n",
        "    acc = accuracy_score(y, np.where(alpha.T.dot(Gram_matrix).reshape(y.shape[0], -1) > 0, 1, -1)) \n",
        "\n",
        "    if k % 500 == 0:\n",
        "      print(f'{k} iter acc {acc}')\n",
        "      \n",
        "  print(f'The Final accuracy is {acc}')\n",
        "  return alpha\n"
      ],
      "execution_count": null,
      "outputs": []
    },
    {
      "cell_type": "code",
      "metadata": {
        "id": "zWXmHIY91tAO"
      },
      "source": [
        "from functools import partial\n",
        "rbf_kernel = lambda x1, x2, gamma=0.2: np.exp((-1/2*gamma**2)*np.linalg.norm(x1 - x2)**2)\n",
        "poly_kernel = lambda x1, x2, degree=3, c=1: (x1.T.dot(x2) + c)** degree  "
      ],
      "execution_count": null,
      "outputs": []
    },
    {
      "cell_type": "code",
      "metadata": {
        "colab": {
          "base_uri": "https://localhost:8080/"
        },
        "id": "adNDEVCtym9i",
        "outputId": "822380a1-f180-4307-a315-a0a71b255353"
      },
      "source": [
        "alpha1  = train(X, y, partial(rbf_kernel, gamma=0.2), epsilon=1, C=1.6)"
      ],
      "execution_count": null,
      "outputs": [
        {
          "output_type": "stream",
          "text": [
            "1000 iter acc 0.9894551845342706\n"
          ],
          "name": "stdout"
        }
      ]
    },
    {
      "cell_type": "code",
      "metadata": {
        "colab": {
          "base_uri": "https://localhost:8080/"
        },
        "id": "IvrO2eJK5xEJ",
        "outputId": "5e4cb454-8eae-482a-83b5-be4609994a97"
      },
      "source": [
        "alpha2  = train(X, y, partial(poly_kernel, degree=3, c=1,), epsilon=1, C =1)"
      ],
      "execution_count": null,
      "outputs": [
        {
          "output_type": "stream",
          "text": [
            "500 iter acc 0.984182776801406\n",
            "1000 iter acc 0.984182776801406\n",
            "1500 iter acc 0.984182776801406\n",
            "2000 iter acc 0.984182776801406\n",
            "2500 iter acc 0.9859402460456942\n",
            "3000 iter acc 0.9859402460456942\n",
            "3500 iter acc 0.9859402460456942\n",
            "4000 iter acc 0.9859402460456942\n",
            "4500 iter acc 0.9876977152899824\n",
            "5000 iter acc 0.9894551845342706\n",
            "5500 iter acc 0.9894551845342706\n",
            "6000 iter acc 0.9894551845342706\n",
            "6500 iter acc 0.9912126537785588\n",
            "7000 iter acc 0.9947275922671354\n",
            "7500 iter acc 0.9947275922671354\n",
            "8000 iter acc 0.9947275922671354\n",
            "8500 iter acc 0.9947275922671354\n",
            "9000 iter acc 0.9947275922671354\n",
            "9500 iter acc 0.9947275922671354\n",
            "10000 iter acc 0.9947275922671354\n",
            "10500 iter acc 0.9947275922671354\n",
            "11000 iter acc 0.9947275922671354\n",
            "11500 iter acc 0.9947275922671354\n",
            "12000 iter acc 0.9947275922671354\n",
            "12500 iter acc 0.9947275922671354\n",
            "13000 iter acc 0.9947275922671354\n",
            "13500 iter acc 0.9947275922671354\n",
            "14000 iter acc 0.9947275922671354\n",
            "14500 iter acc 0.9947275922671354\n",
            "15000 iter acc 0.9947275922671354\n",
            "15500 iter acc 0.9947275922671354\n",
            "16000 iter acc 0.9947275922671354\n",
            "16500 iter acc 0.9947275922671354\n",
            "17000 iter acc 0.9947275922671354\n",
            "17500 iter acc 0.9964850615114236\n",
            "18000 iter acc 0.9964850615114236\n",
            "18500 iter acc 0.9964850615114236\n",
            "19000 iter acc 0.9964850615114236\n",
            "19500 iter acc 0.9964850615114236\n",
            "20000 iter acc 0.9964850615114236\n",
            "20500 iter acc 0.9964850615114236\n",
            "21000 iter acc 0.9964850615114236\n",
            "21500 iter acc 0.9964850615114236\n",
            "22000 iter acc 0.9964850615114236\n",
            "22500 iter acc 0.9964850615114236\n",
            "23000 iter acc 0.9964850615114236\n",
            "23500 iter acc 0.9964850615114236\n",
            "24000 iter acc 0.9964850615114236\n",
            "24500 iter acc 0.9964850615114236\n",
            "25000 iter acc 0.9964850615114236\n",
            "25500 iter acc 0.9964850615114236\n",
            "26000 iter acc 0.9964850615114236\n",
            "26500 iter acc 0.9964850615114236\n",
            "27000 iter acc 0.9964850615114236\n",
            "27500 iter acc 0.9964850615114236\n",
            "28000 iter acc 0.9964850615114236\n",
            "28500 iter acc 0.9964850615114236\n",
            "29000 iter acc 0.9964850615114236\n",
            "29500 iter acc 0.9964850615114236\n",
            "30000 iter acc 0.9964850615114236\n",
            "30500 iter acc 0.9964850615114236\n",
            "31000 iter acc 0.9964850615114236\n",
            "31500 iter acc 0.9964850615114236\n",
            "32000 iter acc 0.9964850615114236\n",
            "32500 iter acc 0.9964850615114236\n",
            "33000 iter acc 0.9964850615114236\n",
            "33500 iter acc 0.9964850615114236\n",
            "34000 iter acc 0.9964850615114236\n",
            "34500 iter acc 0.9964850615114236\n",
            "35000 iter acc 0.9964850615114236\n",
            "35500 iter acc 0.9964850615114236\n",
            "36000 iter acc 0.9964850615114236\n",
            "36500 iter acc 0.9964850615114236\n",
            "37000 iter acc 0.9964850615114236\n",
            "37500 iter acc 0.9964850615114236\n",
            "38000 iter acc 0.9964850615114236\n",
            "38500 iter acc 0.9964850615114236\n",
            "39000 iter acc 0.9964850615114236\n",
            "39500 iter acc 0.9964850615114236\n",
            "40000 iter acc 0.9964850615114236\n",
            "40500 iter acc 0.9964850615114236\n",
            "41000 iter acc 0.9964850615114236\n",
            "41500 iter acc 0.9964850615114236\n",
            "42000 iter acc 0.9964850615114236\n",
            "42500 iter acc 0.9964850615114236\n",
            "43000 iter acc 0.9964850615114236\n",
            "43500 iter acc 0.9964850615114236\n",
            "44000 iter acc 0.9964850615114236\n",
            "44500 iter acc 0.9964850615114236\n",
            "45000 iter acc 0.9964850615114236\n",
            "45500 iter acc 0.9964850615114236\n",
            "46000 iter acc 0.9964850615114236\n"
          ],
          "name": "stdout"
        }
      ]
    },
    {
      "cell_type": "code",
      "metadata": {
        "id": "7USX05P05s5m"
      },
      "source": [
        ""
      ],
      "execution_count": null,
      "outputs": []
    },
    {
      "cell_type": "markdown",
      "metadata": {
        "id": "zL3jknMQTdfI"
      },
      "source": [
        "## c (ii)"
      ]
    },
    {
      "cell_type": "markdown",
      "metadata": {
        "id": "BD7Rok1TH2A9"
      },
      "source": [
        "### Polynomial Kernels "
      ]
    },
    {
      "cell_type": "code",
      "metadata": {
        "id": "N00XDRVb8UN6"
      },
      "source": [
        "from sklearn.svm import SVC \n",
        "from sklearn.model_selection import GridSearchCV, RandomizedSearchCV"
      ],
      "execution_count": null,
      "outputs": []
    },
    {
      "cell_type": "code",
      "metadata": {
        "id": "bMiQF-FdK49s"
      },
      "source": [
        "search = RandomizedSearchCV"
      ],
      "execution_count": null,
      "outputs": []
    },
    {
      "cell_type": "code",
      "metadata": {
        "id": "efmIfGReI3zq"
      },
      "source": [
        "data, target = load_breast_cancer(return_X_y=True)\n",
        "X, y = data, target.reshape(-1,1) \n",
        "y = np.where(y<1, -1, 1)\n",
        "std = StandardScaler()\n",
        "X = std.fit_transform(X)"
      ],
      "execution_count": null,
      "outputs": []
    },
    {
      "cell_type": "code",
      "metadata": {
        "id": "WXRafFs08URX",
        "colab": {
          "base_uri": "https://localhost:8080/"
        },
        "outputId": "bb21797c-4abc-4a28-afce-d0a3f8edc6f8"
      },
      "source": [
        "svc  = SVC(random_state=42)\n",
        "config = {'kernel': ['rbf'], 'gamma': np.linspace(0, 20, 100), 'C': np.linspace(0, 20, 100)}\n",
        "          \n",
        "clf = GridSearchCV(svc, config, n_jobs=-1, verbose= 1)\n",
        "\n",
        "clf.fit(X, y.ravel())\n",
        "\n",
        "print(f'Best parameters: {clf.best_params_}')\n",
        "best_estimator = clf.best_estimator_ \n",
        "\n",
        "print(f'Best Accuracy is {accuracy_score(y, best_estimator.predict(X))}')"
      ],
      "execution_count": null,
      "outputs": [
        {
          "output_type": "stream",
          "text": [
            "Fitting 5 folds for each of 10000 candidates, totalling 50000 fits\n"
          ],
          "name": "stdout"
        },
        {
          "output_type": "stream",
          "text": [
            "[Parallel(n_jobs=-1)]: Using backend LokyBackend with 2 concurrent workers.\n",
            "[Parallel(n_jobs=-1)]: Done 1066 tasks      | elapsed:   10.4s\n",
            "[Parallel(n_jobs=-1)]: Done 1646 tasks      | elapsed:   20.5s\n",
            "[Parallel(n_jobs=-1)]: Done 2646 tasks      | elapsed:   38.4s\n",
            "[Parallel(n_jobs=-1)]: Done 4046 tasks      | elapsed:  1.1min\n",
            "[Parallel(n_jobs=-1)]: Done 5846 tasks      | elapsed:  1.6min\n",
            "[Parallel(n_jobs=-1)]: Done 8046 tasks      | elapsed:  2.3min\n",
            "[Parallel(n_jobs=-1)]: Done 10646 tasks      | elapsed:  3.1min\n",
            "[Parallel(n_jobs=-1)]: Done 13646 tasks      | elapsed:  4.0min\n",
            "[Parallel(n_jobs=-1)]: Done 17046 tasks      | elapsed:  5.1min\n",
            "[Parallel(n_jobs=-1)]: Done 20846 tasks      | elapsed:  6.2min\n",
            "[Parallel(n_jobs=-1)]: Done 25046 tasks      | elapsed:  7.5min\n",
            "[Parallel(n_jobs=-1)]: Done 29646 tasks      | elapsed:  8.9min\n",
            "[Parallel(n_jobs=-1)]: Done 34646 tasks      | elapsed: 10.5min\n",
            "[Parallel(n_jobs=-1)]: Done 40046 tasks      | elapsed: 12.1min\n",
            "[Parallel(n_jobs=-1)]: Done 45846 tasks      | elapsed: 13.9min\n"
          ],
          "name": "stderr"
        },
        {
          "output_type": "stream",
          "text": [
            "Best parameters: {'C': 1.6161616161616161, 'gamma': 0.20202020202020202, 'kernel': 'rbf'}\n",
            "Best Accuracy is 0.9964850615114236\n"
          ],
          "name": "stdout"
        },
        {
          "output_type": "stream",
          "text": [
            "[Parallel(n_jobs=-1)]: Done 50000 out of 50000 | elapsed: 15.2min finished\n"
          ],
          "name": "stderr"
        }
      ]
    },
    {
      "cell_type": "code",
      "metadata": {
        "colab": {
          "base_uri": "https://localhost:8080/"
        },
        "id": "HYgJXIbQJVtv",
        "outputId": "1be02ed2-3920-41a8-8ac0-4ebe2b6fd4d4"
      },
      "source": [
        "svc  = SVC(random_state=42)\n",
        "config =  {'kernel':['poly'], 'degree': list(range(1, 20)), 'coef0':list(range(0, 20)), 'C': np.linspace(0, 20, 20)}\n",
        "          \n",
        "clf = GridSearchCV(svc, config, n_jobs=-1, verbose= 1)\n",
        "\n",
        "clf.fit(X, y.ravel())\n",
        "\n",
        "print(f'Best parameters: {clf.best_params_}')\n",
        "best_estimator = clf.best_estimator_ \n",
        "\n",
        "print(f'Best Accuracy is {accuracy_score(y, best_estimator.predict(X))}')"
      ],
      "execution_count": null,
      "outputs": [
        {
          "output_type": "stream",
          "text": [
            "Fitting 5 folds for each of 7600 candidates, totalling 38000 fits\n"
          ],
          "name": "stdout"
        },
        {
          "output_type": "stream",
          "text": [
            "[Parallel(n_jobs=-1)]: Using backend LokyBackend with 2 concurrent workers.\n",
            "[Parallel(n_jobs=-1)]: Done 1030 tasks      | elapsed:    2.6s\n",
            "[Parallel(n_jobs=-1)]: Done 10630 tasks      | elapsed:   39.9s\n",
            "[Parallel(n_jobs=-1)]: Done 26630 tasks      | elapsed:  1.8min\n"
          ],
          "name": "stderr"
        },
        {
          "output_type": "stream",
          "text": [
            "Best parameters: {'C': 1.0526315789473684, 'coef0': 1, 'degree': 3, 'kernel': 'poly'}\n",
            "Best Accuracy is 0.9876977152899824\n"
          ],
          "name": "stdout"
        },
        {
          "output_type": "stream",
          "text": [
            "[Parallel(n_jobs=-1)]: Done 38000 out of 38000 | elapsed:  2.5min finished\n"
          ],
          "name": "stderr"
        }
      ]
    },
    {
      "cell_type": "code",
      "metadata": {
        "id": "_JTGgFLbdL12"
      },
      "source": [
        ""
      ],
      "execution_count": null,
      "outputs": []
    }
  ]
}